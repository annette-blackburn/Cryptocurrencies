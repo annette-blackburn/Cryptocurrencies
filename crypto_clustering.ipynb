{
 "cells": [
  {
   "cell_type": "markdown",
   "metadata": {},
   "source": [
    "# Clustering Crypto"
   ]
  },
  {
   "cell_type": "code",
   "execution_count": 2,
   "metadata": {},
   "outputs": [],
   "source": [
    "# Initial imports\n",
    "import pandas as pd\n",
    "import hvplot.pandas\n",
    "from pathlib import Path\n",
    "import plotly.express as px\n",
    "from sklearn.preprocessing import StandardScaler, MinMaxScaler\n",
    "from sklearn.decomposition import PCA\n",
    "from sklearn.cluster import KMeans\n"
   ]
  },
  {
   "cell_type": "markdown",
   "metadata": {},
   "source": [
    "### Deliverable 1: Preprocessing the Data for PCA"
   ]
  },
  {
   "cell_type": "code",
   "execution_count": 3,
   "metadata": {},
   "outputs": [
    {
     "data": {
      "text/html": [
       "<div>\n",
       "<style scoped>\n",
       "    .dataframe tbody tr th:only-of-type {\n",
       "        vertical-align: middle;\n",
       "    }\n",
       "\n",
       "    .dataframe tbody tr th {\n",
       "        vertical-align: top;\n",
       "    }\n",
       "\n",
       "    .dataframe thead th {\n",
       "        text-align: right;\n",
       "    }\n",
       "</style>\n",
       "<table border=\"1\" class=\"dataframe\">\n",
       "  <thead>\n",
       "    <tr style=\"text-align: right;\">\n",
       "      <th></th>\n",
       "      <th>Unnamed: 0</th>\n",
       "      <th>CoinName</th>\n",
       "      <th>Algorithm</th>\n",
       "      <th>IsTrading</th>\n",
       "      <th>ProofType</th>\n",
       "      <th>TotalCoinsMined</th>\n",
       "      <th>TotalCoinSupply</th>\n",
       "    </tr>\n",
       "  </thead>\n",
       "  <tbody>\n",
       "    <tr>\n",
       "      <th>0</th>\n",
       "      <td>42</td>\n",
       "      <td>42 Coin</td>\n",
       "      <td>Scrypt</td>\n",
       "      <td>True</td>\n",
       "      <td>PoW/PoS</td>\n",
       "      <td>4.199995e+01</td>\n",
       "      <td>42</td>\n",
       "    </tr>\n",
       "    <tr>\n",
       "      <th>1</th>\n",
       "      <td>365</td>\n",
       "      <td>365Coin</td>\n",
       "      <td>X11</td>\n",
       "      <td>True</td>\n",
       "      <td>PoW/PoS</td>\n",
       "      <td>NaN</td>\n",
       "      <td>2300000000</td>\n",
       "    </tr>\n",
       "    <tr>\n",
       "      <th>2</th>\n",
       "      <td>404</td>\n",
       "      <td>404Coin</td>\n",
       "      <td>Scrypt</td>\n",
       "      <td>True</td>\n",
       "      <td>PoW/PoS</td>\n",
       "      <td>1.055185e+09</td>\n",
       "      <td>532000000</td>\n",
       "    </tr>\n",
       "    <tr>\n",
       "      <th>3</th>\n",
       "      <td>611</td>\n",
       "      <td>SixEleven</td>\n",
       "      <td>SHA-256</td>\n",
       "      <td>True</td>\n",
       "      <td>PoW</td>\n",
       "      <td>NaN</td>\n",
       "      <td>611000</td>\n",
       "    </tr>\n",
       "    <tr>\n",
       "      <th>4</th>\n",
       "      <td>808</td>\n",
       "      <td>808</td>\n",
       "      <td>SHA-256</td>\n",
       "      <td>True</td>\n",
       "      <td>PoW/PoS</td>\n",
       "      <td>0.000000e+00</td>\n",
       "      <td>0</td>\n",
       "    </tr>\n",
       "  </tbody>\n",
       "</table>\n",
       "</div>"
      ],
      "text/plain": [
       "  Unnamed: 0   CoinName Algorithm  IsTrading ProofType  TotalCoinsMined  \\\n",
       "0         42    42 Coin    Scrypt       True   PoW/PoS     4.199995e+01   \n",
       "1        365    365Coin       X11       True   PoW/PoS              NaN   \n",
       "2        404    404Coin    Scrypt       True   PoW/PoS     1.055185e+09   \n",
       "3        611  SixEleven   SHA-256       True       PoW              NaN   \n",
       "4        808        808   SHA-256       True   PoW/PoS     0.000000e+00   \n",
       "\n",
       "  TotalCoinSupply  \n",
       "0              42  \n",
       "1      2300000000  \n",
       "2       532000000  \n",
       "3          611000  \n",
       "4               0  "
      ]
     },
     "execution_count": 3,
     "metadata": {},
     "output_type": "execute_result"
    }
   ],
   "source": [
    "# Load the crypto_data.csv dataset.\n",
    "file_path = \"/Users/annettedblackburn/Desktop/Data_Analytics_Bootcamp/Module 18 - Unsupervised Machine Learning and Cryptocurrencies/Challenge/crypto_data.csv\"\n",
    "crypto_df = pd.read_csv(file_path)\n",
    "crypto_df.head()"
   ]
  },
  {
   "cell_type": "code",
   "execution_count": 4,
   "metadata": {},
   "outputs": [
    {
     "data": {
      "text/plain": [
       "Unnamed: 0          object\n",
       "CoinName            object\n",
       "Algorithm           object\n",
       "IsTrading             bool\n",
       "ProofType           object\n",
       "TotalCoinsMined    float64\n",
       "TotalCoinSupply     object\n",
       "dtype: object"
      ]
     },
     "execution_count": 4,
     "metadata": {},
     "output_type": "execute_result"
    }
   ],
   "source": [
    "# Checking data types\n",
    "crypto_df.dtypes"
   ]
  },
  {
   "cell_type": "code",
   "execution_count": 5,
   "metadata": {},
   "outputs": [
    {
     "data": {
      "text/plain": [
       "Unnamed: 0         1252\n",
       "CoinName           1252\n",
       "Algorithm          1252\n",
       "IsTrading          1252\n",
       "ProofType          1252\n",
       "TotalCoinsMined     744\n",
       "TotalCoinSupply    1252\n",
       "dtype: int64"
      ]
     },
     "execution_count": 5,
     "metadata": {},
     "output_type": "execute_result"
    }
   ],
   "source": [
    "# Checking row counts\n",
    "crypto_df.count()"
   ]
  },
  {
   "cell_type": "code",
   "execution_count": 6,
   "metadata": {},
   "outputs": [
    {
     "data": {
      "text/plain": [
       "Index(['Unnamed: 0', 'CoinName', 'Algorithm', 'IsTrading', 'ProofType',\n",
       "       'TotalCoinsMined', 'TotalCoinSupply'],\n",
       "      dtype='object')"
      ]
     },
     "execution_count": 6,
     "metadata": {},
     "output_type": "execute_result"
    }
   ],
   "source": [
    "# Checking column names\n",
    "crypto_df.columns"
   ]
  },
  {
   "cell_type": "code",
   "execution_count": 7,
   "metadata": {},
   "outputs": [
    {
     "name": "stdout",
     "output_type": "stream",
     "text": [
      "Duplicate entries: 0\n"
     ]
    }
   ],
   "source": [
    "# Checking for duplictaes\n",
    "print(f\"Duplicate entries: {crypto_df.duplicated().sum()}\")"
   ]
  },
  {
   "cell_type": "code",
   "execution_count": 9,
   "metadata": {},
   "outputs": [
    {
     "data": {
      "text/html": [
       "<div>\n",
       "<style scoped>\n",
       "    .dataframe tbody tr th:only-of-type {\n",
       "        vertical-align: middle;\n",
       "    }\n",
       "\n",
       "    .dataframe tbody tr th {\n",
       "        vertical-align: top;\n",
       "    }\n",
       "\n",
       "    .dataframe thead th {\n",
       "        text-align: right;\n",
       "    }\n",
       "</style>\n",
       "<table border=\"1\" class=\"dataframe\">\n",
       "  <thead>\n",
       "    <tr style=\"text-align: right;\">\n",
       "      <th></th>\n",
       "      <th>CoinName</th>\n",
       "      <th>Algorithm</th>\n",
       "      <th>IsTrading</th>\n",
       "      <th>ProofType</th>\n",
       "      <th>TotalCoinsMined</th>\n",
       "      <th>TotalCoinSupply</th>\n",
       "    </tr>\n",
       "    <tr>\n",
       "      <th></th>\n",
       "      <th></th>\n",
       "      <th></th>\n",
       "      <th></th>\n",
       "      <th></th>\n",
       "      <th></th>\n",
       "      <th></th>\n",
       "    </tr>\n",
       "  </thead>\n",
       "  <tbody>\n",
       "    <tr>\n",
       "      <th>42</th>\n",
       "      <td>42 Coin</td>\n",
       "      <td>Scrypt</td>\n",
       "      <td>True</td>\n",
       "      <td>PoW/PoS</td>\n",
       "      <td>4.199995e+01</td>\n",
       "      <td>42</td>\n",
       "    </tr>\n",
       "    <tr>\n",
       "      <th>365</th>\n",
       "      <td>365Coin</td>\n",
       "      <td>X11</td>\n",
       "      <td>True</td>\n",
       "      <td>PoW/PoS</td>\n",
       "      <td>NaN</td>\n",
       "      <td>2300000000</td>\n",
       "    </tr>\n",
       "    <tr>\n",
       "      <th>404</th>\n",
       "      <td>404Coin</td>\n",
       "      <td>Scrypt</td>\n",
       "      <td>True</td>\n",
       "      <td>PoW/PoS</td>\n",
       "      <td>1.055185e+09</td>\n",
       "      <td>532000000</td>\n",
       "    </tr>\n",
       "    <tr>\n",
       "      <th>611</th>\n",
       "      <td>SixEleven</td>\n",
       "      <td>SHA-256</td>\n",
       "      <td>True</td>\n",
       "      <td>PoW</td>\n",
       "      <td>NaN</td>\n",
       "      <td>611000</td>\n",
       "    </tr>\n",
       "    <tr>\n",
       "      <th>808</th>\n",
       "      <td>808</td>\n",
       "      <td>SHA-256</td>\n",
       "      <td>True</td>\n",
       "      <td>PoW/PoS</td>\n",
       "      <td>0.000000e+00</td>\n",
       "      <td>0</td>\n",
       "    </tr>\n",
       "  </tbody>\n",
       "</table>\n",
       "</div>"
      ],
      "text/plain": [
       "      CoinName Algorithm  IsTrading ProofType  TotalCoinsMined TotalCoinSupply\n",
       "                                                                              \n",
       "42     42 Coin    Scrypt       True   PoW/PoS     4.199995e+01              42\n",
       "365    365Coin       X11       True   PoW/PoS              NaN      2300000000\n",
       "404    404Coin    Scrypt       True   PoW/PoS     1.055185e+09       532000000\n",
       "611  SixEleven   SHA-256       True       PoW              NaN          611000\n",
       "808        808   SHA-256       True   PoW/PoS     0.000000e+00               0"
      ]
     },
     "execution_count": 9,
     "metadata": {},
     "output_type": "execute_result"
    }
   ],
   "source": [
    "# Rename \"Unnamed: 0\" column \n",
    "crypto_df = crypto_df.rename(columns={'Unnamed: 0': ''})\n",
    "crypto_df = crypto_df.set_index('')\n",
    "crypto_df.head()"
   ]
  },
  {
   "cell_type": "code",
   "execution_count": 10,
   "metadata": {},
   "outputs": [
    {
     "data": {
      "text/html": [
       "<div>\n",
       "<style scoped>\n",
       "    .dataframe tbody tr th:only-of-type {\n",
       "        vertical-align: middle;\n",
       "    }\n",
       "\n",
       "    .dataframe tbody tr th {\n",
       "        vertical-align: top;\n",
       "    }\n",
       "\n",
       "    .dataframe thead th {\n",
       "        text-align: right;\n",
       "    }\n",
       "</style>\n",
       "<table border=\"1\" class=\"dataframe\">\n",
       "  <thead>\n",
       "    <tr style=\"text-align: right;\">\n",
       "      <th></th>\n",
       "      <th>CoinName</th>\n",
       "      <th>Algorithm</th>\n",
       "      <th>IsTrading</th>\n",
       "      <th>ProofType</th>\n",
       "      <th>TotalCoinsMined</th>\n",
       "      <th>TotalCoinSupply</th>\n",
       "    </tr>\n",
       "    <tr>\n",
       "      <th></th>\n",
       "      <th></th>\n",
       "      <th></th>\n",
       "      <th></th>\n",
       "      <th></th>\n",
       "      <th></th>\n",
       "      <th></th>\n",
       "    </tr>\n",
       "  </thead>\n",
       "  <tbody>\n",
       "    <tr>\n",
       "      <th>42</th>\n",
       "      <td>42 Coin</td>\n",
       "      <td>Scrypt</td>\n",
       "      <td>True</td>\n",
       "      <td>PoW/PoS</td>\n",
       "      <td>4.199995e+01</td>\n",
       "      <td>42</td>\n",
       "    </tr>\n",
       "    <tr>\n",
       "      <th>365</th>\n",
       "      <td>365Coin</td>\n",
       "      <td>X11</td>\n",
       "      <td>True</td>\n",
       "      <td>PoW/PoS</td>\n",
       "      <td>NaN</td>\n",
       "      <td>2300000000</td>\n",
       "    </tr>\n",
       "    <tr>\n",
       "      <th>404</th>\n",
       "      <td>404Coin</td>\n",
       "      <td>Scrypt</td>\n",
       "      <td>True</td>\n",
       "      <td>PoW/PoS</td>\n",
       "      <td>1.055185e+09</td>\n",
       "      <td>532000000</td>\n",
       "    </tr>\n",
       "    <tr>\n",
       "      <th>611</th>\n",
       "      <td>SixEleven</td>\n",
       "      <td>SHA-256</td>\n",
       "      <td>True</td>\n",
       "      <td>PoW</td>\n",
       "      <td>NaN</td>\n",
       "      <td>611000</td>\n",
       "    </tr>\n",
       "    <tr>\n",
       "      <th>808</th>\n",
       "      <td>808</td>\n",
       "      <td>SHA-256</td>\n",
       "      <td>True</td>\n",
       "      <td>PoW/PoS</td>\n",
       "      <td>0.000000e+00</td>\n",
       "      <td>0</td>\n",
       "    </tr>\n",
       "    <tr>\n",
       "      <th>...</th>\n",
       "      <td>...</td>\n",
       "      <td>...</td>\n",
       "      <td>...</td>\n",
       "      <td>...</td>\n",
       "      <td>...</td>\n",
       "      <td>...</td>\n",
       "    </tr>\n",
       "    <tr>\n",
       "      <th>SERO</th>\n",
       "      <td>Super Zero</td>\n",
       "      <td>Ethash</td>\n",
       "      <td>True</td>\n",
       "      <td>PoW</td>\n",
       "      <td>NaN</td>\n",
       "      <td>1000000000</td>\n",
       "    </tr>\n",
       "    <tr>\n",
       "      <th>UOS</th>\n",
       "      <td>UOS</td>\n",
       "      <td>SHA-256</td>\n",
       "      <td>True</td>\n",
       "      <td>DPoI</td>\n",
       "      <td>NaN</td>\n",
       "      <td>1000000000</td>\n",
       "    </tr>\n",
       "    <tr>\n",
       "      <th>BDX</th>\n",
       "      <td>Beldex</td>\n",
       "      <td>CryptoNight</td>\n",
       "      <td>True</td>\n",
       "      <td>PoW</td>\n",
       "      <td>9.802226e+08</td>\n",
       "      <td>1400222610</td>\n",
       "    </tr>\n",
       "    <tr>\n",
       "      <th>ZEN</th>\n",
       "      <td>Horizen</td>\n",
       "      <td>Equihash</td>\n",
       "      <td>True</td>\n",
       "      <td>PoW</td>\n",
       "      <td>7.296538e+06</td>\n",
       "      <td>21000000</td>\n",
       "    </tr>\n",
       "    <tr>\n",
       "      <th>XBC</th>\n",
       "      <td>BitcoinPlus</td>\n",
       "      <td>Scrypt</td>\n",
       "      <td>True</td>\n",
       "      <td>PoS</td>\n",
       "      <td>1.283270e+05</td>\n",
       "      <td>1000000</td>\n",
       "    </tr>\n",
       "  </tbody>\n",
       "</table>\n",
       "<p>1144 rows × 6 columns</p>\n",
       "</div>"
      ],
      "text/plain": [
       "         CoinName    Algorithm  IsTrading ProofType  TotalCoinsMined  \\\n",
       "                                                                       \n",
       "42        42 Coin       Scrypt       True   PoW/PoS     4.199995e+01   \n",
       "365       365Coin          X11       True   PoW/PoS              NaN   \n",
       "404       404Coin       Scrypt       True   PoW/PoS     1.055185e+09   \n",
       "611     SixEleven      SHA-256       True       PoW              NaN   \n",
       "808           808      SHA-256       True   PoW/PoS     0.000000e+00   \n",
       "...           ...          ...        ...       ...              ...   \n",
       "SERO   Super Zero       Ethash       True       PoW              NaN   \n",
       "UOS           UOS      SHA-256       True      DPoI              NaN   \n",
       "BDX        Beldex  CryptoNight       True       PoW     9.802226e+08   \n",
       "ZEN       Horizen     Equihash       True       PoW     7.296538e+06   \n",
       "XBC   BitcoinPlus       Scrypt       True       PoS     1.283270e+05   \n",
       "\n",
       "     TotalCoinSupply  \n",
       "                      \n",
       "42                42  \n",
       "365       2300000000  \n",
       "404        532000000  \n",
       "611           611000  \n",
       "808                0  \n",
       "...              ...  \n",
       "SERO      1000000000  \n",
       "UOS       1000000000  \n",
       "BDX       1400222610  \n",
       "ZEN         21000000  \n",
       "XBC          1000000  \n",
       "\n",
       "[1144 rows x 6 columns]"
      ]
     },
     "execution_count": 10,
     "metadata": {},
     "output_type": "execute_result"
    }
   ],
   "source": [
    "# Keep all the cryptocurrencies that are being traded.\n",
    "cleaned_crypto_df = crypto_df[crypto_df['IsTrading'] == True]\n",
    "cleaned_crypto_df"
   ]
  },
  {
   "cell_type": "code",
   "execution_count": 11,
   "metadata": {},
   "outputs": [
    {
     "data": {
      "text/html": [
       "<div>\n",
       "<style scoped>\n",
       "    .dataframe tbody tr th:only-of-type {\n",
       "        vertical-align: middle;\n",
       "    }\n",
       "\n",
       "    .dataframe tbody tr th {\n",
       "        vertical-align: top;\n",
       "    }\n",
       "\n",
       "    .dataframe thead th {\n",
       "        text-align: right;\n",
       "    }\n",
       "</style>\n",
       "<table border=\"1\" class=\"dataframe\">\n",
       "  <thead>\n",
       "    <tr style=\"text-align: right;\">\n",
       "      <th></th>\n",
       "      <th>CoinName</th>\n",
       "      <th>Algorithm</th>\n",
       "      <th>IsTrading</th>\n",
       "      <th>ProofType</th>\n",
       "      <th>TotalCoinsMined</th>\n",
       "      <th>TotalCoinSupply</th>\n",
       "    </tr>\n",
       "    <tr>\n",
       "      <th></th>\n",
       "      <th></th>\n",
       "      <th></th>\n",
       "      <th></th>\n",
       "      <th></th>\n",
       "      <th></th>\n",
       "      <th></th>\n",
       "    </tr>\n",
       "  </thead>\n",
       "  <tbody>\n",
       "    <tr>\n",
       "      <th>42</th>\n",
       "      <td>42 Coin</td>\n",
       "      <td>Scrypt</td>\n",
       "      <td>True</td>\n",
       "      <td>PoW/PoS</td>\n",
       "      <td>4.199995e+01</td>\n",
       "      <td>42</td>\n",
       "    </tr>\n",
       "    <tr>\n",
       "      <th>365</th>\n",
       "      <td>365Coin</td>\n",
       "      <td>X11</td>\n",
       "      <td>True</td>\n",
       "      <td>PoW/PoS</td>\n",
       "      <td>NaN</td>\n",
       "      <td>2300000000</td>\n",
       "    </tr>\n",
       "    <tr>\n",
       "      <th>404</th>\n",
       "      <td>404Coin</td>\n",
       "      <td>Scrypt</td>\n",
       "      <td>True</td>\n",
       "      <td>PoW/PoS</td>\n",
       "      <td>1.055185e+09</td>\n",
       "      <td>532000000</td>\n",
       "    </tr>\n",
       "    <tr>\n",
       "      <th>611</th>\n",
       "      <td>SixEleven</td>\n",
       "      <td>SHA-256</td>\n",
       "      <td>True</td>\n",
       "      <td>PoW</td>\n",
       "      <td>NaN</td>\n",
       "      <td>611000</td>\n",
       "    </tr>\n",
       "    <tr>\n",
       "      <th>808</th>\n",
       "      <td>808</td>\n",
       "      <td>SHA-256</td>\n",
       "      <td>True</td>\n",
       "      <td>PoW/PoS</td>\n",
       "      <td>0.000000e+00</td>\n",
       "      <td>0</td>\n",
       "    </tr>\n",
       "    <tr>\n",
       "      <th>...</th>\n",
       "      <td>...</td>\n",
       "      <td>...</td>\n",
       "      <td>...</td>\n",
       "      <td>...</td>\n",
       "      <td>...</td>\n",
       "      <td>...</td>\n",
       "    </tr>\n",
       "    <tr>\n",
       "      <th>SERO</th>\n",
       "      <td>Super Zero</td>\n",
       "      <td>Ethash</td>\n",
       "      <td>True</td>\n",
       "      <td>PoW</td>\n",
       "      <td>NaN</td>\n",
       "      <td>1000000000</td>\n",
       "    </tr>\n",
       "    <tr>\n",
       "      <th>UOS</th>\n",
       "      <td>UOS</td>\n",
       "      <td>SHA-256</td>\n",
       "      <td>True</td>\n",
       "      <td>DPoI</td>\n",
       "      <td>NaN</td>\n",
       "      <td>1000000000</td>\n",
       "    </tr>\n",
       "    <tr>\n",
       "      <th>BDX</th>\n",
       "      <td>Beldex</td>\n",
       "      <td>CryptoNight</td>\n",
       "      <td>True</td>\n",
       "      <td>PoW</td>\n",
       "      <td>9.802226e+08</td>\n",
       "      <td>1400222610</td>\n",
       "    </tr>\n",
       "    <tr>\n",
       "      <th>ZEN</th>\n",
       "      <td>Horizen</td>\n",
       "      <td>Equihash</td>\n",
       "      <td>True</td>\n",
       "      <td>PoW</td>\n",
       "      <td>7.296538e+06</td>\n",
       "      <td>21000000</td>\n",
       "    </tr>\n",
       "    <tr>\n",
       "      <th>XBC</th>\n",
       "      <td>BitcoinPlus</td>\n",
       "      <td>Scrypt</td>\n",
       "      <td>True</td>\n",
       "      <td>PoS</td>\n",
       "      <td>1.283270e+05</td>\n",
       "      <td>1000000</td>\n",
       "    </tr>\n",
       "  </tbody>\n",
       "</table>\n",
       "<p>1144 rows × 6 columns</p>\n",
       "</div>"
      ],
      "text/plain": [
       "         CoinName    Algorithm  IsTrading ProofType  TotalCoinsMined  \\\n",
       "                                                                       \n",
       "42        42 Coin       Scrypt       True   PoW/PoS     4.199995e+01   \n",
       "365       365Coin          X11       True   PoW/PoS              NaN   \n",
       "404       404Coin       Scrypt       True   PoW/PoS     1.055185e+09   \n",
       "611     SixEleven      SHA-256       True       PoW              NaN   \n",
       "808           808      SHA-256       True   PoW/PoS     0.000000e+00   \n",
       "...           ...          ...        ...       ...              ...   \n",
       "SERO   Super Zero       Ethash       True       PoW              NaN   \n",
       "UOS           UOS      SHA-256       True      DPoI              NaN   \n",
       "BDX        Beldex  CryptoNight       True       PoW     9.802226e+08   \n",
       "ZEN       Horizen     Equihash       True       PoW     7.296538e+06   \n",
       "XBC   BitcoinPlus       Scrypt       True       PoS     1.283270e+05   \n",
       "\n",
       "     TotalCoinSupply  \n",
       "                      \n",
       "42                42  \n",
       "365       2300000000  \n",
       "404        532000000  \n",
       "611           611000  \n",
       "808                0  \n",
       "...              ...  \n",
       "SERO      1000000000  \n",
       "UOS       1000000000  \n",
       "BDX       1400222610  \n",
       "ZEN         21000000  \n",
       "XBC          1000000  \n",
       "\n",
       "[1144 rows x 6 columns]"
      ]
     },
     "execution_count": 11,
     "metadata": {},
     "output_type": "execute_result"
    }
   ],
   "source": [
    "# Keep all the cryptocurrencies that have a working algorithm.\n",
    "cleaned_crypto_df = cleaned_crypto_df.dropna(subset=['Algorithm'])\n",
    "cleaned_crypto_df"
   ]
  },
  {
   "cell_type": "code",
   "execution_count": 12,
   "metadata": {},
   "outputs": [
    {
     "data": {
      "text/html": [
       "<div>\n",
       "<style scoped>\n",
       "    .dataframe tbody tr th:only-of-type {\n",
       "        vertical-align: middle;\n",
       "    }\n",
       "\n",
       "    .dataframe tbody tr th {\n",
       "        vertical-align: top;\n",
       "    }\n",
       "\n",
       "    .dataframe thead th {\n",
       "        text-align: right;\n",
       "    }\n",
       "</style>\n",
       "<table border=\"1\" class=\"dataframe\">\n",
       "  <thead>\n",
       "    <tr style=\"text-align: right;\">\n",
       "      <th></th>\n",
       "      <th>CoinName</th>\n",
       "      <th>Algorithm</th>\n",
       "      <th>ProofType</th>\n",
       "      <th>TotalCoinsMined</th>\n",
       "      <th>TotalCoinSupply</th>\n",
       "    </tr>\n",
       "    <tr>\n",
       "      <th></th>\n",
       "      <th></th>\n",
       "      <th></th>\n",
       "      <th></th>\n",
       "      <th></th>\n",
       "      <th></th>\n",
       "    </tr>\n",
       "  </thead>\n",
       "  <tbody>\n",
       "    <tr>\n",
       "      <th>42</th>\n",
       "      <td>42 Coin</td>\n",
       "      <td>Scrypt</td>\n",
       "      <td>PoW/PoS</td>\n",
       "      <td>4.199995e+01</td>\n",
       "      <td>42</td>\n",
       "    </tr>\n",
       "    <tr>\n",
       "      <th>365</th>\n",
       "      <td>365Coin</td>\n",
       "      <td>X11</td>\n",
       "      <td>PoW/PoS</td>\n",
       "      <td>NaN</td>\n",
       "      <td>2300000000</td>\n",
       "    </tr>\n",
       "    <tr>\n",
       "      <th>404</th>\n",
       "      <td>404Coin</td>\n",
       "      <td>Scrypt</td>\n",
       "      <td>PoW/PoS</td>\n",
       "      <td>1.055185e+09</td>\n",
       "      <td>532000000</td>\n",
       "    </tr>\n",
       "    <tr>\n",
       "      <th>611</th>\n",
       "      <td>SixEleven</td>\n",
       "      <td>SHA-256</td>\n",
       "      <td>PoW</td>\n",
       "      <td>NaN</td>\n",
       "      <td>611000</td>\n",
       "    </tr>\n",
       "    <tr>\n",
       "      <th>808</th>\n",
       "      <td>808</td>\n",
       "      <td>SHA-256</td>\n",
       "      <td>PoW/PoS</td>\n",
       "      <td>0.000000e+00</td>\n",
       "      <td>0</td>\n",
       "    </tr>\n",
       "    <tr>\n",
       "      <th>...</th>\n",
       "      <td>...</td>\n",
       "      <td>...</td>\n",
       "      <td>...</td>\n",
       "      <td>...</td>\n",
       "      <td>...</td>\n",
       "    </tr>\n",
       "    <tr>\n",
       "      <th>SERO</th>\n",
       "      <td>Super Zero</td>\n",
       "      <td>Ethash</td>\n",
       "      <td>PoW</td>\n",
       "      <td>NaN</td>\n",
       "      <td>1000000000</td>\n",
       "    </tr>\n",
       "    <tr>\n",
       "      <th>UOS</th>\n",
       "      <td>UOS</td>\n",
       "      <td>SHA-256</td>\n",
       "      <td>DPoI</td>\n",
       "      <td>NaN</td>\n",
       "      <td>1000000000</td>\n",
       "    </tr>\n",
       "    <tr>\n",
       "      <th>BDX</th>\n",
       "      <td>Beldex</td>\n",
       "      <td>CryptoNight</td>\n",
       "      <td>PoW</td>\n",
       "      <td>9.802226e+08</td>\n",
       "      <td>1400222610</td>\n",
       "    </tr>\n",
       "    <tr>\n",
       "      <th>ZEN</th>\n",
       "      <td>Horizen</td>\n",
       "      <td>Equihash</td>\n",
       "      <td>PoW</td>\n",
       "      <td>7.296538e+06</td>\n",
       "      <td>21000000</td>\n",
       "    </tr>\n",
       "    <tr>\n",
       "      <th>XBC</th>\n",
       "      <td>BitcoinPlus</td>\n",
       "      <td>Scrypt</td>\n",
       "      <td>PoS</td>\n",
       "      <td>1.283270e+05</td>\n",
       "      <td>1000000</td>\n",
       "    </tr>\n",
       "  </tbody>\n",
       "</table>\n",
       "<p>1144 rows × 5 columns</p>\n",
       "</div>"
      ],
      "text/plain": [
       "         CoinName    Algorithm ProofType  TotalCoinsMined TotalCoinSupply\n",
       "                                                                         \n",
       "42        42 Coin       Scrypt   PoW/PoS     4.199995e+01              42\n",
       "365       365Coin          X11   PoW/PoS              NaN      2300000000\n",
       "404       404Coin       Scrypt   PoW/PoS     1.055185e+09       532000000\n",
       "611     SixEleven      SHA-256       PoW              NaN          611000\n",
       "808           808      SHA-256   PoW/PoS     0.000000e+00               0\n",
       "...           ...          ...       ...              ...             ...\n",
       "SERO   Super Zero       Ethash       PoW              NaN      1000000000\n",
       "UOS           UOS      SHA-256      DPoI              NaN      1000000000\n",
       "BDX        Beldex  CryptoNight       PoW     9.802226e+08      1400222610\n",
       "ZEN       Horizen     Equihash       PoW     7.296538e+06        21000000\n",
       "XBC   BitcoinPlus       Scrypt       PoS     1.283270e+05         1000000\n",
       "\n",
       "[1144 rows x 5 columns]"
      ]
     },
     "execution_count": 12,
     "metadata": {},
     "output_type": "execute_result"
    }
   ],
   "source": [
    "# Remove the \"IsTrading\" column. \n",
    "del cleaned_crypto_df['IsTrading']\n",
    "cleaned_crypto_df"
   ]
  },
  {
   "cell_type": "code",
   "execution_count": 13,
   "metadata": {},
   "outputs": [
    {
     "data": {
      "text/plain": [
       "CoinName           1144\n",
       "Algorithm          1144\n",
       "ProofType          1144\n",
       "TotalCoinsMined     685\n",
       "TotalCoinSupply    1144\n",
       "dtype: int64"
      ]
     },
     "execution_count": 13,
     "metadata": {},
     "output_type": "execute_result"
    }
   ],
   "source": [
    "# Confirm \"IsTrading\" column was removed by checking row counts\n",
    "cleaned_crypto_df.count()"
   ]
  },
  {
   "cell_type": "code",
   "execution_count": 14,
   "metadata": {},
   "outputs": [
    {
     "data": {
      "text/html": [
       "<div>\n",
       "<style scoped>\n",
       "    .dataframe tbody tr th:only-of-type {\n",
       "        vertical-align: middle;\n",
       "    }\n",
       "\n",
       "    .dataframe tbody tr th {\n",
       "        vertical-align: top;\n",
       "    }\n",
       "\n",
       "    .dataframe thead th {\n",
       "        text-align: right;\n",
       "    }\n",
       "</style>\n",
       "<table border=\"1\" class=\"dataframe\">\n",
       "  <thead>\n",
       "    <tr style=\"text-align: right;\">\n",
       "      <th></th>\n",
       "      <th>CoinName</th>\n",
       "      <th>Algorithm</th>\n",
       "      <th>ProofType</th>\n",
       "      <th>TotalCoinsMined</th>\n",
       "      <th>TotalCoinSupply</th>\n",
       "    </tr>\n",
       "    <tr>\n",
       "      <th></th>\n",
       "      <th></th>\n",
       "      <th></th>\n",
       "      <th></th>\n",
       "      <th></th>\n",
       "      <th></th>\n",
       "    </tr>\n",
       "  </thead>\n",
       "  <tbody>\n",
       "    <tr>\n",
       "      <th>42</th>\n",
       "      <td>42 Coin</td>\n",
       "      <td>Scrypt</td>\n",
       "      <td>PoW/PoS</td>\n",
       "      <td>4.199995e+01</td>\n",
       "      <td>42</td>\n",
       "    </tr>\n",
       "    <tr>\n",
       "      <th>404</th>\n",
       "      <td>404Coin</td>\n",
       "      <td>Scrypt</td>\n",
       "      <td>PoW/PoS</td>\n",
       "      <td>1.055185e+09</td>\n",
       "      <td>532000000</td>\n",
       "    </tr>\n",
       "    <tr>\n",
       "      <th>808</th>\n",
       "      <td>808</td>\n",
       "      <td>SHA-256</td>\n",
       "      <td>PoW/PoS</td>\n",
       "      <td>0.000000e+00</td>\n",
       "      <td>0</td>\n",
       "    </tr>\n",
       "    <tr>\n",
       "      <th>1337</th>\n",
       "      <td>EliteCoin</td>\n",
       "      <td>X13</td>\n",
       "      <td>PoW/PoS</td>\n",
       "      <td>2.927942e+10</td>\n",
       "      <td>314159265359</td>\n",
       "    </tr>\n",
       "    <tr>\n",
       "      <th>BTC</th>\n",
       "      <td>Bitcoin</td>\n",
       "      <td>SHA-256</td>\n",
       "      <td>PoW</td>\n",
       "      <td>1.792718e+07</td>\n",
       "      <td>21000000</td>\n",
       "    </tr>\n",
       "    <tr>\n",
       "      <th>...</th>\n",
       "      <td>...</td>\n",
       "      <td>...</td>\n",
       "      <td>...</td>\n",
       "      <td>...</td>\n",
       "      <td>...</td>\n",
       "    </tr>\n",
       "    <tr>\n",
       "      <th>ZEPH</th>\n",
       "      <td>ZEPHYR</td>\n",
       "      <td>SHA-256</td>\n",
       "      <td>DPoS</td>\n",
       "      <td>2.000000e+09</td>\n",
       "      <td>2000000000</td>\n",
       "    </tr>\n",
       "    <tr>\n",
       "      <th>GAP</th>\n",
       "      <td>Gapcoin</td>\n",
       "      <td>Scrypt</td>\n",
       "      <td>PoW/PoS</td>\n",
       "      <td>1.493105e+07</td>\n",
       "      <td>250000000</td>\n",
       "    </tr>\n",
       "    <tr>\n",
       "      <th>BDX</th>\n",
       "      <td>Beldex</td>\n",
       "      <td>CryptoNight</td>\n",
       "      <td>PoW</td>\n",
       "      <td>9.802226e+08</td>\n",
       "      <td>1400222610</td>\n",
       "    </tr>\n",
       "    <tr>\n",
       "      <th>ZEN</th>\n",
       "      <td>Horizen</td>\n",
       "      <td>Equihash</td>\n",
       "      <td>PoW</td>\n",
       "      <td>7.296538e+06</td>\n",
       "      <td>21000000</td>\n",
       "    </tr>\n",
       "    <tr>\n",
       "      <th>XBC</th>\n",
       "      <td>BitcoinPlus</td>\n",
       "      <td>Scrypt</td>\n",
       "      <td>PoS</td>\n",
       "      <td>1.283270e+05</td>\n",
       "      <td>1000000</td>\n",
       "    </tr>\n",
       "  </tbody>\n",
       "</table>\n",
       "<p>685 rows × 5 columns</p>\n",
       "</div>"
      ],
      "text/plain": [
       "         CoinName    Algorithm ProofType  TotalCoinsMined TotalCoinSupply\n",
       "                                                                         \n",
       "42        42 Coin       Scrypt   PoW/PoS     4.199995e+01              42\n",
       "404       404Coin       Scrypt   PoW/PoS     1.055185e+09       532000000\n",
       "808           808      SHA-256   PoW/PoS     0.000000e+00               0\n",
       "1337    EliteCoin          X13   PoW/PoS     2.927942e+10    314159265359\n",
       "BTC       Bitcoin      SHA-256       PoW     1.792718e+07        21000000\n",
       "...           ...          ...       ...              ...             ...\n",
       "ZEPH       ZEPHYR      SHA-256      DPoS     2.000000e+09      2000000000\n",
       "GAP       Gapcoin       Scrypt   PoW/PoS     1.493105e+07       250000000\n",
       "BDX        Beldex  CryptoNight       PoW     9.802226e+08      1400222610\n",
       "ZEN       Horizen     Equihash       PoW     7.296538e+06        21000000\n",
       "XBC   BitcoinPlus       Scrypt       PoS     1.283270e+05         1000000\n",
       "\n",
       "[685 rows x 5 columns]"
      ]
     },
     "execution_count": 14,
     "metadata": {},
     "output_type": "execute_result"
    }
   ],
   "source": [
    "# Remove rows that have at least 1 null value.\n",
    "cleaned_crypto_df = cleaned_crypto_df.dropna(how='any', axis=0)\n",
    "cleaned_crypto_df"
   ]
  },
  {
   "cell_type": "code",
   "execution_count": 15,
   "metadata": {},
   "outputs": [
    {
     "data": {
      "text/html": [
       "<div>\n",
       "<style scoped>\n",
       "    .dataframe tbody tr th:only-of-type {\n",
       "        vertical-align: middle;\n",
       "    }\n",
       "\n",
       "    .dataframe tbody tr th {\n",
       "        vertical-align: top;\n",
       "    }\n",
       "\n",
       "    .dataframe thead th {\n",
       "        text-align: right;\n",
       "    }\n",
       "</style>\n",
       "<table border=\"1\" class=\"dataframe\">\n",
       "  <thead>\n",
       "    <tr style=\"text-align: right;\">\n",
       "      <th></th>\n",
       "      <th>CoinName</th>\n",
       "      <th>Algorithm</th>\n",
       "      <th>ProofType</th>\n",
       "      <th>TotalCoinsMined</th>\n",
       "      <th>TotalCoinSupply</th>\n",
       "    </tr>\n",
       "    <tr>\n",
       "      <th></th>\n",
       "      <th></th>\n",
       "      <th></th>\n",
       "      <th></th>\n",
       "      <th></th>\n",
       "      <th></th>\n",
       "    </tr>\n",
       "  </thead>\n",
       "  <tbody>\n",
       "    <tr>\n",
       "      <th>42</th>\n",
       "      <td>42 Coin</td>\n",
       "      <td>Scrypt</td>\n",
       "      <td>PoW/PoS</td>\n",
       "      <td>4.199995e+01</td>\n",
       "      <td>42</td>\n",
       "    </tr>\n",
       "    <tr>\n",
       "      <th>404</th>\n",
       "      <td>404Coin</td>\n",
       "      <td>Scrypt</td>\n",
       "      <td>PoW/PoS</td>\n",
       "      <td>1.055185e+09</td>\n",
       "      <td>532000000</td>\n",
       "    </tr>\n",
       "    <tr>\n",
       "      <th>1337</th>\n",
       "      <td>EliteCoin</td>\n",
       "      <td>X13</td>\n",
       "      <td>PoW/PoS</td>\n",
       "      <td>2.927942e+10</td>\n",
       "      <td>314159265359</td>\n",
       "    </tr>\n",
       "    <tr>\n",
       "      <th>BTC</th>\n",
       "      <td>Bitcoin</td>\n",
       "      <td>SHA-256</td>\n",
       "      <td>PoW</td>\n",
       "      <td>1.792718e+07</td>\n",
       "      <td>21000000</td>\n",
       "    </tr>\n",
       "    <tr>\n",
       "      <th>ETH</th>\n",
       "      <td>Ethereum</td>\n",
       "      <td>Ethash</td>\n",
       "      <td>PoW</td>\n",
       "      <td>1.076842e+08</td>\n",
       "      <td>0</td>\n",
       "    </tr>\n",
       "    <tr>\n",
       "      <th>...</th>\n",
       "      <td>...</td>\n",
       "      <td>...</td>\n",
       "      <td>...</td>\n",
       "      <td>...</td>\n",
       "      <td>...</td>\n",
       "    </tr>\n",
       "    <tr>\n",
       "      <th>ZEPH</th>\n",
       "      <td>ZEPHYR</td>\n",
       "      <td>SHA-256</td>\n",
       "      <td>DPoS</td>\n",
       "      <td>2.000000e+09</td>\n",
       "      <td>2000000000</td>\n",
       "    </tr>\n",
       "    <tr>\n",
       "      <th>GAP</th>\n",
       "      <td>Gapcoin</td>\n",
       "      <td>Scrypt</td>\n",
       "      <td>PoW/PoS</td>\n",
       "      <td>1.493105e+07</td>\n",
       "      <td>250000000</td>\n",
       "    </tr>\n",
       "    <tr>\n",
       "      <th>BDX</th>\n",
       "      <td>Beldex</td>\n",
       "      <td>CryptoNight</td>\n",
       "      <td>PoW</td>\n",
       "      <td>9.802226e+08</td>\n",
       "      <td>1400222610</td>\n",
       "    </tr>\n",
       "    <tr>\n",
       "      <th>ZEN</th>\n",
       "      <td>Horizen</td>\n",
       "      <td>Equihash</td>\n",
       "      <td>PoW</td>\n",
       "      <td>7.296538e+06</td>\n",
       "      <td>21000000</td>\n",
       "    </tr>\n",
       "    <tr>\n",
       "      <th>XBC</th>\n",
       "      <td>BitcoinPlus</td>\n",
       "      <td>Scrypt</td>\n",
       "      <td>PoS</td>\n",
       "      <td>1.283270e+05</td>\n",
       "      <td>1000000</td>\n",
       "    </tr>\n",
       "  </tbody>\n",
       "</table>\n",
       "<p>532 rows × 5 columns</p>\n",
       "</div>"
      ],
      "text/plain": [
       "         CoinName    Algorithm ProofType  TotalCoinsMined TotalCoinSupply\n",
       "                                                                         \n",
       "42        42 Coin       Scrypt   PoW/PoS     4.199995e+01              42\n",
       "404       404Coin       Scrypt   PoW/PoS     1.055185e+09       532000000\n",
       "1337    EliteCoin          X13   PoW/PoS     2.927942e+10    314159265359\n",
       "BTC       Bitcoin      SHA-256       PoW     1.792718e+07        21000000\n",
       "ETH      Ethereum       Ethash       PoW     1.076842e+08               0\n",
       "...           ...          ...       ...              ...             ...\n",
       "ZEPH       ZEPHYR      SHA-256      DPoS     2.000000e+09      2000000000\n",
       "GAP       Gapcoin       Scrypt   PoW/PoS     1.493105e+07       250000000\n",
       "BDX        Beldex  CryptoNight       PoW     9.802226e+08      1400222610\n",
       "ZEN       Horizen     Equihash       PoW     7.296538e+06        21000000\n",
       "XBC   BitcoinPlus       Scrypt       PoS     1.283270e+05         1000000\n",
       "\n",
       "[532 rows x 5 columns]"
      ]
     },
     "execution_count": 15,
     "metadata": {},
     "output_type": "execute_result"
    }
   ],
   "source": [
    "# Keep the rows where coins are mined.\n",
    "cleaned_crypto_df = cleaned_crypto_df[cleaned_crypto_df['TotalCoinsMined'] > 0]\n",
    "cleaned_crypto_df"
   ]
  },
  {
   "cell_type": "code",
   "execution_count": 16,
   "metadata": {},
   "outputs": [
    {
     "data": {
      "text/html": [
       "<div>\n",
       "<style scoped>\n",
       "    .dataframe tbody tr th:only-of-type {\n",
       "        vertical-align: middle;\n",
       "    }\n",
       "\n",
       "    .dataframe tbody tr th {\n",
       "        vertical-align: top;\n",
       "    }\n",
       "\n",
       "    .dataframe thead th {\n",
       "        text-align: right;\n",
       "    }\n",
       "</style>\n",
       "<table border=\"1\" class=\"dataframe\">\n",
       "  <thead>\n",
       "    <tr style=\"text-align: right;\">\n",
       "      <th></th>\n",
       "      <th>CoinName</th>\n",
       "    </tr>\n",
       "    <tr>\n",
       "      <th></th>\n",
       "      <th></th>\n",
       "    </tr>\n",
       "  </thead>\n",
       "  <tbody>\n",
       "    <tr>\n",
       "      <th>42</th>\n",
       "      <td>42 Coin</td>\n",
       "    </tr>\n",
       "    <tr>\n",
       "      <th>404</th>\n",
       "      <td>404Coin</td>\n",
       "    </tr>\n",
       "    <tr>\n",
       "      <th>1337</th>\n",
       "      <td>EliteCoin</td>\n",
       "    </tr>\n",
       "    <tr>\n",
       "      <th>BTC</th>\n",
       "      <td>Bitcoin</td>\n",
       "    </tr>\n",
       "    <tr>\n",
       "      <th>ETH</th>\n",
       "      <td>Ethereum</td>\n",
       "    </tr>\n",
       "  </tbody>\n",
       "</table>\n",
       "</div>"
      ],
      "text/plain": [
       "       CoinName\n",
       "               \n",
       "42      42 Coin\n",
       "404     404Coin\n",
       "1337  EliteCoin\n",
       "BTC     Bitcoin\n",
       "ETH    Ethereum"
      ]
     },
     "execution_count": 16,
     "metadata": {},
     "output_type": "execute_result"
    }
   ],
   "source": [
    "# Create a new DataFrame that holds only the cryptocurrencies names.\n",
    "crypto_names_df = cleaned_crypto_df.filter(['CoinName'], axis=1)\n",
    "crypto_names_df.head()"
   ]
  },
  {
   "cell_type": "code",
   "execution_count": 17,
   "metadata": {},
   "outputs": [
    {
     "data": {
      "text/html": [
       "<div>\n",
       "<style scoped>\n",
       "    .dataframe tbody tr th:only-of-type {\n",
       "        vertical-align: middle;\n",
       "    }\n",
       "\n",
       "    .dataframe tbody tr th {\n",
       "        vertical-align: top;\n",
       "    }\n",
       "\n",
       "    .dataframe thead th {\n",
       "        text-align: right;\n",
       "    }\n",
       "</style>\n",
       "<table border=\"1\" class=\"dataframe\">\n",
       "  <thead>\n",
       "    <tr style=\"text-align: right;\">\n",
       "      <th></th>\n",
       "      <th>Algorithm</th>\n",
       "      <th>ProofType</th>\n",
       "      <th>TotalCoinsMined</th>\n",
       "      <th>TotalCoinSupply</th>\n",
       "    </tr>\n",
       "    <tr>\n",
       "      <th></th>\n",
       "      <th></th>\n",
       "      <th></th>\n",
       "      <th></th>\n",
       "      <th></th>\n",
       "    </tr>\n",
       "  </thead>\n",
       "  <tbody>\n",
       "    <tr>\n",
       "      <th>42</th>\n",
       "      <td>Scrypt</td>\n",
       "      <td>PoW/PoS</td>\n",
       "      <td>4.199995e+01</td>\n",
       "      <td>42</td>\n",
       "    </tr>\n",
       "    <tr>\n",
       "      <th>404</th>\n",
       "      <td>Scrypt</td>\n",
       "      <td>PoW/PoS</td>\n",
       "      <td>1.055185e+09</td>\n",
       "      <td>532000000</td>\n",
       "    </tr>\n",
       "    <tr>\n",
       "      <th>1337</th>\n",
       "      <td>X13</td>\n",
       "      <td>PoW/PoS</td>\n",
       "      <td>2.927942e+10</td>\n",
       "      <td>314159265359</td>\n",
       "    </tr>\n",
       "    <tr>\n",
       "      <th>BTC</th>\n",
       "      <td>SHA-256</td>\n",
       "      <td>PoW</td>\n",
       "      <td>1.792718e+07</td>\n",
       "      <td>21000000</td>\n",
       "    </tr>\n",
       "    <tr>\n",
       "      <th>ETH</th>\n",
       "      <td>Ethash</td>\n",
       "      <td>PoW</td>\n",
       "      <td>1.076842e+08</td>\n",
       "      <td>0</td>\n",
       "    </tr>\n",
       "  </tbody>\n",
       "</table>\n",
       "</div>"
      ],
      "text/plain": [
       "     Algorithm ProofType  TotalCoinsMined TotalCoinSupply\n",
       "                                                         \n",
       "42      Scrypt   PoW/PoS     4.199995e+01              42\n",
       "404     Scrypt   PoW/PoS     1.055185e+09       532000000\n",
       "1337       X13   PoW/PoS     2.927942e+10    314159265359\n",
       "BTC    SHA-256       PoW     1.792718e+07        21000000\n",
       "ETH     Ethash       PoW     1.076842e+08               0"
      ]
     },
     "execution_count": 17,
     "metadata": {},
     "output_type": "execute_result"
    }
   ],
   "source": [
    "# Drop the 'CoinName' column since it's not going to be used on the clustering algorithm.\n",
    "del cleaned_crypto_df['CoinName']\n",
    "cleaned_crypto_df.head()"
   ]
  },
  {
   "cell_type": "code",
   "execution_count": 18,
   "metadata": {},
   "outputs": [
    {
     "data": {
      "text/html": [
       "<div>\n",
       "<style scoped>\n",
       "    .dataframe tbody tr th:only-of-type {\n",
       "        vertical-align: middle;\n",
       "    }\n",
       "\n",
       "    .dataframe tbody tr th {\n",
       "        vertical-align: top;\n",
       "    }\n",
       "\n",
       "    .dataframe thead th {\n",
       "        text-align: right;\n",
       "    }\n",
       "</style>\n",
       "<table border=\"1\" class=\"dataframe\">\n",
       "  <thead>\n",
       "    <tr style=\"text-align: right;\">\n",
       "      <th></th>\n",
       "      <th>TotalCoinsMined</th>\n",
       "      <th>TotalCoinSupply</th>\n",
       "      <th>Algorithm_1GB AES Pattern Search</th>\n",
       "      <th>Algorithm_536</th>\n",
       "      <th>Algorithm_Argon2d</th>\n",
       "      <th>Algorithm_BLAKE256</th>\n",
       "      <th>Algorithm_Blake</th>\n",
       "      <th>Algorithm_Blake2S</th>\n",
       "      <th>Algorithm_Blake2b</th>\n",
       "      <th>Algorithm_C11</th>\n",
       "      <th>...</th>\n",
       "      <th>ProofType_PoW/PoS</th>\n",
       "      <th>ProofType_PoW/PoS</th>\n",
       "      <th>ProofType_PoW/PoW</th>\n",
       "      <th>ProofType_PoW/nPoS</th>\n",
       "      <th>ProofType_Pos</th>\n",
       "      <th>ProofType_Proof of Authority</th>\n",
       "      <th>ProofType_Proof of Trust</th>\n",
       "      <th>ProofType_TPoS</th>\n",
       "      <th>ProofType_Zero-Knowledge Proof</th>\n",
       "      <th>ProofType_dPoW/PoW</th>\n",
       "    </tr>\n",
       "    <tr>\n",
       "      <th></th>\n",
       "      <th></th>\n",
       "      <th></th>\n",
       "      <th></th>\n",
       "      <th></th>\n",
       "      <th></th>\n",
       "      <th></th>\n",
       "      <th></th>\n",
       "      <th></th>\n",
       "      <th></th>\n",
       "      <th></th>\n",
       "      <th></th>\n",
       "      <th></th>\n",
       "      <th></th>\n",
       "      <th></th>\n",
       "      <th></th>\n",
       "      <th></th>\n",
       "      <th></th>\n",
       "      <th></th>\n",
       "      <th></th>\n",
       "      <th></th>\n",
       "      <th></th>\n",
       "    </tr>\n",
       "  </thead>\n",
       "  <tbody>\n",
       "    <tr>\n",
       "      <th>42</th>\n",
       "      <td>4.199995e+01</td>\n",
       "      <td>42</td>\n",
       "      <td>0</td>\n",
       "      <td>0</td>\n",
       "      <td>0</td>\n",
       "      <td>0</td>\n",
       "      <td>0</td>\n",
       "      <td>0</td>\n",
       "      <td>0</td>\n",
       "      <td>0</td>\n",
       "      <td>...</td>\n",
       "      <td>1</td>\n",
       "      <td>0</td>\n",
       "      <td>0</td>\n",
       "      <td>0</td>\n",
       "      <td>0</td>\n",
       "      <td>0</td>\n",
       "      <td>0</td>\n",
       "      <td>0</td>\n",
       "      <td>0</td>\n",
       "      <td>0</td>\n",
       "    </tr>\n",
       "    <tr>\n",
       "      <th>404</th>\n",
       "      <td>1.055185e+09</td>\n",
       "      <td>532000000</td>\n",
       "      <td>0</td>\n",
       "      <td>0</td>\n",
       "      <td>0</td>\n",
       "      <td>0</td>\n",
       "      <td>0</td>\n",
       "      <td>0</td>\n",
       "      <td>0</td>\n",
       "      <td>0</td>\n",
       "      <td>...</td>\n",
       "      <td>1</td>\n",
       "      <td>0</td>\n",
       "      <td>0</td>\n",
       "      <td>0</td>\n",
       "      <td>0</td>\n",
       "      <td>0</td>\n",
       "      <td>0</td>\n",
       "      <td>0</td>\n",
       "      <td>0</td>\n",
       "      <td>0</td>\n",
       "    </tr>\n",
       "    <tr>\n",
       "      <th>1337</th>\n",
       "      <td>2.927942e+10</td>\n",
       "      <td>314159265359</td>\n",
       "      <td>0</td>\n",
       "      <td>0</td>\n",
       "      <td>0</td>\n",
       "      <td>0</td>\n",
       "      <td>0</td>\n",
       "      <td>0</td>\n",
       "      <td>0</td>\n",
       "      <td>0</td>\n",
       "      <td>...</td>\n",
       "      <td>1</td>\n",
       "      <td>0</td>\n",
       "      <td>0</td>\n",
       "      <td>0</td>\n",
       "      <td>0</td>\n",
       "      <td>0</td>\n",
       "      <td>0</td>\n",
       "      <td>0</td>\n",
       "      <td>0</td>\n",
       "      <td>0</td>\n",
       "    </tr>\n",
       "    <tr>\n",
       "      <th>BTC</th>\n",
       "      <td>1.792718e+07</td>\n",
       "      <td>21000000</td>\n",
       "      <td>0</td>\n",
       "      <td>0</td>\n",
       "      <td>0</td>\n",
       "      <td>0</td>\n",
       "      <td>0</td>\n",
       "      <td>0</td>\n",
       "      <td>0</td>\n",
       "      <td>0</td>\n",
       "      <td>...</td>\n",
       "      <td>0</td>\n",
       "      <td>0</td>\n",
       "      <td>0</td>\n",
       "      <td>0</td>\n",
       "      <td>0</td>\n",
       "      <td>0</td>\n",
       "      <td>0</td>\n",
       "      <td>0</td>\n",
       "      <td>0</td>\n",
       "      <td>0</td>\n",
       "    </tr>\n",
       "    <tr>\n",
       "      <th>ETH</th>\n",
       "      <td>1.076842e+08</td>\n",
       "      <td>0</td>\n",
       "      <td>0</td>\n",
       "      <td>0</td>\n",
       "      <td>0</td>\n",
       "      <td>0</td>\n",
       "      <td>0</td>\n",
       "      <td>0</td>\n",
       "      <td>0</td>\n",
       "      <td>0</td>\n",
       "      <td>...</td>\n",
       "      <td>0</td>\n",
       "      <td>0</td>\n",
       "      <td>0</td>\n",
       "      <td>0</td>\n",
       "      <td>0</td>\n",
       "      <td>0</td>\n",
       "      <td>0</td>\n",
       "      <td>0</td>\n",
       "      <td>0</td>\n",
       "      <td>0</td>\n",
       "    </tr>\n",
       "    <tr>\n",
       "      <th>...</th>\n",
       "      <td>...</td>\n",
       "      <td>...</td>\n",
       "      <td>...</td>\n",
       "      <td>...</td>\n",
       "      <td>...</td>\n",
       "      <td>...</td>\n",
       "      <td>...</td>\n",
       "      <td>...</td>\n",
       "      <td>...</td>\n",
       "      <td>...</td>\n",
       "      <td>...</td>\n",
       "      <td>...</td>\n",
       "      <td>...</td>\n",
       "      <td>...</td>\n",
       "      <td>...</td>\n",
       "      <td>...</td>\n",
       "      <td>...</td>\n",
       "      <td>...</td>\n",
       "      <td>...</td>\n",
       "      <td>...</td>\n",
       "      <td>...</td>\n",
       "    </tr>\n",
       "    <tr>\n",
       "      <th>ZEPH</th>\n",
       "      <td>2.000000e+09</td>\n",
       "      <td>2000000000</td>\n",
       "      <td>0</td>\n",
       "      <td>0</td>\n",
       "      <td>0</td>\n",
       "      <td>0</td>\n",
       "      <td>0</td>\n",
       "      <td>0</td>\n",
       "      <td>0</td>\n",
       "      <td>0</td>\n",
       "      <td>...</td>\n",
       "      <td>0</td>\n",
       "      <td>0</td>\n",
       "      <td>0</td>\n",
       "      <td>0</td>\n",
       "      <td>0</td>\n",
       "      <td>0</td>\n",
       "      <td>0</td>\n",
       "      <td>0</td>\n",
       "      <td>0</td>\n",
       "      <td>0</td>\n",
       "    </tr>\n",
       "    <tr>\n",
       "      <th>GAP</th>\n",
       "      <td>1.493105e+07</td>\n",
       "      <td>250000000</td>\n",
       "      <td>0</td>\n",
       "      <td>0</td>\n",
       "      <td>0</td>\n",
       "      <td>0</td>\n",
       "      <td>0</td>\n",
       "      <td>0</td>\n",
       "      <td>0</td>\n",
       "      <td>0</td>\n",
       "      <td>...</td>\n",
       "      <td>1</td>\n",
       "      <td>0</td>\n",
       "      <td>0</td>\n",
       "      <td>0</td>\n",
       "      <td>0</td>\n",
       "      <td>0</td>\n",
       "      <td>0</td>\n",
       "      <td>0</td>\n",
       "      <td>0</td>\n",
       "      <td>0</td>\n",
       "    </tr>\n",
       "    <tr>\n",
       "      <th>BDX</th>\n",
       "      <td>9.802226e+08</td>\n",
       "      <td>1400222610</td>\n",
       "      <td>0</td>\n",
       "      <td>0</td>\n",
       "      <td>0</td>\n",
       "      <td>0</td>\n",
       "      <td>0</td>\n",
       "      <td>0</td>\n",
       "      <td>0</td>\n",
       "      <td>0</td>\n",
       "      <td>...</td>\n",
       "      <td>0</td>\n",
       "      <td>0</td>\n",
       "      <td>0</td>\n",
       "      <td>0</td>\n",
       "      <td>0</td>\n",
       "      <td>0</td>\n",
       "      <td>0</td>\n",
       "      <td>0</td>\n",
       "      <td>0</td>\n",
       "      <td>0</td>\n",
       "    </tr>\n",
       "    <tr>\n",
       "      <th>ZEN</th>\n",
       "      <td>7.296538e+06</td>\n",
       "      <td>21000000</td>\n",
       "      <td>0</td>\n",
       "      <td>0</td>\n",
       "      <td>0</td>\n",
       "      <td>0</td>\n",
       "      <td>0</td>\n",
       "      <td>0</td>\n",
       "      <td>0</td>\n",
       "      <td>0</td>\n",
       "      <td>...</td>\n",
       "      <td>0</td>\n",
       "      <td>0</td>\n",
       "      <td>0</td>\n",
       "      <td>0</td>\n",
       "      <td>0</td>\n",
       "      <td>0</td>\n",
       "      <td>0</td>\n",
       "      <td>0</td>\n",
       "      <td>0</td>\n",
       "      <td>0</td>\n",
       "    </tr>\n",
       "    <tr>\n",
       "      <th>XBC</th>\n",
       "      <td>1.283270e+05</td>\n",
       "      <td>1000000</td>\n",
       "      <td>0</td>\n",
       "      <td>0</td>\n",
       "      <td>0</td>\n",
       "      <td>0</td>\n",
       "      <td>0</td>\n",
       "      <td>0</td>\n",
       "      <td>0</td>\n",
       "      <td>0</td>\n",
       "      <td>...</td>\n",
       "      <td>0</td>\n",
       "      <td>0</td>\n",
       "      <td>0</td>\n",
       "      <td>0</td>\n",
       "      <td>0</td>\n",
       "      <td>0</td>\n",
       "      <td>0</td>\n",
       "      <td>0</td>\n",
       "      <td>0</td>\n",
       "      <td>0</td>\n",
       "    </tr>\n",
       "  </tbody>\n",
       "</table>\n",
       "<p>532 rows × 98 columns</p>\n",
       "</div>"
      ],
      "text/plain": [
       "      TotalCoinsMined TotalCoinSupply  Algorithm_1GB AES Pattern Search  \\\n",
       "                                                                          \n",
       "42       4.199995e+01              42                                 0   \n",
       "404      1.055185e+09       532000000                                 0   \n",
       "1337     2.927942e+10    314159265359                                 0   \n",
       "BTC      1.792718e+07        21000000                                 0   \n",
       "ETH      1.076842e+08               0                                 0   \n",
       "...               ...             ...                               ...   \n",
       "ZEPH     2.000000e+09      2000000000                                 0   \n",
       "GAP      1.493105e+07       250000000                                 0   \n",
       "BDX      9.802226e+08      1400222610                                 0   \n",
       "ZEN      7.296538e+06        21000000                                 0   \n",
       "XBC      1.283270e+05         1000000                                 0   \n",
       "\n",
       "      Algorithm_536  Algorithm_Argon2d  Algorithm_BLAKE256  Algorithm_Blake  \\\n",
       "                                                                              \n",
       "42                0                  0                   0                0   \n",
       "404               0                  0                   0                0   \n",
       "1337              0                  0                   0                0   \n",
       "BTC               0                  0                   0                0   \n",
       "ETH               0                  0                   0                0   \n",
       "...             ...                ...                 ...              ...   \n",
       "ZEPH              0                  0                   0                0   \n",
       "GAP               0                  0                   0                0   \n",
       "BDX               0                  0                   0                0   \n",
       "ZEN               0                  0                   0                0   \n",
       "XBC               0                  0                   0                0   \n",
       "\n",
       "      Algorithm_Blake2S  Algorithm_Blake2b  Algorithm_C11  ...  \\\n",
       "                                                           ...   \n",
       "42                    0                  0              0  ...   \n",
       "404                   0                  0              0  ...   \n",
       "1337                  0                  0              0  ...   \n",
       "BTC                   0                  0              0  ...   \n",
       "ETH                   0                  0              0  ...   \n",
       "...                 ...                ...            ...  ...   \n",
       "ZEPH                  0                  0              0  ...   \n",
       "GAP                   0                  0              0  ...   \n",
       "BDX                   0                  0              0  ...   \n",
       "ZEN                   0                  0              0  ...   \n",
       "XBC                   0                  0              0  ...   \n",
       "\n",
       "      ProofType_PoW/PoS  ProofType_PoW/PoS   ProofType_PoW/PoW  \\\n",
       "                                                                 \n",
       "42                    1                   0                  0   \n",
       "404                   1                   0                  0   \n",
       "1337                  1                   0                  0   \n",
       "BTC                   0                   0                  0   \n",
       "ETH                   0                   0                  0   \n",
       "...                 ...                 ...                ...   \n",
       "ZEPH                  0                   0                  0   \n",
       "GAP                   1                   0                  0   \n",
       "BDX                   0                   0                  0   \n",
       "ZEN                   0                   0                  0   \n",
       "XBC                   0                   0                  0   \n",
       "\n",
       "      ProofType_PoW/nPoS  ProofType_Pos  ProofType_Proof of Authority  \\\n",
       "                                                                        \n",
       "42                     0              0                             0   \n",
       "404                    0              0                             0   \n",
       "1337                   0              0                             0   \n",
       "BTC                    0              0                             0   \n",
       "ETH                    0              0                             0   \n",
       "...                  ...            ...                           ...   \n",
       "ZEPH                   0              0                             0   \n",
       "GAP                    0              0                             0   \n",
       "BDX                    0              0                             0   \n",
       "ZEN                    0              0                             0   \n",
       "XBC                    0              0                             0   \n",
       "\n",
       "      ProofType_Proof of Trust  ProofType_TPoS  \\\n",
       "                                                 \n",
       "42                           0               0   \n",
       "404                          0               0   \n",
       "1337                         0               0   \n",
       "BTC                          0               0   \n",
       "ETH                          0               0   \n",
       "...                        ...             ...   \n",
       "ZEPH                         0               0   \n",
       "GAP                          0               0   \n",
       "BDX                          0               0   \n",
       "ZEN                          0               0   \n",
       "XBC                          0               0   \n",
       "\n",
       "      ProofType_Zero-Knowledge Proof  ProofType_dPoW/PoW  \n",
       "                                                          \n",
       "42                                 0                   0  \n",
       "404                                0                   0  \n",
       "1337                               0                   0  \n",
       "BTC                                0                   0  \n",
       "ETH                                0                   0  \n",
       "...                              ...                 ...  \n",
       "ZEPH                               0                   0  \n",
       "GAP                                0                   0  \n",
       "BDX                                0                   0  \n",
       "ZEN                                0                   0  \n",
       "XBC                                0                   0  \n",
       "\n",
       "[532 rows x 98 columns]"
      ]
     },
     "execution_count": 18,
     "metadata": {},
     "output_type": "execute_result"
    }
   ],
   "source": [
    "# Use get_dummies() to create variables for text features.\n",
    "X = pd.get_dummies(cleaned_crypto_df, columns=[\"Algorithm\", \"ProofType\"])\n",
    "X"
   ]
  },
  {
   "cell_type": "code",
   "execution_count": 19,
   "metadata": {},
   "outputs": [
    {
     "name": "stdout",
     "output_type": "stream",
     "text": [
      "[[-0.11710817 -0.1528703  -0.0433963  ... -0.0433963  -0.0433963\n",
      "  -0.0433963 ]\n",
      " [-0.09396955 -0.145009   -0.0433963  ... -0.0433963  -0.0433963\n",
      "  -0.0433963 ]\n",
      " [ 0.52494561  4.48942416 -0.0433963  ... -0.0433963  -0.0433963\n",
      "  -0.0433963 ]\n",
      " ...\n",
      " [-0.09561336 -0.13217937 -0.0433963  ... -0.0433963  -0.0433963\n",
      "  -0.0433963 ]\n",
      " [-0.11694817 -0.15255998 -0.0433963  ... -0.0433963  -0.0433963\n",
      "  -0.0433963 ]\n",
      " [-0.11710536 -0.15285552 -0.0433963  ... -0.0433963  -0.0433963\n",
      "  -0.0433963 ]]\n"
     ]
    }
   ],
   "source": [
    "# Standardize the data with StandardScaler().\n",
    "X_scaled = StandardScaler().fit_transform(X)\n",
    "print(X_scaled)"
   ]
  },
  {
   "cell_type": "markdown",
   "metadata": {},
   "source": [
    "### Deliverable 2: Reducing Data Dimensions Using PCA"
   ]
  },
  {
   "cell_type": "code",
   "execution_count": 20,
   "metadata": {},
   "outputs": [
    {
     "data": {
      "text/plain": [
       "array([[-0.32420441,  1.03473125, -0.36986591],\n",
       "       [-0.30758695,  1.0348725 , -0.37047585],\n",
       "       [ 2.29995138,  1.65574562, -0.555645  ],\n",
       "       ...,\n",
       "       [ 0.32746277, -2.31771592,  0.30379325],\n",
       "       [-0.15046446, -2.08933116,  0.27867329],\n",
       "       [-0.28667587,  0.8344517 , -0.2017063 ]])"
      ]
     },
     "execution_count": 20,
     "metadata": {},
     "output_type": "execute_result"
    }
   ],
   "source": [
    "# Using PCA to reduce dimension to three principal components.\n",
    "pca = PCA(n_components=3)\n",
    "X_pca = pca.fit_transform(X_scaled)\n",
    "X_pca"
   ]
  },
  {
   "cell_type": "code",
   "execution_count": 22,
   "metadata": {},
   "outputs": [
    {
     "data": {
      "text/html": [
       "<div>\n",
       "<style scoped>\n",
       "    .dataframe tbody tr th:only-of-type {\n",
       "        vertical-align: middle;\n",
       "    }\n",
       "\n",
       "    .dataframe tbody tr th {\n",
       "        vertical-align: top;\n",
       "    }\n",
       "\n",
       "    .dataframe thead th {\n",
       "        text-align: right;\n",
       "    }\n",
       "</style>\n",
       "<table border=\"1\" class=\"dataframe\">\n",
       "  <thead>\n",
       "    <tr style=\"text-align: right;\">\n",
       "      <th></th>\n",
       "      <th>PC 1</th>\n",
       "      <th>PC 2</th>\n",
       "      <th>PC 3</th>\n",
       "    </tr>\n",
       "    <tr>\n",
       "      <th></th>\n",
       "      <th></th>\n",
       "      <th></th>\n",
       "      <th></th>\n",
       "    </tr>\n",
       "  </thead>\n",
       "  <tbody>\n",
       "    <tr>\n",
       "      <th>42</th>\n",
       "      <td>-0.324204</td>\n",
       "      <td>1.034731</td>\n",
       "      <td>-0.369866</td>\n",
       "    </tr>\n",
       "    <tr>\n",
       "      <th>404</th>\n",
       "      <td>-0.307587</td>\n",
       "      <td>1.034872</td>\n",
       "      <td>-0.370476</td>\n",
       "    </tr>\n",
       "    <tr>\n",
       "      <th>1337</th>\n",
       "      <td>2.299951</td>\n",
       "      <td>1.655746</td>\n",
       "      <td>-0.555645</td>\n",
       "    </tr>\n",
       "    <tr>\n",
       "      <th>BTC</th>\n",
       "      <td>-0.141572</td>\n",
       "      <td>-1.302500</td>\n",
       "      <td>0.108859</td>\n",
       "    </tr>\n",
       "    <tr>\n",
       "      <th>ETH</th>\n",
       "      <td>-0.163233</td>\n",
       "      <td>-2.022791</td>\n",
       "      <td>0.280189</td>\n",
       "    </tr>\n",
       "    <tr>\n",
       "      <th>LTC</th>\n",
       "      <td>-0.160767</td>\n",
       "      <td>-1.118607</td>\n",
       "      <td>0.053944</td>\n",
       "    </tr>\n",
       "    <tr>\n",
       "      <th>DASH</th>\n",
       "      <td>-0.389080</td>\n",
       "      <td>1.218279</td>\n",
       "      <td>-0.442306</td>\n",
       "    </tr>\n",
       "    <tr>\n",
       "      <th>XMR</th>\n",
       "      <td>-0.164255</td>\n",
       "      <td>-2.236621</td>\n",
       "      <td>0.338915</td>\n",
       "    </tr>\n",
       "    <tr>\n",
       "      <th>ETC</th>\n",
       "      <td>-0.161680</td>\n",
       "      <td>-2.022893</td>\n",
       "      <td>0.280156</td>\n",
       "    </tr>\n",
       "    <tr>\n",
       "      <th>ZEC</th>\n",
       "      <td>-0.150463</td>\n",
       "      <td>-2.089331</td>\n",
       "      <td>0.278673</td>\n",
       "    </tr>\n",
       "  </tbody>\n",
       "</table>\n",
       "</div>"
      ],
      "text/plain": [
       "          PC 1      PC 2      PC 3\n",
       "                                  \n",
       "42   -0.324204  1.034731 -0.369866\n",
       "404  -0.307587  1.034872 -0.370476\n",
       "1337  2.299951  1.655746 -0.555645\n",
       "BTC  -0.141572 -1.302500  0.108859\n",
       "ETH  -0.163233 -2.022791  0.280189\n",
       "LTC  -0.160767 -1.118607  0.053944\n",
       "DASH -0.389080  1.218279 -0.442306\n",
       "XMR  -0.164255 -2.236621  0.338915\n",
       "ETC  -0.161680 -2.022893  0.280156\n",
       "ZEC  -0.150463 -2.089331  0.278673"
      ]
     },
     "execution_count": 22,
     "metadata": {},
     "output_type": "execute_result"
    }
   ],
   "source": [
    "# Create a DataFrame with the three principal components.\n",
    "pcas_df = pd.DataFrame(data=X_pca, columns=[\"PC 1\", \"PC 2\", \"PC 3\"], index = cleaned_crypto_df.index)\n",
    "pcas_df.head(10)"
   ]
  },
  {
   "cell_type": "markdown",
   "metadata": {},
   "source": [
    "### Deliverable 3: Clustering Crytocurrencies Using K-Means\n",
    "\n",
    "#### Finding the Best Value for `k` Using the Elbow Curve"
   ]
  },
  {
   "cell_type": "code",
   "execution_count": 24,
   "metadata": {},
   "outputs": [
    {
     "data": {},
     "metadata": {},
     "output_type": "display_data"
    },
    {
     "data": {
      "application/vnd.holoviews_exec.v0+json": "",
      "text/html": [
       "<div id='1002'>\n",
       "  <div class=\"bk-root\" id=\"555c3252-62b5-42ce-a3c4-c3aeff8b0b16\" data-root-id=\"1002\"></div>\n",
       "</div>\n",
       "<script type=\"application/javascript\">(function(root) {\n",
       "  function embed_document(root) {\n",
       "    var docs_json = {\"f59c7f73-cb2c-448f-b30c-2f18df764770\":{\"defs\":[{\"extends\":null,\"module\":null,\"name\":\"ReactiveHTML1\",\"overrides\":[],\"properties\":[]},{\"extends\":null,\"module\":null,\"name\":\"FlexBox1\",\"overrides\":[],\"properties\":[{\"default\":\"flex-start\",\"kind\":null,\"name\":\"align_content\"},{\"default\":\"flex-start\",\"kind\":null,\"name\":\"align_items\"},{\"default\":\"row\",\"kind\":null,\"name\":\"flex_direction\"},{\"default\":\"wrap\",\"kind\":null,\"name\":\"flex_wrap\"},{\"default\":\"flex-start\",\"kind\":null,\"name\":\"justify_content\"}]},{\"extends\":null,\"module\":null,\"name\":\"GridStack1\",\"overrides\":[],\"properties\":[{\"default\":\"warn\",\"kind\":null,\"name\":\"mode\"},{\"default\":null,\"kind\":null,\"name\":\"ncols\"},{\"default\":null,\"kind\":null,\"name\":\"nrows\"},{\"default\":true,\"kind\":null,\"name\":\"allow_resize\"},{\"default\":true,\"kind\":null,\"name\":\"allow_drag\"},{\"default\":[],\"kind\":null,\"name\":\"state\"}]},{\"extends\":null,\"module\":null,\"name\":\"click1\",\"overrides\":[],\"properties\":[{\"default\":\"\",\"kind\":null,\"name\":\"terminal_output\"},{\"default\":\"\",\"kind\":null,\"name\":\"debug_name\"},{\"default\":0,\"kind\":null,\"name\":\"clears\"}]},{\"extends\":null,\"module\":null,\"name\":\"NotificationAreaBase1\",\"overrides\":[],\"properties\":[{\"default\":\"bottom-right\",\"kind\":null,\"name\":\"position\"},{\"default\":0,\"kind\":null,\"name\":\"_clear\"}]},{\"extends\":null,\"module\":null,\"name\":\"NotificationArea1\",\"overrides\":[],\"properties\":[{\"default\":[],\"kind\":null,\"name\":\"notifications\"},{\"default\":\"bottom-right\",\"kind\":null,\"name\":\"position\"},{\"default\":0,\"kind\":null,\"name\":\"_clear\"},{\"default\":[{\"background\":\"#ffc107\",\"icon\":{\"className\":\"fas fa-exclamation-triangle\",\"color\":\"white\",\"tagName\":\"i\"},\"type\":\"warning\"},{\"background\":\"#007bff\",\"icon\":{\"className\":\"fas fa-info-circle\",\"color\":\"white\",\"tagName\":\"i\"},\"type\":\"info\"}],\"kind\":null,\"name\":\"types\"}]},{\"extends\":null,\"module\":null,\"name\":\"Notification\",\"overrides\":[],\"properties\":[{\"default\":null,\"kind\":null,\"name\":\"background\"},{\"default\":3000,\"kind\":null,\"name\":\"duration\"},{\"default\":null,\"kind\":null,\"name\":\"icon\"},{\"default\":\"\",\"kind\":null,\"name\":\"message\"},{\"default\":null,\"kind\":null,\"name\":\"notification_type\"},{\"default\":false,\"kind\":null,\"name\":\"_destroyed\"}]},{\"extends\":null,\"module\":null,\"name\":\"TemplateActions1\",\"overrides\":[],\"properties\":[{\"default\":0,\"kind\":null,\"name\":\"open_modal\"},{\"default\":0,\"kind\":null,\"name\":\"close_modal\"}]},{\"extends\":null,\"module\":null,\"name\":\"MaterialTemplateActions1\",\"overrides\":[],\"properties\":[{\"default\":0,\"kind\":null,\"name\":\"open_modal\"},{\"default\":0,\"kind\":null,\"name\":\"close_modal\"}]}],\"roots\":{\"references\":[{\"attributes\":{\"end\":10.0,\"reset_end\":10.0,\"reset_start\":1.0,\"start\":1.0,\"tags\":[[[\"k\",\"k\",null]]]},\"id\":\"1004\",\"type\":\"Range1d\"},{\"attributes\":{\"axis_label\":\"k\",\"coordinates\":null,\"formatter\":{\"id\":\"1048\"},\"group\":null,\"major_label_policy\":{\"id\":\"1049\"},\"ticker\":{\"id\":\"1046\"}},\"id\":\"1016\",\"type\":\"LinearAxis\"},{\"attributes\":{\"bottom_units\":\"screen\",\"coordinates\":null,\"fill_alpha\":0.5,\"fill_color\":\"lightgrey\",\"group\":null,\"left_units\":\"screen\",\"level\":\"overlay\",\"line_alpha\":1.0,\"line_color\":\"black\",\"line_dash\":[4,4],\"line_width\":2,\"right_units\":\"screen\",\"syncable\":false,\"top_units\":\"screen\"},\"id\":\"1029\",\"type\":\"BoxAnnotation\"},{\"attributes\":{},\"id\":\"1053\",\"type\":\"BasicTickFormatter\"},{\"attributes\":{\"axis\":{\"id\":\"1020\"},\"coordinates\":null,\"dimension\":1,\"grid_line_color\":null,\"group\":null,\"ticker\":null},\"id\":\"1023\",\"type\":\"Grid\"},{\"attributes\":{\"line_alpha\":0.1,\"line_color\":\"#30a2da\",\"line_width\":2,\"x\":{\"field\":\"k\"},\"y\":{\"field\":\"inertia\"}},\"id\":\"1041\",\"type\":\"Line\"},{\"attributes\":{\"line_alpha\":0.2,\"line_color\":\"#30a2da\",\"line_width\":2,\"x\":{\"field\":\"k\"},\"y\":{\"field\":\"inertia\"}},\"id\":\"1042\",\"type\":\"Line\"},{\"attributes\":{},\"id\":\"1038\",\"type\":\"Selection\"},{\"attributes\":{\"end\":3992.573271358775,\"reset_end\":3992.573271358775,\"reset_start\":-241.33662756381523,\"start\":-241.33662756381523,\"tags\":[[[\"inertia\",\"inertia\",null]]]},\"id\":\"1005\",\"type\":\"Range1d\"},{\"attributes\":{\"axis\":{\"id\":\"1016\"},\"coordinates\":null,\"grid_line_color\":null,\"group\":null,\"ticker\":null},\"id\":\"1019\",\"type\":\"Grid\"},{\"attributes\":{\"ticks\":[1,2,3,4,5,6,7,8,9,10]},\"id\":\"1046\",\"type\":\"FixedTicker\"},{\"attributes\":{\"coordinates\":null,\"data_source\":{\"id\":\"1037\"},\"glyph\":{\"id\":\"1040\"},\"group\":null,\"hover_glyph\":null,\"muted_glyph\":{\"id\":\"1042\"},\"nonselection_glyph\":{\"id\":\"1041\"},\"selection_glyph\":{\"id\":\"1045\"},\"view\":{\"id\":\"1044\"}},\"id\":\"1043\",\"type\":\"GlyphRenderer\"},{\"attributes\":{},\"id\":\"1021\",\"type\":\"BasicTicker\"},{\"attributes\":{\"axis_label\":\"inertia\",\"coordinates\":null,\"formatter\":{\"id\":\"1053\"},\"group\":null,\"major_label_policy\":{\"id\":\"1054\"},\"ticker\":{\"id\":\"1021\"}},\"id\":\"1020\",\"type\":\"LinearAxis\"},{\"attributes\":{\"children\":[{\"id\":\"1003\"},{\"id\":\"1007\"},{\"id\":\"1064\"}],\"margin\":[0,0,0,0],\"name\":\"Row00860\",\"tags\":[\"embedded\"]},\"id\":\"1002\",\"type\":\"Row\"},{\"attributes\":{},\"id\":\"1049\",\"type\":\"AllLabels\"},{\"attributes\":{\"source\":{\"id\":\"1037\"}},\"id\":\"1044\",\"type\":\"CDSView\"},{\"attributes\":{\"line_color\":\"#30a2da\",\"line_width\":2,\"x\":{\"field\":\"k\"},\"y\":{\"field\":\"inertia\"}},\"id\":\"1045\",\"type\":\"Line\"},{\"attributes\":{\"margin\":[5,5,5,5],\"name\":\"HSpacer00865\",\"sizing_mode\":\"stretch_width\"},\"id\":\"1064\",\"type\":\"Spacer\"},{\"attributes\":{\"callback\":null,\"renderers\":[{\"id\":\"1043\"}],\"tags\":[\"hv_created\"],\"tooltips\":[[\"k\",\"@{k}\"],[\"inertia\",\"@{inertia}\"]]},\"id\":\"1006\",\"type\":\"HoverTool\"},{\"attributes\":{},\"id\":\"1054\",\"type\":\"AllLabels\"},{\"attributes\":{},\"id\":\"1048\",\"type\":\"BasicTickFormatter\"},{\"attributes\":{},\"id\":\"1024\",\"type\":\"SaveTool\"},{\"attributes\":{\"below\":[{\"id\":\"1016\"}],\"center\":[{\"id\":\"1019\"},{\"id\":\"1023\"}],\"height\":300,\"left\":[{\"id\":\"1020\"}],\"margin\":[5,5,5,5],\"min_border_bottom\":10,\"min_border_left\":10,\"min_border_right\":10,\"min_border_top\":10,\"renderers\":[{\"id\":\"1043\"}],\"sizing_mode\":\"fixed\",\"title\":{\"id\":\"1008\"},\"toolbar\":{\"id\":\"1030\"},\"width\":700,\"x_range\":{\"id\":\"1004\"},\"x_scale\":{\"id\":\"1012\"},\"y_range\":{\"id\":\"1005\"},\"y_scale\":{\"id\":\"1014\"}},\"id\":\"1007\",\"subtype\":\"Figure\",\"type\":\"Plot\"},{\"attributes\":{},\"id\":\"1025\",\"type\":\"PanTool\"},{\"attributes\":{\"data\":{\"inertia\":{\"__ndarray__\":\"JQhNsX5vrEAGRywQdFijQKwc56ERO5dAu5Y93m6JgkCtajH9r0F6QA93D7O0d3FA2hgziBVJa0BFvyLNL3plQKyUs7Vec2FAKwVjAk/fW0A=\",\"dtype\":\"float64\",\"order\":\"little\",\"shape\":[10]},\"k\":[1,2,3,4,5,6,7,8,9,10]},\"selected\":{\"id\":\"1038\"},\"selection_policy\":{\"id\":\"1061\"}},\"id\":\"1037\",\"type\":\"ColumnDataSource\"},{\"attributes\":{},\"id\":\"1026\",\"type\":\"WheelZoomTool\"},{\"attributes\":{\"margin\":[5,5,5,5],\"name\":\"HSpacer00864\",\"sizing_mode\":\"stretch_width\"},\"id\":\"1003\",\"type\":\"Spacer\"},{\"attributes\":{\"tools\":[{\"id\":\"1006\"},{\"id\":\"1024\"},{\"id\":\"1025\"},{\"id\":\"1026\"},{\"id\":\"1027\"},{\"id\":\"1028\"}]},\"id\":\"1030\",\"type\":\"Toolbar\"},{\"attributes\":{\"line_color\":\"#30a2da\",\"line_width\":2,\"x\":{\"field\":\"k\"},\"y\":{\"field\":\"inertia\"}},\"id\":\"1040\",\"type\":\"Line\"},{\"attributes\":{\"overlay\":{\"id\":\"1029\"}},\"id\":\"1027\",\"type\":\"BoxZoomTool\"},{\"attributes\":{},\"id\":\"1061\",\"type\":\"UnionRenderers\"},{\"attributes\":{},\"id\":\"1014\",\"type\":\"LinearScale\"},{\"attributes\":{},\"id\":\"1012\",\"type\":\"LinearScale\"},{\"attributes\":{\"coordinates\":null,\"group\":null,\"text\":\"Elbow Curve\",\"text_color\":\"black\",\"text_font_size\":\"12pt\"},\"id\":\"1008\",\"type\":\"Title\"},{\"attributes\":{},\"id\":\"1028\",\"type\":\"ResetTool\"}],\"root_ids\":[\"1002\"]},\"title\":\"Bokeh Application\",\"version\":\"2.4.3\"}};\n",
       "    var render_items = [{\"docid\":\"f59c7f73-cb2c-448f-b30c-2f18df764770\",\"root_ids\":[\"1002\"],\"roots\":{\"1002\":\"555c3252-62b5-42ce-a3c4-c3aeff8b0b16\"}}];\n",
       "    root.Bokeh.embed.embed_items_notebook(docs_json, render_items);\n",
       "  }\n",
       "  if (root.Bokeh !== undefined && root.Bokeh.Panel !== undefined) {\n",
       "    embed_document(root);\n",
       "  } else {\n",
       "    var attempts = 0;\n",
       "    var timer = setInterval(function(root) {\n",
       "      if (root.Bokeh !== undefined && root.Bokeh.Panel !== undefined) {\n",
       "        clearInterval(timer);\n",
       "        embed_document(root);\n",
       "      } else if (document.readyState == \"complete\") {\n",
       "        attempts++;\n",
       "        if (attempts > 200) {\n",
       "          clearInterval(timer);\n",
       "          console.log(\"Bokeh: ERROR: Unable to run BokehJS code because BokehJS library is missing\");\n",
       "        }\n",
       "      }\n",
       "    }, 25, root)\n",
       "  }\n",
       "})(window);</script>"
      ],
      "text/plain": [
       ":Curve   [k]   (inertia)"
      ]
     },
     "execution_count": 24,
     "metadata": {
      "application/vnd.holoviews_exec.v0+json": {
       "id": "1002"
      }
     },
     "output_type": "execute_result"
    }
   ],
   "source": [
    "# Create an elbow curve to find the best value for K.\n",
    "inertia = []\n",
    "k = list(range(1, 11))\n",
    "for i in k:\n",
    "    km = KMeans(n_clusters=i, random_state=0)\n",
    "    km.fit(pcas_df)\n",
    "    inertia.append(km.inertia_)\n",
    "\n",
    "elbow_data = {\"k\": k, \"inertia\": inertia}\n",
    "elbow_df = pd.DataFrame(elbow_data)\n",
    "elbow_df.hvplot.line(x=\"k\", y=\"inertia\", title=\"Elbow Curve\", xticks=k)"
   ]
  },
  {
   "cell_type": "markdown",
   "metadata": {},
   "source": [
    "Running K-Means with `k=4`"
   ]
  },
  {
   "cell_type": "code",
   "execution_count": 25,
   "metadata": {},
   "outputs": [
    {
     "data": {
      "text/plain": [
       "array([0, 0, 0, 3, 3, 3, 0, 3, 3, 3, 0, 3, 0, 0, 3, 0, 3, 3, 0, 0, 3, 3,\n",
       "       3, 3, 3, 0, 3, 3, 3, 0, 3, 0, 3, 3, 0, 0, 3, 3, 3, 3, 3, 3, 0, 0,\n",
       "       3, 3, 3, 3, 3, 0, 0, 3, 0, 3, 3, 3, 3, 0, 3, 3, 0, 3, 0, 0, 0, 3,\n",
       "       3, 3, 0, 0, 0, 0, 0, 3, 3, 3, 0, 0, 3, 0, 3, 0, 0, 3, 3, 3, 3, 0,\n",
       "       0, 3, 0, 3, 3, 0, 0, 3, 0, 0, 3, 3, 0, 0, 3, 0, 0, 3, 0, 3, 0, 3,\n",
       "       0, 3, 0, 0, 3, 3, 0, 3, 3, 3, 0, 3, 3, 3, 3, 3, 0, 0, 3, 3, 3, 0,\n",
       "       3, 0, 3, 3, 0, 3, 0, 3, 0, 0, 3, 3, 0, 3, 3, 0, 0, 3, 0, 3, 0, 0,\n",
       "       0, 3, 3, 3, 3, 0, 0, 0, 0, 0, 3, 3, 0, 0, 0, 0, 0, 3, 0, 0, 0, 0,\n",
       "       0, 3, 0, 3, 0, 0, 3, 0, 3, 0, 0, 3, 0, 3, 0, 3, 0, 3, 0, 0, 0, 0,\n",
       "       3, 0, 0, 0, 0, 0, 3, 3, 0, 0, 3, 3, 0, 0, 0, 0, 0, 3, 0, 0, 0, 0,\n",
       "       0, 0, 0, 0, 3, 0, 0, 0, 0, 0, 0, 3, 3, 3, 0, 0, 0, 0, 3, 0, 3, 0,\n",
       "       0, 3, 0, 3, 3, 0, 3, 3, 0, 3, 0, 0, 0, 3, 0, 0, 3, 0, 0, 0, 0, 0,\n",
       "       0, 0, 3, 0, 3, 0, 0, 0, 0, 3, 0, 3, 0, 3, 3, 3, 3, 0, 3, 0, 0, 3,\n",
       "       0, 3, 3, 3, 0, 3, 0, 3, 3, 3, 0, 3, 0, 3, 0, 0, 1, 3, 0, 3, 3, 3,\n",
       "       3, 3, 0, 0, 3, 0, 0, 0, 3, 0, 3, 0, 3, 0, 3, 0, 0, 0, 0, 3, 0, 0,\n",
       "       3, 0, 0, 0, 3, 3, 3, 3, 0, 0, 0, 0, 3, 0, 3, 3, 3, 0, 0, 3, 3, 0,\n",
       "       0, 3, 0, 3, 3, 3, 0, 3, 3, 0, 0, 0, 3, 3, 3, 0, 0, 0, 3, 3, 0, 3,\n",
       "       3, 3, 3, 0, 0, 1, 3, 3, 3, 0, 1, 0, 0, 0, 0, 3, 3, 3, 3, 0, 0, 0,\n",
       "       3, 0, 3, 0, 0, 0, 0, 3, 0, 0, 3, 0, 0, 3, 3, 0, 3, 0, 3, 3, 3, 3,\n",
       "       0, 0, 3, 0, 3, 0, 0, 0, 0, 0, 0, 3, 3, 3, 0, 0, 0, 0, 0, 0, 3, 0,\n",
       "       3, 3, 3, 3, 0, 0, 0, 0, 3, 0, 0, 3, 0, 0, 3, 1, 3, 0, 3, 3, 0, 0,\n",
       "       3, 0, 3, 3, 0, 3, 3, 0, 3, 0, 3, 0, 0, 3, 0, 0, 0, 0, 0, 3, 3, 3,\n",
       "       0, 0, 0, 3, 0, 3, 0, 3, 0, 0, 0, 0, 3, 0, 0, 0, 3, 0, 3, 0, 3, 0,\n",
       "       0, 0, 3, 3, 0, 0, 0, 0, 0, 0, 3, 0, 3, 0, 3, 0, 0, 0, 0, 2, 0, 0,\n",
       "       0, 3, 3, 0], dtype=int32)"
      ]
     },
     "execution_count": 25,
     "metadata": {},
     "output_type": "execute_result"
    }
   ],
   "source": [
    "# Initialize the K-Means model.\n",
    "model = KMeans(n_clusters=4, random_state=0)\n",
    "\n",
    "# Fit the model\n",
    "model.fit(pcas_df)\n",
    "\n",
    "# Predict clusters\n",
    "predictions = model.predict(pcas_df)\n",
    "predictions"
   ]
  },
  {
   "cell_type": "code",
   "execution_count": 26,
   "metadata": {},
   "outputs": [
    {
     "name": "stdout",
     "output_type": "stream",
     "text": [
      "(532, 9)\n"
     ]
    },
    {
     "data": {
      "text/html": [
       "<div>\n",
       "<style scoped>\n",
       "    .dataframe tbody tr th:only-of-type {\n",
       "        vertical-align: middle;\n",
       "    }\n",
       "\n",
       "    .dataframe tbody tr th {\n",
       "        vertical-align: top;\n",
       "    }\n",
       "\n",
       "    .dataframe thead th {\n",
       "        text-align: right;\n",
       "    }\n",
       "</style>\n",
       "<table border=\"1\" class=\"dataframe\">\n",
       "  <thead>\n",
       "    <tr style=\"text-align: right;\">\n",
       "      <th></th>\n",
       "      <th>Algorithm</th>\n",
       "      <th>ProofType</th>\n",
       "      <th>TotalCoinsMined</th>\n",
       "      <th>TotalCoinSupply</th>\n",
       "      <th>PC 1</th>\n",
       "      <th>PC 2</th>\n",
       "      <th>PC 3</th>\n",
       "      <th>CoinName</th>\n",
       "      <th>Class</th>\n",
       "    </tr>\n",
       "    <tr>\n",
       "      <th></th>\n",
       "      <th></th>\n",
       "      <th></th>\n",
       "      <th></th>\n",
       "      <th></th>\n",
       "      <th></th>\n",
       "      <th></th>\n",
       "      <th></th>\n",
       "      <th></th>\n",
       "      <th></th>\n",
       "    </tr>\n",
       "  </thead>\n",
       "  <tbody>\n",
       "    <tr>\n",
       "      <th>42</th>\n",
       "      <td>Scrypt</td>\n",
       "      <td>PoW/PoS</td>\n",
       "      <td>4.199995e+01</td>\n",
       "      <td>42</td>\n",
       "      <td>-0.324204</td>\n",
       "      <td>1.034731</td>\n",
       "      <td>-0.369866</td>\n",
       "      <td>42 Coin</td>\n",
       "      <td>0</td>\n",
       "    </tr>\n",
       "    <tr>\n",
       "      <th>404</th>\n",
       "      <td>Scrypt</td>\n",
       "      <td>PoW/PoS</td>\n",
       "      <td>1.055185e+09</td>\n",
       "      <td>532000000</td>\n",
       "      <td>-0.307587</td>\n",
       "      <td>1.034872</td>\n",
       "      <td>-0.370476</td>\n",
       "      <td>404Coin</td>\n",
       "      <td>0</td>\n",
       "    </tr>\n",
       "    <tr>\n",
       "      <th>1337</th>\n",
       "      <td>X13</td>\n",
       "      <td>PoW/PoS</td>\n",
       "      <td>2.927942e+10</td>\n",
       "      <td>314159265359</td>\n",
       "      <td>2.299951</td>\n",
       "      <td>1.655746</td>\n",
       "      <td>-0.555645</td>\n",
       "      <td>EliteCoin</td>\n",
       "      <td>0</td>\n",
       "    </tr>\n",
       "    <tr>\n",
       "      <th>BTC</th>\n",
       "      <td>SHA-256</td>\n",
       "      <td>PoW</td>\n",
       "      <td>1.792718e+07</td>\n",
       "      <td>21000000</td>\n",
       "      <td>-0.141572</td>\n",
       "      <td>-1.302500</td>\n",
       "      <td>0.108859</td>\n",
       "      <td>Bitcoin</td>\n",
       "      <td>3</td>\n",
       "    </tr>\n",
       "    <tr>\n",
       "      <th>ETH</th>\n",
       "      <td>Ethash</td>\n",
       "      <td>PoW</td>\n",
       "      <td>1.076842e+08</td>\n",
       "      <td>0</td>\n",
       "      <td>-0.163233</td>\n",
       "      <td>-2.022791</td>\n",
       "      <td>0.280189</td>\n",
       "      <td>Ethereum</td>\n",
       "      <td>3</td>\n",
       "    </tr>\n",
       "    <tr>\n",
       "      <th>LTC</th>\n",
       "      <td>Scrypt</td>\n",
       "      <td>PoW</td>\n",
       "      <td>6.303924e+07</td>\n",
       "      <td>84000000</td>\n",
       "      <td>-0.160767</td>\n",
       "      <td>-1.118607</td>\n",
       "      <td>0.053944</td>\n",
       "      <td>Litecoin</td>\n",
       "      <td>3</td>\n",
       "    </tr>\n",
       "    <tr>\n",
       "      <th>DASH</th>\n",
       "      <td>X11</td>\n",
       "      <td>PoW/PoS</td>\n",
       "      <td>9.031294e+06</td>\n",
       "      <td>22000000</td>\n",
       "      <td>-0.389080</td>\n",
       "      <td>1.218279</td>\n",
       "      <td>-0.442306</td>\n",
       "      <td>Dash</td>\n",
       "      <td>0</td>\n",
       "    </tr>\n",
       "    <tr>\n",
       "      <th>XMR</th>\n",
       "      <td>CryptoNight-V7</td>\n",
       "      <td>PoW</td>\n",
       "      <td>1.720114e+07</td>\n",
       "      <td>0</td>\n",
       "      <td>-0.164255</td>\n",
       "      <td>-2.236621</td>\n",
       "      <td>0.338915</td>\n",
       "      <td>Monero</td>\n",
       "      <td>3</td>\n",
       "    </tr>\n",
       "    <tr>\n",
       "      <th>ETC</th>\n",
       "      <td>Ethash</td>\n",
       "      <td>PoW</td>\n",
       "      <td>1.133597e+08</td>\n",
       "      <td>210000000</td>\n",
       "      <td>-0.161680</td>\n",
       "      <td>-2.022893</td>\n",
       "      <td>0.280156</td>\n",
       "      <td>Ethereum Classic</td>\n",
       "      <td>3</td>\n",
       "    </tr>\n",
       "    <tr>\n",
       "      <th>ZEC</th>\n",
       "      <td>Equihash</td>\n",
       "      <td>PoW</td>\n",
       "      <td>7.383056e+06</td>\n",
       "      <td>21000000</td>\n",
       "      <td>-0.150463</td>\n",
       "      <td>-2.089331</td>\n",
       "      <td>0.278673</td>\n",
       "      <td>ZCash</td>\n",
       "      <td>3</td>\n",
       "    </tr>\n",
       "  </tbody>\n",
       "</table>\n",
       "</div>"
      ],
      "text/plain": [
       "           Algorithm ProofType  TotalCoinsMined TotalCoinSupply      PC 1  \\\n",
       "                                                                            \n",
       "42            Scrypt   PoW/PoS     4.199995e+01              42 -0.324204   \n",
       "404           Scrypt   PoW/PoS     1.055185e+09       532000000 -0.307587   \n",
       "1337             X13   PoW/PoS     2.927942e+10    314159265359  2.299951   \n",
       "BTC          SHA-256       PoW     1.792718e+07        21000000 -0.141572   \n",
       "ETH           Ethash       PoW     1.076842e+08               0 -0.163233   \n",
       "LTC           Scrypt       PoW     6.303924e+07        84000000 -0.160767   \n",
       "DASH             X11   PoW/PoS     9.031294e+06        22000000 -0.389080   \n",
       "XMR   CryptoNight-V7       PoW     1.720114e+07               0 -0.164255   \n",
       "ETC           Ethash       PoW     1.133597e+08       210000000 -0.161680   \n",
       "ZEC         Equihash       PoW     7.383056e+06        21000000 -0.150463   \n",
       "\n",
       "          PC 2      PC 3          CoinName  Class  \n",
       "                                                   \n",
       "42    1.034731 -0.369866           42 Coin      0  \n",
       "404   1.034872 -0.370476           404Coin      0  \n",
       "1337  1.655746 -0.555645         EliteCoin      0  \n",
       "BTC  -1.302500  0.108859           Bitcoin      3  \n",
       "ETH  -2.022791  0.280189          Ethereum      3  \n",
       "LTC  -1.118607  0.053944          Litecoin      3  \n",
       "DASH  1.218279 -0.442306              Dash      0  \n",
       "XMR  -2.236621  0.338915            Monero      3  \n",
       "ETC  -2.022893  0.280156  Ethereum Classic      3  \n",
       "ZEC  -2.089331  0.278673             ZCash      3  "
      ]
     },
     "execution_count": 26,
     "metadata": {},
     "output_type": "execute_result"
    }
   ],
   "source": [
    "# Create a new DataFrame including predicted clusters and cryptocurrencies features.\n",
    "# Concatentate the crypto_df and pcs_df DataFrames on the same columns.\n",
    "clustered_df = pd.concat([cleaned_crypto_df, pcas_df], axis=1)\n",
    "\n",
    "#  Add a new column, \"CoinName\" to the clustered_df DataFrame that holds the names of the cryptocurrencies. \n",
    "clustered_df['CoinName'] = crypto_names_df\n",
    "\n",
    "#  Add a new column, \"Class\" to the clustered_df DataFrame that holds the predictions.\n",
    "clustered_df['Class'] = predictions\n",
    "\n",
    "# Print the shape of the clustered_df\n",
    "print(clustered_df.shape)\n",
    "clustered_df.head(10)"
   ]
  },
  {
   "cell_type": "markdown",
   "metadata": {},
   "source": [
    "### Deliverable 4: Visualizing Cryptocurrencies Results\n",
    "\n",
    "#### 3D-Scatter with Clusters"
   ]
  },
  {
   "cell_type": "code",
   "execution_count": 27,
   "metadata": {},
   "outputs": [
    {
     "data": {
      "application/vnd.plotly.v1+json": {
       "config": {
        "plotlyServerURL": "https://plot.ly"
       },
       "data": [
        {
         "customdata": [
          [
           "Scrypt"
          ],
          [
           "Scrypt"
          ],
          [
           "X13"
          ],
          [
           "X11"
          ],
          [
           "SHA-512"
          ],
          [
           "SHA-256"
          ],
          [
           "SHA-256"
          ],
          [
           "X15"
          ],
          [
           "Scrypt"
          ],
          [
           "Scrypt"
          ],
          [
           "Scrypt"
          ],
          [
           "Scrypt"
          ],
          [
           "Scrypt"
          ],
          [
           "Scrypt"
          ],
          [
           "Groestl"
          ],
          [
           "PoS"
          ],
          [
           "Scrypt"
          ],
          [
           "Scrypt"
          ],
          [
           "X11"
          ],
          [
           "X11"
          ],
          [
           "SHA3"
          ],
          [
           "Scrypt"
          ],
          [
           "SHA-256"
          ],
          [
           "Scrypt"
          ],
          [
           "X13"
          ],
          [
           "X13"
          ],
          [
           "NeoScrypt"
          ],
          [
           "Scrypt"
          ],
          [
           "Scrypt"
          ],
          [
           "Scrypt"
          ],
          [
           "X11"
          ],
          [
           "X11"
          ],
          [
           "Multiple"
          ],
          [
           "PHI1612"
          ],
          [
           "X11"
          ],
          [
           "Scrypt"
          ],
          [
           "Scrypt"
          ],
          [
           "Scrypt"
          ],
          [
           "X11"
          ],
          [
           "Multiple"
          ],
          [
           "X13"
          ],
          [
           "Scrypt"
          ],
          [
           "Shabal256"
          ],
          [
           "Counterparty"
          ],
          [
           "SHA-256"
          ],
          [
           "Groestl"
          ],
          [
           "Scrypt"
          ],
          [
           "X13"
          ],
          [
           "Scrypt"
          ],
          [
           "Scrypt"
          ],
          [
           "X13"
          ],
          [
           "X11"
          ],
          [
           "Scrypt"
          ],
          [
           "X11"
          ],
          [
           "SHA3"
          ],
          [
           "QUAIT"
          ],
          [
           "X11"
          ],
          [
           "Scrypt"
          ],
          [
           "X13"
          ],
          [
           "SHA-256"
          ],
          [
           "X15"
          ],
          [
           "BLAKE256"
          ],
          [
           "SHA-256"
          ],
          [
           "X11"
          ],
          [
           "SHA-256"
          ],
          [
           "NIST5"
          ],
          [
           "Scrypt"
          ],
          [
           "Scrypt"
          ],
          [
           "X11"
          ],
          [
           "Scrypt"
          ],
          [
           "SHA-256"
          ],
          [
           "Scrypt"
          ],
          [
           "PoS"
          ],
          [
           "X11"
          ],
          [
           "SHA-256"
          ],
          [
           "SHA-256"
          ],
          [
           "NIST5"
          ],
          [
           "X11"
          ],
          [
           "POS 3.0"
          ],
          [
           "Scrypt"
          ],
          [
           "Scrypt"
          ],
          [
           "Scrypt"
          ],
          [
           "X13"
          ],
          [
           "X11"
          ],
          [
           "X11"
          ],
          [
           "Scrypt"
          ],
          [
           "SHA-256"
          ],
          [
           "X11"
          ],
          [
           "Scrypt"
          ],
          [
           "Scrypt"
          ],
          [
           "Scrypt"
          ],
          [
           "Scrypt"
          ],
          [
           "SHA-256D"
          ],
          [
           "PoS"
          ],
          [
           "Scrypt"
          ],
          [
           "X11"
          ],
          [
           "PoS"
          ],
          [
           "X13"
          ],
          [
           "X14"
          ],
          [
           "PoS"
          ],
          [
           "SHA-256D"
          ],
          [
           "DPoS"
          ],
          [
           "X11"
          ],
          [
           "X13"
          ],
          [
           "X11"
          ],
          [
           "PoS"
          ],
          [
           "Scrypt"
          ],
          [
           "Scrypt"
          ],
          [
           "PoS"
          ],
          [
           "X11"
          ],
          [
           "SHA-256"
          ],
          [
           "Scrypt"
          ],
          [
           "X11"
          ],
          [
           "Scrypt"
          ],
          [
           "Scrypt"
          ],
          [
           "X11"
          ],
          [
           "Scrypt"
          ],
          [
           "Scrypt"
          ],
          [
           "Scrypt"
          ],
          [
           "Scrypt"
          ],
          [
           "Quark"
          ],
          [
           "QuBit"
          ],
          [
           "Scrypt"
          ],
          [
           "SHA-256"
          ],
          [
           "X11"
          ],
          [
           "Scrypt"
          ],
          [
           "Scrypt"
          ],
          [
           "Scrypt"
          ],
          [
           "Scrypt"
          ],
          [
           "X13"
          ],
          [
           "Scrypt"
          ],
          [
           "Scrypt"
          ],
          [
           "X11"
          ],
          [
           "Blake2S"
          ],
          [
           "X11"
          ],
          [
           "PoS"
          ],
          [
           "X11"
          ],
          [
           "PoS"
          ],
          [
           "X11"
          ],
          [
           "Scrypt"
          ],
          [
           "Scrypt"
          ],
          [
           "Scrypt"
          ],
          [
           "SHA-256"
          ],
          [
           "X11"
          ],
          [
           "Scrypt"
          ],
          [
           "PoS"
          ],
          [
           "Scrypt"
          ],
          [
           "X15"
          ],
          [
           "SHA-256"
          ],
          [
           "POS 3.0"
          ],
          [
           "536"
          ],
          [
           "NIST5"
          ],
          [
           "NIST5"
          ],
          [
           "Skein"
          ],
          [
           "X13"
          ],
          [
           "Scrypt"
          ],
          [
           "X13"
          ],
          [
           "SkunkHash v2 Raptor"
          ],
          [
           "Skein"
          ],
          [
           "X11"
          ],
          [
           "Scrypt"
          ],
          [
           "PoS"
          ],
          [
           "Scrypt"
          ],
          [
           "Scrypt"
          ],
          [
           "SHA-512"
          ],
          [
           "Ouroboros"
          ],
          [
           "X11"
          ],
          [
           "NeoScrypt"
          ],
          [
           "Scrypt"
          ],
          [
           "Lyra2REv2"
          ],
          [
           "Scrypt"
          ],
          [
           "SHA-256"
          ],
          [
           "NIST5"
          ],
          [
           "PHI1612"
          ],
          [
           "Scrypt"
          ],
          [
           "Quark"
          ],
          [
           "POS 2.0"
          ],
          [
           "Scrypt"
          ],
          [
           "SHA-256"
          ],
          [
           "X11"
          ],
          [
           "DPoS"
          ],
          [
           "NIST5"
          ],
          [
           "X13"
          ],
          [
           "Scrypt"
          ],
          [
           "NIST5"
          ],
          [
           "Quark"
          ],
          [
           "Scrypt"
          ],
          [
           "Scrypt"
          ],
          [
           "X11"
          ],
          [
           "Quark"
          ],
          [
           "Scrypt"
          ],
          [
           "Scrypt"
          ],
          [
           "X11"
          ],
          [
           "POS 3.0"
          ],
          [
           "Ethash"
          ],
          [
           "Scrypt"
          ],
          [
           "Scrypt"
          ],
          [
           "X13"
          ],
          [
           "Proof-of-BibleHash"
          ],
          [
           "C11"
          ],
          [
           "X11"
          ],
          [
           "XEVAN"
          ],
          [
           "Scrypt"
          ],
          [
           "VBFT"
          ],
          [
           "NIST5"
          ],
          [
           "Scrypt"
          ],
          [
           "Scrypt"
          ],
          [
           "Scrypt"
          ],
          [
           "Green Protocol"
          ],
          [
           "PoS"
          ],
          [
           "Scrypt"
          ],
          [
           "Semux BFT consensus"
          ],
          [
           "Quark"
          ],
          [
           "PoS"
          ],
          [
           "X16R"
          ],
          [
           "Scrypt"
          ],
          [
           "XEVAN"
          ],
          [
           "Scrypt"
          ],
          [
           "Scrypt"
          ],
          [
           "Scrypt"
          ],
          [
           "SHA-256D"
          ],
          [
           "Scrypt"
          ],
          [
           "X15"
          ],
          [
           "Scrypt"
          ],
          [
           "Quark"
          ],
          [
           "SHA-256"
          ],
          [
           "DPoS"
          ],
          [
           "X16R"
          ],
          [
           "Quark"
          ],
          [
           "Quark"
          ],
          [
           "Scrypt"
          ],
          [
           "Lyra2REv2"
          ],
          [
           "Quark"
          ],
          [
           "Scrypt"
          ],
          [
           "X11"
          ],
          [
           "X11"
          ],
          [
           "Scrypt"
          ],
          [
           "PoS"
          ],
          [
           "Keccak"
          ],
          [
           "X11"
          ],
          [
           "Scrypt"
          ],
          [
           "SHA-512"
          ],
          [
           "XEVAN"
          ],
          [
           "XEVAN"
          ],
          [
           "X11"
          ],
          [
           "Quark"
          ],
          [
           "Equihash"
          ],
          [
           "Scrypt"
          ],
          [
           "Quark"
          ],
          [
           "Quark"
          ],
          [
           "Scrypt"
          ],
          [
           "X11"
          ],
          [
           "Scrypt"
          ],
          [
           "XEVAN"
          ],
          [
           "SHA-256D"
          ],
          [
           "X11"
          ],
          [
           "X11"
          ],
          [
           "DPoS"
          ],
          [
           "Scrypt"
          ],
          [
           "X11"
          ],
          [
           "Scrypt"
          ],
          [
           "Scrypt"
          ],
          [
           "SHA-256"
          ],
          [
           "Scrypt"
          ],
          [
           "X11"
          ],
          [
           "Scrypt"
          ],
          [
           "SHA-256"
          ],
          [
           "X11"
          ],
          [
           "Scrypt"
          ],
          [
           "Scrypt"
          ],
          [
           "X11"
          ],
          [
           "Scrypt"
          ],
          [
           "PoS"
          ],
          [
           "X11"
          ],
          [
           "SHA-256"
          ],
          [
           "DPoS"
          ],
          [
           "Scrypt"
          ],
          [
           "Scrypt"
          ],
          [
           "NeoScrypt"
          ],
          [
           "X13"
          ],
          [
           "DPoS"
          ],
          [
           "DPoS"
          ],
          [
           "SHA-256"
          ],
          [
           "Leased POS"
          ],
          [
           "PoS"
          ],
          [
           "PoS"
          ],
          [
           "SHA-256"
          ],
          [
           "Scrypt"
          ],
          [
           "Scrypt"
          ]
         ],
         "hovertemplate": "<b>%{hovertext}</b><br><br>Class=%{marker.color}<br>PC 1=%{x}<br>PC 2=%{y}<br>PC 3=%{z}<br>Algorithm=%{customdata[0]}<extra></extra>",
         "hovertext": [
          "42 Coin",
          "404Coin",
          "EliteCoin",
          "Dash",
          "Bitshares",
          "BitcoinDark",
          "PayCoin",
          "KoboCoin",
          "Aurora Coin",
          "BlueCoin",
          "EnergyCoin",
          "BitBar",
          "CryptoBullion",
          "CasinoCoin",
          "Diamond",
          "Exclusive Coin",
          "FlutterCoin",
          "HoboNickels",
          "HyperStake",
          "IOCoin",
          "MaxCoin",
          "MintCoin",
          "MazaCoin",
          "Nautilus Coin",
          "NavCoin",
          "OpalCoin",
          "Orbitcoin",
          "PotCoin",
          "PhoenixCoin",
          "Reddcoin",
          "SuperCoin",
          "SyncCoin",
          "TeslaCoin",
          "TittieCoin",
          "TorCoin",
          "UnitaryStatus Dollar",
          "UltraCoin",
          "VeriCoin",
          "X11 Coin",
          "Crypti",
          "StealthCoin",
          "ZCC Coin",
          "BurstCoin",
          "StorjCoin",
          "Neutron",
          "FairCoin",
          "RubyCoin",
          "Kore",
          "Dnotes",
          "8BIT Coin",
          "Sativa Coin",
          "Ucoin",
          "Vtorrent",
          "IslaCoin",
          "Nexus",
          "Droidz",
          "Squall Coin",
          "Diggits",
          "Paycon",
          "Emercoin",
          "EverGreenCoin",
          "Decred",
          "EDRCoin",
          "Hitcoin",
          "DubaiCoin",
          "PWR Coin",
          "BillaryCoin",
          "GPU Coin",
          "EuropeCoin",
          "ZeitCoin",
          "SwingCoin",
          "SafeExchangeCoin",
          "Nebuchadnezzar",
          "Ratecoin",
          "Revenu",
          "Clockcoin",
          "VIP Tokens",
          "BitSend",
          "Let it Ride",
          "PutinCoin",
          "iBankCoin",
          "Frankywillcoin",
          "MudraCoin",
          "Lutetium Coin",
          "GoldBlocks",
          "CarterCoin",
          "BitTokens",
          "MustangCoin",
          "ZoneCoin",
          "RootCoin",
          "BitCurrency",
          "Swiscoin",
          "BuzzCoin",
          "Opair",
          "PesoBit",
          "Halloween Coin",
          "CoffeeCoin",
          "RoyalCoin",
          "GanjaCoin V2",
          "TeamUP",
          "LanaCoin",
          "ARK",
          "InsaneCoin",
          "EmberCoin",
          "XenixCoin",
          "FreeCoin",
          "PLNCoin",
          "AquariusCoin",
          "Creatio",
          "Eternity",
          "Eurocoin",
          "BitcoinFast",
          "Stakenet",
          "BitConnect Coin",
          "MoneyCoin",
          "Enigma",
          "Russiacoin",
          "PandaCoin",
          "GameUnits",
          "GAKHcoin",
          "Allsafe",
          "LiteCreed",
          "Klingon Empire Darsek",
          "Internet of People",
          "KushCoin",
          "Printerium",
          "Impeach",
          "Zilbercoin",
          "FirstCoin",
          "FindCoin",
          "OpenChat",
          "RenosCoin",
          "VirtacoinPlus",
          "TajCoin",
          "Impact",
          "Atmos",
          "HappyCoin",
          "MacronCoin",
          "Condensate",
          "Independent Money System",
          "ArgusCoin",
          "LomoCoin",
          "ProCurrency",
          "GoldReserve",
          "GrowthCoin",
          "Phreak",
          "Degas Coin",
          "HTML5 Coin",
          "Ultimate Secure Cash",
          "QTUM",
          "Espers",
          "Denarius",
          "Virta Unique Coin",
          "Bitcoin Planet",
          "BritCoin",
          "Linda",
          "DeepOnion",
          "Signatum",
          "Cream",
          "Monoeci",
          "Draftcoin",
          "Stakecoin",
          "CoinonatX",
          "Ethereum Dark",
          "Obsidian",
          "Cardano",
          "Regalcoin",
          "TrezarCoin",
          "TerraNovaCoin",
          "Rupee",
          "WomenCoin",
          "Theresa May Coin",
          "NamoCoin",
          "LUXCoin",
          "Xios",
          "Bitcloud 2.0",
          "KekCoin",
          "BlackholeCoin",
          "Infinity Economics",
          "Magnet",
          "Lamden Tau",
          "Electra",
          "Bitcoin Diamond",
          "Cash & Back Coin",
          "Bulwark",
          "Kalkulus",
          "GermanCoin",
          "LiteCoin Ultra",
          "PhantomX",
          "Digiwage",
          "Trollcoin",
          "Litecoin Plus",
          "Monkey Project",
          "TokenPay",
          "1717 Masonic Commemorative Token",
          "My Big Coin",
          "Unified Society USDEX",
          "Tokyo Coin",
          "BiblePay",
          "Stipend",
          "Pushi",
          "Ellerium",
          "Velox",
          "Ontology",
          "Bitspace",
          "Briacoin",
          "Ignition",
          "MedicCoin",
          "Bitcoin Green",
          "Deviant Coin",
          "Abjcoin",
          "Semux",
          "Carebit",
          "Zealium",
          "Proton",
          "iDealCash",
          "Bitcoin Incognito",
          "HollyWoodCoin",
          "Swisscoin",
          "Xt3ch",
          "TheVig",
          "EmaratCoin",
          "Dekado",
          "Lynx",
          "Poseidon Quark",
          "BitcoinWSpectrum",
          "Muse",
          "Trivechain",
          "Dystem",
          "Giant",
          "Peony Coin",
          "Absolute Coin",
          "Vitae",
          "TPCash",
          "ARENON",
          "EUNO",
          "MMOCoin",
          "Ketan",
          "XDNA",
          "PAXEX",
          "ThunderStake",
          "Kcash",
          "Bettex coin",
          "BitMoney",
          "Junson Ming Chan Coin",
          "HerbCoin",
          "PirateCash",
          "Oduwa",
          "Galilel",
          "Crypto Sports",
          "Credit",
          "Dash Platinum",
          "Nasdacoin",
          "Beetle Coin",
          "Titan Coin",
          "Award",
          "Insane Coin",
          "ALAX",
          "LiteDoge",
          "TruckCoin",
          "OrangeCoin",
          "BitstarCoin",
          "NeosCoin",
          "HyperCoin",
          "PinkCoin",
          "AudioCoin",
          "IncaKoin",
          "Piggy Coin",
          "Genstake",
          "XiaoMiCoin",
          "CapriCoin",
          " ClubCoin",
          "Radium",
          "Creditbit ",
          "OKCash",
          "Lisk",
          "HiCoin",
          "WhiteCoin",
          "FriendshipCoin",
          "Triangles Coin",
          "EOS",
          "Oxycoin",
          "TigerCash",
          "Waves",
          "Particl",
          "Nxt",
          "ZEPHYR",
          "Gapcoin",
          "BitcoinPlus"
         ],
         "legendgroup": "0",
         "marker": {
          "color": [
           0,
           0,
           0,
           0,
           0,
           0,
           0,
           0,
           0,
           0,
           0,
           0,
           0,
           0,
           0,
           0,
           0,
           0,
           0,
           0,
           0,
           0,
           0,
           0,
           0,
           0,
           0,
           0,
           0,
           0,
           0,
           0,
           0,
           0,
           0,
           0,
           0,
           0,
           0,
           0,
           0,
           0,
           0,
           0,
           0,
           0,
           0,
           0,
           0,
           0,
           0,
           0,
           0,
           0,
           0,
           0,
           0,
           0,
           0,
           0,
           0,
           0,
           0,
           0,
           0,
           0,
           0,
           0,
           0,
           0,
           0,
           0,
           0,
           0,
           0,
           0,
           0,
           0,
           0,
           0,
           0,
           0,
           0,
           0,
           0,
           0,
           0,
           0,
           0,
           0,
           0,
           0,
           0,
           0,
           0,
           0,
           0,
           0,
           0,
           0,
           0,
           0,
           0,
           0,
           0,
           0,
           0,
           0,
           0,
           0,
           0,
           0,
           0,
           0,
           0,
           0,
           0,
           0,
           0,
           0,
           0,
           0,
           0,
           0,
           0,
           0,
           0,
           0,
           0,
           0,
           0,
           0,
           0,
           0,
           0,
           0,
           0,
           0,
           0,
           0,
           0,
           0,
           0,
           0,
           0,
           0,
           0,
           0,
           0,
           0,
           0,
           0,
           0,
           0,
           0,
           0,
           0,
           0,
           0,
           0,
           0,
           0,
           0,
           0,
           0,
           0,
           0,
           0,
           0,
           0,
           0,
           0,
           0,
           0,
           0,
           0,
           0,
           0,
           0,
           0,
           0,
           0,
           0,
           0,
           0,
           0,
           0,
           0,
           0,
           0,
           0,
           0,
           0,
           0,
           0,
           0,
           0,
           0,
           0,
           0,
           0,
           0,
           0,
           0,
           0,
           0,
           0,
           0,
           0,
           0,
           0,
           0,
           0,
           0,
           0,
           0,
           0,
           0,
           0,
           0,
           0,
           0,
           0,
           0,
           0,
           0,
           0,
           0,
           0,
           0,
           0,
           0,
           0,
           0,
           0,
           0,
           0,
           0,
           0,
           0,
           0,
           0,
           0,
           0,
           0,
           0,
           0,
           0,
           0,
           0,
           0,
           0,
           0,
           0,
           0,
           0,
           0,
           0,
           0,
           0,
           0,
           0,
           0,
           0,
           0,
           0,
           0,
           0,
           0,
           0,
           0,
           0,
           0,
           0,
           0,
           0,
           0,
           0,
           0,
           0,
           0,
           0,
           0,
           0,
           0,
           0,
           0,
           0,
           0
          ],
          "coloraxis": "coloraxis",
          "symbol": "circle"
         },
         "mode": "markers",
         "name": "0",
         "scene": "scene",
         "showlegend": true,
         "type": "scatter3d",
         "x": [
          -0.3242044088808445,
          -0.3075869523332773,
          2.2999513837143586,
          -0.3890803889010841,
          -0.367847317801074,
          -0.30384390549917195,
          -0.2662606379102851,
          -0.22244629897160653,
          -0.32386493997518145,
          -0.316460836440174,
          -0.32270470875779517,
          -0.3242003583899977,
          -0.3241846817152981,
          0.6656898162149283,
          -0.35199367581807767,
          -0.354192702361528,
          -0.30496305447998046,
          -0.3222687835970843,
          -0.3313707331681825,
          -0.38897534617961427,
          -0.4633040851301061,
          -0.027186751889444145,
          -0.2672568824892241,
          -0.28637301476555105,
          -0.27553215081027377,
          -0.27615281656257984,
          -0.34621127716585964,
          -0.3185235397168054,
          -0.32261075576193904,
          0.03304882191951733,
          -0.3512080178219978,
          -0.3893458529380481,
          -0.2480715142624898,
          -0.33220630984996585,
          -0.38925777702027936,
          -0.2995083596317221,
          -0.3228857386869918,
          -0.28615737868695335,
          -0.389222311797595,
          -0.24853744021996946,
          -0.2759342234793893,
          -0.31533611942212264,
          -0.006971348560798363,
          -0.36084308518785707,
          -0.3030578755411263,
          -0.35141664479147705,
          -0.28635321754842047,
          -0.2762280946695414,
          -0.2810237751818998,
          -0.3241865218915069,
          -0.2761803856547556,
          -0.35165188959012667,
          -0.32392169287367734,
          -0.3893274276404387,
          -0.5452754414807326,
          -0.40439397551876116,
          -0.462159253805568,
          -0.28475937245330857,
          -0.2757034705566442,
          -0.29642547929519464,
          -0.2248795763222607,
          -0.0680465430268466,
          -0.3038148915916085,
          -0.06776883546136639,
          -0.3038783529453729,
          -0.22542692453948646,
          -0.3237980246892172,
          -0.2846295330204224,
          -0.38650615870690935,
          0.863280677260295,
          -0.30367910439415163,
          -0.06301955212125072,
          -0.3538768923013723,
          -0.3871762639203627,
          -0.3024269585758623,
          -0.30010295085310157,
          -0.34648514774951295,
          -0.38806666525722316,
          -0.3479026116511279,
          -0.3001660618051471,
          -0.32383604312598857,
          -0.3222792816623899,
          -0.237343715182946,
          -0.33917787399977467,
          -0.38880296510477375,
          -0.3230425416172538,
          -0.30385942081039813,
          -0.3893166656460739,
          -0.32402458354348307,
          -0.3241807692934928,
          -0.284617692313421,
          -0.23599359221938407,
          0.04544072992419198,
          -0.35283691118134825,
          -0.3237958832347635,
          -0.3755231608171946,
          -0.3521669933787625,
          -0.23876947931995376,
          -0.43046611978696225,
          -0.3519182627139252,
          -0.26822337432203014,
          3.7811075695666725,
          -0.38891039587871057,
          0.8531724876640868,
          -0.3892716928725754,
          -0.3532993538932684,
          -0.3237238699685899,
          -0.3238778358913044,
          -0.3538768923013723,
          -0.3888480200801489,
          -0.3037224278565828,
          -0.32372456774272557,
          -0.39053920525743563,
          -0.32387156008317874,
          -0.3194746121388241,
          -0.38930062232439544,
          -0.3230849800893994,
          0.3550900790077936,
          -0.32407024373707755,
          -0.3241405765060477,
          -0.35480343424056654,
          -0.33484400132727776,
          -0.3203799504842448,
          -0.30383589301166375,
          -0.3892108256896905,
          -0.32391904833692553,
          -0.32404569920345067,
          -0.28626031948238945,
          -0.27500556210590993,
          -0.23853798792101225,
          -0.30495312941927044,
          -0.2860019576446577,
          -0.388478985729603,
          -0.39986401029792196,
          -0.38722055131502753,
          -0.35212838622935655,
          -0.3883771242451723,
          -0.34654408394041597,
          -0.38433079621233396,
          -0.3239891216999229,
          -0.32398836205453757,
          -0.3171335045398864,
          0.2645910623619037,
          -0.3888540233663686,
          -0.2689582176284468,
          -0.35391116692092545,
          -0.3232023165367091,
          0.9060926765038386,
          -0.26495552556870916,
          -0.34668442830540197,
          0.5694770833079085,
          -0.34801646398335573,
          -0.3465231274822346,
          -0.4129141754394429,
          -0.2758663918292842,
          0.1392619507886834,
          -0.27593691592889225,
          -0.3147235351849511,
          -0.4124202890685639,
          -0.38912553234475283,
          -0.28633409145025607,
          -0.3537779798666395,
          -0.3236253998140365,
          -0.3241235543122687,
          -0.4257444198095733,
          0.6265936010557879,
          -0.3890666213919465,
          -0.3412255175970444,
          -0.324079355120992,
          -0.3266994821022951,
          0.4429657157447349,
          -0.3021867826845189,
          -0.3328288862774495,
          -0.4052206101185101,
          -0.3240298515343962,
          -0.39077026241130586,
          -0.3555708852000653,
          -0.32390053166422583,
          -0.09323360651887425,
          -0.38786303546337964,
          3.7859490793464134,
          0.2098917562557508,
          -0.27261727702830035,
          -0.32136838176528554,
          -0.3102607918000583,
          -0.35468965379322837,
          0.08889002868529221,
          -0.3230420851221513,
          -0.3884421196198881,
          -0.3538571168076889,
          -0.3106435989501328,
          -0.32414562959958293,
          -0.35162389525,
          -0.34818377318995597,
          -0.2890696052584342,
          -0.28036379108692455,
          -0.31970342673884883,
          -0.23035922981386095,
          -0.25180242896376276,
          -0.3543497593136736,
          -0.38914283589209686,
          -0.42411802076495264,
          -0.2854968556469207,
          -0.30183370589451464,
          -0.34761668066737883,
          -0.3241729099152038,
          -0.3241546793536085,
          -0.27989467984896,
          -0.34399763463090044,
          -0.35337361612482976,
          -0.3238720569024599,
          3.9919285348168896,
          -0.38944159557921854,
          -0.35356176472002215,
          -0.3386517071649165,
          -0.27090706638264783,
          -0.4970831561729829,
          -0.286029116061844,
          -0.1278413509340486,
          -0.28628066600231217,
          -0.3333280560056371,
          -0.32334774581910775,
          -0.18670545676145733,
          2.256485458196351,
          -0.35041235150208166,
          -0.2650822832734063,
          1.048665128769881,
          -0.3755100612896088,
          -0.3548029105247235,
          -0.392448961612115,
          -0.16741777689761733,
          -0.3641480418856753,
          -0.35352613624301554,
          -0.31707374450595194,
          -0.351202573208812,
          -0.38861764239761737,
          -0.28353438841616463,
          -0.35266464261050484,
          -0.3349349961397398,
          -0.35106458830509457,
          -0.18412069835454584,
          -0.5717856016947046,
          -0.38659115466273575,
          0.16805954604045464,
          -0.14209777423359193,
          -0.3917456594554942,
          -0.2743516222363572,
          -0.32387596250112877,
          -0.39220041839889036,
          -0.35491954720789604,
          0.5799000610073844,
          -0.35167806698137216,
          -0.32336057587273154,
          -0.4185902596075077,
          -0.2881920566862824,
          -0.38619073514165847,
          -0.38884418500081946,
          3.798157147074798,
          0.10974713999091426,
          -0.38638975268933057,
          -0.32274834193979407,
          -0.3235703451573425,
          -0.2662932416618558,
          -0.3240870393754686,
          -0.380495858752313,
          -0.23807221864941125,
          -0.08405083221471474,
          -0.3762580141947848,
          -0.3233672494093855,
          -0.3164512949887111,
          -0.38542247346396313,
          -0.3218112550681747,
          -0.3541517671092322,
          -0.3884513891310843,
          -0.3023631952838158,
          3.781498184368767,
          -0.09410629392251549,
          -0.31901390828153686,
          -0.3458384292810216,
          -0.27633495575580297,
          3.7913427003397424,
          3.7925837429829334,
          -0.24724384855807197,
          -0.3027626212146632,
          -0.35408779066956647,
          -0.3515740515894569,
          2.502597646259897,
          -0.3222562499891007,
          -0.28667587181552656
         ],
         "y": [
          1.034731253333768,
          1.0348724953233719,
          1.6557456161891195,
          1.2182792116001044,
          1.5934236036264393,
          0.8508139045206549,
          0.6505435905211396,
          1.8799386423574989,
          1.034729911301149,
          1.0349746792869443,
          1.0347783977393523,
          1.0347310224781874,
          1.0347311570717006,
          0.4193816297600145,
          0.9400908729360953,
          1.5800728170528198,
          0.3409751327976579,
          1.0347061294970135,
          1.0186505434959725,
          1.218282513709257,
          2.0383153692471687,
          0.8426096785400246,
          0.8502466168023695,
          0.8344503414444912,
          1.7998570369643907,
          1.7998375257975692,
          0.5159728372526988,
          1.0346089346695744,
          1.0347111408252727,
          1.0459618188617912,
          1.018026941229013,
          1.218286627311359,
          0.12262549177623562,
          1.6479163447343228,
          1.2182822324433837,
          1.034361302737722,
          1.0347010636327971,
          0.3489476517093439,
          1.218286571270762,
          0.12268248826276903,
          1.7998443974609337,
          1.0342936030074454,
          0.7247344963263543,
          1.4512267789240063,
          0.8508056581490292,
          0.9401121503828094,
          0.8344625556688611,
          1.7998265621720904,
          0.8342718749492273,
          1.0347318156568992,
          1.7998294948118645,
          1.0179986590798764,
          1.0347258121323042,
          1.2182872072430193,
          2.2783858139118944,
          1.8626742787823607,
          0.8359900261875061,
          0.8344410162997428,
          1.799815829742638,
          0.8503464379741555,
          1.8800940608806185,
          0.904705974937153,
          0.8508148165980308,
          1.2093743916561017,
          0.8508210606117329,
          1.5053537639313344,
          1.0347139382288773,
          0.834358371846766,
          1.2181007861110986,
          0.7996754545151833,
          0.8508061893972418,
          0.4235927998956744,
          1.5800684161615552,
          1.218301098487161,
          0.8507146415166292,
          0.8505711390121067,
          1.5014837146288473,
          1.2182272562529672,
          1.5758634073895912,
          1.034054054204643,
          1.0347110714101637,
          1.034720128135926,
          1.5994556542895162,
          1.0179344229380973,
          1.2182678725414218,
          1.0347032987238935,
          0.8508141332161109,
          1.2182853962574502,
          1.0347218612420277,
          1.0347319964948123,
          0.8345171134115057,
          0.3152677326989713,
          1.9301444734674902,
          1.5800624215033172,
          1.0347440957222491,
          1.217646507253006,
          1.5801078397371855,
          1.599552329532364,
          1.8622930025440525,
          1.5799286697845543,
          1.9292352806067654,
          1.9011729399108495,
          1.2182788240164757,
          1.8347298794556854,
          1.2182861986643962,
          1.5800650786008008,
          1.0347187482041709,
          1.034711429294443,
          1.5800684161615552,
          1.2182592918717963,
          0.8508191561412949,
          1.0347226953063893,
          0.630060982755612,
          1.0347216566382176,
          1.0344137846270849,
          1.2182844677277258,
          1.0346632772659572,
          0.8313321317759708,
          1.0347261573360813,
          1.0347308844502,
          1.4733700354897523,
          0.611735453201651,
          1.0344932621664173,
          0.8508148728328923,
          1.2182841712147738,
          1.0347258952656133,
          1.0347205287826085,
          0.8344260721997733,
          0.3270694904904155,
          1.5995509917570807,
          1.0346200013132922,
          0.8344489336125163,
          1.2182422354776021,
          1.8217347648368916,
          1.218274631128714,
          1.5800586952349005,
          1.2182454375818075,
          1.5800266849196545,
          1.2180860643225713,
          1.034722824045442,
          1.0347175550071923,
          1.034237100645676,
          0.613507874881369,
          1.218273431807991,
          0.8335765171236711,
          1.5800601743817757,
          1.0346875295695424,
          1.8511870501757344,
          0.6504502263992267,
          1.5758540592638488,
          1.891122537666856,
          1.5014928909923,
          1.5014610277209075,
          1.8967032553546623,
          1.7998250368256854,
          1.0134790840128631,
          1.7998307735411923,
          1.5892524130258654,
          1.8967187811015522,
          1.2182867426767667,
          0.834450686764119,
          1.5800417219831004,
          1.0347148857042492,
          1.0347307860799353,
          1.59411765049677,
          1.5111738972886704,
          1.218276062230029,
          0.5158456967908776,
          1.0347239126625787,
          0.7377008416751759,
          1.0409370939448916,
          0.8508101158617734,
          1.5011177707289598,
          1.8486844688968191,
          1.0347216956381595,
          1.6735654297207812,
          1.4404072971815354,
          1.034730211202985,
          0.6495439062745584,
          1.2182300753686617,
          1.9010564746986371,
          1.4975454025655999,
          1.7997982176781309,
          1.0346699554641816,
          1.3012084981608836,
          1.4733700301132269,
          1.0118955989057545,
          1.0346603271100836,
          1.2182792160325457,
          1.4733245583626733,
          1.0345127597363484,
          1.0347302354106587,
          1.017998822673529,
          1.5758606585107489,
          -0.06979093165398814,
          0.35758992644426896,
          1.034706533250866,
          1.5992453580101216,
          2.9796091908250752,
          0.8675669178992482,
          1.218275099226514,
          1.4822499380693386,
          0.8344006384895747,
          1.5815881146498096,
          1.5014768012185327,
          1.0347300942629862,
          1.034729234491048,
          0.8343073690413634,
          1.514187636613138,
          1.580035519659124,
          1.034720208154801,
          1.864651343431314,
          1.6736071975162723,
          1.5800353365065567,
          0.6309274627732294,
          1.0327371680774275,
          1.0999765071987122,
          0.8344541168293719,
          1.0335964826819215,
          0.834433313349344,
          1.9324945592495764,
          1.0346980029612258,
          1.6797898765167476,
          0.38092608192528543,
          1.4730531382011802,
          0.6505177574056628,
          1.706931348422794,
          0.8312004715803352,
          1.473365753356801,
          1.6736522545559407,
          0.8261080099369574,
          0.9379617781095437,
          1.4733492916788102,
          1.03423897925423,
          1.0179877085847024,
          1.2182736983216287,
          0.8343648954988709,
          1.5799704020633871,
          0.9464199169261205,
          1.0179598067868598,
          1.0262391171938652,
          1.7888868934240596,
          1.2819782092564864,
          1.1733645334535032,
          1.0246005032977077,
          1.673639366447185,
          -0.13632884156144445,
          1.0347265332735356,
          1.6736501200598324,
          1.4733675531631671,
          1.0095633937543143,
          1.0179980511006745,
          1.0346975996373506,
          1.4821084776372195,
          1.930402928173866,
          1.2180849101462625,
          1.2182809054129102,
          1.9010820295396702,
          1.0232977513415618,
          1.218379555605765,
          1.0346337395452903,
          1.0347123148477844,
          0.650536475915649,
          1.0347349429761674,
          1.2182066189113394,
          1.029916349825883,
          0.8576029299167256,
          1.2179816228667923,
          1.0347468237076811,
          1.0346884061365536,
          1.218260944859077,
          1.0346918549941524,
          1.5800676559933988,
          0.6707042507038833,
          0.8508009880148653,
          1.901160202541476,
          0.833335347139631,
          1.0346794914362365,
          0.5159441525723869,
          1.799831714121958,
          1.9015842442253654,
          1.9016232574783989,
          0.650433922479581,
          3.0346049966017876,
          1.5800699292624083,
          1.7304721416633075,
          0.8445826352963458,
          1.0346133872462477,
          0.8344516963190922
         ],
         "z": [
          -0.36986590818638665,
          -0.3704758544925106,
          -0.5556449996693579,
          -0.44230591333622005,
          -0.4090616834813624,
          -0.31498677276289744,
          -0.14683106900607204,
          -0.4780582306325688,
          -0.3698774569205373,
          -0.3701884337987391,
          -0.36992837182894267,
          -0.36986599965897066,
          -0.36986657536435297,
          -0.03284860993398213,
          -0.3414696553822806,
          -0.1979377118001537,
          -0.037061441079221526,
          -0.3699279908658764,
          -0.27499041975327815,
          -0.44231028844443343,
          -0.4537391435914783,
          -0.21251437397463654,
          -0.31614033081753773,
          -0.20171657205147764,
          -0.49690543023231415,
          -0.49687957903774804,
          -0.25270432668211096,
          -0.37003763915210713,
          -0.36991714602356873,
          -0.3847457734738874,
          -0.2741641819540328,
          -0.44229825496040004,
          -0.019589578766540775,
          -0.26958269903685794,
          -0.44230037874520595,
          -0.37064734954146267,
          -0.36990538381873395,
          -0.026076064987153275,
          -0.4423025510573561,
          -0.019585620578348756,
          -0.49688868360377786,
          -0.37008079932951116,
          0.2571463609303598,
          -0.2367053927873311,
          -0.31501240543102255,
          -0.3414943657791865,
          -0.20171989610323346,
          -0.4968745898907466,
          -0.2018646314903099,
          -0.3698666531994098,
          -0.4968768859665861,
          -0.2741426047660916,
          -0.3698745939312814,
          -0.44229902254235864,
          -0.3026435190848804,
          -0.5855715665521767,
          -0.18755383803512002,
          -0.20177083297032558,
          -0.4968905706473822,
          -0.3151446745615509,
          -0.4780068882169789,
          -0.2857695146093742,
          -0.3149879812139306,
          -0.45159074123488424,
          -0.3149871145183415,
          -0.45573894100777507,
          -0.369876346248908,
          -0.2017575406965357,
          -0.4423572102770508,
          -0.23430951297592964,
          -0.3149908562166569,
          -0.008344765945078011,
          -0.19794777593071397,
          -0.4423770341430395,
          -0.31501478171273983,
          -0.3150648830044819,
          -0.4506828719431512,
          -0.4423300615531086,
          -0.188262286903495,
          -0.370558163841173,
          -0.36987440229971047,
          -0.3699306432091238,
          -0.32874256866526297,
          -0.27456375326242555,
          -0.44231314281185236,
          -0.36990039765673866,
          -0.31498628101831383,
          -0.44229900734817146,
          -0.3698701539778584,
          -0.36986689279943596,
          -0.20179218203226695,
          -0.15324068698740406,
          -0.5644548799583107,
          -0.19798275001717658,
          -0.36988292359274655,
          -0.4426422609533331,
          -0.19801590492480453,
          -0.3287136942554127,
          -0.5325220091731574,
          -0.1979859455060672,
          -0.5533206048634554,
          -0.3088171284139255,
          -0.44231175783500987,
          -0.5437855180215394,
          -0.44230074867622166,
          -0.19796719644569136,
          -0.3698799693487259,
          -0.36987302205242034,
          -0.19794777593071397,
          -0.44230972144052705,
          -0.3149921413574691,
          -0.36988079610387625,
          -0.31965382798808517,
          -0.36987544616142476,
          -0.3699623939920178,
          -0.44229936660500935,
          -0.36989028815452996,
          -0.22341359386087092,
          -0.369869488034734,
          -0.36986805463686234,
          -0.2381113146650792,
          -0.29926010620991794,
          -0.3699479598676938,
          -0.31498726096879537,
          -0.4423024340973113,
          -0.3698747040782228,
          -0.36986913031369356,
          -0.20171526898967004,
          -0.10846740111125926,
          -0.32872147846875216,
          -0.3705132586584596,
          -0.2017292081557805,
          -0.4423189128071926,
          -0.4626120771739583,
          -0.44236978274759126,
          -0.19800665453761468,
          -0.4423231554144947,
          -0.1981944905888368,
          -0.4424298961039827,
          -0.3698715982218619,
          -0.3698704885837588,
          -0.37000593688991745,
          -0.15735738856359058,
          -0.4423125609946978,
          -0.20213545135481142,
          -0.19794480356930208,
          -0.36989142571472605,
          -0.5112136141965132,
          -0.1468564499494815,
          -0.18830275224923076,
          -0.5335455476091074,
          -0.45063144985452747,
          -0.4506766556654456,
          -0.5224090953365074,
          -0.4968868744496078,
          -0.38144564116167645,
          -0.4968856520734169,
          -0.23498410505048517,
          -0.5224296660746541,
          -0.4423059629518942,
          -0.20171800386138317,
          -0.19794546935454643,
          -0.3698825703969938,
          -0.3698686270312946,
          -0.40719232330056837,
          -0.3288116258683561,
          -0.4423057143644249,
          -0.25285077778913856,
          -0.36986868629407976,
          -0.11054162257930301,
          -0.39795712542255846,
          -0.31504374374962,
          -0.45108019293333274,
          -0.4366101759410644,
          -0.36986993456208184,
          -0.40630723313631767,
          -0.25464467468244384,
          -0.36987628041750764,
          -0.15264938776878878,
          -0.44233777048801587,
          -0.30896085101461335,
          -0.46923589756765394,
          -0.4969943961604959,
          -0.36995159009820366,
          -0.2824787225381819,
          -0.23811528130724732,
          -0.3793476127878954,
          -0.3698911478834559,
          -0.442328172297213,
          -0.23813450912000214,
          -0.37029169430795905,
          -0.3698677384749597,
          -0.274143616271598,
          -0.18825188939242096,
          0.02454811336890683,
          -0.16106862765702787,
          -0.37001753816996436,
          -0.32894078985822317,
          3.5712366236156825,
          -0.26424393477213387,
          -0.4423028489328285,
          -0.27370034278718675,
          -0.20173640872696638,
          -0.21341097955509894,
          -0.4506419219386888,
          -0.36986675670911,
          -0.36986720706613263,
          -0.20191165915862772,
          -0.2738070856585403,
          -0.19795823313644953,
          -0.3698751165089737,
          -0.26562915957938993,
          -0.40636257310740903,
          -0.1979516324444217,
          -0.10021390157196736,
          -0.3712945446379001,
          -0.018955630561215655,
          -0.2017293786992642,
          -0.3764688832516683,
          -0.20171612081939153,
          -0.5517530232238612,
          -0.36988861255125527,
          -0.3098644856597146,
          -0.09371187201714068,
          -0.2381961118991924,
          -0.14686659087548545,
          -0.22730837370758233,
          -0.26839546589186103,
          -0.2381104095995727,
          -0.40626741428442714,
          -0.20406602785730582,
          -0.278700001901592,
          -0.23815138430456317,
          -0.37000842594019745,
          -0.27415591233850023,
          -0.4423208616417418,
          -0.2017971377107738,
          -0.1979689158827558,
          -0.31857455919741007,
          -0.2741547079233513,
          -0.37291986391419857,
          -0.7250239126474245,
          -0.10554236710598526,
          0.14159933900542515,
          -0.2828737805950426,
          -0.40628916116462643,
          0.022964228886056665,
          -0.3698763441558541,
          -0.4062756213443038,
          -0.23810673027485213,
          -0.3959674507934649,
          -0.2741415608020261,
          -0.3698880781698894,
          -0.27386260708744514,
          -0.5528760205731924,
          -0.4423647866333688,
          -0.44231451556778373,
          -0.3093920863123387,
          -0.38253352379450856,
          -0.44242137890961647,
          -0.36989565851866474,
          -0.36988393594981206,
          -0.1468283979572327,
          -0.3698707967208922,
          -0.4425896241283825,
          -0.3718313409190838,
          -0.3241153666785803,
          -0.44268889364716596,
          -0.36989845931672083,
          -0.3701270392963787,
          -0.4424295350218576,
          -0.3699408680815107,
          -0.19793802646614805,
          -0.5211635610393304,
          -0.3150356236335251,
          -0.3088280036270376,
          -0.20818096210581555,
          -0.370035752506521,
          -0.252711143703553,
          -0.49687197426603047,
          -0.30926273926712433,
          -0.3093144296249617,
          -0.1474705837797698,
          -0.20120728645421168,
          -0.1979407476508636,
          -0.1328398493660084,
          -0.22956605907030836,
          -0.3699084305289914,
          -0.20170630283098903
         ]
        },
        {
         "customdata": [
          [
           "SHA-256"
          ],
          [
           "Ethash"
          ],
          [
           "Scrypt"
          ],
          [
           "CryptoNight-V7"
          ],
          [
           "Ethash"
          ],
          [
           "Equihash"
          ],
          [
           "Multiple"
          ],
          [
           "Scrypt"
          ],
          [
           "X11"
          ],
          [
           "Scrypt"
          ],
          [
           "Multiple"
          ],
          [
           "Scrypt"
          ],
          [
           "SHA-256"
          ],
          [
           "Scrypt"
          ],
          [
           "Scrypt"
          ],
          [
           "Quark"
          ],
          [
           "Groestl"
          ],
          [
           "Scrypt"
          ],
          [
           "Scrypt"
          ],
          [
           "Scrypt"
          ],
          [
           "X11"
          ],
          [
           "Multiple"
          ],
          [
           "SHA-256"
          ],
          [
           "Scrypt"
          ],
          [
           "Scrypt"
          ],
          [
           "Scrypt"
          ],
          [
           "Scrypt"
          ],
          [
           "Scrypt"
          ],
          [
           "NeoScrypt"
          ],
          [
           "Scrypt"
          ],
          [
           "Scrypt"
          ],
          [
           "Scrypt"
          ],
          [
           "Scrypt"
          ],
          [
           "SHA-256"
          ],
          [
           "Scrypt"
          ],
          [
           "Scrypt"
          ],
          [
           "Scrypt"
          ],
          [
           "Scrypt"
          ],
          [
           "HybridScryptHash256"
          ],
          [
           "Scrypt"
          ],
          [
           "Scrypt"
          ],
          [
           "SHA-256"
          ],
          [
           "Scrypt"
          ],
          [
           "Scrypt"
          ],
          [
           "Scrypt"
          ],
          [
           "Scrypt"
          ],
          [
           "SHA-256"
          ],
          [
           "SHA-256"
          ],
          [
           "SHA-256"
          ],
          [
           "SHA-256"
          ],
          [
           "SHA-256"
          ],
          [
           "X11"
          ],
          [
           "Scrypt"
          ],
          [
           "Lyra2REv2"
          ],
          [
           "Scrypt"
          ],
          [
           "SHA-256"
          ],
          [
           "CryptoNight"
          ],
          [
           "CryptoNight"
          ],
          [
           "Scrypt"
          ],
          [
           "Scrypt"
          ],
          [
           "Scrypt"
          ],
          [
           "Scrypt"
          ],
          [
           "Scrypt"
          ],
          [
           "Scrypt"
          ],
          [
           "Stanford Folding"
          ],
          [
           "Multiple"
          ],
          [
           "QuBit"
          ],
          [
           "Scrypt"
          ],
          [
           "Scrypt"
          ],
          [
           "M7 POW"
          ],
          [
           "Scrypt"
          ],
          [
           "SHA-256"
          ],
          [
           "Scrypt"
          ],
          [
           "X11"
          ],
          [
           "Lyra2RE"
          ],
          [
           "SHA-256"
          ],
          [
           "X11"
          ],
          [
           "Scrypt"
          ],
          [
           "Scrypt"
          ],
          [
           "Ethash"
          ],
          [
           "Blake2b"
          ],
          [
           "X11"
          ],
          [
           "SHA-256"
          ],
          [
           "Scrypt"
          ],
          [
           "1GB AES Pattern Search"
          ],
          [
           "Scrypt"
          ],
          [
           "SHA-256"
          ],
          [
           "X11"
          ],
          [
           "Dagger"
          ],
          [
           "Scrypt"
          ],
          [
           "X11GOST"
          ],
          [
           "Scrypt"
          ],
          [
           "X11"
          ],
          [
           "Scrypt"
          ],
          [
           "X11"
          ],
          [
           "Equihash"
          ],
          [
           "CryptoNight"
          ],
          [
           "SHA-256"
          ],
          [
           "Multiple"
          ],
          [
           "Scrypt"
          ],
          [
           "SHA-256"
          ],
          [
           "Scrypt"
          ],
          [
           "Lyra2Z"
          ],
          [
           "Ethash"
          ],
          [
           "Equihash"
          ],
          [
           "Scrypt"
          ],
          [
           "X11"
          ],
          [
           "X11"
          ],
          [
           "CryptoNight"
          ],
          [
           "Scrypt"
          ],
          [
           "CryptoNight"
          ],
          [
           "Lyra2RE"
          ],
          [
           "X11"
          ],
          [
           "CryptoNight-V7"
          ],
          [
           "Scrypt"
          ],
          [
           "X11"
          ],
          [
           "Equihash"
          ],
          [
           "Scrypt"
          ],
          [
           "Lyra2RE"
          ],
          [
           "Dagger-Hashimoto"
          ],
          [
           "Scrypt"
          ],
          [
           "NIST5"
          ],
          [
           "Scrypt"
          ],
          [
           "SHA-256"
          ],
          [
           "Scrypt"
          ],
          [
           "CryptoNight-V7"
          ],
          [
           "Argon2d"
          ],
          [
           "Blake2b"
          ],
          [
           "Cloverhash"
          ],
          [
           "CryptoNight"
          ],
          [
           "X11"
          ],
          [
           "Scrypt"
          ],
          [
           "Scrypt"
          ],
          [
           "X11"
          ],
          [
           "X11"
          ],
          [
           "CryptoNight"
          ],
          [
           "Time Travel"
          ],
          [
           "Scrypt"
          ],
          [
           "Keccak"
          ],
          [
           "X11"
          ],
          [
           "SHA-256"
          ],
          [
           "Scrypt"
          ],
          [
           "Scrypt"
          ],
          [
           "Scrypt"
          ],
          [
           "Scrypt"
          ],
          [
           "Scrypt"
          ],
          [
           "Scrypt"
          ],
          [
           "CryptoNight"
          ],
          [
           "Equihash"
          ],
          [
           "X11"
          ],
          [
           "NeoScrypt"
          ],
          [
           "Equihash"
          ],
          [
           "Dagger"
          ],
          [
           "Scrypt"
          ],
          [
           "X11"
          ],
          [
           "NeoScrypt"
          ],
          [
           "Ethash"
          ],
          [
           "NeoScrypt"
          ],
          [
           "Multiple"
          ],
          [
           "CryptoNight"
          ],
          [
           "CryptoNight"
          ],
          [
           "Ethash"
          ],
          [
           "X11"
          ],
          [
           "CryptoNight-V7"
          ],
          [
           "Scrypt"
          ],
          [
           "BLAKE256"
          ],
          [
           "X11"
          ],
          [
           "NeoScrypt"
          ],
          [
           "NeoScrypt"
          ],
          [
           "Scrypt"
          ],
          [
           "X11"
          ],
          [
           "SHA-256"
          ],
          [
           "C11"
          ],
          [
           "CryptoNight"
          ],
          [
           "SkunkHash"
          ],
          [
           "CryptoNight"
          ],
          [
           "Scrypt"
          ],
          [
           "Dagger"
          ],
          [
           "Lyra2REv2"
          ],
          [
           "Scrypt"
          ],
          [
           "Scrypt"
          ],
          [
           "X11"
          ],
          [
           "Ethash"
          ],
          [
           "CryptoNight"
          ],
          [
           "Scrypt"
          ],
          [
           "IMesh"
          ],
          [
           "Equihash"
          ],
          [
           "Lyra2Z"
          ],
          [
           "X11"
          ],
          [
           "CryptoNight"
          ],
          [
           "NIST5"
          ],
          [
           "Lyra2RE"
          ],
          [
           "Tribus"
          ],
          [
           "Lyra2Z"
          ],
          [
           "CryptoNight"
          ],
          [
           "CryptoNight Heavy"
          ],
          [
           "CryptoNight"
          ],
          [
           "Jump Consistent Hash"
          ],
          [
           "CryptoNight"
          ],
          [
           "X16R"
          ],
          [
           "HMQ1725"
          ],
          [
           "X11"
          ],
          [
           "Scrypt"
          ],
          [
           "CryptoNight-V7"
          ],
          [
           "Cryptonight-GPU"
          ],
          [
           "XEVAN"
          ],
          [
           "CryptoNight Heavy"
          ],
          [
           "SHA-256"
          ],
          [
           "X11"
          ],
          [
           "X16R"
          ],
          [
           "Equihash"
          ],
          [
           "Lyra2Z"
          ],
          [
           "SHA-256"
          ],
          [
           "CryptoNight"
          ],
          [
           "Blake"
          ],
          [
           "Blake"
          ],
          [
           "Exosis"
          ],
          [
           "Scrypt"
          ],
          [
           "Equihash"
          ],
          [
           "Equihash"
          ],
          [
           "QuBit"
          ],
          [
           "SHA-256"
          ],
          [
           "X13"
          ],
          [
           "SHA-256"
          ],
          [
           "Scrypt"
          ],
          [
           "NeoScrypt"
          ],
          [
           "Blake"
          ],
          [
           "Scrypt"
          ],
          [
           "SHA-256"
          ],
          [
           "Scrypt"
          ],
          [
           "Groestl"
          ],
          [
           "Scrypt"
          ],
          [
           "Scrypt"
          ],
          [
           "Multiple"
          ],
          [
           "Equihash+Scrypt"
          ],
          [
           "Ethash"
          ],
          [
           "CryptoNight"
          ],
          [
           "Equihash"
          ]
         ],
         "hovertemplate": "<b>%{hovertext}</b><br><br>Class=%{marker.color}<br>PC 1=%{x}<br>PC 2=%{y}<br>PC 3=%{z}<br>Algorithm=%{customdata[0]}<extra></extra>",
         "hovertext": [
          "Bitcoin",
          "Ethereum",
          "Litecoin",
          "Monero",
          "Ethereum Classic",
          "ZCash",
          "DigiByte",
          "ProsperCoin",
          "Spreadcoin",
          "Argentum",
          "MyriadCoin",
          "MoonCoin",
          "ZetaCoin",
          "SexCoin",
          "Quatloo",
          "QuarkCoin",
          "Riecoin",
          "Digitalcoin ",
          "Catcoin",
          "CannaCoin",
          "CryptCoin",
          "Verge",
          "DevCoin",
          "EarthCoin",
          "E-Gulden",
          "Einsteinium",
          "Emerald",
          "Franko",
          "FeatherCoin",
          "GrandCoin",
          "GlobalCoin",
          "GoldCoin",
          "Infinite Coin",
          "IXcoin",
          "KrugerCoin",
          "LuckyCoin",
          "Litebar ",
          "MegaCoin",
          "MediterraneanCoin",
          "MinCoin",
          "NobleCoin",
          "Namecoin",
          "NyanCoin",
          "RonPaulCoin",
          "StableCoin",
          "SmartCoin",
          "SysCoin",
          "TigerCoin",
          "TerraCoin",
          "UnbreakableCoin",
          "Unobtanium",
          "UroCoin",
          "ViaCoin",
          "Vertcoin",
          "WorldCoin",
          "JouleCoin",
          "ByteCoin",
          "DigitalNote ",
          "MonaCoin",
          "Gulden",
          "PesetaCoin",
          "Wild Beast Coin",
          "Flo",
          "ArtByte",
          "Folding Coin",
          "Unitus",
          "CypherPunkCoin",
          "OmniCron",
          "GreenCoin",
          "Cryptonite",
          "MasterCoin",
          "SoonCoin",
          "1Credit",
          "MarsCoin ",
          "Crypto",
          "Anarchists Prime",
          "BowsCoin",
          "Song Coin",
          "BitZeny",
          "Expanse",
          "Siacoin",
          "MindCoin",
          "I0coin",
          "Revolution VR",
          "HOdlcoin",
          "Gamecredits",
          "CarpeDiemCoin",
          "Adzcoin",
          "SoilCoin",
          "YoCoin",
          "SibCoin",
          "Francs",
          "BolivarCoin",
          "Omni",
          "PizzaCoin",
          "Komodo",
          "Karbo",
          "ZayedCoin",
          "Circuits of Value",
          "DopeCoin",
          "DollarCoin",
          "Shilling",
          "ZCoin",
          "Elementrem",
          "ZClassic",
          "KiloCoin",
          "ArtexCoin",
          "Kurrent",
          "Cannabis Industry Coin",
          "OsmiumCoin",
          "Bikercoins",
          "HexxCoin",
          "PacCoin",
          "Citadel",
          "BeaverCoin",
          "VaultCoin",
          "Zero",
          "Canada eCoin",
          "Zoin",
          "DubaiCoin",
          "EB3coin",
          "Coinonat",
          "BenjiRolls",
          "ILCoin",
          "EquiTrader",
          "Quantum Resistant Ledger",
          "Dynamic",
          "Nano",
          "ChanCoin",
          "Dinastycoin",
          "DigitalPrice",
          "Unify",
          "SocialCoin",
          "ArcticCoin",
          "DAS",
          "LeviarCoin",
          "Bitcore",
          "gCn Coin",
          "SmartCash",
          "Onix",
          "Bitcoin Cash",
          "Sojourn Coin",
          "NewYorkCoin",
          "FrazCoin",
          "Kronecoin",
          "AdCoin",
          "Linx",
          "Sumokoin",
          "BitcoinZ",
          "Elements",
          "VIVO Coin",
          "Bitcoin Gold",
          "Pirl",
          "eBoost",
          "Pura",
          "Innova",
          "Ellaism",
          "GoByte",
          "SHIELD",
          "UltraNote",
          "BitCoal",
          "DaxxCoin",
          "AC3",
          "Lethean",
          "PopularCoin",
          "Photon",
          "Sucre",
          "SparksPay",
          "GunCoin",
          "IrishCoin",
          "Pioneer Coin",
          "UnitedBitcoin",
          "Interzone",
          "TurtleCoin",
          "MUNcoin",
          "Niobio Cash",
          "ShareChain",
          "Travelflex",
          "KREDS",
          "BitFlip",
          "LottoCoin",
          "Crypto Improvement Fund",
          "Callisto Network",
          "BitTube",
          "Poseidon",
          "Aidos Kuneen",
          "Bitrolium",
          "Alpenschillling",
          "FuturoCoin",
          "Monero Classic",
          "Jumpcoin",
          "Infinex",
          "KEYCO",
          "GINcoin",
          "PlatinCoin",
          "Loki",
          "Newton Coin",
          "MassGrid",
          "PluraCoin",
          "Motion",
          "PlusOneCoin",
          "Axe",
          "HexCoin",
          "Webchain",
          "Ryo",
          "Urals Coin",
          "Qwertycoin",
          "Project Pai",
          "Azart",
          "Xchange",
          "CrypticCoin",
          "Actinium",
          "Bitcoin SV",
          "FREDEnergy",
          "Universal Molecule",
          "Lithium",
          "Exosis",
          "Block-Logic",
          "Beam",
          "Bithereum",
          "SLICE",
          "BLAST",
          "Bitcoin Rhodium",
          "GlobalToken",
          "SolarCoin",
          "UFO Coin",
          "BlakeCoin",
          "Crypto Escudo",
          "Crown Coin",
          "SmileyCoin",
          "Groestlcoin",
          "Bata",
          "Pakcoin",
          "JoinCoin",
          "Vollar",
          "Reality Clash",
          "Beldex",
          "Horizen"
         ],
         "legendgroup": "3",
         "marker": {
          "color": [
           3,
           3,
           3,
           3,
           3,
           3,
           3,
           3,
           3,
           3,
           3,
           3,
           3,
           3,
           3,
           3,
           3,
           3,
           3,
           3,
           3,
           3,
           3,
           3,
           3,
           3,
           3,
           3,
           3,
           3,
           3,
           3,
           3,
           3,
           3,
           3,
           3,
           3,
           3,
           3,
           3,
           3,
           3,
           3,
           3,
           3,
           3,
           3,
           3,
           3,
           3,
           3,
           3,
           3,
           3,
           3,
           3,
           3,
           3,
           3,
           3,
           3,
           3,
           3,
           3,
           3,
           3,
           3,
           3,
           3,
           3,
           3,
           3,
           3,
           3,
           3,
           3,
           3,
           3,
           3,
           3,
           3,
           3,
           3,
           3,
           3,
           3,
           3,
           3,
           3,
           3,
           3,
           3,
           3,
           3,
           3,
           3,
           3,
           3,
           3,
           3,
           3,
           3,
           3,
           3,
           3,
           3,
           3,
           3,
           3,
           3,
           3,
           3,
           3,
           3,
           3,
           3,
           3,
           3,
           3,
           3,
           3,
           3,
           3,
           3,
           3,
           3,
           3,
           3,
           3,
           3,
           3,
           3,
           3,
           3,
           3,
           3,
           3,
           3,
           3,
           3,
           3,
           3,
           3,
           3,
           3,
           3,
           3,
           3,
           3,
           3,
           3,
           3,
           3,
           3,
           3,
           3,
           3,
           3,
           3,
           3,
           3,
           3,
           3,
           3,
           3,
           3,
           3,
           3,
           3,
           3,
           3,
           3,
           3,
           3,
           3,
           3,
           3,
           3,
           3,
           3,
           3,
           3,
           3,
           3,
           3,
           3,
           3,
           3,
           3,
           3,
           3,
           3,
           3,
           3,
           3,
           3,
           3,
           3,
           3,
           3,
           3,
           3,
           3,
           3,
           3,
           3,
           3,
           3,
           3,
           3,
           3,
           3,
           3,
           3,
           3,
           3,
           3,
           3,
           3,
           3,
           3,
           3,
           3,
           3,
           3,
           3,
           3,
           3,
           3,
           3,
           3,
           3,
           3,
           3,
           3,
           3,
           3
          ],
          "coloraxis": "coloraxis",
          "symbol": "diamond"
         },
         "mode": "markers",
         "name": "3",
         "scene": "scene",
         "showlegend": true,
         "type": "scatter3d",
         "x": [
          -0.14157238864402652,
          -0.16323255390999686,
          -0.16076692035272078,
          -0.16425473357622852,
          -0.1616797793465371,
          -0.15046340674539846,
          0.16216240195944104,
          -0.1619099339196972,
          -0.22699288283529176,
          -0.16152769679467818,
          -0.09049669604917275,
          2.5507591862655494,
          -0.13866545434220912,
          -0.15879105249713107,
          -0.16133244357226106,
          -0.22557357702123612,
          -0.18879180387168268,
          -0.16138075464733642,
          -0.16189224347378023,
          -0.16197843498973355,
          -0.22708199272538312,
          0.18588250579207113,
          0.2352088518982004,
          0.08605268233436718,
          -0.16172540435871677,
          -0.15734333752733673,
          -0.16166491934651397,
          -0.16203528552246071,
          -0.1792846239508257,
          -0.14131787946143268,
          -0.16083373493332961,
          -0.16111051621944777,
          1.5819856464727868,
          -0.1415338529106563,
          -0.15840783027508057,
          -0.16175177448222822,
          -0.16210559474510516,
          -0.16136693005616262,
          -0.1666195552400514,
          -0.16198720941884975,
          -0.02732241940655759,
          -0.14161127292259232,
          -0.15566882532169088,
          -0.16196677346749455,
          -0.16006728977256277,
          -0.16145497465944697,
          -0.12880058273060582,
          -0.1410765280979191,
          -0.14136299506707506,
          -0.14134627108896824,
          -0.14193500403690948,
          -0.22725534210901555,
          -0.16168397200835188,
          -0.20138853147887448,
          -0.15879585606526592,
          -0.14114364447150882,
          3.851977365481204,
          0.4604400381823623,
          -0.16055488502137155,
          -0.14520192682688154,
          -0.159277249958108,
          -0.16210780701837624,
          -0.15914257875205304,
          -0.14540554826473565,
          -0.16884404958435,
          -0.12440667567802295,
          -0.17361593696996735,
          -0.16198120110466552,
          -0.03529670081877683,
          -0.1255249363678523,
          -0.16211666455259588,
          -0.14163898227060795,
          0.4878351809189653,
          -0.226644248959021,
          -0.15093725128083516,
          -0.14137969807038503,
          -0.22692836975022346,
          -0.16024642824219953,
          -0.15944091360694657,
          -0.1642975033938838,
          0.36290178342082646,
          -0.2269636468004985,
          -0.1415349725075097,
          -0.15808582144046698,
          -0.16072331503226678,
          -0.16068409067363432,
          0.27577986193024373,
          -0.22612687521733593,
          -0.159239946962444,
          -0.16093146379614762,
          -0.17261049378546256,
          -0.1619072191193135,
          -0.22692703961195612,
          -0.16211672288397505,
          -0.22707664271432546,
          -0.25418295271653835,
          0.30579098362343526,
          -0.14179434527769771,
          -0.1045359342191214,
          -0.15929169724069647,
          -0.14175308238863138,
          -0.1617811421608041,
          -0.1668483361866949,
          -0.16404035410615778,
          -0.15048497077731757,
          -0.08908829213209915,
          -0.21369599907210562,
          -0.22491145748570535,
          0.3057852888587396,
          -0.16209851935756314,
          0.3059156578301169,
          -0.15147600262880756,
          0.48575505163171007,
          -0.16302368730543923,
          -0.16206688853612536,
          -0.21983495061713204,
          -0.15049728885819924,
          -0.1602053705697852,
          -0.15119514600304843,
          -0.16511478981877772,
          -0.13308823812647205,
          -0.18559786976405135,
          -0.1616305513114295,
          -0.10821850064837135,
          -0.1614532933044983,
          -0.16288124427723125,
          -0.16012306817205996,
          -0.03642170276390421,
          -0.17683598901104858,
          0.34180564558331533,
          -0.22613535375573354,
          -0.16177142372382655,
          -0.16153575247704233,
          -0.22652880178988224,
          -0.2271045662916877,
          0.30617908988296316,
          -0.10006203508201698,
          3.2378995785421854,
          -0.11286779269414655,
          -0.21800621635578188,
          -0.14157155491109788,
          -0.0879421521410748,
          1.5806176650342632,
          -0.16186903605814165,
          -0.1613224465315189,
          -0.1610242607506739,
          -0.16101122372852839,
          0.3063620190541779,
          0.06116973790327696,
          -0.18161512843046457,
          -0.18395982169920777,
          -0.15034374409771198,
          -0.1580029202234713,
          -0.16020358411666508,
          -0.2226621082627949,
          -0.18380573162420713,
          -0.1624112418830138,
          -0.18390560381086646,
          -0.11466680670320258,
          1.1411113269575823,
          0.30576815693196674,
          -0.08754889393544045,
          -0.22240563748570585,
          -0.15202592383383828,
          -0.07849491765616078,
          1.0962745042921458,
          -0.22707863460992886,
          -0.18395734669971742,
          -0.1770154558282058,
          -0.1611221645931541,
          -0.2270042461298277,
          -0.14155099732715037,
          -0.1922399799081618,
          8.018023843226397,
          -0.13564318591747432,
          0.30963094825919113,
          0.03038421240413313,
          -0.1575069819977624,
          -0.18698871103584938,
          -0.16169432381675686,
          0.14450754887222078,
          -0.22116267701142656,
          -0.11560604550963309,
          0.31366533520642875,
          -0.16193062773541803,
          -0.16064693949033812,
          -0.14933763308049725,
          -0.16463912604884945,
          -0.22617602626220212,
          0.30595018922094985,
          -0.185657005153458,
          -0.15132172824868179,
          -0.1520828063373147,
          -0.16693243371760977,
          0.3098649258034872,
          0.5711467939407348,
          2.108784761511436,
          -0.12837444381887914,
          0.3195152893257114,
          -0.21421239402198794,
          -0.1661122798783377,
          -0.22706084649331487,
          -0.16195515665213758,
          -0.15191106630514895,
          -0.15863138662560192,
          -0.2608078855435309,
          3.086300342126343,
          -0.1015115300777991,
          -0.22703230877661612,
          -0.21364203528601536,
          -0.04539811829787566,
          -0.1663321489126953,
          -0.14157159238448788,
          0.3854614930813088,
          -0.15364744448315973,
          -0.15403797890328522,
          -0.13110298187813643,
          -0.160850816778106,
          -0.14841020377248043,
          -0.15017703812018868,
          -0.1728295063867084,
          -0.14084979349728083,
          -0.11423260188712153,
          -0.1397211953777501,
          0.5316066006426167,
          -0.1093326895257937,
          -0.10467101100575313,
          -0.14555576537623444,
          -0.14136236706076033,
          0.5516363551621023,
          -0.1883540188441732,
          -0.16203169342479062,
          -0.15999358711757852,
          -0.12513977884438368,
          -0.1508485484124652,
          -0.16407342000772557,
          0.3274627686893051,
          -0.1504644611034073
         ],
         "y": [
          -1.3024998131370875,
          -2.0227909728312428,
          -1.118606707744493,
          -2.236621240753778,
          -2.0228926108890875,
          -2.0893311249479942,
          -1.836408890407932,
          -1.1185975041060643,
          -0.935039574163831,
          -1.118616294757786,
          -1.8307392265523403,
          -1.3084175203647983,
          -1.3025150331634798,
          -1.1186635224569845,
          -1.1186359483816872,
          -0.47969072149556663,
          -1.2132513570086974,
          -1.1186003315078668,
          -1.118596947991537,
          -1.1185940263353764,
          -0.9350409425451249,
          -1.8324786848394796,
          -1.3056854100557393,
          -1.1204593808106413,
          -1.1185917032590953,
          -1.118653685226813,
          -1.118597682620311,
          -1.118594449259332,
          -1.6374332790321626,
          -1.1189529011393644,
          -1.11859877806055,
          -1.1186090878135906,
          -1.128670393135686,
          -1.302498601732845,
          -1.1186625234996266,
          -1.1185918157940886,
          -1.1185895769707421,
          -1.1185954793955926,
          -2.2272359182607184,
          -1.1185920525683846,
          -1.1250980746758832,
          -1.3025010354981408,
          -1.118627702182817,
          -1.1185992909066005,
          -1.1187036420838405,
          -1.1186048383353089,
          -1.3027194675106633,
          -1.302502861155671,
          -1.3025082757556292,
          -1.3025349744668062,
          -1.3024963462875399,
          -0.9350334961442722,
          -1.1185918336626592,
          -1.2153598831110979,
          -1.1186747214272477,
          -1.3025035295774117,
          -2.338075088597198,
          -2.3196968233855064,
          -1.1186151732891254,
          -1.1192608353044557,
          -1.1186189026895688,
          -1.1185905621165093,
          -1.1186100940438282,
          -1.1187800620610069,
          -2.2625721439179642,
          -1.830372350733551,
          -1.541555302606087,
          -1.1185871147006452,
          -1.1217665894582793,
          -2.234082986055087,
          -1.1185894015898772,
          -1.3025019065655543,
          -1.164068968854198,
          -0.9350379281807878,
          -2.214463397965913,
          -1.3025172260780105,
          -0.9350382625717228,
          -1.1186807880916083,
          -1.1186839514052185,
          -2.022836562739168,
          -2.171104001244032,
          -0.9350357893727504,
          -1.3024986369283444,
          -1.1186126955969764,
          -2.1759553681823047,
          -1.1186041039216137,
          -1.3048587126228992,
          -0.935058202157515,
          -2.2513106026672753,
          -1.1186723123431057,
          -2.2546775941565103,
          -1.1185967023312213,
          -0.9350410864886137,
          -1.1185894012527837,
          -0.9350457893920311,
          -1.6074369741202352,
          -2.31740118766304,
          -1.302498720638245,
          -1.8306074160054797,
          -1.1186434390224118,
          -1.3024980699393247,
          -1.1185999033199183,
          -2.2349710961675155,
          -2.022835141237777,
          -2.0893318028320604,
          -1.1234575748361544,
          -0.9349654627906611,
          -0.9351231607597386,
          -2.3174092474430026,
          -1.1185903319689425,
          -2.317408014912136,
          -2.21444036494407,
          -0.9842626688910661,
          -2.236715081801461,
          -1.1185898002372547,
          -0.9355166624304209,
          -2.0893293243306874,
          -1.118600517863265,
          -2.2144394167329917,
          -2.213298454763159,
          -1.1205421549287313,
          -0.651844324578528,
          -1.1185991243610902,
          -1.3032273414595,
          -1.118619687281355,
          -2.236653289362351,
          -2.16046415204837,
          -2.1839008711748127,
          -2.2202580640410847,
          -2.3176947366379936,
          -0.9350699316114994,
          -1.1185919153609047,
          -1.1186244287552458,
          -0.9350536426826463,
          -0.9350422969542436,
          -2.317420510246158,
          -2.2043200208811484,
          -1.1549930421859933,
          -1.2083347371346715,
          -0.9355308178546541,
          -1.302499786927964,
          -1.1237797612981448,
          -1.0638045909832075,
          -1.118595502013541,
          -1.1186241711922633,
          -1.118626260387108,
          -1.1186258505569975,
          -2.3174397552502994,
          -2.0977082956521036,
          -0.9348883353237477,
          -1.6373588702173858,
          -2.0893273632487666,
          -2.251362205935707,
          -1.1186004617045602,
          -0.9351398553076343,
          -1.6373669220513278,
          -2.022965755340505,
          -1.637360604708121,
          -1.8305390151010483,
          -2.352031785587928,
          -2.3174036963217444,
          -2.027576118622102,
          -0.935275079473175,
          -2.236952878778369,
          -1.1195423992334872,
          -1.281572063234389,
          -0.9350421265587743,
          -1.637354493817215,
          -1.637479440730629,
          -1.118603546500925,
          -0.9350420806770671,
          -1.3024985431775626,
          -1.285755222266635,
          -2.7913860226967184,
          -2.2056743618659387,
          -2.3175140321124124,
          -1.1197018529231848,
          -2.2513062757004367,
          -1.2156351079119956,
          -1.118604338437248,
          -1.1221373223169988,
          -0.9352001842946812,
          -2.0259506049683957,
          -2.3178629189922146,
          -1.1185981546341288,
          -2.1892871510791347,
          -2.0893308404794175,
          -2.235101245888782,
          -0.9350712101870543,
          -2.3174022009318285,
          -0.6518266593259308,
          -2.214447178720632,
          -2.184248441743699,
          -2.2349659307296013,
          -2.31769581543844,
          -2.2615787107222562,
          -2.3925389717982135,
          -2.167340688377426,
          -2.31767902060521,
          -1.3221012530109602,
          -2.2087729418538493,
          -0.9350424270931661,
          -1.1185997175685176,
          -2.2374869641427675,
          -2.1955246136883675,
          -0.6711393110613287,
          -2.3145655569429273,
          -1.3027299289220358,
          -0.9350443957162056,
          -1.322139150808289,
          -2.0914581500843368,
          -2.234999718061617,
          -1.3024997881059728,
          -2.3206782881992556,
          -2.202661684761295,
          -2.202616724877886,
          -2.1920924829808306,
          -1.1186351366799472,
          -2.089439814165278,
          -2.089329205355643,
          -1.5416022237514286,
          -1.302507904338873,
          -0.35348945629068745,
          -1.3025469348815641,
          -1.1670632159569112,
          -1.6378592887801249,
          -2.2060617857891356,
          -1.1187847842663343,
          -1.3025082560137053,
          -1.1319731486548172,
          -1.2132526399436934,
          -1.118589868798057,
          -1.118652607750874,
          -1.8303974024797667,
          -2.165608901078313,
          -2.022834950151818,
          -2.317715917270252,
          -2.0893311580926537
         ],
         "z": [
          0.10885891734962884,
          0.28018868822390297,
          0.05394434910516712,
          0.3389145952701958,
          0.2801564547508086,
          0.27867324786973335,
          0.22743453044926798,
          0.05398222425240407,
          -0.018452713515943447,
          0.05397294641960157,
          0.2350228558010088,
          0.00031450924507840785,
          0.10876082726281215,
          0.05388769636859845,
          0.05397037524828387,
          0.017424036539891778,
          0.08234973890186152,
          0.05396438013604769,
          0.05398148743204994,
          0.05398386316234964,
          -0.018449310981674346,
          0.22575990770534862,
          0.09640652705264201,
          0.045736628040492514,
          0.05397453845764832,
          0.053835089881022966,
          0.05397371848903107,
          0.053985936871335856,
          0.17099895080228578,
          0.05334076110581657,
          0.05394496926572905,
          0.053956844329333606,
          -0.0046597121898272545,
          0.10885731230740213,
          0.053874117077086774,
          0.053975482313313276,
          0.05398733814505365,
          0.05396285180913838,
          0.30896096987503335,
          0.05398374355740861,
          0.05069050581379855,
          0.10886053690902464,
          0.05377109300327666,
          0.053984591662243904,
          0.05394085260929214,
          0.05396794014691958,
          0.10846089601157648,
          0.10884228270862935,
          0.1088534400252669,
          0.10885861369056553,
          0.1088708150976045,
          -0.018444871485692935,
          0.0539731217287039,
          0.14513038350589963,
          0.05389027864256977,
          0.10884476734760994,
          0.18527475562919513,
          0.29958314018984683,
          0.05393878028732542,
          0.053542605163748744,
          0.0538950301857638,
          0.053987627713051815,
          0.053888434521064385,
          0.053446039900848376,
          0.41442818628663647,
          0.23612627235655947,
          0.12461702051817214,
          0.05398246931222685,
          0.050250241734321,
          0.4017166331015924,
          0.05398768635997056,
          0.10886169102417312,
          0.04112874785396294,
          -0.018465226141530372,
          0.2741700738653891,
          0.10885595240007749,
          -0.018455246054594195,
          0.053942171745094795,
          0.05391476357172414,
          0.2802356558658942,
          0.2919758211300567,
          -0.01845454913785216,
          0.10885735893945168,
          0.053852143774518156,
          0.19893612400420913,
          0.05394089918684726,
          0.09481346161996758,
          -0.018478896677655236,
          0.3325589961837029,
          0.05396423303317366,
          0.2866957046131369,
          0.053981956699152435,
          -0.018454683536741828,
          0.05398768832144265,
          -0.018448452455209284,
          0.23923913506847377,
          0.3044811364428063,
          0.10886642194984866,
          0.23548401678919573,
          0.05390082460916947,
          0.10886484270633377,
          0.05397825029694899,
          0.30364164792404164,
          0.280226381934385,
          0.2786741460278533,
          0.05249070189811104,
          -0.018932388414526685,
          -0.018507274650735914,
          0.3044830729115833,
          0.053987254204448006,
          0.3044782608651568,
          0.274183894975609,
          -0.032694311953763815,
          0.3388919000276016,
          0.05398603650674248,
          -0.018599456584959383,
          0.2786740411660602,
          0.05392343181154813,
          0.27417389636399137,
          0.34480602808250677,
          0.05339645401834433,
          -0.02678582198441639,
          0.05397283086517558,
          0.10785265824149838,
          0.053971083296594544,
          0.338873608786338,
          0.2899168458085738,
          0.3086605108776094,
          0.3755765740176399,
          0.303288513490243,
          -0.018476071863726354,
          0.053976188999202986,
          0.053974981222371814,
          -0.018465863648809453,
          -0.0184482317438902,
          0.30447176863592224,
          0.23545916811182363,
          -0.056729683033371385,
          0.10349660944373755,
          -0.018660176762175226,
          0.10885888262402652,
          0.05252020419570904,
          -0.01859860257225961,
          0.053980366345987664,
          0.05396748718759226,
          0.053957539202387536,
          0.053956996200627154,
          0.3044695391262552,
          0.2730993997564143,
          -0.020067757051714093,
          0.17114594204731542,
          0.2786682638306175,
          0.3325269849272501,
          0.053923357404434394,
          -0.018582115201785696,
          0.17114230471599798,
          0.28019773429903944,
          0.1711444253344922,
          0.235822556154383,
          0.2828186532870132,
          0.30448247339108736,
          0.27858120473870673,
          -0.01856190144671537,
          0.33855965584544495,
          0.051277081010533604,
          0.11024015061610071,
          -0.018449172786104702,
          0.17114491208306373,
          0.1709297729298359,
          0.053956055698943184,
          -0.018451776786862384,
          0.10885789754908633,
          0.1596092116106008,
          0.13773908030477647,
          0.27775566018933184,
          0.3043715594402096,
          0.047514582386744865,
          0.3324976304762714,
          0.1446875716272494,
          0.05397617904551243,
          0.04405996811611609,
          -0.01862139567252996,
          0.2792091269454355,
          0.3043060987671471,
          0.05398308616536529,
          0.3261915722389901,
          0.2786339280604786,
          0.3035926707291677,
          -0.018474377823295838,
          0.3044758030402718,
          -0.026787568833944914,
          0.27417998426278184,
          0.353930526053164,
          0.3036434668197687,
          0.3044025968410896,
          0.2297273592010167,
          0.25780782619600207,
          0.25053095598313024,
          0.3040624437860572,
          0.1554815987412964,
          0.3756162336982328,
          -0.018449728298783687,
          0.05398427855394472,
          0.33867081187151776,
          0.3595064465047839,
          0.15012541453700573,
          0.15344303817336444,
          0.10751151597080467,
          -0.01845029899699993,
          0.1554698806002514,
          0.2754680019583418,
          0.30362981877060496,
          0.10885888418482136,
          0.30240945171292105,
          0.3384901526528067,
          0.33849407712959195,
          0.3733172493486537,
          0.053953404726260826,
          0.2786250836345964,
          0.2786628475885742,
          0.12459971307168828,
          0.10883546334968773,
          -0.07301877803837732,
          0.10880452228753604,
          0.040247962002222075,
          0.16865141411960247,
          0.33751536695567963,
          0.053452296556322124,
          0.10885341386833226,
          0.031983230393527476,
          0.0823347489021123,
          0.053984823950766474,
          0.05392727821351158,
          0.2361572391972134,
          0.29554859427343627,
          0.2802274938203169,
          0.3037932516034845,
          0.2786732917845367
         ]
        },
        {
         "customdata": [
          [
           "VeChainThor Authority"
          ],
          [
           "SHA-256 + Hive"
          ],
          [
           "Proof-of-Authority"
          ],
          [
           "ECC 256K1"
          ]
         ],
         "hovertemplate": "<b>%{hovertext}</b><br><br>Class=%{marker.color}<br>PC 1=%{x}<br>PC 2=%{y}<br>PC 3=%{z}<br>Algorithm=%{customdata[0]}<extra></extra>",
         "hovertext": [
          "Vechain",
          "LitecoinCash",
          "Poa Network",
          "Acute Angle Cloud"
         ],
         "legendgroup": "1",
         "marker": {
          "color": [
           1,
           1,
           1,
           1
          ],
          "coloraxis": "coloraxis",
          "symbol": "square"
         },
         "mode": "markers",
         "name": "1",
         "scene": "scene",
         "showlegend": true,
         "type": "scatter3d",
         "x": [
          4.556463873561167,
          -0.2995169569356609,
          -0.49304582108791467,
          -0.6205200806984686
         ],
         "y": [
          2.5156346153504217,
          3.1499761869680816,
          3.090336177212425,
          3.3577076794410874
         ],
         "z": [
          13.394771809002888,
          24.80789270564778,
          12.252857786880716,
          7.92997670575123
         ]
        },
        {
         "customdata": [
          [
           "TRC10"
          ]
         ],
         "hovertemplate": "<b>%{hovertext}</b><br><br>Class=%{marker.color}<br>PC 1=%{x}<br>PC 2=%{y}<br>PC 3=%{z}<br>Algorithm=%{customdata[0]}<extra></extra>",
         "hovertext": [
          "BitTorrent"
         ],
         "legendgroup": "2",
         "marker": {
          "color": [
           2
          ],
          "coloraxis": "coloraxis",
          "symbol": "x"
         },
         "mode": "markers",
         "name": "2",
         "scene": "scene",
         "showlegend": true,
         "type": "scatter3d",
         "x": [
          33.99375794425303
         ],
         "y": [
          1.6847659018803394
         ],
         "z": [
          -1.7087059850296709
         ]
        }
       ],
       "layout": {
        "coloraxis": {
         "colorbar": {
          "title": {
           "text": "Class"
          }
         },
         "colorscale": [
          [
           0,
           "#0d0887"
          ],
          [
           0.1111111111111111,
           "#46039f"
          ],
          [
           0.2222222222222222,
           "#7201a8"
          ],
          [
           0.3333333333333333,
           "#9c179e"
          ],
          [
           0.4444444444444444,
           "#bd3786"
          ],
          [
           0.5555555555555556,
           "#d8576b"
          ],
          [
           0.6666666666666666,
           "#ed7953"
          ],
          [
           0.7777777777777778,
           "#fb9f3a"
          ],
          [
           0.8888888888888888,
           "#fdca26"
          ],
          [
           1,
           "#f0f921"
          ]
         ]
        },
        "legend": {
         "title": {
          "text": "Class"
         },
         "tracegroupgap": 0,
         "x": 0,
         "y": 1
        },
        "margin": {
         "t": 60
        },
        "scene": {
         "domain": {
          "x": [
           0,
           1
          ],
          "y": [
           0,
           1
          ]
         },
         "xaxis": {
          "title": {
           "text": "PC 1"
          }
         },
         "yaxis": {
          "title": {
           "text": "PC 2"
          }
         },
         "zaxis": {
          "title": {
           "text": "PC 3"
          }
         }
        },
        "template": {
         "data": {
          "bar": [
           {
            "error_x": {
             "color": "#2a3f5f"
            },
            "error_y": {
             "color": "#2a3f5f"
            },
            "marker": {
             "line": {
              "color": "#E5ECF6",
              "width": 0.5
             },
             "pattern": {
              "fillmode": "overlay",
              "size": 10,
              "solidity": 0.2
             }
            },
            "type": "bar"
           }
          ],
          "barpolar": [
           {
            "marker": {
             "line": {
              "color": "#E5ECF6",
              "width": 0.5
             },
             "pattern": {
              "fillmode": "overlay",
              "size": 10,
              "solidity": 0.2
             }
            },
            "type": "barpolar"
           }
          ],
          "carpet": [
           {
            "aaxis": {
             "endlinecolor": "#2a3f5f",
             "gridcolor": "white",
             "linecolor": "white",
             "minorgridcolor": "white",
             "startlinecolor": "#2a3f5f"
            },
            "baxis": {
             "endlinecolor": "#2a3f5f",
             "gridcolor": "white",
             "linecolor": "white",
             "minorgridcolor": "white",
             "startlinecolor": "#2a3f5f"
            },
            "type": "carpet"
           }
          ],
          "choropleth": [
           {
            "colorbar": {
             "outlinewidth": 0,
             "ticks": ""
            },
            "type": "choropleth"
           }
          ],
          "contour": [
           {
            "colorbar": {
             "outlinewidth": 0,
             "ticks": ""
            },
            "colorscale": [
             [
              0,
              "#0d0887"
             ],
             [
              0.1111111111111111,
              "#46039f"
             ],
             [
              0.2222222222222222,
              "#7201a8"
             ],
             [
              0.3333333333333333,
              "#9c179e"
             ],
             [
              0.4444444444444444,
              "#bd3786"
             ],
             [
              0.5555555555555556,
              "#d8576b"
             ],
             [
              0.6666666666666666,
              "#ed7953"
             ],
             [
              0.7777777777777778,
              "#fb9f3a"
             ],
             [
              0.8888888888888888,
              "#fdca26"
             ],
             [
              1,
              "#f0f921"
             ]
            ],
            "type": "contour"
           }
          ],
          "contourcarpet": [
           {
            "colorbar": {
             "outlinewidth": 0,
             "ticks": ""
            },
            "type": "contourcarpet"
           }
          ],
          "heatmap": [
           {
            "colorbar": {
             "outlinewidth": 0,
             "ticks": ""
            },
            "colorscale": [
             [
              0,
              "#0d0887"
             ],
             [
              0.1111111111111111,
              "#46039f"
             ],
             [
              0.2222222222222222,
              "#7201a8"
             ],
             [
              0.3333333333333333,
              "#9c179e"
             ],
             [
              0.4444444444444444,
              "#bd3786"
             ],
             [
              0.5555555555555556,
              "#d8576b"
             ],
             [
              0.6666666666666666,
              "#ed7953"
             ],
             [
              0.7777777777777778,
              "#fb9f3a"
             ],
             [
              0.8888888888888888,
              "#fdca26"
             ],
             [
              1,
              "#f0f921"
             ]
            ],
            "type": "heatmap"
           }
          ],
          "heatmapgl": [
           {
            "colorbar": {
             "outlinewidth": 0,
             "ticks": ""
            },
            "colorscale": [
             [
              0,
              "#0d0887"
             ],
             [
              0.1111111111111111,
              "#46039f"
             ],
             [
              0.2222222222222222,
              "#7201a8"
             ],
             [
              0.3333333333333333,
              "#9c179e"
             ],
             [
              0.4444444444444444,
              "#bd3786"
             ],
             [
              0.5555555555555556,
              "#d8576b"
             ],
             [
              0.6666666666666666,
              "#ed7953"
             ],
             [
              0.7777777777777778,
              "#fb9f3a"
             ],
             [
              0.8888888888888888,
              "#fdca26"
             ],
             [
              1,
              "#f0f921"
             ]
            ],
            "type": "heatmapgl"
           }
          ],
          "histogram": [
           {
            "marker": {
             "pattern": {
              "fillmode": "overlay",
              "size": 10,
              "solidity": 0.2
             }
            },
            "type": "histogram"
           }
          ],
          "histogram2d": [
           {
            "colorbar": {
             "outlinewidth": 0,
             "ticks": ""
            },
            "colorscale": [
             [
              0,
              "#0d0887"
             ],
             [
              0.1111111111111111,
              "#46039f"
             ],
             [
              0.2222222222222222,
              "#7201a8"
             ],
             [
              0.3333333333333333,
              "#9c179e"
             ],
             [
              0.4444444444444444,
              "#bd3786"
             ],
             [
              0.5555555555555556,
              "#d8576b"
             ],
             [
              0.6666666666666666,
              "#ed7953"
             ],
             [
              0.7777777777777778,
              "#fb9f3a"
             ],
             [
              0.8888888888888888,
              "#fdca26"
             ],
             [
              1,
              "#f0f921"
             ]
            ],
            "type": "histogram2d"
           }
          ],
          "histogram2dcontour": [
           {
            "colorbar": {
             "outlinewidth": 0,
             "ticks": ""
            },
            "colorscale": [
             [
              0,
              "#0d0887"
             ],
             [
              0.1111111111111111,
              "#46039f"
             ],
             [
              0.2222222222222222,
              "#7201a8"
             ],
             [
              0.3333333333333333,
              "#9c179e"
             ],
             [
              0.4444444444444444,
              "#bd3786"
             ],
             [
              0.5555555555555556,
              "#d8576b"
             ],
             [
              0.6666666666666666,
              "#ed7953"
             ],
             [
              0.7777777777777778,
              "#fb9f3a"
             ],
             [
              0.8888888888888888,
              "#fdca26"
             ],
             [
              1,
              "#f0f921"
             ]
            ],
            "type": "histogram2dcontour"
           }
          ],
          "mesh3d": [
           {
            "colorbar": {
             "outlinewidth": 0,
             "ticks": ""
            },
            "type": "mesh3d"
           }
          ],
          "parcoords": [
           {
            "line": {
             "colorbar": {
              "outlinewidth": 0,
              "ticks": ""
             }
            },
            "type": "parcoords"
           }
          ],
          "pie": [
           {
            "automargin": true,
            "type": "pie"
           }
          ],
          "scatter": [
           {
            "fillpattern": {
             "fillmode": "overlay",
             "size": 10,
             "solidity": 0.2
            },
            "type": "scatter"
           }
          ],
          "scatter3d": [
           {
            "line": {
             "colorbar": {
              "outlinewidth": 0,
              "ticks": ""
             }
            },
            "marker": {
             "colorbar": {
              "outlinewidth": 0,
              "ticks": ""
             }
            },
            "type": "scatter3d"
           }
          ],
          "scattercarpet": [
           {
            "marker": {
             "colorbar": {
              "outlinewidth": 0,
              "ticks": ""
             }
            },
            "type": "scattercarpet"
           }
          ],
          "scattergeo": [
           {
            "marker": {
             "colorbar": {
              "outlinewidth": 0,
              "ticks": ""
             }
            },
            "type": "scattergeo"
           }
          ],
          "scattergl": [
           {
            "marker": {
             "colorbar": {
              "outlinewidth": 0,
              "ticks": ""
             }
            },
            "type": "scattergl"
           }
          ],
          "scattermapbox": [
           {
            "marker": {
             "colorbar": {
              "outlinewidth": 0,
              "ticks": ""
             }
            },
            "type": "scattermapbox"
           }
          ],
          "scatterpolar": [
           {
            "marker": {
             "colorbar": {
              "outlinewidth": 0,
              "ticks": ""
             }
            },
            "type": "scatterpolar"
           }
          ],
          "scatterpolargl": [
           {
            "marker": {
             "colorbar": {
              "outlinewidth": 0,
              "ticks": ""
             }
            },
            "type": "scatterpolargl"
           }
          ],
          "scatterternary": [
           {
            "marker": {
             "colorbar": {
              "outlinewidth": 0,
              "ticks": ""
             }
            },
            "type": "scatterternary"
           }
          ],
          "surface": [
           {
            "colorbar": {
             "outlinewidth": 0,
             "ticks": ""
            },
            "colorscale": [
             [
              0,
              "#0d0887"
             ],
             [
              0.1111111111111111,
              "#46039f"
             ],
             [
              0.2222222222222222,
              "#7201a8"
             ],
             [
              0.3333333333333333,
              "#9c179e"
             ],
             [
              0.4444444444444444,
              "#bd3786"
             ],
             [
              0.5555555555555556,
              "#d8576b"
             ],
             [
              0.6666666666666666,
              "#ed7953"
             ],
             [
              0.7777777777777778,
              "#fb9f3a"
             ],
             [
              0.8888888888888888,
              "#fdca26"
             ],
             [
              1,
              "#f0f921"
             ]
            ],
            "type": "surface"
           }
          ],
          "table": [
           {
            "cells": {
             "fill": {
              "color": "#EBF0F8"
             },
             "line": {
              "color": "white"
             }
            },
            "header": {
             "fill": {
              "color": "#C8D4E3"
             },
             "line": {
              "color": "white"
             }
            },
            "type": "table"
           }
          ]
         },
         "layout": {
          "annotationdefaults": {
           "arrowcolor": "#2a3f5f",
           "arrowhead": 0,
           "arrowwidth": 1
          },
          "autotypenumbers": "strict",
          "coloraxis": {
           "colorbar": {
            "outlinewidth": 0,
            "ticks": ""
           }
          },
          "colorscale": {
           "diverging": [
            [
             0,
             "#8e0152"
            ],
            [
             0.1,
             "#c51b7d"
            ],
            [
             0.2,
             "#de77ae"
            ],
            [
             0.3,
             "#f1b6da"
            ],
            [
             0.4,
             "#fde0ef"
            ],
            [
             0.5,
             "#f7f7f7"
            ],
            [
             0.6,
             "#e6f5d0"
            ],
            [
             0.7,
             "#b8e186"
            ],
            [
             0.8,
             "#7fbc41"
            ],
            [
             0.9,
             "#4d9221"
            ],
            [
             1,
             "#276419"
            ]
           ],
           "sequential": [
            [
             0,
             "#0d0887"
            ],
            [
             0.1111111111111111,
             "#46039f"
            ],
            [
             0.2222222222222222,
             "#7201a8"
            ],
            [
             0.3333333333333333,
             "#9c179e"
            ],
            [
             0.4444444444444444,
             "#bd3786"
            ],
            [
             0.5555555555555556,
             "#d8576b"
            ],
            [
             0.6666666666666666,
             "#ed7953"
            ],
            [
             0.7777777777777778,
             "#fb9f3a"
            ],
            [
             0.8888888888888888,
             "#fdca26"
            ],
            [
             1,
             "#f0f921"
            ]
           ],
           "sequentialminus": [
            [
             0,
             "#0d0887"
            ],
            [
             0.1111111111111111,
             "#46039f"
            ],
            [
             0.2222222222222222,
             "#7201a8"
            ],
            [
             0.3333333333333333,
             "#9c179e"
            ],
            [
             0.4444444444444444,
             "#bd3786"
            ],
            [
             0.5555555555555556,
             "#d8576b"
            ],
            [
             0.6666666666666666,
             "#ed7953"
            ],
            [
             0.7777777777777778,
             "#fb9f3a"
            ],
            [
             0.8888888888888888,
             "#fdca26"
            ],
            [
             1,
             "#f0f921"
            ]
           ]
          },
          "colorway": [
           "#636efa",
           "#EF553B",
           "#00cc96",
           "#ab63fa",
           "#FFA15A",
           "#19d3f3",
           "#FF6692",
           "#B6E880",
           "#FF97FF",
           "#FECB52"
          ],
          "font": {
           "color": "#2a3f5f"
          },
          "geo": {
           "bgcolor": "white",
           "lakecolor": "white",
           "landcolor": "#E5ECF6",
           "showlakes": true,
           "showland": true,
           "subunitcolor": "white"
          },
          "hoverlabel": {
           "align": "left"
          },
          "hovermode": "closest",
          "mapbox": {
           "style": "light"
          },
          "paper_bgcolor": "white",
          "plot_bgcolor": "#E5ECF6",
          "polar": {
           "angularaxis": {
            "gridcolor": "white",
            "linecolor": "white",
            "ticks": ""
           },
           "bgcolor": "#E5ECF6",
           "radialaxis": {
            "gridcolor": "white",
            "linecolor": "white",
            "ticks": ""
           }
          },
          "scene": {
           "xaxis": {
            "backgroundcolor": "#E5ECF6",
            "gridcolor": "white",
            "gridwidth": 2,
            "linecolor": "white",
            "showbackground": true,
            "ticks": "",
            "zerolinecolor": "white"
           },
           "yaxis": {
            "backgroundcolor": "#E5ECF6",
            "gridcolor": "white",
            "gridwidth": 2,
            "linecolor": "white",
            "showbackground": true,
            "ticks": "",
            "zerolinecolor": "white"
           },
           "zaxis": {
            "backgroundcolor": "#E5ECF6",
            "gridcolor": "white",
            "gridwidth": 2,
            "linecolor": "white",
            "showbackground": true,
            "ticks": "",
            "zerolinecolor": "white"
           }
          },
          "shapedefaults": {
           "line": {
            "color": "#2a3f5f"
           }
          },
          "ternary": {
           "aaxis": {
            "gridcolor": "white",
            "linecolor": "white",
            "ticks": ""
           },
           "baxis": {
            "gridcolor": "white",
            "linecolor": "white",
            "ticks": ""
           },
           "bgcolor": "#E5ECF6",
           "caxis": {
            "gridcolor": "white",
            "linecolor": "white",
            "ticks": ""
           }
          },
          "title": {
           "x": 0.05
          },
          "xaxis": {
           "automargin": true,
           "gridcolor": "white",
           "linecolor": "white",
           "ticks": "",
           "title": {
            "standoff": 15
           },
           "zerolinecolor": "white",
           "zerolinewidth": 2
          },
          "yaxis": {
           "automargin": true,
           "gridcolor": "white",
           "linecolor": "white",
           "ticks": "",
           "title": {
            "standoff": 15
           },
           "zerolinecolor": "white",
           "zerolinewidth": 2
          }
         }
        },
        "width": 800
       }
      }
     },
     "metadata": {},
     "output_type": "display_data"
    }
   ],
   "source": [
    "# Creating a 3D-Scatter with the PCA data and the clusters\n",
    "fig = px.scatter_3d(\n",
    "    clustered_df,\n",
    "    x=\"PC 1\",\n",
    "    y=\"PC 2\",\n",
    "    z=\"PC 3\",\n",
    "    color=\"Class\",\n",
    "    symbol=\"Class\",\n",
    "    width=800,\n",
    "    hover_name=\"CoinName\",\n",
    "    hover_data=['Algorithm'],\n",
    ")\n",
    "fig.update_layout(legend=dict(x=0, y=1))\n",
    "fig.show()"
   ]
  },
  {
   "cell_type": "code",
   "execution_count": 28,
   "metadata": {},
   "outputs": [
    {
     "data": {},
     "metadata": {},
     "output_type": "display_data"
    },
    {
     "data": {
      "application/vnd.holoviews_exec.v0+json": "",
      "text/html": [
       "<div id='1111'>\n",
       "  <div class=\"bk-root\" id=\"a73d9c56-0c14-48ba-ac70-617368e9cb52\" data-root-id=\"1111\"></div>\n",
       "</div>\n",
       "<script type=\"application/javascript\">(function(root) {\n",
       "  function embed_document(root) {\n",
       "    var docs_json = {\"6126c031-209a-42d9-bd5f-109647f266d1\":{\"defs\":[{\"extends\":null,\"module\":null,\"name\":\"ReactiveHTML1\",\"overrides\":[],\"properties\":[]},{\"extends\":null,\"module\":null,\"name\":\"FlexBox1\",\"overrides\":[],\"properties\":[{\"default\":\"flex-start\",\"kind\":null,\"name\":\"align_content\"},{\"default\":\"flex-start\",\"kind\":null,\"name\":\"align_items\"},{\"default\":\"row\",\"kind\":null,\"name\":\"flex_direction\"},{\"default\":\"wrap\",\"kind\":null,\"name\":\"flex_wrap\"},{\"default\":\"flex-start\",\"kind\":null,\"name\":\"justify_content\"}]},{\"extends\":null,\"module\":null,\"name\":\"GridStack1\",\"overrides\":[],\"properties\":[{\"default\":\"warn\",\"kind\":null,\"name\":\"mode\"},{\"default\":null,\"kind\":null,\"name\":\"ncols\"},{\"default\":null,\"kind\":null,\"name\":\"nrows\"},{\"default\":true,\"kind\":null,\"name\":\"allow_resize\"},{\"default\":true,\"kind\":null,\"name\":\"allow_drag\"},{\"default\":[],\"kind\":null,\"name\":\"state\"}]},{\"extends\":null,\"module\":null,\"name\":\"click1\",\"overrides\":[],\"properties\":[{\"default\":\"\",\"kind\":null,\"name\":\"terminal_output\"},{\"default\":\"\",\"kind\":null,\"name\":\"debug_name\"},{\"default\":0,\"kind\":null,\"name\":\"clears\"}]},{\"extends\":null,\"module\":null,\"name\":\"NotificationAreaBase1\",\"overrides\":[],\"properties\":[{\"default\":\"bottom-right\",\"kind\":null,\"name\":\"position\"},{\"default\":0,\"kind\":null,\"name\":\"_clear\"}]},{\"extends\":null,\"module\":null,\"name\":\"NotificationArea1\",\"overrides\":[],\"properties\":[{\"default\":[],\"kind\":null,\"name\":\"notifications\"},{\"default\":\"bottom-right\",\"kind\":null,\"name\":\"position\"},{\"default\":0,\"kind\":null,\"name\":\"_clear\"},{\"default\":[{\"background\":\"#ffc107\",\"icon\":{\"className\":\"fas fa-exclamation-triangle\",\"color\":\"white\",\"tagName\":\"i\"},\"type\":\"warning\"},{\"background\":\"#007bff\",\"icon\":{\"className\":\"fas fa-info-circle\",\"color\":\"white\",\"tagName\":\"i\"},\"type\":\"info\"}],\"kind\":null,\"name\":\"types\"}]},{\"extends\":null,\"module\":null,\"name\":\"Notification\",\"overrides\":[],\"properties\":[{\"default\":null,\"kind\":null,\"name\":\"background\"},{\"default\":3000,\"kind\":null,\"name\":\"duration\"},{\"default\":null,\"kind\":null,\"name\":\"icon\"},{\"default\":\"\",\"kind\":null,\"name\":\"message\"},{\"default\":null,\"kind\":null,\"name\":\"notification_type\"},{\"default\":false,\"kind\":null,\"name\":\"_destroyed\"}]},{\"extends\":null,\"module\":null,\"name\":\"TemplateActions1\",\"overrides\":[],\"properties\":[{\"default\":0,\"kind\":null,\"name\":\"open_modal\"},{\"default\":0,\"kind\":null,\"name\":\"close_modal\"}]},{\"extends\":null,\"module\":null,\"name\":\"MaterialTemplateActions1\",\"overrides\":[],\"properties\":[{\"default\":0,\"kind\":null,\"name\":\"open_modal\"},{\"default\":0,\"kind\":null,\"name\":\"close_modal\"}]}],\"roots\":{\"references\":[{\"attributes\":{\"format\":\"0,0.0[00000]\"},\"id\":\"1125\",\"type\":\"NumberFormatter\"},{\"attributes\":{},\"id\":\"1126\",\"type\":\"NumberEditor\"},{\"attributes\":{},\"id\":\"1116\",\"type\":\"StringEditor\"},{\"attributes\":{},\"id\":\"1130\",\"type\":\"StringFormatter\"},{\"attributes\":{\"editor\":{\"id\":\"1126\"},\"field\":\"TotalCoinsMined\",\"formatter\":{\"id\":\"1125\"},\"title\":\"TotalCoinsMined\"},\"id\":\"1127\",\"type\":\"TableColumn\"},{\"attributes\":{},\"id\":\"1131\",\"type\":\"StringEditor\"},{\"attributes\":{\"editor\":{\"id\":\"1131\"},\"field\":\"TotalCoinSupply\",\"formatter\":{\"id\":\"1130\"},\"title\":\"TotalCoinSupply\"},\"id\":\"1132\",\"type\":\"TableColumn\"},{\"attributes\":{},\"id\":\"1163\",\"type\":\"UnionRenderers\"},{\"attributes\":{},\"id\":\"1114\",\"type\":\"Selection\"},{\"attributes\":{\"format\":\"0,0.0[00000]\"},\"id\":\"1135\",\"type\":\"NumberFormatter\"},{\"attributes\":{},\"id\":\"1136\",\"type\":\"NumberEditor\"},{\"attributes\":{},\"id\":\"1115\",\"type\":\"StringFormatter\"},{\"attributes\":{\"source\":{\"id\":\"1113\"}},\"id\":\"1162\",\"type\":\"CDSView\"},{\"attributes\":{},\"id\":\"1151\",\"type\":\"StringEditor\"},{\"attributes\":{\"margin\":[5,5,5,5],\"name\":\"HSpacer00942\",\"sizing_mode\":\"stretch_width\"},\"id\":\"1112\",\"type\":\"Spacer\"},{\"attributes\":{\"editor\":{\"id\":\"1136\"},\"field\":\"PC_1\",\"formatter\":{\"id\":\"1135\"},\"title\":\"PC 1\"},\"id\":\"1137\",\"type\":\"TableColumn\"},{\"attributes\":{\"editor\":{\"id\":\"1156\"},\"field\":\"Class\",\"formatter\":{\"id\":\"1155\"},\"title\":\"Class\"},\"id\":\"1157\",\"type\":\"TableColumn\"},{\"attributes\":{\"margin\":[5,5,5,5],\"name\":\"HSpacer00943\",\"sizing_mode\":\"stretch_width\"},\"id\":\"1165\",\"type\":\"Spacer\"},{\"attributes\":{},\"id\":\"1150\",\"type\":\"StringFormatter\"},{\"attributes\":{\"editor\":{\"id\":\"1151\"},\"field\":\"CoinName\",\"formatter\":{\"id\":\"1150\"},\"title\":\"CoinName\"},\"id\":\"1152\",\"type\":\"TableColumn\"},{\"attributes\":{\"format\":\"0,0.0[00000]\"},\"id\":\"1145\",\"type\":\"NumberFormatter\"},{\"attributes\":{\"data\":{\"Algorithm\":[\"Scrypt\",\"Scrypt\",\"X13\",\"SHA-256\",\"Ethash\",\"Scrypt\",\"X11\",\"CryptoNight-V7\",\"Ethash\",\"Equihash\",\"SHA-512\",\"Multiple\",\"SHA-256\",\"SHA-256\",\"Scrypt\",\"X15\",\"X11\",\"Scrypt\",\"Scrypt\",\"Scrypt\",\"Multiple\",\"Scrypt\",\"SHA-256\",\"Scrypt\",\"Scrypt\",\"Scrypt\",\"Quark\",\"Groestl\",\"Scrypt\",\"Scrypt\",\"Scrypt\",\"Scrypt\",\"Scrypt\",\"X11\",\"Scrypt\",\"Groestl\",\"Multiple\",\"SHA-256\",\"Scrypt\",\"Scrypt\",\"Scrypt\",\"Scrypt\",\"PoS\",\"Scrypt\",\"Scrypt\",\"NeoScrypt\",\"Scrypt\",\"Scrypt\",\"Scrypt\",\"Scrypt\",\"X11\",\"Scrypt\",\"X11\",\"SHA-256\",\"Scrypt\",\"Scrypt\",\"Scrypt\",\"SHA3\",\"Scrypt\",\"HybridScryptHash256\",\"Scrypt\",\"Scrypt\",\"SHA-256\",\"Scrypt\",\"X13\",\"Scrypt\",\"SHA-256\",\"Scrypt\",\"X13\",\"NeoScrypt\",\"Scrypt\",\"Scrypt\",\"Scrypt\",\"Scrypt\",\"Scrypt\",\"Scrypt\",\"X11\",\"X11\",\"SHA-256\",\"Multiple\",\"SHA-256\",\"PHI1612\",\"X11\",\"SHA-256\",\"SHA-256\",\"SHA-256\",\"X11\",\"Scrypt\",\"Scrypt\",\"Scrypt\",\"Scrypt\",\"Lyra2REv2\",\"Scrypt\",\"X11\",\"Multiple\",\"SHA-256\",\"X13\",\"Scrypt\",\"CryptoNight\",\"CryptoNight\",\"Shabal256\",\"Counterparty\",\"Scrypt\",\"SHA-256\",\"Groestl\",\"Scrypt\",\"Scrypt\",\"Scrypt\",\"X13\",\"Scrypt\",\"Scrypt\",\"Scrypt\",\"Scrypt\",\"X13\",\"Scrypt\",\"Stanford Folding\",\"X11\",\"Multiple\",\"QuBit\",\"Scrypt\",\"Scrypt\",\"Scrypt\",\"M7 POW\",\"Scrypt\",\"SHA-256\",\"Scrypt\",\"X11\",\"SHA3\",\"X11\",\"Lyra2RE\",\"SHA-256\",\"QUAIT\",\"X11\",\"X11\",\"Scrypt\",\"Scrypt\",\"Scrypt\",\"Ethash\",\"X13\",\"Blake2b\",\"SHA-256\",\"X15\",\"X11\",\"SHA-256\",\"BLAKE256\",\"Scrypt\",\"1GB AES Pattern Search\",\"SHA-256\",\"X11\",\"Scrypt\",\"SHA-256\",\"SHA-256\",\"NIST5\",\"Scrypt\",\"Scrypt\",\"X11\",\"Dagger\",\"Scrypt\",\"X11GOST\",\"X11\",\"Scrypt\",\"SHA-256\",\"Scrypt\",\"PoS\",\"Scrypt\",\"X11\",\"X11\",\"SHA-256\",\"SHA-256\",\"NIST5\",\"X11\",\"Scrypt\",\"POS 3.0\",\"Scrypt\",\"Scrypt\",\"Scrypt\",\"X13\",\"X11\",\"X11\",\"Equihash\",\"X11\",\"Scrypt\",\"CryptoNight\",\"SHA-256\",\"SHA-256\",\"X11\",\"Scrypt\",\"Multiple\",\"Scrypt\",\"Scrypt\",\"Scrypt\",\"SHA-256\",\"Scrypt\",\"Scrypt\",\"SHA-256D\",\"PoS\",\"Scrypt\",\"X11\",\"Lyra2Z\",\"PoS\",\"X13\",\"X14\",\"PoS\",\"SHA-256D\",\"Ethash\",\"Equihash\",\"DPoS\",\"X11\",\"Scrypt\",\"X11\",\"X13\",\"X11\",\"PoS\",\"Scrypt\",\"Scrypt\",\"X11\",\"PoS\",\"X11\",\"SHA-256\",\"Scrypt\",\"X11\",\"Scrypt\",\"Scrypt\",\"X11\",\"CryptoNight\",\"Scrypt\",\"Scrypt\",\"Scrypt\",\"Scrypt\",\"Quark\",\"QuBit\",\"Scrypt\",\"CryptoNight\",\"Lyra2RE\",\"Scrypt\",\"SHA-256\",\"X11\",\"Scrypt\",\"X11\",\"Scrypt\",\"CryptoNight-V7\",\"Scrypt\",\"Scrypt\",\"Scrypt\",\"X13\",\"X11\",\"Equihash\",\"Scrypt\",\"Scrypt\",\"Lyra2RE\",\"Scrypt\",\"Dagger-Hashimoto\",\"X11\",\"Blake2S\",\"X11\",\"Scrypt\",\"PoS\",\"X11\",\"NIST5\",\"PoS\",\"X11\",\"Scrypt\",\"Scrypt\",\"Scrypt\",\"SHA-256\",\"X11\",\"Scrypt\",\"Scrypt\",\"SHA-256\",\"PoS\",\"Scrypt\",\"X15\",\"SHA-256\",\"Scrypt\",\"POS 3.0\",\"CryptoNight-V7\",\"536\",\"Argon2d\",\"Blake2b\",\"Cloverhash\",\"CryptoNight\",\"NIST5\",\"X11\",\"NIST5\",\"Skein\",\"Scrypt\",\"X13\",\"Scrypt\",\"X11\",\"X11\",\"Scrypt\",\"CryptoNight\",\"X13\",\"Time Travel\",\"Scrypt\",\"Keccak\",\"SkunkHash v2 Raptor\",\"X11\",\"Skein\",\"SHA-256\",\"X11\",\"Scrypt\",\"VeChainThor Authority\",\"Scrypt\",\"PoS\",\"Scrypt\",\"Scrypt\",\"Scrypt\",\"Scrypt\",\"Scrypt\",\"Scrypt\",\"Scrypt\",\"CryptoNight\",\"SHA-512\",\"Ouroboros\",\"X11\",\"Equihash\",\"NeoScrypt\",\"X11\",\"Scrypt\",\"NeoScrypt\",\"Lyra2REv2\",\"Equihash\",\"Scrypt\",\"SHA-256\",\"NIST5\",\"PHI1612\",\"Dagger\",\"Scrypt\",\"Quark\",\"Scrypt\",\"POS 2.0\",\"Scrypt\",\"SHA-256\",\"X11\",\"NeoScrypt\",\"Ethash\",\"NeoScrypt\",\"X11\",\"DPoS\",\"NIST5\",\"X13\",\"Multiple\",\"Scrypt\",\"CryptoNight\",\"CryptoNight\",\"Ethash\",\"NIST5\",\"Quark\",\"X11\",\"CryptoNight-V7\",\"Scrypt\",\"Scrypt\",\"Scrypt\",\"X11\",\"BLAKE256\",\"X11\",\"NeoScrypt\",\"Quark\",\"NeoScrypt\",\"Scrypt\",\"Scrypt\",\"Scrypt\",\"X11\",\"X11\",\"SHA-256\",\"C11\",\"POS 3.0\",\"Ethash\",\"Scrypt\",\"CryptoNight\",\"SkunkHash\",\"Scrypt\",\"CryptoNight\",\"Scrypt\",\"Dagger\",\"Lyra2REv2\",\"X13\",\"Proof-of-BibleHash\",\"SHA-256 + Hive\",\"Scrypt\",\"Scrypt\",\"X11\",\"C11\",\"Proof-of-Authority\",\"X11\",\"XEVAN\",\"Scrypt\",\"VBFT\",\"Ethash\",\"CryptoNight\",\"Scrypt\",\"IMesh\",\"NIST5\",\"Scrypt\",\"Scrypt\",\"Equihash\",\"Scrypt\",\"Lyra2Z\",\"Green Protocol\",\"PoS\",\"Scrypt\",\"Semux BFT consensus\",\"X11\",\"Quark\",\"PoS\",\"CryptoNight\",\"X16R\",\"Scrypt\",\"NIST5\",\"Lyra2RE\",\"XEVAN\",\"Tribus\",\"Scrypt\",\"Lyra2Z\",\"CryptoNight\",\"CryptoNight Heavy\",\"CryptoNight\",\"Scrypt\",\"Scrypt\",\"Jump Consistent Hash\",\"SHA-256D\",\"CryptoNight\",\"Scrypt\",\"X15\",\"Scrypt\",\"Quark\",\"SHA-256\",\"DPoS\",\"X16R\",\"HMQ1725\",\"X11\",\"X16R\",\"Quark\",\"Quark\",\"Scrypt\",\"Lyra2REv2\",\"Quark\",\"Scrypt\",\"Scrypt\",\"CryptoNight-V7\",\"Cryptonight-GPU\",\"XEVAN\",\"CryptoNight Heavy\",\"X11\",\"X11\",\"Scrypt\",\"PoS\",\"SHA-256\",\"Keccak\",\"X11\",\"X11\",\"Scrypt\",\"SHA-512\",\"X16R\",\"ECC 256K1\",\"Equihash\",\"XEVAN\",\"Lyra2Z\",\"SHA-256\",\"XEVAN\",\"X11\",\"CryptoNight\",\"Quark\",\"Blake\",\"Blake\",\"Equihash\",\"Exosis\",\"Scrypt\",\"Scrypt\",\"Equihash\",\"Quark\",\"Equihash\",\"Quark\",\"Scrypt\",\"QuBit\",\"X11\",\"Scrypt\",\"XEVAN\",\"SHA-256D\",\"X11\",\"SHA-256\",\"X13\",\"SHA-256\",\"X11\",\"DPoS\",\"Scrypt\",\"Scrypt\",\"X11\",\"NeoScrypt\",\"Scrypt\",\"Blake\",\"Scrypt\",\"SHA-256\",\"Scrypt\",\"X11\",\"Scrypt\",\"Scrypt\",\"SHA-256\",\"X11\",\"SHA-256\",\"Scrypt\",\"Scrypt\",\"Scrypt\",\"Groestl\",\"X11\",\"Scrypt\",\"PoS\",\"Scrypt\",\"Scrypt\",\"X11\",\"SHA-256\",\"DPoS\",\"Scrypt\",\"Scrypt\",\"NeoScrypt\",\"Multiple\",\"X13\",\"Equihash+Scrypt\",\"DPoS\",\"Ethash\",\"DPoS\",\"SHA-256\",\"Leased POS\",\"PoS\",\"TRC10\",\"PoS\",\"SHA-256\",\"Scrypt\",\"CryptoNight\",\"Equihash\",\"Scrypt\"],\"Class\":{\"__ndarray__\":\"AAAAAAAAAAAAAAAAAwAAAAMAAAADAAAAAAAAAAMAAAADAAAAAwAAAAAAAAADAAAAAAAAAAAAAAADAAAAAAAAAAMAAAADAAAAAAAAAAAAAAADAAAAAwAAAAMAAAADAAAAAwAAAAAAAAADAAAAAwAAAAMAAAAAAAAAAwAAAAAAAAADAAAAAwAAAAAAAAAAAAAAAwAAAAMAAAADAAAAAwAAAAMAAAADAAAAAAAAAAAAAAADAAAAAwAAAAMAAAADAAAAAwAAAAAAAAAAAAAAAwAAAAAAAAADAAAAAwAAAAMAAAADAAAAAAAAAAMAAAADAAAAAAAAAAMAAAAAAAAAAAAAAAAAAAADAAAAAwAAAAMAAAAAAAAAAAAAAAAAAAAAAAAAAAAAAAMAAAADAAAAAwAAAAAAAAAAAAAAAwAAAAAAAAADAAAAAAAAAAAAAAADAAAAAwAAAAMAAAADAAAAAAAAAAAAAAADAAAAAAAAAAMAAAADAAAAAAAAAAAAAAADAAAAAAAAAAAAAAADAAAAAwAAAAAAAAAAAAAAAwAAAAAAAAAAAAAAAwAAAAAAAAADAAAAAAAAAAMAAAAAAAAAAwAAAAAAAAAAAAAAAwAAAAMAAAAAAAAAAwAAAAMAAAADAAAAAAAAAAMAAAADAAAAAwAAAAMAAAADAAAAAAAAAAAAAAADAAAAAwAAAAMAAAAAAAAAAwAAAAAAAAADAAAAAwAAAAAAAAADAAAAAAAAAAMAAAAAAAAAAAAAAAMAAAADAAAAAAAAAAMAAAADAAAAAAAAAAAAAAADAAAAAAAAAAMAAAAAAAAAAAAAAAAAAAADAAAAAwAAAAMAAAADAAAAAAAAAAAAAAAAAAAAAAAAAAAAAAADAAAAAwAAAAAAAAAAAAAAAAAAAAAAAAAAAAAAAwAAAAAAAAAAAAAAAAAAAAAAAAAAAAAAAwAAAAAAAAADAAAAAAAAAAAAAAADAAAAAAAAAAMAAAAAAAAAAAAAAAMAAAAAAAAAAwAAAAAAAAADAAAAAAAAAAMAAAAAAAAAAAAAAAAAAAAAAAAAAwAAAAAAAAAAAAAAAAAAAAAAAAAAAAAAAwAAAAMAAAAAAAAAAAAAAAMAAAADAAAAAAAAAAAAAAAAAAAAAAAAAAAAAAADAAAAAAAAAAAAAAAAAAAAAAAAAAAAAAAAAAAAAAAAAAAAAAADAAAAAAAAAAAAAAAAAAAAAAAAAAAAAAAAAAAAAwAAAAMAAAADAAAAAAAAAAAAAAAAAAAAAAAAAAMAAAAAAAAAAwAAAAAAAAAAAAAAAwAAAAAAAAADAAAAAwAAAAAAAAADAAAAAwAAAAAAAAADAAAAAAAAAAAAAAAAAAAAAwAAAAAAAAAAAAAAAwAAAAAAAAAAAAAAAAAAAAAAAAAAAAAAAAAAAAAAAAADAAAAAAAAAAMAAAAAAAAAAAAAAAAAAAAAAAAAAwAAAAAAAAADAAAAAAAAAAMAAAADAAAAAwAAAAMAAAAAAAAAAwAAAAAAAAAAAAAAAwAAAAAAAAADAAAAAwAAAAMAAAAAAAAAAwAAAAAAAAADAAAAAwAAAAMAAAAAAAAAAwAAAAAAAAADAAAAAAAAAAAAAAABAAAAAwAAAAAAAAADAAAAAwAAAAMAAAADAAAAAwAAAAAAAAAAAAAAAwAAAAAAAAAAAAAAAAAAAAMAAAAAAAAAAwAAAAAAAAADAAAAAAAAAAMAAAAAAAAAAAAAAAAAAAAAAAAAAwAAAAAAAAAAAAAAAwAAAAAAAAAAAAAAAAAAAAMAAAADAAAAAwAAAAMAAAAAAAAAAAAAAAAAAAAAAAAAAwAAAAAAAAADAAAAAwAAAAMAAAAAAAAAAAAAAAMAAAADAAAAAAAAAAAAAAADAAAAAAAAAAMAAAADAAAAAwAAAAAAAAADAAAAAwAAAAAAAAAAAAAAAAAAAAMAAAADAAAAAwAAAAAAAAAAAAAAAAAAAAMAAAADAAAAAAAAAAMAAAADAAAAAwAAAAMAAAAAAAAAAAAAAAEAAAADAAAAAwAAAAMAAAAAAAAAAQAAAAAAAAAAAAAAAAAAAAAAAAADAAAAAwAAAAMAAAADAAAAAAAAAAAAAAAAAAAAAwAAAAAAAAADAAAAAAAAAAAAAAAAAAAAAAAAAAMAAAAAAAAAAAAAAAMAAAAAAAAAAAAAAAMAAAADAAAAAAAAAAMAAAAAAAAAAwAAAAMAAAADAAAAAwAAAAAAAAAAAAAAAwAAAAAAAAADAAAAAAAAAAAAAAAAAAAAAAAAAAAAAAAAAAAAAwAAAAMAAAADAAAAAAAAAAAAAAAAAAAAAAAAAAAAAAAAAAAAAwAAAAAAAAADAAAAAwAAAAMAAAADAAAAAAAAAAAAAAAAAAAAAAAAAAMAAAAAAAAAAAAAAAMAAAAAAAAAAAAAAAMAAAABAAAAAwAAAAAAAAADAAAAAwAAAAAAAAAAAAAAAwAAAAAAAAADAAAAAwAAAAAAAAADAAAAAwAAAAAAAAADAAAAAAAAAAMAAAAAAAAAAAAAAAMAAAAAAAAAAAAAAAAAAAAAAAAAAAAAAAMAAAADAAAAAwAAAAAAAAAAAAAAAAAAAAMAAAAAAAAAAwAAAAAAAAADAAAAAAAAAAAAAAAAAAAAAAAAAAMAAAAAAAAAAAAAAAAAAAADAAAAAAAAAAMAAAAAAAAAAwAAAAAAAAAAAAAAAAAAAAMAAAADAAAAAAAAAAAAAAAAAAAAAAAAAAAAAAAAAAAAAwAAAAAAAAADAAAAAAAAAAMAAAAAAAAAAAAAAAAAAAAAAAAAAgAAAAAAAAAAAAAAAAAAAAMAAAADAAAAAAAAAA==\",\"dtype\":\"int32\",\"order\":\"little\",\"shape\":[532]},\"CoinName\":[\"42 Coin\",\"404Coin\",\"EliteCoin\",\"Bitcoin\",\"Ethereum\",\"Litecoin\",\"Dash\",\"Monero\",\"Ethereum Classic\",\"ZCash\",\"Bitshares\",\"DigiByte\",\"BitcoinDark\",\"PayCoin\",\"ProsperCoin\",\"KoboCoin\",\"Spreadcoin\",\"Argentum\",\"Aurora Coin\",\"BlueCoin\",\"MyriadCoin\",\"MoonCoin\",\"ZetaCoin\",\"SexCoin\",\"Quatloo\",\"EnergyCoin\",\"QuarkCoin\",\"Riecoin\",\"Digitalcoin \",\"BitBar\",\"Catcoin\",\"CryptoBullion\",\"CannaCoin\",\"CryptCoin\",\"CasinoCoin\",\"Diamond\",\"Verge\",\"DevCoin\",\"EarthCoin\",\"E-Gulden\",\"Einsteinium\",\"Emerald\",\"Exclusive Coin\",\"FlutterCoin\",\"Franko\",\"FeatherCoin\",\"GrandCoin\",\"GlobalCoin\",\"GoldCoin\",\"HoboNickels\",\"HyperStake\",\"Infinite Coin\",\"IOCoin\",\"IXcoin\",\"KrugerCoin\",\"LuckyCoin\",\"Litebar \",\"MaxCoin\",\"MegaCoin\",\"MediterraneanCoin\",\"MintCoin\",\"MinCoin\",\"MazaCoin\",\"Nautilus Coin\",\"NavCoin\",\"NobleCoin\",\"Namecoin\",\"NyanCoin\",\"OpalCoin\",\"Orbitcoin\",\"PotCoin\",\"PhoenixCoin\",\"Reddcoin\",\"RonPaulCoin\",\"StableCoin\",\"SmartCoin\",\"SuperCoin\",\"SyncCoin\",\"SysCoin\",\"TeslaCoin\",\"TigerCoin\",\"TittieCoin\",\"TorCoin\",\"TerraCoin\",\"UnbreakableCoin\",\"Unobtanium\",\"UroCoin\",\"UnitaryStatus Dollar\",\"UltraCoin\",\"ViaCoin\",\"VeriCoin\",\"Vertcoin\",\"WorldCoin\",\"X11 Coin\",\"Crypti\",\"JouleCoin\",\"StealthCoin\",\"ZCC Coin\",\"ByteCoin\",\"DigitalNote \",\"BurstCoin\",\"StorjCoin\",\"MonaCoin\",\"Neutron\",\"FairCoin\",\"Gulden\",\"RubyCoin\",\"PesetaCoin\",\"Kore\",\"Wild Beast Coin\",\"Dnotes\",\"Flo\",\"8BIT Coin\",\"Sativa Coin\",\"ArtByte\",\"Folding Coin\",\"Ucoin\",\"Unitus\",\"CypherPunkCoin\",\"OmniCron\",\"Vtorrent\",\"GreenCoin\",\"Cryptonite\",\"MasterCoin\",\"SoonCoin\",\"1Credit\",\"IslaCoin\",\"Nexus\",\"MarsCoin \",\"Crypto\",\"Anarchists Prime\",\"Droidz\",\"BowsCoin\",\"Squall Coin\",\"Song Coin\",\"BitZeny\",\"Diggits\",\"Expanse\",\"Paycon\",\"Siacoin\",\"Emercoin\",\"EverGreenCoin\",\"MindCoin\",\"I0coin\",\"Decred\",\"Revolution VR\",\"HOdlcoin\",\"EDRCoin\",\"Hitcoin\",\"Gamecredits\",\"DubaiCoin\",\"CarpeDiemCoin\",\"PWR Coin\",\"BillaryCoin\",\"GPU Coin\",\"Adzcoin\",\"SoilCoin\",\"YoCoin\",\"SibCoin\",\"EuropeCoin\",\"ZeitCoin\",\"SwingCoin\",\"SafeExchangeCoin\",\"Nebuchadnezzar\",\"Francs\",\"BolivarCoin\",\"Ratecoin\",\"Revenu\",\"Clockcoin\",\"VIP Tokens\",\"BitSend\",\"Omni\",\"Let it Ride\",\"PutinCoin\",\"iBankCoin\",\"Frankywillcoin\",\"MudraCoin\",\"PizzaCoin\",\"Lutetium Coin\",\"Komodo\",\"GoldBlocks\",\"CarterCoin\",\"Karbo\",\"BitTokens\",\"ZayedCoin\",\"MustangCoin\",\"ZoneCoin\",\"Circuits of Value\",\"RootCoin\",\"DopeCoin\",\"BitCurrency\",\"DollarCoin\",\"Swiscoin\",\"Shilling\",\"BuzzCoin\",\"Opair\",\"PesoBit\",\"Halloween Coin\",\"ZCoin\",\"CoffeeCoin\",\"RoyalCoin\",\"GanjaCoin V2\",\"TeamUP\",\"LanaCoin\",\"Elementrem\",\"ZClassic\",\"ARK\",\"InsaneCoin\",\"KiloCoin\",\"ArtexCoin\",\"EmberCoin\",\"XenixCoin\",\"FreeCoin\",\"PLNCoin\",\"AquariusCoin\",\"Kurrent\",\"Creatio\",\"Eternity\",\"Eurocoin\",\"BitcoinFast\",\"Stakenet\",\"BitConnect Coin\",\"MoneyCoin\",\"Enigma\",\"Cannabis Industry Coin\",\"Russiacoin\",\"PandaCoin\",\"GameUnits\",\"GAKHcoin\",\"Allsafe\",\"LiteCreed\",\"OsmiumCoin\",\"Bikercoins\",\"HexxCoin\",\"Klingon Empire Darsek\",\"Internet of People\",\"KushCoin\",\"Printerium\",\"PacCoin\",\"Impeach\",\"Citadel\",\"Zilbercoin\",\"FirstCoin\",\"BeaverCoin\",\"FindCoin\",\"VaultCoin\",\"Zero\",\"OpenChat\",\"Canada eCoin\",\"Zoin\",\"RenosCoin\",\"DubaiCoin\",\"VirtacoinPlus\",\"TajCoin\",\"Impact\",\"EB3coin\",\"Atmos\",\"HappyCoin\",\"Coinonat\",\"MacronCoin\",\"Condensate\",\"Independent Money System\",\"ArgusCoin\",\"LomoCoin\",\"ProCurrency\",\"GoldReserve\",\"BenjiRolls\",\"GrowthCoin\",\"ILCoin\",\"Phreak\",\"Degas Coin\",\"HTML5 Coin\",\"Ultimate Secure Cash\",\"EquiTrader\",\"QTUM\",\"Quantum Resistant Ledger\",\"Espers\",\"Dynamic\",\"Nano\",\"ChanCoin\",\"Dinastycoin\",\"Denarius\",\"DigitalPrice\",\"Virta Unique Coin\",\"Bitcoin Planet\",\"Unify\",\"BritCoin\",\"SocialCoin\",\"ArcticCoin\",\"DAS\",\"Linda\",\"LeviarCoin\",\"DeepOnion\",\"Bitcore\",\"gCn Coin\",\"SmartCash\",\"Signatum\",\"Onix\",\"Cream\",\"Bitcoin Cash\",\"Monoeci\",\"Draftcoin\",\"Vechain\",\"Sojourn Coin\",\"Stakecoin\",\"NewYorkCoin\",\"FrazCoin\",\"Kronecoin\",\"AdCoin\",\"Linx\",\"CoinonatX\",\"Ethereum Dark\",\"Sumokoin\",\"Obsidian\",\"Cardano\",\"Regalcoin\",\"BitcoinZ\",\"TrezarCoin\",\"Elements\",\"TerraNovaCoin\",\"VIVO Coin\",\"Rupee\",\"Bitcoin Gold\",\"WomenCoin\",\"Theresa May Coin\",\"NamoCoin\",\"LUXCoin\",\"Pirl\",\"Xios\",\"Bitcloud 2.0\",\"eBoost\",\"KekCoin\",\"BlackholeCoin\",\"Infinity Economics\",\"Pura\",\"Innova\",\"Ellaism\",\"GoByte\",\"Magnet\",\"Lamden Tau\",\"Electra\",\"Bitcoin Diamond\",\"SHIELD\",\"Cash & Back Coin\",\"UltraNote\",\"BitCoal\",\"DaxxCoin\",\"Bulwark\",\"Kalkulus\",\"AC3\",\"Lethean\",\"GermanCoin\",\"LiteCoin Ultra\",\"PopularCoin\",\"PhantomX\",\"Photon\",\"Sucre\",\"SparksPay\",\"Digiwage\",\"GunCoin\",\"IrishCoin\",\"Trollcoin\",\"Litecoin Plus\",\"Monkey Project\",\"Pioneer Coin\",\"UnitedBitcoin\",\"Interzone\",\"TokenPay\",\"1717 Masonic Commemorative Token\",\"My Big Coin\",\"TurtleCoin\",\"MUNcoin\",\"Unified Society USDEX\",\"Niobio Cash\",\"ShareChain\",\"Travelflex\",\"KREDS\",\"Tokyo Coin\",\"BiblePay\",\"LitecoinCash\",\"BitFlip\",\"LottoCoin\",\"Crypto Improvement Fund\",\"Stipend\",\"Poa Network\",\"Pushi\",\"Ellerium\",\"Velox\",\"Ontology\",\"Callisto Network\",\"BitTube\",\"Poseidon\",\"Aidos Kuneen\",\"Bitspace\",\"Briacoin\",\"Ignition\",\"Bitrolium\",\"MedicCoin\",\"Alpenschillling\",\"Bitcoin Green\",\"Deviant Coin\",\"Abjcoin\",\"Semux\",\"FuturoCoin\",\"Carebit\",\"Zealium\",\"Monero Classic\",\"Proton\",\"iDealCash\",\"Jumpcoin\",\"Infinex\",\"Bitcoin Incognito\",\"KEYCO\",\"HollyWoodCoin\",\"GINcoin\",\"PlatinCoin\",\"Loki\",\"Newton Coin\",\"Swisscoin\",\"Xt3ch\",\"MassGrid\",\"TheVig\",\"PluraCoin\",\"EmaratCoin\",\"Dekado\",\"Lynx\",\"Poseidon Quark\",\"BitcoinWSpectrum\",\"Muse\",\"Motion\",\"PlusOneCoin\",\"Axe\",\"Trivechain\",\"Dystem\",\"Giant\",\"Peony Coin\",\"Absolute Coin\",\"Vitae\",\"HexCoin\",\"TPCash\",\"Webchain\",\"Ryo\",\"Urals Coin\",\"Qwertycoin\",\"ARENON\",\"EUNO\",\"MMOCoin\",\"Ketan\",\"Project Pai\",\"XDNA\",\"PAXEX\",\"Azart\",\"ThunderStake\",\"Kcash\",\"Xchange\",\"Acute Angle Cloud\",\"CrypticCoin\",\"Bettex coin\",\"Actinium\",\"Bitcoin SV\",\"BitMoney\",\"Junson Ming Chan Coin\",\"FREDEnergy\",\"HerbCoin\",\"Universal Molecule\",\"Lithium\",\"PirateCash\",\"Exosis\",\"Block-Logic\",\"Oduwa\",\"Beam\",\"Galilel\",\"Bithereum\",\"Crypto Sports\",\"Credit\",\"SLICE\",\"Dash Platinum\",\"Nasdacoin\",\"Beetle Coin\",\"Titan Coin\",\"Award\",\"BLAST\",\"Bitcoin Rhodium\",\"GlobalToken\",\"Insane Coin\",\"ALAX\",\"LiteDoge\",\"SolarCoin\",\"TruckCoin\",\"UFO Coin\",\"OrangeCoin\",\"BlakeCoin\",\"BitstarCoin\",\"NeosCoin\",\"HyperCoin\",\"PinkCoin\",\"Crypto Escudo\",\"AudioCoin\",\"IncaKoin\",\"Piggy Coin\",\"Crown Coin\",\"Genstake\",\"SmileyCoin\",\"XiaoMiCoin\",\"Groestlcoin\",\"CapriCoin\",\" ClubCoin\",\"Radium\",\"Bata\",\"Pakcoin\",\"Creditbit \",\"OKCash\",\"Lisk\",\"HiCoin\",\"WhiteCoin\",\"FriendshipCoin\",\"JoinCoin\",\"Triangles Coin\",\"Vollar\",\"EOS\",\"Reality Clash\",\"Oxycoin\",\"TigerCash\",\"Waves\",\"Particl\",\"BitTorrent\",\"Nxt\",\"ZEPHYR\",\"Gapcoin\",\"Beldex\",\"Horizen\",\"BitcoinPlus\"],\"PC_1\":{\"__ndarray__\":\"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\",\"dtype\":\"float64\",\"order\":\"little\",\"shape\":[532]},\"PC_2\":{\"__ndarray__\":\"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\",\"dtype\":\"float64\",\"order\":\"little\",\"shape\":[532]},\"PC_3\":{\"__ndarray__\":\"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\",\"dtype\":\"float64\",\"order\":\"little\",\"shape\":[532]},\"ProofType\":[\"PoW/PoS\",\"PoW/PoS\",\"PoW/PoS\",\"PoW\",\"PoW\",\"PoW\",\"PoW/PoS\",\"PoW\",\"PoW\",\"PoW\",\"PoS\",\"PoW\",\"PoW/PoS\",\"PoS\",\"PoW\",\"PoW/PoS\",\"PoW\",\"PoW\",\"PoW/PoS\",\"PoW/PoS\",\"PoW\",\"PoW\",\"PoW\",\"PoW\",\"PoW\",\"PoW/PoS\",\"PoW\",\"PoW\",\"PoW\",\"PoW/PoS\",\"PoW\",\"PoW/PoS\",\"PoW\",\"PoW\",\"PoC\",\"PoW/PoS\",\"PoW\",\"PoW\",\"PoW\",\"PoW\",\"PoW\",\"PoW\",\"PoS\",\"PoS/PoW/PoT\",\"PoW\",\"PoW\",\"PoW\",\"PoW\",\"PoW\",\"PoW/PoS\",\"PoS\",\"PoW\",\"PoW/PoS\",\"PoW\",\"PoW\",\"PoW\",\"PoW\",\"PoW/PoS\",\"PoW\",\"PoW\",\"PoS\",\"PoW\",\"PoW/PoS\",\"PoS\",\"PoW/PoS\",\"PoW\",\"PoW\",\"PoW\",\"PoW/PoS\",\"PoW/PoS\",\"PoW/PoS\",\"PoW/PoS\",\"PoW/PoS\",\"PoW\",\"PoW\",\"PoW\",\"PoS\",\"PoW/PoS\",\"PoW\",\"PoS\",\"PoW\",\"PoS\",\"PoW/PoS\",\"PoW\",\"PoW\",\"PoW\",\"PoW\",\"PoW/PoS\",\"PoW/PoS\",\"PoW\",\"PoST\",\"PoW\",\"PoW\",\"PoW/PoS\",\"PoS\",\"PoW\",\"PoW/PoS\",\"PoW/PoS\",\"PoW\",\"PoW\",\"PoC\",\"PoS\",\"PoW\",\"PoW/PoS\",\"PoW/PoS\",\"PoW\",\"PoS\",\"PoW\",\"PoW/PoS\",\"PoW\",\"PoS\",\"PoW\",\"PoW/PoS\",\"PoW/PoS\",\"PoW\",\"PoW\",\"PoS\",\"PoW\",\"PoW\",\"PoW\",\"PoW/PoS\",\"PoW\",\"PoW\",\"PoW\",\"PoW\",\"PoW\",\"PoW/PoS\",\"PoW/nPoS\",\"PoW\",\"PoW\",\"PoW\",\"PoW/PoS\",\"PoW\",\"PoS/PoW\",\"PoW\",\"PoW\",\"PoS\",\"PoW\",\"PoW/PoS\",\"PoW\",\"PoW/PoS\",\"PoW/PoS\",\"PoW\",\"PoW\",\"PoW/PoS\",\"PoW\",\"PoW\",\"PoW/PoS\",\"PoW/PoS\",\"PoW\",\"PoW/PoS\",\"PoW\",\"PoW/PoS\",\"PoW/PoS\",\"PoS\",\"PoW\",\"PoW\",\"PoW\",\"PoW\",\"PoW/PoS\",\"PoS\",\"PoW/PoS\",\"PoC\",\"PoS\",\"PoW\",\"PoW\",\"PoW/PoS\",\"PoW/PoS\",\"PoW/PoS\",\"PoW/PoS\",\"PoW/PoS\",\"PoW\",\"PoS\",\"PoW/PoS\",\"PoW/PoS\",\"PoW/PoS\",\"PoS\",\"PoW\",\"PoS\",\"dPoW/PoW\",\"PoW/PoS\",\"PoW/PoS\",\"PoW\",\"PoW/PoS\",\"PoW\",\"PoW/PoS\",\"PoW/PoS\",\"PoW\",\"PoW/PoS\",\"PoW\",\"PoS\",\"PoW\",\"PoW/PoW\",\"PoW\",\"PoW/PoS\",\"PoS\",\"PoW/PoS\",\"PoW/PoS\",\"PoW\",\"PoS\",\"PoS\",\"PoW/PoS\",\"PoS\",\"PoW/PoS\",\"PoW\",\"PoW\",\"DPoS\",\"PoW/PoS\",\"PoW\",\"PoW\",\"PoW/PoS\",\"PoW/PoS\",\"PoS\",\"PoW/PoS\",\"PoW/PoS\",\"PoW\",\"PoS\",\"PoW/PoS\",\"PoW/PoS\",\"PoW/PoS\",\"TPoS\",\"PoW/PoS\",\"PoW/PoS\",\"PoW/PoS\",\"PoW\",\"PoW/PoS\",\"PoS\",\"PoW/PoS\",\"PoW/PoS\",\"PoS\",\"PoW/PoS\",\"PoW\",\"PoW\",\"PoW\",\"PoW/PoS\",\"PoW/PoS\",\"PoW/PoS\",\"PoW/PoS\",\"PoW\",\"PoW/PoS\",\"PoW\",\"PoS\",\"PoW/PoS \",\"PoW\",\"PoS\",\"PoW\",\"PoW\",\"PoW/PoS\",\"PoW\",\"PoW\",\"PoS\",\"PoW\",\"PoW/PoS\",\"PoW/PoS\",\"PoW/PoS\",\"PoW\",\"PoS\",\"PoW/PoS\",\"PoW\",\"PoS\",\"PoW/PoS\",\"PoW/PoS\",\"PoW/PoS\",\"PoW/PoS\",\"PoS\",\"PoW/PoS\",\"PoW\",\"PoS\",\"PoW\",\"PoS\",\"PoW/PoS\",\"PoW/PoS\",\"PoS\",\"PoW\",\"PoS\",\"PoW\",\"PoW/PoS\",\"PoW\",\"PoW\",\"PoW\",\"PoW\",\"PoW/PoS\",\"PoW\",\"PoW/PoS\",\"PoW/PoS\",\"PoW\",\"PoW/PoS\",\"PoW\",\"PoW\",\"PoW\",\"PoW/PoS\",\"PoW\",\"PoW/PoS\",\"PoW\",\"PoW\",\"PoW\",\"PoS\",\"PoW\",\"PoW/PoS\",\"PoW\",\"PoW/PoS\",\"PoS\",\"Proof of Authority\",\"PoW\",\"PoS\",\"PoW\",\"PoW\",\"PoW\",\"PoW\",\"PoW\",\"PoW/PoS\",\"PoW/PoS\",\"PoW\",\"PoS\",\"PoS\",\"PoW/PoS\",\"PoW\",\"PoW/PoS\",\"PoW\",\"PoW/PoS\",\"PoW\",\"PoS\",\"PoW\",\"PoW/PoS\",\"PoW/PoS\",\"PoW/PoS\",\"PoW/PoS\",\"PoW\",\"PoW/PoS\",\"PoW/PoS\",\"PoW\",\"PoS\",\"PoW/PoS\",\"PoS\",\"PoW\",\"PoW\",\"PoW\",\"PoW\",\"PoW/PoS\",\"DPoS\",\"PoW/PoS\",\"PoW/PoS\",\"PoW\",\"PoW/PoS\",\"PoW\",\"PoW\",\"PoW\",\"PoS\",\"PoS\",\"PoW\",\"PoW\",\"PoW/PoS\",\"PoW/PoS\",\"PoW\",\"PoW/PoS\",\"PoW\",\"PoW\",\"PoW\",\"PoS\",\"PoW\",\"PoW\",\"PoW/PoS\",\"PoW/PoS\",\"PoS\",\"PoW\",\"PoW\",\"PoW\",\"PoS\",\"PoS\",\"PoW and PoS\",\"PoW\",\"PoW\",\"PoW/PoS\",\"PoW\",\"PoW\",\"PoW\",\"PoW\",\"PoS\",\"POBh\",\"PoW + Hive\",\"PoW\",\"PoW\",\"PoW\",\"PoW/PoS\",\"PoA\",\"PoW/PoS\",\"PoW/PoS\",\"PoS\",\"PoS\",\"PoW\",\"PoW\",\"PoW\",\"PoW\",\"PoW/PoS\",\"PoW/PoS\",\"PoW/PoS\",\"PoW\",\"PoS\",\"PoW\",\"PoS\",\"PoS\",\"PoW/PoS\",\"DPoS\",\"PoW\",\"PoW/PoS\",\"PoS\",\"PoW\",\"PoS\",\"PoW/PoS\",\"PoW\",\"PoW\",\"PoS/PoW\",\"PoW\",\"PoS\",\"PoW\",\"PoW\",\"PoW\",\"PoW\",\"PoW/PoS\",\"PoS\",\"PoW\",\"PoW/PoS\",\"PoW\",\"PoW/PoS\",\"PoS\",\"HPoW\",\"PoS\",\"PoS\",\"PoS\",\"PoW\",\"PoW\",\"PoW\",\"PoW/PoS\",\"PoS\",\"PoW/PoS\",\"PoS\",\"PoW/PoS\",\"PoS\",\"PoW\",\"PoW/PoS\",\"PoW\",\"PoW\",\"PoW\",\"PoW\",\"PoS\",\"PoW/PoS\",\"PoS\",\"PoS\",\"PoW\",\"PoW/PoS\",\"PoS\",\"PoW\",\"PoW/PoS\",\"Zero-Knowledge Proof\",\"PoW\",\"DPOS\",\"PoW\",\"PoS\",\"PoW\",\"PoW\",\"Pos\",\"PoS\",\"PoW\",\"PoW/PoS\",\"PoW\",\"PoW\",\"PoS\",\"PoW\",\"PoW\",\"PoW/PoS\",\"PoW\",\"PoW/PoS\",\"PoW\",\"PoS\",\"PoW/PoS\",\"PoW\",\"PoS\",\"PoW/PoS\",\"PoW/PoS\",\"PoW/PoS\",\"PoW/PoS\",\"PoW\",\"PoW\",\"PoW\",\"PoW/PoS\",\"DPoS\",\"PoW/PoS\",\"PoW\",\"PoW/PoS\",\"PoW\",\"PoW/PoS\",\"PoW\",\"PoW/PoS\",\"PoS\",\"PoW/PoS\",\"PoW/PoS\",\"PoW\",\"PoW/PoS\",\"PoW/PoS\",\"PoW/PoS\",\"PoW\",\"PoW/PoS\",\"PoW\",\"PoW/PoS\",\"PoW\",\"PoW/PoS\",\"PoW/PoS\",\"PoS\",\"PoW\",\"PoW\",\"Proof of Trust\",\"PoW/PoS\",\"DPoS\",\"PoS\",\"PoW/PoS\",\"PoW/PoS\",\"PoW\",\"PoW/PoS\",\"PoW\",\"DPoS\",\"PoW\",\"DPoS\",\"PoS\",\"LPoS\",\"PoS\",\"DPoS\",\"PoS/LPoS\",\"DPoS\",\"PoW/PoS\",\"PoW\",\"PoW\",\"PoS\"],\"TotalCoinSupply\":[\"42\",\"532000000\",\"314159265359\",\"21000000\",\"0\",\"84000000\",\"22000000\",\"0\",\"210000000\",\"21000000\",\"3600570502\",\"21000000000\",\"22000000\",\"12500000\",\"21000000\",\"350000000\",\"20000000\",\"64000000\",\"16768584\",\"0\",\"2000000000\",\"384000000000\",\"169795588\",\"250000000\",\"100000000\",\"0\",\"247000000\",\"84000000\",\"48166000\",\"500000\",\"21000000 \",\"1000000\",\"13140000\",\"18000000\",\"40000000000\",\"4380000\",\"16555000000\",\"21000000000\",\"13500000000\",\"21000000 \",\"299792458\",\"32000000\",\"0\",\"0\",\"11235813\",\"336000000\",\"1420609614\",\"70000000\",\"72245700\",\"120000000\",\"0\",\"90600000000\",\"22000000\",\"21000000\",\"265420800\",\"20000000\",\"1350000\",\"100000000\",\"42000000\",\"200000000\",\"0\",\"10000000\",\"2419200000\",\"16180000\",\"0\",\"15000000000\",\"21000000\",\"337000000\",\"0\",\"3770000\",\"420000000\",\"98000000\",\"0\",\"21000000\",\"250000000\",\"51200000\",\"0\",\"1000\",\"888000000\",\"100000000\",\"47011968\",\"2300000000\",\"10000000\",\"42000000\",\"80000000\",\"250000\",\"0\",\"1600000000\",\"100000000\",\"23000000\",\"0\",\"84000000\",\"265420800\",\"5500000\",\"0\",\"45000000\",\"0\",\"1000000000\",\"184467440735\",\"10000000000\",\"2158812800\",\"500000000\",\"105120000\",\"68000000\",\"0\",\"1680000000\",\"0\",\"166386000\",\"12000000\",\"2628000\",\"500000000\",\"160000000\",\"0\",\"10000000\",\"1000000000\",\"1000000000\",\"20000000\",\"0\",\"0\",\"3371337\",\"20000000\",\"10000000000\",\"1840000000\",\"619478\",\"21000000\",\"92000000000\",\"0\",\"78000000\",\"33000000\",\"65789100\",\"53760000\",\"5060000\",\"21000000\",\"0\",\"210240000\",\"250000000\",\"100000000\",\"16906397\",\"50000000\",\"0\",\"1000000000\",\"26298000\",\"16000000\",\"21000000\",\"21000000\",\"210000000\",\"81962100\",\"22000000\",\"26550000000\",\"84000000\",\"10500000\",\"21626280000 \",\"0\",\"42000000\",\"221052632\",\"84000000\",\"30000000\",\"168351300\",\"24000000\",\"384000000\",\" 99000000000\",\"40000000\",\"2147483647\",\"20000000\",\"20000000\",\"25000000\",\"75000000\",\"222725000\",\"525000000\",\"90000000\",\"139000000\",\"616448\",\"33500000\",\"2000000000\",\"44333333\",\"100000000\",\"200000000\",\"25000000\",\"657000000\",\"200000000\",\"50000000\",\"90000000\",\"10000000\",\"21000000\",\"9736000\",\"3000000\",\"21000000\",\"1200000000\",\"0\",\"200000000\",\"0\",\"10638298\",\"3100000000\",\"30000000\",\"20000000000\",\"74000000\",\"0\",\"1500000000\",\"21400000\",\"39999898\",\"2500124\",\"100000000\",\"301000000\",\"7506000000\",\"26205539\",\"21000000\",\"125000000\",\"30000000\",\"10000000000\",\"500000000\",\"850000000\",\"3853326.77707314\",\"50000000\",\"38540000 \",\"42000000\",\"228000000\",\"20000000\",\"60000000\",\"20000000\",\"33000000\",\"76500000\",\"28000000\",\"650659833\",\"5000000\",\"21000000\",\"144000000\",\"32514916898\",\"13000000\",\"3315789\",\"15000000\",\"78835200\",\"2714286\",\"25000000\",\"9999999\",\"500000000\",\"21000000\",\"9354000\",\"20000000\",\"100000000000\",\"21933333\",\"185000000\",\"55000000\",\"110000000\",\"3360000\",\"14524851.4827\",\"1000000000\",\"17000000\",\"1000000000\",\"100000000 \",\"21000000\",\"34426423\",\"2232901\",\"100000000\",\"36900000\",\"110000000\",\"4000000000\",\"110290030\",\"100000000\",\"48252000\",\"400000000\",\"500000000\",\"21212121\",\"28600000\",\"1000000000\",\"75000000000\",\"40000000\",\"35520400\",\"2000000000\",\"2500000000\",\"30000000\",\"105000000\",\"90000000000\",\"200084200\",\"72000000\",\"100000000\",\"105000000\",\"50000000000\",\"0\",\"340282367\",\"30000000\",\"2000000000\",\"10000000\",\"100000000\",\"120000000\",\"100000000\",\"19276800\",\"30000000\",\" 75000000\",\"60000000\",\"18900000\",\"50000000000\",\"54000000\",\"18898187.6216583\",\"21000000\",\"200000000000\",\"5000000000\",\"137500000\",\"1100000000\",\"100000000\",\"21000000\",\"9507271\",\"17405891.19707116\",\"86712634466\",\"10500000000\",\"61599965\",\"0\",\"20000000\",\"84000000\",\"100000000\",\"100000000\",\"48252000\",\"4200000\",\"88888888\",\"91388946\",\"45000000000\",\"27000000\",\"21000000000\",\"400000000\",\"1800000000\",\"15733333\",\"27000000\",\"24000000\",\"21000000\",\"25000000000\",\"100000000\",\"1200000000\",\"60000000\",\"156306732.71\",\"21000000\",\"200000000\",\"100000000\",\"21000000\",\"14788275.991\",\"9000000000\",\"350000000\",\"45000000\",\"280000000\",\"31800000\",\"144000000\",\"500000000\",\"30000000000\",\"210000000\",\"660000000\",\"210000000\",\"85000000000\",\"12500000\",\"10000000000\",\"27716121\",\"20000000\",\"550000000\",\"999481516\",\"50000000000\",\"150000000\",\"4999999999\",\"50000000\",\" 90000000000\",\"19800000\",\"21000000\",\"120000000\",\"500000000\",\"64000000\",\"900000000\",\"4000000\",\"21000000\",\"23000000\",\"20166000\",\"23000000\",\"25000000\",\"1618033\",\"30000000\",\"1000000000000\",\"16600000\",\"232000000\",\"336000000\",\"10000000000\",\"100000000\",\"1100000000\",\"800000000\",\"5200000000\",\"840000000\",\"40000000\",\"18406979840\",\"500000000\",\"19340594\",\"252460800\",\"25000000\",\"60000000\",\"124000000\",\"1000000000\",\"6500000000\",\"1000000000\",\"21000000\",\"25000000\",\"50000000\",\"3000000\",\"5000000\",\"70000000\",\"500000000\",\"300000000\",\"21000000\",\"88000000\",\"30000000\",\"100000000\",\"100000000\",\"200000000\",\"80000000\",\"18400000\",\"45000000\",\"5121951220\",\"21000000\",\"26280000\",\"21000000\",\"18000000\",\"26000000\",\"10500000\",\"600000518\",\"150000000\",\"184000000000\",\"10200000000\",\"44000000\",\"168000000\",\"100000000\",\"1000000000\",\"84000000\",\"90000000\",\"92000000000\",\"650000000 \",\"100262205\",\"18081806 \",\"22075700\",\"21000000\",\"21000000\",\"82546564\",\"21000000\",\"5151000\",\"16880000000\",\"52500000\",\"100000000\",\"22105263\",\"1000000000\",\"1750000000\",\"88188888\",\"210000000\",\"184470000000\",\"55000000\",\"50000000\",\"260000000\",\"210000000\",\"2100000000\",\"366000000\",\"100000000\",\"25000000\",\"18000000000\",\"1000000000\",\"100000000\",\"1000000000\",\"7600000000\",\"50000000\",\"84000000\",\"21000000\",\"70000000000\",\"0\",\"8080000000\",\"54000000\",\"105120001.44\",\"25228800\",\"105000000\",\"21000000\",\"120000000\",\"21000000\",\"262800000\",\"19035999\",\"30886000\",\"13370000\",\"74800000000\",\"100000000\",\"19700000\",\"84000000\",\"500000000\",\"5000000000\",\"420000000\",\"64000000\",\"2100000\",\"168000000\",\"30000000\",\"1000000000\",\"35000000000\",\"98100000000\",\"0\",\"4000000000\",\"200000000\",\"7000000000\",\"54256119\",\"21000000\",\"0\",\"500000000\",\"1000000000\",\"10500000000\",\"190000000\",\"1000000000\",\"42000000\",\"15000000\",\"50000000000\",\"400000000\",\"105000000\",\"208000000\",\"160000000\",\"9000000\",\"5000000\",\"182000000\",\"16504333\",\"105000000\",\"159918400\",\"10008835635\",\"300000000\",\"60168145\",\"2800000\",\"120000\",\"2100000000\",\"0\",\"24487944\",\"0\",\"1000000000\",\"100000000\",\"8634140\",\"990000000000\",\"1000000000\",\"2000000000\",\"250000000\",\"1400222610\",\"21000000\",\"1000000\"],\"TotalCoinsMined\":{\"__ndarray__\":\"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\",\"dtype\":\"float64\",\"order\":\"little\",\"shape\":[532]}},\"selected\":{\"id\":\"1114\"},\"selection_policy\":{\"id\":\"1163\"}},\"id\":\"1113\",\"type\":\"ColumnDataSource\"},{\"attributes\":{\"format\":\"0,0.0[00000]\"},\"id\":\"1140\",\"type\":\"NumberFormatter\"},{\"attributes\":{\"columns\":[{\"id\":\"1117\"},{\"id\":\"1122\"},{\"id\":\"1127\"},{\"id\":\"1132\"},{\"id\":\"1137\"},{\"id\":\"1142\"},{\"id\":\"1147\"},{\"id\":\"1152\"},{\"id\":\"1157\"}],\"height\":300,\"reorderable\":false,\"source\":{\"id\":\"1113\"},\"view\":{\"id\":\"1162\"},\"width\":700},\"id\":\"1160\",\"type\":\"DataTable\"},{\"attributes\":{\"children\":[{\"id\":\"1112\"},{\"id\":\"1160\"},{\"id\":\"1165\"}],\"margin\":[0,0,0,0],\"name\":\"Row00938\",\"tags\":[\"embedded\"]},\"id\":\"1111\",\"type\":\"Row\"},{\"attributes\":{\"editor\":{\"id\":\"1146\"},\"field\":\"PC_3\",\"formatter\":{\"id\":\"1145\"},\"title\":\"PC 3\"},\"id\":\"1147\",\"type\":\"TableColumn\"},{\"attributes\":{\"editor\":{\"id\":\"1116\"},\"field\":\"Algorithm\",\"formatter\":{\"id\":\"1115\"},\"title\":\"Algorithm\"},\"id\":\"1117\",\"type\":\"TableColumn\"},{\"attributes\":{},\"id\":\"1141\",\"type\":\"NumberEditor\"},{\"attributes\":{},\"id\":\"1156\",\"type\":\"IntEditor\"},{\"attributes\":{\"editor\":{\"id\":\"1141\"},\"field\":\"PC_2\",\"formatter\":{\"id\":\"1140\"},\"title\":\"PC 2\"},\"id\":\"1142\",\"type\":\"TableColumn\"},{\"attributes\":{},\"id\":\"1120\",\"type\":\"StringFormatter\"},{\"attributes\":{},\"id\":\"1155\",\"type\":\"NumberFormatter\"},{\"attributes\":{},\"id\":\"1146\",\"type\":\"NumberEditor\"},{\"attributes\":{},\"id\":\"1121\",\"type\":\"StringEditor\"},{\"attributes\":{\"editor\":{\"id\":\"1121\"},\"field\":\"ProofType\",\"formatter\":{\"id\":\"1120\"},\"title\":\"ProofType\"},\"id\":\"1122\",\"type\":\"TableColumn\"}],\"root_ids\":[\"1111\"]},\"title\":\"Bokeh Application\",\"version\":\"2.4.3\"}};\n",
       "    var render_items = [{\"docid\":\"6126c031-209a-42d9-bd5f-109647f266d1\",\"root_ids\":[\"1111\"],\"roots\":{\"1111\":\"a73d9c56-0c14-48ba-ac70-617368e9cb52\"}}];\n",
       "    root.Bokeh.embed.embed_items_notebook(docs_json, render_items);\n",
       "  }\n",
       "  if (root.Bokeh !== undefined && root.Bokeh.Panel !== undefined) {\n",
       "    embed_document(root);\n",
       "  } else {\n",
       "    var attempts = 0;\n",
       "    var timer = setInterval(function(root) {\n",
       "      if (root.Bokeh !== undefined && root.Bokeh.Panel !== undefined) {\n",
       "        clearInterval(timer);\n",
       "        embed_document(root);\n",
       "      } else if (document.readyState == \"complete\") {\n",
       "        attempts++;\n",
       "        if (attempts > 200) {\n",
       "          clearInterval(timer);\n",
       "          console.log(\"Bokeh: ERROR: Unable to run BokehJS code because BokehJS library is missing\");\n",
       "        }\n",
       "      }\n",
       "    }, 25, root)\n",
       "  }\n",
       "})(window);</script>"
      ],
      "text/plain": [
       ":Table   [Algorithm,ProofType,TotalCoinsMined,TotalCoinSupply,PC 1,PC 2,PC 3,CoinName,Class]"
      ]
     },
     "execution_count": 28,
     "metadata": {
      "application/vnd.holoviews_exec.v0+json": {
       "id": "1111"
      }
     },
     "output_type": "execute_result"
    }
   ],
   "source": [
    "# Create a table with tradable cryptocurrencies.\n",
    "clustered_df.hvplot.table(sortable=True, selectable=True)"
   ]
  },
  {
   "cell_type": "code",
   "execution_count": 29,
   "metadata": {},
   "outputs": [
    {
     "name": "stdout",
     "output_type": "stream",
     "text": [
      "There are 532 tradable cryptocurrencies.\n"
     ]
    }
   ],
   "source": [
    "# Print the total number of tradable cryptocurrencies.\n",
    "index = clustered_df.index\n",
    "len(index)\n",
    "print(\"There are \" + str(len(index)) + \" \" + \"tradable cryptocurrencies.\")"
   ]
  },
  {
   "cell_type": "code",
   "execution_count": 30,
   "metadata": {},
   "outputs": [
    {
     "data": {
      "text/plain": [
       "array([[4.20000000e-11, 0.00000000e+00],\n",
       "       [5.32000000e-04, 1.06585544e-03],\n",
       "       [3.14159265e-01, 2.95755135e-02],\n",
       "       ...,\n",
       "       [1.40022261e-03, 9.90135079e-04],\n",
       "       [2.10000000e-05, 7.37028150e-06],\n",
       "       [1.00000000e-06, 1.29582282e-07]])"
      ]
     },
     "execution_count": 30,
     "metadata": {},
     "output_type": "execute_result"
    }
   ],
   "source": [
    "# Scaling data to create the scatter plot with tradable cryptocurrencies.\n",
    "mms = MinMaxScaler()\n",
    "clustered_df_scaled = mms.fit_transform(clustered_df[['TotalCoinSupply','TotalCoinsMined']])\n",
    "clustered_df_scaled"
   ]
  },
  {
   "cell_type": "code",
   "execution_count": 33,
   "metadata": {},
   "outputs": [
    {
     "data": {
      "text/html": [
       "<div>\n",
       "<style scoped>\n",
       "    .dataframe tbody tr th:only-of-type {\n",
       "        vertical-align: middle;\n",
       "    }\n",
       "\n",
       "    .dataframe tbody tr th {\n",
       "        vertical-align: top;\n",
       "    }\n",
       "\n",
       "    .dataframe thead th {\n",
       "        text-align: right;\n",
       "    }\n",
       "</style>\n",
       "<table border=\"1\" class=\"dataframe\">\n",
       "  <thead>\n",
       "    <tr style=\"text-align: right;\">\n",
       "      <th></th>\n",
       "      <th>TotalCoinSupply</th>\n",
       "      <th>TotalCoinsMined</th>\n",
       "      <th>CoinName</th>\n",
       "      <th>Class</th>\n",
       "    </tr>\n",
       "    <tr>\n",
       "      <th></th>\n",
       "      <th></th>\n",
       "      <th></th>\n",
       "      <th></th>\n",
       "      <th></th>\n",
       "    </tr>\n",
       "  </thead>\n",
       "  <tbody>\n",
       "    <tr>\n",
       "      <th>42</th>\n",
       "      <td>4.200000e-11</td>\n",
       "      <td>0.000000</td>\n",
       "      <td>42 Coin</td>\n",
       "      <td>0</td>\n",
       "    </tr>\n",
       "    <tr>\n",
       "      <th>404</th>\n",
       "      <td>5.320000e-04</td>\n",
       "      <td>0.001066</td>\n",
       "      <td>404Coin</td>\n",
       "      <td>0</td>\n",
       "    </tr>\n",
       "    <tr>\n",
       "      <th>1337</th>\n",
       "      <td>3.141593e-01</td>\n",
       "      <td>0.029576</td>\n",
       "      <td>EliteCoin</td>\n",
       "      <td>0</td>\n",
       "    </tr>\n",
       "    <tr>\n",
       "      <th>BTC</th>\n",
       "      <td>2.100000e-05</td>\n",
       "      <td>0.000018</td>\n",
       "      <td>Bitcoin</td>\n",
       "      <td>3</td>\n",
       "    </tr>\n",
       "    <tr>\n",
       "      <th>ETH</th>\n",
       "      <td>0.000000e+00</td>\n",
       "      <td>0.000109</td>\n",
       "      <td>Ethereum</td>\n",
       "      <td>3</td>\n",
       "    </tr>\n",
       "    <tr>\n",
       "      <th>LTC</th>\n",
       "      <td>8.400000e-05</td>\n",
       "      <td>0.000064</td>\n",
       "      <td>Litecoin</td>\n",
       "      <td>3</td>\n",
       "    </tr>\n",
       "    <tr>\n",
       "      <th>DASH</th>\n",
       "      <td>2.200000e-05</td>\n",
       "      <td>0.000009</td>\n",
       "      <td>Dash</td>\n",
       "      <td>0</td>\n",
       "    </tr>\n",
       "    <tr>\n",
       "      <th>XMR</th>\n",
       "      <td>0.000000e+00</td>\n",
       "      <td>0.000017</td>\n",
       "      <td>Monero</td>\n",
       "      <td>3</td>\n",
       "    </tr>\n",
       "    <tr>\n",
       "      <th>ETC</th>\n",
       "      <td>2.100000e-04</td>\n",
       "      <td>0.000115</td>\n",
       "      <td>Ethereum Classic</td>\n",
       "      <td>3</td>\n",
       "    </tr>\n",
       "    <tr>\n",
       "      <th>ZEC</th>\n",
       "      <td>2.100000e-05</td>\n",
       "      <td>0.000007</td>\n",
       "      <td>ZCash</td>\n",
       "      <td>3</td>\n",
       "    </tr>\n",
       "  </tbody>\n",
       "</table>\n",
       "</div>"
      ],
      "text/plain": [
       "      TotalCoinSupply  TotalCoinsMined          CoinName  Class\n",
       "                                                               \n",
       "42       4.200000e-11         0.000000           42 Coin      0\n",
       "404      5.320000e-04         0.001066           404Coin      0\n",
       "1337     3.141593e-01         0.029576         EliteCoin      0\n",
       "BTC      2.100000e-05         0.000018           Bitcoin      3\n",
       "ETH      0.000000e+00         0.000109          Ethereum      3\n",
       "LTC      8.400000e-05         0.000064          Litecoin      3\n",
       "DASH     2.200000e-05         0.000009              Dash      0\n",
       "XMR      0.000000e+00         0.000017            Monero      3\n",
       "ETC      2.100000e-04         0.000115  Ethereum Classic      3\n",
       "ZEC      2.100000e-05         0.000007             ZCash      3"
      ]
     },
     "execution_count": 33,
     "metadata": {},
     "output_type": "execute_result"
    }
   ],
   "source": [
    "# Create a new DataFrame that has the scaled data with the clustered_df DataFrame index.\n",
    "plot_df=pd.DataFrame(\n",
    "data=clustered_df_scaled, columns=['TotalCoinSupply','TotalCoinsMined'], index = clustered_df.index)\n",
    "\n",
    "# Add the \"CoinName\" column from the clustered_df DataFrame to the new DataFrame.\n",
    "plot_df['CoinName'] = clustered_df['CoinName'] \n",
    "\n",
    "# Add the \"Class\" column from the clustered_df DataFrame to the new DataFrame. \n",
    "plot_df['Class'] = clustered_df['Class'] \n",
    "plot_df.head(10)"
   ]
  },
  {
   "cell_type": "code",
   "execution_count": 34,
   "metadata": {},
   "outputs": [
    {
     "data": {},
     "metadata": {},
     "output_type": "display_data"
    },
    {
     "data": {
      "application/vnd.holoviews_exec.v0+json": "",
      "text/html": [
       "<div id='1177'>\n",
       "  <div class=\"bk-root\" id=\"4d284984-c859-4b32-b65a-fa45a83b0892\" data-root-id=\"1177\"></div>\n",
       "</div>\n",
       "<script type=\"application/javascript\">(function(root) {\n",
       "  function embed_document(root) {\n",
       "    var docs_json = {\"b9f8d269-122e-4878-a8fe-e475840cf6c9\":{\"defs\":[{\"extends\":null,\"module\":null,\"name\":\"ReactiveHTML1\",\"overrides\":[],\"properties\":[]},{\"extends\":null,\"module\":null,\"name\":\"FlexBox1\",\"overrides\":[],\"properties\":[{\"default\":\"flex-start\",\"kind\":null,\"name\":\"align_content\"},{\"default\":\"flex-start\",\"kind\":null,\"name\":\"align_items\"},{\"default\":\"row\",\"kind\":null,\"name\":\"flex_direction\"},{\"default\":\"wrap\",\"kind\":null,\"name\":\"flex_wrap\"},{\"default\":\"flex-start\",\"kind\":null,\"name\":\"justify_content\"}]},{\"extends\":null,\"module\":null,\"name\":\"GridStack1\",\"overrides\":[],\"properties\":[{\"default\":\"warn\",\"kind\":null,\"name\":\"mode\"},{\"default\":null,\"kind\":null,\"name\":\"ncols\"},{\"default\":null,\"kind\":null,\"name\":\"nrows\"},{\"default\":true,\"kind\":null,\"name\":\"allow_resize\"},{\"default\":true,\"kind\":null,\"name\":\"allow_drag\"},{\"default\":[],\"kind\":null,\"name\":\"state\"}]},{\"extends\":null,\"module\":null,\"name\":\"click1\",\"overrides\":[],\"properties\":[{\"default\":\"\",\"kind\":null,\"name\":\"terminal_output\"},{\"default\":\"\",\"kind\":null,\"name\":\"debug_name\"},{\"default\":0,\"kind\":null,\"name\":\"clears\"}]},{\"extends\":null,\"module\":null,\"name\":\"NotificationAreaBase1\",\"overrides\":[],\"properties\":[{\"default\":\"bottom-right\",\"kind\":null,\"name\":\"position\"},{\"default\":0,\"kind\":null,\"name\":\"_clear\"}]},{\"extends\":null,\"module\":null,\"name\":\"NotificationArea1\",\"overrides\":[],\"properties\":[{\"default\":[],\"kind\":null,\"name\":\"notifications\"},{\"default\":\"bottom-right\",\"kind\":null,\"name\":\"position\"},{\"default\":0,\"kind\":null,\"name\":\"_clear\"},{\"default\":[{\"background\":\"#ffc107\",\"icon\":{\"className\":\"fas fa-exclamation-triangle\",\"color\":\"white\",\"tagName\":\"i\"},\"type\":\"warning\"},{\"background\":\"#007bff\",\"icon\":{\"className\":\"fas fa-info-circle\",\"color\":\"white\",\"tagName\":\"i\"},\"type\":\"info\"}],\"kind\":null,\"name\":\"types\"}]},{\"extends\":null,\"module\":null,\"name\":\"Notification\",\"overrides\":[],\"properties\":[{\"default\":null,\"kind\":null,\"name\":\"background\"},{\"default\":3000,\"kind\":null,\"name\":\"duration\"},{\"default\":null,\"kind\":null,\"name\":\"icon\"},{\"default\":\"\",\"kind\":null,\"name\":\"message\"},{\"default\":null,\"kind\":null,\"name\":\"notification_type\"},{\"default\":false,\"kind\":null,\"name\":\"_destroyed\"}]},{\"extends\":null,\"module\":null,\"name\":\"TemplateActions1\",\"overrides\":[],\"properties\":[{\"default\":0,\"kind\":null,\"name\":\"open_modal\"},{\"default\":0,\"kind\":null,\"name\":\"close_modal\"}]},{\"extends\":null,\"module\":null,\"name\":\"MaterialTemplateActions1\",\"overrides\":[],\"properties\":[{\"default\":0,\"kind\":null,\"name\":\"open_modal\"},{\"default\":0,\"kind\":null,\"name\":\"close_modal\"}]}],\"roots\":{\"references\":[{\"attributes\":{\"source\":{\"id\":\"1288\"}},\"id\":\"1295\",\"type\":\"CDSView\"},{\"attributes\":{\"overlay\":{\"id\":\"1207\"}},\"id\":\"1205\",\"type\":\"BoxZoomTool\"},{\"attributes\":{\"coordinates\":null,\"data_source\":{\"id\":\"1264\"},\"glyph\":{\"id\":\"1267\"},\"group\":null,\"hover_glyph\":null,\"muted_glyph\":{\"id\":\"1269\"},\"nonselection_glyph\":{\"id\":\"1268\"},\"selection_glyph\":{\"id\":\"1287\"},\"view\":{\"id\":\"1271\"}},\"id\":\"1270\",\"type\":\"GlyphRenderer\"},{\"attributes\":{\"callback\":null,\"renderers\":[{\"id\":\"1227\"},{\"id\":\"1248\"},{\"id\":\"1270\"},{\"id\":\"1294\"}],\"tags\":[\"hv_created\"],\"tooltips\":[[\"Class\",\"@{Class}\"],[\"TotalCoinsMined\",\"@{TotalCoinsMined}\"],[\"TotalCoinSupply\",\"@{TotalCoinSupply}\"],[\"CoinName\",\"@{CoinName}\"]]},\"id\":\"1181\",\"type\":\"HoverTool\"},{\"attributes\":{\"tools\":[{\"id\":\"1181\"},{\"id\":\"1202\"},{\"id\":\"1203\"},{\"id\":\"1204\"},{\"id\":\"1205\"},{\"id\":\"1206\"}]},\"id\":\"1208\",\"type\":\"Toolbar\"},{\"attributes\":{},\"id\":\"1217\",\"type\":\"AllLabels\"},{\"attributes\":{\"source\":{\"id\":\"1264\"}},\"id\":\"1271\",\"type\":\"CDSView\"},{\"attributes\":{},\"id\":\"1206\",\"type\":\"ResetTool\"},{\"attributes\":{\"fill_alpha\":{\"value\":0.2},\"fill_color\":{\"value\":\"#6d904f\"},\"hatch_alpha\":{\"value\":0.2},\"hatch_color\":{\"value\":\"#6d904f\"},\"line_alpha\":{\"value\":0.2},\"line_color\":{\"value\":\"#6d904f\"},\"size\":{\"value\":5.477225575051661},\"x\":{\"field\":\"TotalCoinsMined\"},\"y\":{\"field\":\"TotalCoinSupply\"}},\"id\":\"1293\",\"type\":\"Scatter\"},{\"attributes\":{\"angle\":{\"value\":0.0},\"fill_alpha\":{\"value\":1.0},\"fill_color\":{\"value\":\"#e5ae38\"},\"hatch_alpha\":{\"value\":1.0},\"hatch_color\":{\"value\":\"#e5ae38\"},\"hatch_scale\":{\"value\":12.0},\"hatch_weight\":{\"value\":1.0},\"line_alpha\":{\"value\":1.0},\"line_cap\":{\"value\":\"butt\"},\"line_color\":{\"value\":\"#e5ae38\"},\"line_dash\":{\"value\":[]},\"line_dash_offset\":{\"value\":0},\"line_join\":{\"value\":\"bevel\"},\"line_width\":{\"value\":1},\"marker\":{\"value\":\"circle\"},\"size\":{\"value\":5.477225575051661},\"x\":{\"field\":\"TotalCoinsMined\"},\"y\":{\"field\":\"TotalCoinSupply\"}},\"id\":\"1287\",\"type\":\"Scatter\"},{\"attributes\":{\"bottom_units\":\"screen\",\"coordinates\":null,\"fill_alpha\":0.5,\"fill_color\":\"lightgrey\",\"group\":null,\"left_units\":\"screen\",\"level\":\"overlay\",\"line_alpha\":1.0,\"line_color\":\"black\",\"line_dash\":[4,4],\"line_width\":2,\"right_units\":\"screen\",\"syncable\":false,\"top_units\":\"screen\"},\"id\":\"1207\",\"type\":\"BoxAnnotation\"},{\"attributes\":{\"label\":{\"value\":\"0\"},\"renderers\":[{\"id\":\"1227\"}]},\"id\":\"1240\",\"type\":\"LegendItem\"},{\"attributes\":{\"fill_alpha\":{\"value\":0.2},\"fill_color\":{\"value\":\"#30a2da\"},\"hatch_alpha\":{\"value\":0.2},\"hatch_color\":{\"value\":\"#30a2da\"},\"line_alpha\":{\"value\":0.2},\"line_color\":{\"value\":\"#30a2da\"},\"size\":{\"value\":5.477225575051661},\"x\":{\"field\":\"TotalCoinsMined\"},\"y\":{\"field\":\"TotalCoinSupply\"}},\"id\":\"1226\",\"type\":\"Scatter\"},{\"attributes\":{\"label\":{\"value\":\"3\"},\"renderers\":[{\"id\":\"1294\"}]},\"id\":\"1312\",\"type\":\"LegendItem\"},{\"attributes\":{},\"id\":\"1289\",\"type\":\"Selection\"},{\"attributes\":{\"children\":[{\"id\":\"1178\"},{\"id\":\"1185\"},{\"id\":\"1330\"}],\"margin\":[0,0,0,0],\"name\":\"Row01112\",\"tags\":[\"embedded\"]},\"id\":\"1177\",\"type\":\"Row\"},{\"attributes\":{\"source\":{\"id\":\"1221\"}},\"id\":\"1228\",\"type\":\"CDSView\"},{\"attributes\":{\"coordinates\":null,\"data_source\":{\"id\":\"1288\"},\"glyph\":{\"id\":\"1291\"},\"group\":null,\"hover_glyph\":null,\"muted_glyph\":{\"id\":\"1293\"},\"nonselection_glyph\":{\"id\":\"1292\"},\"selection_glyph\":{\"id\":\"1313\"},\"view\":{\"id\":\"1295\"}},\"id\":\"1294\",\"type\":\"GlyphRenderer\"},{\"attributes\":{\"coordinates\":null,\"data_source\":{\"id\":\"1221\"},\"glyph\":{\"id\":\"1224\"},\"group\":null,\"hover_glyph\":null,\"muted_glyph\":{\"id\":\"1226\"},\"nonselection_glyph\":{\"id\":\"1225\"},\"selection_glyph\":{\"id\":\"1241\"},\"view\":{\"id\":\"1228\"}},\"id\":\"1227\",\"type\":\"GlyphRenderer\"},{\"attributes\":{\"click_policy\":\"mute\",\"coordinates\":null,\"group\":null,\"items\":[{\"id\":\"1240\"},{\"id\":\"1262\"},{\"id\":\"1286\"},{\"id\":\"1312\"}],\"location\":[0,0],\"title\":\"Class\"},\"id\":\"1239\",\"type\":\"Legend\"},{\"attributes\":{\"fill_alpha\":{\"value\":0.1},\"fill_color\":{\"value\":\"#fc4f30\"},\"hatch_alpha\":{\"value\":0.1},\"hatch_color\":{\"value\":\"#fc4f30\"},\"line_alpha\":{\"value\":0.1},\"line_color\":{\"value\":\"#fc4f30\"},\"size\":{\"value\":5.477225575051661},\"x\":{\"field\":\"TotalCoinsMined\"},\"y\":{\"field\":\"TotalCoinSupply\"}},\"id\":\"1246\",\"type\":\"Scatter\"},{\"attributes\":{\"end\":1.1,\"reset_end\":1.1,\"reset_start\":-0.1,\"start\":-0.1,\"tags\":[[[\"TotalCoinSupply\",\"TotalCoinSupply\",null]]]},\"id\":\"1180\",\"type\":\"Range1d\"},{\"attributes\":{},\"id\":\"1236\",\"type\":\"UnionRenderers\"},{\"attributes\":{\"angle\":{\"value\":0.0},\"fill_alpha\":{\"value\":1.0},\"fill_color\":{\"value\":\"#6d904f\"},\"hatch_alpha\":{\"value\":1.0},\"hatch_color\":{\"value\":\"#6d904f\"},\"hatch_scale\":{\"value\":12.0},\"hatch_weight\":{\"value\":1.0},\"line_alpha\":{\"value\":1.0},\"line_cap\":{\"value\":\"butt\"},\"line_color\":{\"value\":\"#6d904f\"},\"line_dash\":{\"value\":[]},\"line_dash_offset\":{\"value\":0},\"line_join\":{\"value\":\"bevel\"},\"line_width\":{\"value\":1},\"marker\":{\"value\":\"circle\"},\"size\":{\"value\":5.477225575051661},\"x\":{\"field\":\"TotalCoinsMined\"},\"y\":{\"field\":\"TotalCoinSupply\"}},\"id\":\"1313\",\"type\":\"Scatter\"},{\"attributes\":{\"fill_alpha\":{\"value\":0.1},\"fill_color\":{\"value\":\"#6d904f\"},\"hatch_alpha\":{\"value\":0.1},\"hatch_color\":{\"value\":\"#6d904f\"},\"line_alpha\":{\"value\":0.1},\"line_color\":{\"value\":\"#6d904f\"},\"size\":{\"value\":5.477225575051661},\"x\":{\"field\":\"TotalCoinsMined\"},\"y\":{\"field\":\"TotalCoinSupply\"}},\"id\":\"1292\",\"type\":\"Scatter\"},{\"attributes\":{},\"id\":\"1222\",\"type\":\"Selection\"},{\"attributes\":{},\"id\":\"1309\",\"type\":\"UnionRenderers\"},{\"attributes\":{\"angle\":{\"value\":0.0},\"fill_alpha\":{\"value\":1.0},\"fill_color\":{\"value\":\"#30a2da\"},\"hatch_alpha\":{\"value\":1.0},\"hatch_color\":{\"value\":\"#30a2da\"},\"hatch_scale\":{\"value\":12.0},\"hatch_weight\":{\"value\":1.0},\"line_alpha\":{\"value\":1.0},\"line_cap\":{\"value\":\"butt\"},\"line_color\":{\"value\":\"#30a2da\"},\"line_dash\":{\"value\":[]},\"line_dash_offset\":{\"value\":0},\"line_join\":{\"value\":\"bevel\"},\"line_width\":{\"value\":1},\"marker\":{\"value\":\"circle\"},\"size\":{\"value\":5.477225575051661},\"x\":{\"field\":\"TotalCoinsMined\"},\"y\":{\"field\":\"TotalCoinSupply\"}},\"id\":\"1241\",\"type\":\"Scatter\"},{\"attributes\":{},\"id\":\"1216\",\"type\":\"BasicTickFormatter\"},{\"attributes\":{\"label\":{\"value\":\"2\"},\"renderers\":[{\"id\":\"1270\"}]},\"id\":\"1286\",\"type\":\"LegendItem\"},{\"attributes\":{\"fill_color\":{\"value\":\"#6d904f\"},\"hatch_color\":{\"value\":\"#6d904f\"},\"line_color\":{\"value\":\"#6d904f\"},\"size\":{\"value\":5.477225575051661},\"x\":{\"field\":\"TotalCoinsMined\"},\"y\":{\"field\":\"TotalCoinSupply\"}},\"id\":\"1291\",\"type\":\"Scatter\"},{\"attributes\":{},\"id\":\"1220\",\"type\":\"AllLabels\"},{\"attributes\":{},\"id\":\"1259\",\"type\":\"UnionRenderers\"},{\"attributes\":{\"fill_alpha\":{\"value\":0.2},\"fill_color\":{\"value\":\"#e5ae38\"},\"hatch_alpha\":{\"value\":0.2},\"hatch_color\":{\"value\":\"#e5ae38\"},\"line_alpha\":{\"value\":0.2},\"line_color\":{\"value\":\"#e5ae38\"},\"size\":{\"value\":5.477225575051661},\"x\":{\"field\":\"TotalCoinsMined\"},\"y\":{\"field\":\"TotalCoinSupply\"}},\"id\":\"1269\",\"type\":\"Scatter\"},{\"attributes\":{\"fill_alpha\":{\"value\":0.1},\"fill_color\":{\"value\":\"#30a2da\"},\"hatch_alpha\":{\"value\":0.1},\"hatch_color\":{\"value\":\"#30a2da\"},\"line_alpha\":{\"value\":0.1},\"line_color\":{\"value\":\"#30a2da\"},\"size\":{\"value\":5.477225575051661},\"x\":{\"field\":\"TotalCoinsMined\"},\"y\":{\"field\":\"TotalCoinSupply\"}},\"id\":\"1225\",\"type\":\"Scatter\"},{\"attributes\":{},\"id\":\"1190\",\"type\":\"LinearScale\"},{\"attributes\":{\"coordinates\":null,\"data_source\":{\"id\":\"1242\"},\"glyph\":{\"id\":\"1245\"},\"group\":null,\"hover_glyph\":null,\"muted_glyph\":{\"id\":\"1247\"},\"nonselection_glyph\":{\"id\":\"1246\"},\"selection_glyph\":{\"id\":\"1263\"},\"view\":{\"id\":\"1249\"}},\"id\":\"1248\",\"type\":\"GlyphRenderer\"},{\"attributes\":{\"below\":[{\"id\":\"1194\"}],\"center\":[{\"id\":\"1197\"},{\"id\":\"1201\"}],\"height\":300,\"left\":[{\"id\":\"1198\"}],\"margin\":[5,5,5,5],\"min_border_bottom\":10,\"min_border_left\":10,\"min_border_right\":10,\"min_border_top\":10,\"renderers\":[{\"id\":\"1227\"},{\"id\":\"1248\"},{\"id\":\"1270\"},{\"id\":\"1294\"}],\"right\":[{\"id\":\"1239\"}],\"sizing_mode\":\"fixed\",\"title\":{\"id\":\"1186\"},\"toolbar\":{\"id\":\"1208\"},\"width\":700,\"x_range\":{\"id\":\"1179\"},\"x_scale\":{\"id\":\"1190\"},\"y_range\":{\"id\":\"1180\"},\"y_scale\":{\"id\":\"1192\"}},\"id\":\"1185\",\"subtype\":\"Figure\",\"type\":\"Plot\"},{\"attributes\":{\"margin\":[5,5,5,5],\"name\":\"HSpacer01117\",\"sizing_mode\":\"stretch_width\"},\"id\":\"1330\",\"type\":\"Spacer\"},{\"attributes\":{\"coordinates\":null,\"group\":null,\"text_color\":\"black\",\"text_font_size\":\"12pt\"},\"id\":\"1186\",\"type\":\"Title\"},{\"attributes\":{\"label\":{\"value\":\"1\"},\"renderers\":[{\"id\":\"1248\"}]},\"id\":\"1262\",\"type\":\"LegendItem\"},{\"attributes\":{\"angle\":{\"value\":0.0},\"fill_alpha\":{\"value\":1.0},\"fill_color\":{\"value\":\"#fc4f30\"},\"hatch_alpha\":{\"value\":1.0},\"hatch_color\":{\"value\":\"#fc4f30\"},\"hatch_scale\":{\"value\":12.0},\"hatch_weight\":{\"value\":1.0},\"line_alpha\":{\"value\":1.0},\"line_cap\":{\"value\":\"butt\"},\"line_color\":{\"value\":\"#fc4f30\"},\"line_dash\":{\"value\":[]},\"line_dash_offset\":{\"value\":0},\"line_join\":{\"value\":\"bevel\"},\"line_width\":{\"value\":1},\"marker\":{\"value\":\"circle\"},\"size\":{\"value\":5.477225575051661},\"x\":{\"field\":\"TotalCoinsMined\"},\"y\":{\"field\":\"TotalCoinSupply\"}},\"id\":\"1263\",\"type\":\"Scatter\"},{\"attributes\":{},\"id\":\"1243\",\"type\":\"Selection\"},{\"attributes\":{\"axis_label\":\"TotalCoinsMined\",\"coordinates\":null,\"formatter\":{\"id\":\"1216\"},\"group\":null,\"major_label_policy\":{\"id\":\"1217\"},\"ticker\":{\"id\":\"1195\"}},\"id\":\"1194\",\"type\":\"LinearAxis\"},{\"attributes\":{\"fill_alpha\":{\"value\":0.2},\"fill_color\":{\"value\":\"#fc4f30\"},\"hatch_alpha\":{\"value\":0.2},\"hatch_color\":{\"value\":\"#fc4f30\"},\"line_alpha\":{\"value\":0.2},\"line_color\":{\"value\":\"#fc4f30\"},\"size\":{\"value\":5.477225575051661},\"x\":{\"field\":\"TotalCoinsMined\"},\"y\":{\"field\":\"TotalCoinSupply\"}},\"id\":\"1247\",\"type\":\"Scatter\"},{\"attributes\":{},\"id\":\"1192\",\"type\":\"LinearScale\"},{\"attributes\":{\"axis\":{\"id\":\"1198\"},\"coordinates\":null,\"dimension\":1,\"grid_line_color\":null,\"group\":null,\"ticker\":null},\"id\":\"1201\",\"type\":\"Grid\"},{\"attributes\":{\"source\":{\"id\":\"1242\"}},\"id\":\"1249\",\"type\":\"CDSView\"},{\"attributes\":{},\"id\":\"1195\",\"type\":\"BasicTicker\"},{\"attributes\":{\"axis\":{\"id\":\"1194\"},\"coordinates\":null,\"grid_line_color\":null,\"group\":null,\"ticker\":null},\"id\":\"1197\",\"type\":\"Grid\"},{\"attributes\":{\"fill_color\":{\"value\":\"#fc4f30\"},\"hatch_color\":{\"value\":\"#fc4f30\"},\"line_color\":{\"value\":\"#fc4f30\"},\"size\":{\"value\":5.477225575051661},\"x\":{\"field\":\"TotalCoinsMined\"},\"y\":{\"field\":\"TotalCoinSupply\"}},\"id\":\"1245\",\"type\":\"Scatter\"},{\"attributes\":{},\"id\":\"1199\",\"type\":\"BasicTicker\"},{\"attributes\":{\"axis_label\":\"TotalCoinSupply\",\"coordinates\":null,\"formatter\":{\"id\":\"1219\"},\"group\":null,\"major_label_policy\":{\"id\":\"1220\"},\"ticker\":{\"id\":\"1199\"}},\"id\":\"1198\",\"type\":\"LinearAxis\"},{\"attributes\":{\"data\":{\"Class\":[0,0,0,0,0,0,0,0,0,0,0,0,0,0,0,0,0,0,0,0,0,0,0,0,0,0,0,0,0,0,0,0,0,0,0,0,0,0,0,0,0,0,0,0,0,0,0,0,0,0,0,0,0,0,0,0,0,0,0,0,0,0,0,0,0,0,0,0,0,0,0,0,0,0,0,0,0,0,0,0,0,0,0,0,0,0,0,0,0,0,0,0,0,0,0,0,0,0,0,0,0,0,0,0,0,0,0,0,0,0,0,0,0,0,0,0,0,0,0,0,0,0,0,0,0,0,0,0,0,0,0,0,0,0,0,0,0,0,0,0,0,0,0,0,0,0,0,0,0,0,0,0,0,0,0,0,0,0,0,0,0,0,0,0,0,0,0,0,0,0,0,0,0,0,0,0,0,0,0,0,0,0,0,0,0,0,0,0,0,0,0,0,0,0,0,0,0,0,0,0,0,0,0,0,0,0,0,0,0,0,0,0,0,0,0,0,0,0,0,0,0,0,0,0,0,0,0,0,0,0,0,0,0,0,0,0,0,0,0,0,0,0,0,0,0,0,0,0,0,0,0,0,0,0,0,0,0,0,0,0,0,0,0,0,0,0,0,0,0,0,0,0,0,0,0,0,0,0,0,0,0,0,0,0,0,0,0,0,0],\"CoinName\":[\"42 Coin\",\"404Coin\",\"EliteCoin\",\"Dash\",\"Bitshares\",\"BitcoinDark\",\"PayCoin\",\"KoboCoin\",\"Aurora Coin\",\"BlueCoin\",\"EnergyCoin\",\"BitBar\",\"CryptoBullion\",\"CasinoCoin\",\"Diamond\",\"Exclusive Coin\",\"FlutterCoin\",\"HoboNickels\",\"HyperStake\",\"IOCoin\",\"MaxCoin\",\"MintCoin\",\"MazaCoin\",\"Nautilus Coin\",\"NavCoin\",\"OpalCoin\",\"Orbitcoin\",\"PotCoin\",\"PhoenixCoin\",\"Reddcoin\",\"SuperCoin\",\"SyncCoin\",\"TeslaCoin\",\"TittieCoin\",\"TorCoin\",\"UnitaryStatus Dollar\",\"UltraCoin\",\"VeriCoin\",\"X11 Coin\",\"Crypti\",\"StealthCoin\",\"ZCC Coin\",\"BurstCoin\",\"StorjCoin\",\"Neutron\",\"FairCoin\",\"RubyCoin\",\"Kore\",\"Dnotes\",\"8BIT Coin\",\"Sativa Coin\",\"Ucoin\",\"Vtorrent\",\"IslaCoin\",\"Nexus\",\"Droidz\",\"Squall Coin\",\"Diggits\",\"Paycon\",\"Emercoin\",\"EverGreenCoin\",\"Decred\",\"EDRCoin\",\"Hitcoin\",\"DubaiCoin\",\"PWR Coin\",\"BillaryCoin\",\"GPU Coin\",\"EuropeCoin\",\"ZeitCoin\",\"SwingCoin\",\"SafeExchangeCoin\",\"Nebuchadnezzar\",\"Ratecoin\",\"Revenu\",\"Clockcoin\",\"VIP Tokens\",\"BitSend\",\"Let it Ride\",\"PutinCoin\",\"iBankCoin\",\"Frankywillcoin\",\"MudraCoin\",\"Lutetium Coin\",\"GoldBlocks\",\"CarterCoin\",\"BitTokens\",\"MustangCoin\",\"ZoneCoin\",\"RootCoin\",\"BitCurrency\",\"Swiscoin\",\"BuzzCoin\",\"Opair\",\"PesoBit\",\"Halloween Coin\",\"CoffeeCoin\",\"RoyalCoin\",\"GanjaCoin V2\",\"TeamUP\",\"LanaCoin\",\"ARK\",\"InsaneCoin\",\"EmberCoin\",\"XenixCoin\",\"FreeCoin\",\"PLNCoin\",\"AquariusCoin\",\"Creatio\",\"Eternity\",\"Eurocoin\",\"BitcoinFast\",\"Stakenet\",\"BitConnect Coin\",\"MoneyCoin\",\"Enigma\",\"Russiacoin\",\"PandaCoin\",\"GameUnits\",\"GAKHcoin\",\"Allsafe\",\"LiteCreed\",\"Klingon Empire Darsek\",\"Internet of People\",\"KushCoin\",\"Printerium\",\"Impeach\",\"Zilbercoin\",\"FirstCoin\",\"FindCoin\",\"OpenChat\",\"RenosCoin\",\"VirtacoinPlus\",\"TajCoin\",\"Impact\",\"Atmos\",\"HappyCoin\",\"MacronCoin\",\"Condensate\",\"Independent Money System\",\"ArgusCoin\",\"LomoCoin\",\"ProCurrency\",\"GoldReserve\",\"GrowthCoin\",\"Phreak\",\"Degas Coin\",\"HTML5 Coin\",\"Ultimate Secure Cash\",\"QTUM\",\"Espers\",\"Denarius\",\"Virta Unique Coin\",\"Bitcoin Planet\",\"BritCoin\",\"Linda\",\"DeepOnion\",\"Signatum\",\"Cream\",\"Monoeci\",\"Draftcoin\",\"Stakecoin\",\"CoinonatX\",\"Ethereum Dark\",\"Obsidian\",\"Cardano\",\"Regalcoin\",\"TrezarCoin\",\"TerraNovaCoin\",\"Rupee\",\"WomenCoin\",\"Theresa May Coin\",\"NamoCoin\",\"LUXCoin\",\"Xios\",\"Bitcloud 2.0\",\"KekCoin\",\"BlackholeCoin\",\"Infinity Economics\",\"Magnet\",\"Lamden Tau\",\"Electra\",\"Bitcoin Diamond\",\"Cash & Back Coin\",\"Bulwark\",\"Kalkulus\",\"GermanCoin\",\"LiteCoin Ultra\",\"PhantomX\",\"Digiwage\",\"Trollcoin\",\"Litecoin Plus\",\"Monkey Project\",\"TokenPay\",\"1717 Masonic Commemorative Token\",\"My Big Coin\",\"Unified Society USDEX\",\"Tokyo Coin\",\"BiblePay\",\"Stipend\",\"Pushi\",\"Ellerium\",\"Velox\",\"Ontology\",\"Bitspace\",\"Briacoin\",\"Ignition\",\"MedicCoin\",\"Bitcoin Green\",\"Deviant Coin\",\"Abjcoin\",\"Semux\",\"Carebit\",\"Zealium\",\"Proton\",\"iDealCash\",\"Bitcoin Incognito\",\"HollyWoodCoin\",\"Swisscoin\",\"Xt3ch\",\"TheVig\",\"EmaratCoin\",\"Dekado\",\"Lynx\",\"Poseidon Quark\",\"BitcoinWSpectrum\",\"Muse\",\"Trivechain\",\"Dystem\",\"Giant\",\"Peony Coin\",\"Absolute Coin\",\"Vitae\",\"TPCash\",\"ARENON\",\"EUNO\",\"MMOCoin\",\"Ketan\",\"XDNA\",\"PAXEX\",\"ThunderStake\",\"Kcash\",\"Bettex coin\",\"BitMoney\",\"Junson Ming Chan Coin\",\"HerbCoin\",\"PirateCash\",\"Oduwa\",\"Galilel\",\"Crypto Sports\",\"Credit\",\"Dash Platinum\",\"Nasdacoin\",\"Beetle Coin\",\"Titan Coin\",\"Award\",\"Insane Coin\",\"ALAX\",\"LiteDoge\",\"TruckCoin\",\"OrangeCoin\",\"BitstarCoin\",\"NeosCoin\",\"HyperCoin\",\"PinkCoin\",\"AudioCoin\",\"IncaKoin\",\"Piggy Coin\",\"Genstake\",\"XiaoMiCoin\",\"CapriCoin\",\" ClubCoin\",\"Radium\",\"Creditbit \",\"OKCash\",\"Lisk\",\"HiCoin\",\"WhiteCoin\",\"FriendshipCoin\",\"Triangles Coin\",\"EOS\",\"Oxycoin\",\"TigerCash\",\"Waves\",\"Particl\",\"Nxt\",\"ZEPHYR\",\"Gapcoin\",\"BitcoinPlus\"],\"TotalCoinSupply\":{\"__ndarray__\":\"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\",\"dtype\":\"float64\",\"order\":\"little\",\"shape\":[289]},\"TotalCoinsMined\":{\"__ndarray__\":\"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\",\"dtype\":\"float64\",\"order\":\"little\",\"shape\":[289]}},\"selected\":{\"id\":\"1222\"},\"selection_policy\":{\"id\":\"1236\"}},\"id\":\"1221\",\"type\":\"ColumnDataSource\"},{\"attributes\":{},\"id\":\"1283\",\"type\":\"UnionRenderers\"},{\"attributes\":{},\"id\":\"1219\",\"type\":\"BasicTickFormatter\"},{\"attributes\":{\"fill_color\":{\"value\":\"#30a2da\"},\"hatch_color\":{\"value\":\"#30a2da\"},\"line_color\":{\"value\":\"#30a2da\"},\"size\":{\"value\":5.477225575051661},\"x\":{\"field\":\"TotalCoinsMined\"},\"y\":{\"field\":\"TotalCoinSupply\"}},\"id\":\"1224\",\"type\":\"Scatter\"},{\"attributes\":{},\"id\":\"1265\",\"type\":\"Selection\"},{\"attributes\":{\"margin\":[5,5,5,5],\"name\":\"HSpacer01116\",\"sizing_mode\":\"stretch_width\"},\"id\":\"1178\",\"type\":\"Spacer\"},{\"attributes\":{\"data\":{\"Class\":[1,1,1,1],\"CoinName\":[\"Vechain\",\"LitecoinCash\",\"Poa Network\",\"Acute Angle Cloud\"],\"TotalCoinSupply\":{\"__ndarray__\":\"+nQumcwytj+8eapDboZLP4RaKOGWizA//Knx0k1iUD8=\",\"dtype\":\"float64\",\"order\":\"little\",\"shape\":[4]},\"TotalCoinsMined\":{\"__ndarray__\":\"zaDgBxGurD+QpMXySiFFP5wZJXiPEis/ekNDBbiMUD8=\",\"dtype\":\"float64\",\"order\":\"little\",\"shape\":[4]}},\"selected\":{\"id\":\"1243\"},\"selection_policy\":{\"id\":\"1259\"}},\"id\":\"1242\",\"type\":\"ColumnDataSource\"},{\"attributes\":{\"data\":{\"Class\":[2],\"CoinName\":[\"BitTorrent\"],\"TotalCoinSupply\":{\"__ndarray__\":\"rkfhehSu7z8=\",\"dtype\":\"float64\",\"order\":\"little\",\"shape\":[1]},\"TotalCoinsMined\":{\"__ndarray__\":\"AAAAAAAA8D8=\",\"dtype\":\"float64\",\"order\":\"little\",\"shape\":[1]}},\"selected\":{\"id\":\"1265\"},\"selection_policy\":{\"id\":\"1283\"}},\"id\":\"1264\",\"type\":\"ColumnDataSource\"},{\"attributes\":{},\"id\":\"1202\",\"type\":\"SaveTool\"},{\"attributes\":{\"end\":1.042857142857143,\"reset_end\":1.042857142857143,\"reset_start\":-0.04285714285714286,\"start\":-0.04285714285714286,\"tags\":[[[\"TotalCoinsMined\",\"TotalCoinsMined\",null]]]},\"id\":\"1179\",\"type\":\"Range1d\"},{\"attributes\":{\"data\":{\"Class\":[3,3,3,3,3,3,3,3,3,3,3,3,3,3,3,3,3,3,3,3,3,3,3,3,3,3,3,3,3,3,3,3,3,3,3,3,3,3,3,3,3,3,3,3,3,3,3,3,3,3,3,3,3,3,3,3,3,3,3,3,3,3,3,3,3,3,3,3,3,3,3,3,3,3,3,3,3,3,3,3,3,3,3,3,3,3,3,3,3,3,3,3,3,3,3,3,3,3,3,3,3,3,3,3,3,3,3,3,3,3,3,3,3,3,3,3,3,3,3,3,3,3,3,3,3,3,3,3,3,3,3,3,3,3,3,3,3,3,3,3,3,3,3,3,3,3,3,3,3,3,3,3,3,3,3,3,3,3,3,3,3,3,3,3,3,3,3,3,3,3,3,3,3,3,3,3,3,3,3,3,3,3,3,3,3,3,3,3,3,3,3,3,3,3,3,3,3,3,3,3,3,3,3,3,3,3,3,3,3,3,3,3,3,3,3,3,3,3,3,3,3,3,3,3,3,3,3,3,3,3,3,3,3,3,3,3,3,3],\"CoinName\":[\"Bitcoin\",\"Ethereum\",\"Litecoin\",\"Monero\",\"Ethereum Classic\",\"ZCash\",\"DigiByte\",\"ProsperCoin\",\"Spreadcoin\",\"Argentum\",\"MyriadCoin\",\"MoonCoin\",\"ZetaCoin\",\"SexCoin\",\"Quatloo\",\"QuarkCoin\",\"Riecoin\",\"Digitalcoin \",\"Catcoin\",\"CannaCoin\",\"CryptCoin\",\"Verge\",\"DevCoin\",\"EarthCoin\",\"E-Gulden\",\"Einsteinium\",\"Emerald\",\"Franko\",\"FeatherCoin\",\"GrandCoin\",\"GlobalCoin\",\"GoldCoin\",\"Infinite Coin\",\"IXcoin\",\"KrugerCoin\",\"LuckyCoin\",\"Litebar \",\"MegaCoin\",\"MediterraneanCoin\",\"MinCoin\",\"NobleCoin\",\"Namecoin\",\"NyanCoin\",\"RonPaulCoin\",\"StableCoin\",\"SmartCoin\",\"SysCoin\",\"TigerCoin\",\"TerraCoin\",\"UnbreakableCoin\",\"Unobtanium\",\"UroCoin\",\"ViaCoin\",\"Vertcoin\",\"WorldCoin\",\"JouleCoin\",\"ByteCoin\",\"DigitalNote \",\"MonaCoin\",\"Gulden\",\"PesetaCoin\",\"Wild Beast Coin\",\"Flo\",\"ArtByte\",\"Folding Coin\",\"Unitus\",\"CypherPunkCoin\",\"OmniCron\",\"GreenCoin\",\"Cryptonite\",\"MasterCoin\",\"SoonCoin\",\"1Credit\",\"MarsCoin \",\"Crypto\",\"Anarchists Prime\",\"BowsCoin\",\"Song Coin\",\"BitZeny\",\"Expanse\",\"Siacoin\",\"MindCoin\",\"I0coin\",\"Revolution VR\",\"HOdlcoin\",\"Gamecredits\",\"CarpeDiemCoin\",\"Adzcoin\",\"SoilCoin\",\"YoCoin\",\"SibCoin\",\"Francs\",\"BolivarCoin\",\"Omni\",\"PizzaCoin\",\"Komodo\",\"Karbo\",\"ZayedCoin\",\"Circuits of Value\",\"DopeCoin\",\"DollarCoin\",\"Shilling\",\"ZCoin\",\"Elementrem\",\"ZClassic\",\"KiloCoin\",\"ArtexCoin\",\"Kurrent\",\"Cannabis Industry Coin\",\"OsmiumCoin\",\"Bikercoins\",\"HexxCoin\",\"PacCoin\",\"Citadel\",\"BeaverCoin\",\"VaultCoin\",\"Zero\",\"Canada eCoin\",\"Zoin\",\"DubaiCoin\",\"EB3coin\",\"Coinonat\",\"BenjiRolls\",\"ILCoin\",\"EquiTrader\",\"Quantum Resistant Ledger\",\"Dynamic\",\"Nano\",\"ChanCoin\",\"Dinastycoin\",\"DigitalPrice\",\"Unify\",\"SocialCoin\",\"ArcticCoin\",\"DAS\",\"LeviarCoin\",\"Bitcore\",\"gCn Coin\",\"SmartCash\",\"Onix\",\"Bitcoin Cash\",\"Sojourn Coin\",\"NewYorkCoin\",\"FrazCoin\",\"Kronecoin\",\"AdCoin\",\"Linx\",\"Sumokoin\",\"BitcoinZ\",\"Elements\",\"VIVO Coin\",\"Bitcoin Gold\",\"Pirl\",\"eBoost\",\"Pura\",\"Innova\",\"Ellaism\",\"GoByte\",\"SHIELD\",\"UltraNote\",\"BitCoal\",\"DaxxCoin\",\"AC3\",\"Lethean\",\"PopularCoin\",\"Photon\",\"Sucre\",\"SparksPay\",\"GunCoin\",\"IrishCoin\",\"Pioneer Coin\",\"UnitedBitcoin\",\"Interzone\",\"TurtleCoin\",\"MUNcoin\",\"Niobio Cash\",\"ShareChain\",\"Travelflex\",\"KREDS\",\"BitFlip\",\"LottoCoin\",\"Crypto Improvement Fund\",\"Callisto Network\",\"BitTube\",\"Poseidon\",\"Aidos Kuneen\",\"Bitrolium\",\"Alpenschillling\",\"FuturoCoin\",\"Monero Classic\",\"Jumpcoin\",\"Infinex\",\"KEYCO\",\"GINcoin\",\"PlatinCoin\",\"Loki\",\"Newton Coin\",\"MassGrid\",\"PluraCoin\",\"Motion\",\"PlusOneCoin\",\"Axe\",\"HexCoin\",\"Webchain\",\"Ryo\",\"Urals Coin\",\"Qwertycoin\",\"Project Pai\",\"Azart\",\"Xchange\",\"CrypticCoin\",\"Actinium\",\"Bitcoin SV\",\"FREDEnergy\",\"Universal Molecule\",\"Lithium\",\"Exosis\",\"Block-Logic\",\"Beam\",\"Bithereum\",\"SLICE\",\"BLAST\",\"Bitcoin Rhodium\",\"GlobalToken\",\"SolarCoin\",\"UFO Coin\",\"BlakeCoin\",\"Crypto Escudo\",\"Crown Coin\",\"SmileyCoin\",\"Groestlcoin\",\"Bata\",\"Pakcoin\",\"JoinCoin\",\"Vollar\",\"Reality Clash\",\"Beldex\",\"Horizen\"],\"TotalCoinSupply\":{\"__ndarray__\":\"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\",\"dtype\":\"float64\",\"order\":\"little\",\"shape\":[238]},\"TotalCoinsMined\":{\"__ndarray__\":\"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\",\"dtype\":\"float64\",\"order\":\"little\",\"shape\":[238]}},\"selected\":{\"id\":\"1289\"},\"selection_policy\":{\"id\":\"1309\"}},\"id\":\"1288\",\"type\":\"ColumnDataSource\"},{\"attributes\":{\"fill_alpha\":{\"value\":0.1},\"fill_color\":{\"value\":\"#e5ae38\"},\"hatch_alpha\":{\"value\":0.1},\"hatch_color\":{\"value\":\"#e5ae38\"},\"line_alpha\":{\"value\":0.1},\"line_color\":{\"value\":\"#e5ae38\"},\"size\":{\"value\":5.477225575051661},\"x\":{\"field\":\"TotalCoinsMined\"},\"y\":{\"field\":\"TotalCoinSupply\"}},\"id\":\"1268\",\"type\":\"Scatter\"},{\"attributes\":{},\"id\":\"1203\",\"type\":\"PanTool\"},{\"attributes\":{},\"id\":\"1204\",\"type\":\"WheelZoomTool\"},{\"attributes\":{\"fill_color\":{\"value\":\"#e5ae38\"},\"hatch_color\":{\"value\":\"#e5ae38\"},\"line_color\":{\"value\":\"#e5ae38\"},\"size\":{\"value\":5.477225575051661},\"x\":{\"field\":\"TotalCoinsMined\"},\"y\":{\"field\":\"TotalCoinSupply\"}},\"id\":\"1267\",\"type\":\"Scatter\"}],\"root_ids\":[\"1177\"]},\"title\":\"Bokeh Application\",\"version\":\"2.4.3\"}};\n",
       "    var render_items = [{\"docid\":\"b9f8d269-122e-4878-a8fe-e475840cf6c9\",\"root_ids\":[\"1177\"],\"roots\":{\"1177\":\"4d284984-c859-4b32-b65a-fa45a83b0892\"}}];\n",
       "    root.Bokeh.embed.embed_items_notebook(docs_json, render_items);\n",
       "  }\n",
       "  if (root.Bokeh !== undefined && root.Bokeh.Panel !== undefined) {\n",
       "    embed_document(root);\n",
       "  } else {\n",
       "    var attempts = 0;\n",
       "    var timer = setInterval(function(root) {\n",
       "      if (root.Bokeh !== undefined && root.Bokeh.Panel !== undefined) {\n",
       "        clearInterval(timer);\n",
       "        embed_document(root);\n",
       "      } else if (document.readyState == \"complete\") {\n",
       "        attempts++;\n",
       "        if (attempts > 200) {\n",
       "          clearInterval(timer);\n",
       "          console.log(\"Bokeh: ERROR: Unable to run BokehJS code because BokehJS library is missing\");\n",
       "        }\n",
       "      }\n",
       "    }, 25, root)\n",
       "  }\n",
       "})(window);</script>"
      ],
      "text/plain": [
       ":NdOverlay   [Class]\n",
       "   :Scatter   [TotalCoinsMined]   (TotalCoinSupply,CoinName)"
      ]
     },
     "execution_count": 34,
     "metadata": {
      "application/vnd.holoviews_exec.v0+json": {
       "id": "1177"
      }
     },
     "output_type": "execute_result"
    }
   ],
   "source": [
    "# Create a hvplot.scatter plot using x=\"TotalCoinsMined\" and y=\"TotalCoinSupply\".\n",
    "plot_df.hvplot.scatter(x=\"TotalCoinsMined\", y=\"TotalCoinSupply\", by=\"Class\", hover_cols=[\"CoinName\"])\n"
   ]
  }
 ],
 "metadata": {
  "file_extension": ".py",
  "kernelspec": {
   "display_name": "Python 3.7.13 ('mlenv')",
   "language": "python",
   "name": "python3"
  },
  "language_info": {
   "codemirror_mode": {
    "name": "ipython",
    "version": 3
   },
   "file_extension": ".py",
   "mimetype": "text/x-python",
   "name": "python",
   "nbconvert_exporter": "python",
   "pygments_lexer": "ipython3",
   "version": "3.7.13"
  },
  "latex_envs": {
   "LaTeX_envs_menu_present": true,
   "autoclose": false,
   "autocomplete": true,
   "bibliofile": "biblio.bib",
   "cite_by": "apalike",
   "current_citInitial": 1,
   "eqLabelWithNumbers": true,
   "eqNumInitial": 1,
   "hotkeys": {
    "equation": "Ctrl-E",
    "itemize": "Ctrl-I"
   },
   "labels_anchors": false,
   "latex_user_defs": false,
   "report_style_numbering": false,
   "user_envs_cfg": false
  },
  "mimetype": "text/x-python",
  "name": "python",
  "npconvert_exporter": "python",
  "pygments_lexer": "ipython3",
  "version": 3,
  "vscode": {
   "interpreter": {
    "hash": "86969af4118fd2beaee010b14a97d3c8fe7dc31ff55f1528eea7eaecb45368d6"
   }
  }
 },
 "nbformat": 4,
 "nbformat_minor": 2
}
