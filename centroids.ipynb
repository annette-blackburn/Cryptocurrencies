{
 "cells": [
  {
   "cell_type": "code",
   "execution_count": 62,
   "metadata": {},
   "outputs": [],
   "source": [
    "# Initial imports\n",
    "import pandas as pd\n",
    "from sklearn.cluster import KMeans\n",
    "import plotly.express as px\n",
    "import hvplot.pandas"
   ]
  },
  {
   "cell_type": "code",
   "execution_count": 63,
   "metadata": {},
   "outputs": [
    {
     "data": {
      "text/html": [
       "<div>\n",
       "<style scoped>\n",
       "    .dataframe tbody tr th:only-of-type {\n",
       "        vertical-align: middle;\n",
       "    }\n",
       "\n",
       "    .dataframe tbody tr th {\n",
       "        vertical-align: top;\n",
       "    }\n",
       "\n",
       "    .dataframe thead th {\n",
       "        text-align: right;\n",
       "    }\n",
       "</style>\n",
       "<table border=\"1\" class=\"dataframe\">\n",
       "  <thead>\n",
       "    <tr style=\"text-align: right;\">\n",
       "      <th></th>\n",
       "      <th>CustomerID</th>\n",
       "      <th>Card Member</th>\n",
       "      <th>Age</th>\n",
       "      <th>Annual Income</th>\n",
       "      <th>Spending Score (1-100)</th>\n",
       "    </tr>\n",
       "  </thead>\n",
       "  <tbody>\n",
       "    <tr>\n",
       "      <th>0</th>\n",
       "      <td>1</td>\n",
       "      <td>Yes</td>\n",
       "      <td>19.0</td>\n",
       "      <td>15000</td>\n",
       "      <td>39.0</td>\n",
       "    </tr>\n",
       "    <tr>\n",
       "      <th>1</th>\n",
       "      <td>2</td>\n",
       "      <td>Yes</td>\n",
       "      <td>21.0</td>\n",
       "      <td>15000</td>\n",
       "      <td>81.0</td>\n",
       "    </tr>\n",
       "    <tr>\n",
       "      <th>2</th>\n",
       "      <td>3</td>\n",
       "      <td>No</td>\n",
       "      <td>20.0</td>\n",
       "      <td>16000</td>\n",
       "      <td>6.0</td>\n",
       "    </tr>\n",
       "    <tr>\n",
       "      <th>3</th>\n",
       "      <td>4</td>\n",
       "      <td>No</td>\n",
       "      <td>23.0</td>\n",
       "      <td>16000</td>\n",
       "      <td>77.0</td>\n",
       "    </tr>\n",
       "    <tr>\n",
       "      <th>4</th>\n",
       "      <td>5</td>\n",
       "      <td>No</td>\n",
       "      <td>31.0</td>\n",
       "      <td>17000</td>\n",
       "      <td>40.0</td>\n",
       "    </tr>\n",
       "  </tbody>\n",
       "</table>\n",
       "</div>"
      ],
      "text/plain": [
       "   CustomerID Card Member   Age  Annual Income  Spending Score (1-100)\n",
       "0           1         Yes  19.0          15000                    39.0\n",
       "1           2         Yes  21.0          15000                    81.0\n",
       "2           3          No  20.0          16000                     6.0\n",
       "3           4          No  23.0          16000                    77.0\n",
       "4           5          No  31.0          17000                    40.0"
      ]
     },
     "execution_count": 63,
     "metadata": {},
     "output_type": "execute_result"
    }
   ],
   "source": [
    "# Preprocessing data with Pandas\n",
    "file_path = \"/Users/annettedblackburn/Desktop/Data_Analytics_Bootcamp/Module 18 - Unsupervised Machine Learning and Cryptocurrencies/Module/shopping_data.csv\"\n",
    "df_shopping = pd.read_csv(file_path, encoding=\"ISO-8859-1\")\n",
    "df_shopping.head()"
   ]
  },
  {
   "cell_type": "code",
   "execution_count": 64,
   "metadata": {},
   "outputs": [
    {
     "data": {
      "text/plain": [
       "CustomerID                  int64\n",
       "Card Member                object\n",
       "Age                       float64\n",
       "Annual Income               int64\n",
       "Spending Score (1-100)    float64\n",
       "dtype: object"
      ]
     },
     "execution_count": 64,
     "metadata": {},
     "output_type": "execute_result"
    }
   ],
   "source": [
    "df_shopping.dtypes"
   ]
  },
  {
   "cell_type": "code",
   "execution_count": 65,
   "metadata": {},
   "outputs": [
    {
     "data": {
      "text/plain": [
       "CustomerID                203\n",
       "Card Member               201\n",
       "Age                       201\n",
       "Annual Income             203\n",
       "Spending Score (1-100)    202\n",
       "dtype: int64"
      ]
     },
     "execution_count": 65,
     "metadata": {},
     "output_type": "execute_result"
    }
   ],
   "source": [
    "df_shopping.count()"
   ]
  },
  {
   "cell_type": "code",
   "execution_count": 66,
   "metadata": {},
   "outputs": [
    {
     "data": {
      "text/plain": [
       "Index(['CustomerID', 'Card Member', 'Age', 'Annual Income',\n",
       "       'Spending Score (1-100)'],\n",
       "      dtype='object')"
      ]
     },
     "execution_count": 66,
     "metadata": {},
     "output_type": "execute_result"
    }
   ],
   "source": [
    "# Columns\n",
    "df_shopping.columns"
   ]
  },
  {
   "cell_type": "code",
   "execution_count": 67,
   "metadata": {},
   "outputs": [
    {
     "data": {
      "text/plain": [
       "CustomerID                  int64\n",
       "Card Member                object\n",
       "Age                       float64\n",
       "Annual Income               int64\n",
       "Spending Score (1-100)    float64\n",
       "dtype: object"
      ]
     },
     "execution_count": 67,
     "metadata": {},
     "output_type": "execute_result"
    }
   ],
   "source": [
    "df_shopping.dtypes"
   ]
  },
  {
   "cell_type": "code",
   "execution_count": 68,
   "metadata": {},
   "outputs": [
    {
     "name": "stdout",
     "output_type": "stream",
     "text": [
      "ColumnCustomerID has 0 null values.\n",
      "ColumnCard Member has 2 null values.\n",
      "ColumnAge has 2 null values.\n",
      "ColumnAnnual Income has 0 null values.\n",
      "ColumnSpending Score (1-100) has 1 null values.\n"
     ]
    }
   ],
   "source": [
    "# Find null values\n",
    "for column in df_shopping.columns:\n",
    "    print(f\"Column{column} has {df_shopping[column].isnull().sum()} null values.\")"
   ]
  },
  {
   "cell_type": "code",
   "execution_count": 69,
   "metadata": {},
   "outputs": [
    {
     "data": {
      "text/plain": [
       "CustomerID                200\n",
       "Card Member               200\n",
       "Age                       200\n",
       "Annual Income             200\n",
       "Spending Score (1-100)    200\n",
       "dtype: int64"
      ]
     },
     "execution_count": 69,
     "metadata": {},
     "output_type": "execute_result"
    }
   ],
   "source": [
    "# Drop null rows\n",
    "df_shopping = df_shopping.dropna()\n",
    "df_shopping.count()"
   ]
  },
  {
   "cell_type": "code",
   "execution_count": 70,
   "metadata": {},
   "outputs": [
    {
     "name": "stdout",
     "output_type": "stream",
     "text": [
      "Duplicate entries: 0\n"
     ]
    }
   ],
   "source": [
    "# Find duplicate entries\n",
    "print(f\"Duplicate entries: {df_shopping.duplicated().sum()}\")"
   ]
  },
  {
   "cell_type": "code",
   "execution_count": 71,
   "metadata": {},
   "outputs": [
    {
     "data": {
      "text/html": [
       "<div>\n",
       "<style scoped>\n",
       "    .dataframe tbody tr th:only-of-type {\n",
       "        vertical-align: middle;\n",
       "    }\n",
       "\n",
       "    .dataframe tbody tr th {\n",
       "        vertical-align: top;\n",
       "    }\n",
       "\n",
       "    .dataframe thead th {\n",
       "        text-align: right;\n",
       "    }\n",
       "</style>\n",
       "<table border=\"1\" class=\"dataframe\">\n",
       "  <thead>\n",
       "    <tr style=\"text-align: right;\">\n",
       "      <th></th>\n",
       "      <th>Card Member</th>\n",
       "      <th>Age</th>\n",
       "      <th>Annual Income</th>\n",
       "      <th>Spending Score (1-100)</th>\n",
       "    </tr>\n",
       "  </thead>\n",
       "  <tbody>\n",
       "    <tr>\n",
       "      <th>0</th>\n",
       "      <td>Yes</td>\n",
       "      <td>19.0</td>\n",
       "      <td>15000</td>\n",
       "      <td>39.0</td>\n",
       "    </tr>\n",
       "    <tr>\n",
       "      <th>1</th>\n",
       "      <td>Yes</td>\n",
       "      <td>21.0</td>\n",
       "      <td>15000</td>\n",
       "      <td>81.0</td>\n",
       "    </tr>\n",
       "    <tr>\n",
       "      <th>2</th>\n",
       "      <td>No</td>\n",
       "      <td>20.0</td>\n",
       "      <td>16000</td>\n",
       "      <td>6.0</td>\n",
       "    </tr>\n",
       "    <tr>\n",
       "      <th>3</th>\n",
       "      <td>No</td>\n",
       "      <td>23.0</td>\n",
       "      <td>16000</td>\n",
       "      <td>77.0</td>\n",
       "    </tr>\n",
       "    <tr>\n",
       "      <th>4</th>\n",
       "      <td>No</td>\n",
       "      <td>31.0</td>\n",
       "      <td>17000</td>\n",
       "      <td>40.0</td>\n",
       "    </tr>\n",
       "  </tbody>\n",
       "</table>\n",
       "</div>"
      ],
      "text/plain": [
       "  Card Member   Age  Annual Income  Spending Score (1-100)\n",
       "0         Yes  19.0          15000                    39.0\n",
       "1         Yes  21.0          15000                    81.0\n",
       "2          No  20.0          16000                     6.0\n",
       "3          No  23.0          16000                    77.0\n",
       "4          No  31.0          17000                    40.0"
      ]
     },
     "execution_count": 71,
     "metadata": {},
     "output_type": "execute_result"
    }
   ],
   "source": [
    "# Remove CustomerID columns\n",
    "df_shopping.drop(columns=[\"CustomerID\"], inplace=True)\n",
    "df_shopping.head()"
   ]
  },
  {
   "cell_type": "code",
   "execution_count": 72,
   "metadata": {},
   "outputs": [
    {
     "data": {
      "text/html": [
       "<div>\n",
       "<style scoped>\n",
       "    .dataframe tbody tr th:only-of-type {\n",
       "        vertical-align: middle;\n",
       "    }\n",
       "\n",
       "    .dataframe tbody tr th {\n",
       "        vertical-align: top;\n",
       "    }\n",
       "\n",
       "    .dataframe thead th {\n",
       "        text-align: right;\n",
       "    }\n",
       "</style>\n",
       "<table border=\"1\" class=\"dataframe\">\n",
       "  <thead>\n",
       "    <tr style=\"text-align: right;\">\n",
       "      <th></th>\n",
       "      <th>Card Member</th>\n",
       "      <th>Age</th>\n",
       "      <th>Annual Income</th>\n",
       "      <th>Spending Score (1-100)</th>\n",
       "    </tr>\n",
       "  </thead>\n",
       "  <tbody>\n",
       "    <tr>\n",
       "      <th>0</th>\n",
       "      <td>1</td>\n",
       "      <td>19.0</td>\n",
       "      <td>15000</td>\n",
       "      <td>39.0</td>\n",
       "    </tr>\n",
       "    <tr>\n",
       "      <th>1</th>\n",
       "      <td>1</td>\n",
       "      <td>21.0</td>\n",
       "      <td>15000</td>\n",
       "      <td>81.0</td>\n",
       "    </tr>\n",
       "    <tr>\n",
       "      <th>2</th>\n",
       "      <td>0</td>\n",
       "      <td>20.0</td>\n",
       "      <td>16000</td>\n",
       "      <td>6.0</td>\n",
       "    </tr>\n",
       "    <tr>\n",
       "      <th>3</th>\n",
       "      <td>0</td>\n",
       "      <td>23.0</td>\n",
       "      <td>16000</td>\n",
       "      <td>77.0</td>\n",
       "    </tr>\n",
       "    <tr>\n",
       "      <th>4</th>\n",
       "      <td>0</td>\n",
       "      <td>31.0</td>\n",
       "      <td>17000</td>\n",
       "      <td>40.0</td>\n",
       "    </tr>\n",
       "  </tbody>\n",
       "</table>\n",
       "</div>"
      ],
      "text/plain": [
       "   Card Member   Age  Annual Income  Spending Score (1-100)\n",
       "0            1  19.0          15000                    39.0\n",
       "1            1  21.0          15000                    81.0\n",
       "2            0  20.0          16000                     6.0\n",
       "3            0  23.0          16000                    77.0\n",
       "4            0  31.0          17000                    40.0"
      ]
     },
     "execution_count": 72,
     "metadata": {},
     "output_type": "execute_result"
    }
   ],
   "source": [
    "# Transform string column\n",
    "def change_string(member):\n",
    "    if member == \"Yes\":\n",
    "        return 1\n",
    "    else:\n",
    "        return 0\n",
    "\n",
    "df_shopping[\"Card Member\"] = df_shopping[\"Card Member\"].apply(change_string)\n",
    "df_shopping.head()"
   ]
  },
  {
   "cell_type": "code",
   "execution_count": 73,
   "metadata": {},
   "outputs": [
    {
     "data": {
      "text/html": [
       "<div>\n",
       "<style scoped>\n",
       "    .dataframe tbody tr th:only-of-type {\n",
       "        vertical-align: middle;\n",
       "    }\n",
       "\n",
       "    .dataframe tbody tr th {\n",
       "        vertical-align: top;\n",
       "    }\n",
       "\n",
       "    .dataframe thead th {\n",
       "        text-align: right;\n",
       "    }\n",
       "</style>\n",
       "<table border=\"1\" class=\"dataframe\">\n",
       "  <thead>\n",
       "    <tr style=\"text-align: right;\">\n",
       "      <th></th>\n",
       "      <th>Card Member</th>\n",
       "      <th>Age</th>\n",
       "      <th>Annual Income</th>\n",
       "      <th>Spending Score (1-100)</th>\n",
       "    </tr>\n",
       "  </thead>\n",
       "  <tbody>\n",
       "    <tr>\n",
       "      <th>0</th>\n",
       "      <td>1</td>\n",
       "      <td>19.0</td>\n",
       "      <td>150.0</td>\n",
       "      <td>39.0</td>\n",
       "    </tr>\n",
       "    <tr>\n",
       "      <th>1</th>\n",
       "      <td>1</td>\n",
       "      <td>21.0</td>\n",
       "      <td>150.0</td>\n",
       "      <td>81.0</td>\n",
       "    </tr>\n",
       "    <tr>\n",
       "      <th>2</th>\n",
       "      <td>0</td>\n",
       "      <td>20.0</td>\n",
       "      <td>160.0</td>\n",
       "      <td>6.0</td>\n",
       "    </tr>\n",
       "    <tr>\n",
       "      <th>3</th>\n",
       "      <td>0</td>\n",
       "      <td>23.0</td>\n",
       "      <td>160.0</td>\n",
       "      <td>77.0</td>\n",
       "    </tr>\n",
       "    <tr>\n",
       "      <th>4</th>\n",
       "      <td>0</td>\n",
       "      <td>31.0</td>\n",
       "      <td>170.0</td>\n",
       "      <td>40.0</td>\n",
       "    </tr>\n",
       "  </tbody>\n",
       "</table>\n",
       "</div>"
      ],
      "text/plain": [
       "   Card Member   Age  Annual Income  Spending Score (1-100)\n",
       "0            1  19.0          150.0                    39.0\n",
       "1            1  21.0          150.0                    81.0\n",
       "2            0  20.0          160.0                     6.0\n",
       "3            0  23.0          160.0                    77.0\n",
       "4            0  31.0          170.0                    40.0"
      ]
     },
     "execution_count": 73,
     "metadata": {},
     "output_type": "execute_result"
    }
   ],
   "source": [
    "# Transform annual income\n",
    "df_shopping[\"Annual Income\"] = df_shopping[\"Annual Income\"]/100\n",
    "df_shopping.head()"
   ]
  },
  {
   "cell_type": "code",
   "execution_count": 74,
   "metadata": {},
   "outputs": [],
   "source": [
    "file_path = \"/Users/annettedblackburn/Desktop/Data_Analytics_Bootcamp/Module 18 - Unsupervised Machine Learning and Cryptocurrencies/Module/shopping_data_cleaned.csv\"\n",
    "df_shopping.to_csv(file_path, index=False)"
   ]
  },
  {
   "cell_type": "code",
   "execution_count": 86,
   "metadata": {},
   "outputs": [
    {
     "data": {
      "text/html": [
       "<div>\n",
       "<style scoped>\n",
       "    .dataframe tbody tr th:only-of-type {\n",
       "        vertical-align: middle;\n",
       "    }\n",
       "\n",
       "    .dataframe tbody tr th {\n",
       "        vertical-align: top;\n",
       "    }\n",
       "\n",
       "    .dataframe thead th {\n",
       "        text-align: right;\n",
       "    }\n",
       "</style>\n",
       "<table border=\"1\" class=\"dataframe\">\n",
       "  <thead>\n",
       "    <tr style=\"text-align: right;\">\n",
       "      <th></th>\n",
       "      <th>Card Member</th>\n",
       "      <th>Age</th>\n",
       "      <th>Annual Income</th>\n",
       "      <th>Spending Score (1-100)</th>\n",
       "    </tr>\n",
       "  </thead>\n",
       "  <tbody>\n",
       "    <tr>\n",
       "      <th>0</th>\n",
       "      <td>1</td>\n",
       "      <td>19.0</td>\n",
       "      <td>150.0</td>\n",
       "      <td>39.0</td>\n",
       "    </tr>\n",
       "    <tr>\n",
       "      <th>1</th>\n",
       "      <td>1</td>\n",
       "      <td>21.0</td>\n",
       "      <td>150.0</td>\n",
       "      <td>81.0</td>\n",
       "    </tr>\n",
       "    <tr>\n",
       "      <th>2</th>\n",
       "      <td>0</td>\n",
       "      <td>20.0</td>\n",
       "      <td>160.0</td>\n",
       "      <td>6.0</td>\n",
       "    </tr>\n",
       "    <tr>\n",
       "      <th>3</th>\n",
       "      <td>0</td>\n",
       "      <td>23.0</td>\n",
       "      <td>160.0</td>\n",
       "      <td>77.0</td>\n",
       "    </tr>\n",
       "    <tr>\n",
       "      <th>4</th>\n",
       "      <td>0</td>\n",
       "      <td>31.0</td>\n",
       "      <td>170.0</td>\n",
       "      <td>40.0</td>\n",
       "    </tr>\n",
       "    <tr>\n",
       "      <th>5</th>\n",
       "      <td>0</td>\n",
       "      <td>22.0</td>\n",
       "      <td>170.0</td>\n",
       "      <td>76.0</td>\n",
       "    </tr>\n",
       "    <tr>\n",
       "      <th>6</th>\n",
       "      <td>0</td>\n",
       "      <td>35.0</td>\n",
       "      <td>180.0</td>\n",
       "      <td>6.0</td>\n",
       "    </tr>\n",
       "    <tr>\n",
       "      <th>7</th>\n",
       "      <td>0</td>\n",
       "      <td>23.0</td>\n",
       "      <td>180.0</td>\n",
       "      <td>94.0</td>\n",
       "    </tr>\n",
       "    <tr>\n",
       "      <th>8</th>\n",
       "      <td>1</td>\n",
       "      <td>64.0</td>\n",
       "      <td>190.0</td>\n",
       "      <td>3.0</td>\n",
       "    </tr>\n",
       "    <tr>\n",
       "      <th>9</th>\n",
       "      <td>0</td>\n",
       "      <td>30.0</td>\n",
       "      <td>190.0</td>\n",
       "      <td>72.0</td>\n",
       "    </tr>\n",
       "  </tbody>\n",
       "</table>\n",
       "</div>"
      ],
      "text/plain": [
       "   Card Member   Age  Annual Income  Spending Score (1-100)\n",
       "0            1  19.0          150.0                    39.0\n",
       "1            1  21.0          150.0                    81.0\n",
       "2            0  20.0          160.0                     6.0\n",
       "3            0  23.0          160.0                    77.0\n",
       "4            0  31.0          170.0                    40.0\n",
       "5            0  22.0          170.0                    76.0\n",
       "6            0  35.0          180.0                     6.0\n",
       "7            0  23.0          180.0                    94.0\n",
       "8            1  64.0          190.0                     3.0\n",
       "9            0  30.0          190.0                    72.0"
      ]
     },
     "execution_count": 86,
     "metadata": {},
     "output_type": "execute_result"
    }
   ],
   "source": [
    "# Load data\n",
    "file_path = \"/Users/annettedblackburn/Desktop/Data_Analytics_Bootcamp/Module 18 - Unsupervised Machine Learning and Cryptocurrencies/Module/shopping_data_cleaned.csv\"\n",
    "cleaned_df_shopping = pd.read_csv(file_path)\n",
    "cleaned_df_shopping.head(10)"
   ]
  },
  {
   "cell_type": "code",
   "execution_count": 76,
   "metadata": {},
   "outputs": [
    {
     "data": {},
     "metadata": {},
     "output_type": "display_data"
    },
    {
     "data": {
      "application/vnd.holoviews_exec.v0+json": "",
      "text/html": [
       "<div id='1562'>\n",
       "  <div class=\"bk-root\" id=\"c498b3c6-ad8e-46b0-ab28-0aedcb150a06\" data-root-id=\"1562\"></div>\n",
       "</div>\n",
       "<script type=\"application/javascript\">(function(root) {\n",
       "  function embed_document(root) {\n",
       "    var docs_json = {\"b0aa9d19-5370-4606-95fe-06e2b0df69b2\":{\"defs\":[{\"extends\":null,\"module\":null,\"name\":\"ReactiveHTML1\",\"overrides\":[],\"properties\":[]},{\"extends\":null,\"module\":null,\"name\":\"FlexBox1\",\"overrides\":[],\"properties\":[{\"default\":\"flex-start\",\"kind\":null,\"name\":\"align_content\"},{\"default\":\"flex-start\",\"kind\":null,\"name\":\"align_items\"},{\"default\":\"row\",\"kind\":null,\"name\":\"flex_direction\"},{\"default\":\"wrap\",\"kind\":null,\"name\":\"flex_wrap\"},{\"default\":\"flex-start\",\"kind\":null,\"name\":\"justify_content\"}]},{\"extends\":null,\"module\":null,\"name\":\"GridStack1\",\"overrides\":[],\"properties\":[{\"default\":\"warn\",\"kind\":null,\"name\":\"mode\"},{\"default\":null,\"kind\":null,\"name\":\"ncols\"},{\"default\":null,\"kind\":null,\"name\":\"nrows\"},{\"default\":true,\"kind\":null,\"name\":\"allow_resize\"},{\"default\":true,\"kind\":null,\"name\":\"allow_drag\"},{\"default\":[],\"kind\":null,\"name\":\"state\"}]},{\"extends\":null,\"module\":null,\"name\":\"click1\",\"overrides\":[],\"properties\":[{\"default\":\"\",\"kind\":null,\"name\":\"terminal_output\"},{\"default\":\"\",\"kind\":null,\"name\":\"debug_name\"},{\"default\":0,\"kind\":null,\"name\":\"clears\"}]},{\"extends\":null,\"module\":null,\"name\":\"NotificationAreaBase1\",\"overrides\":[],\"properties\":[{\"default\":\"bottom-right\",\"kind\":null,\"name\":\"position\"},{\"default\":0,\"kind\":null,\"name\":\"_clear\"}]},{\"extends\":null,\"module\":null,\"name\":\"NotificationArea1\",\"overrides\":[],\"properties\":[{\"default\":[],\"kind\":null,\"name\":\"notifications\"},{\"default\":\"bottom-right\",\"kind\":null,\"name\":\"position\"},{\"default\":0,\"kind\":null,\"name\":\"_clear\"},{\"default\":[{\"background\":\"#ffc107\",\"icon\":{\"className\":\"fas fa-exclamation-triangle\",\"color\":\"white\",\"tagName\":\"i\"},\"type\":\"warning\"},{\"background\":\"#007bff\",\"icon\":{\"className\":\"fas fa-info-circle\",\"color\":\"white\",\"tagName\":\"i\"},\"type\":\"info\"}],\"kind\":null,\"name\":\"types\"}]},{\"extends\":null,\"module\":null,\"name\":\"Notification\",\"overrides\":[],\"properties\":[{\"default\":null,\"kind\":null,\"name\":\"background\"},{\"default\":3000,\"kind\":null,\"name\":\"duration\"},{\"default\":null,\"kind\":null,\"name\":\"icon\"},{\"default\":\"\",\"kind\":null,\"name\":\"message\"},{\"default\":null,\"kind\":null,\"name\":\"notification_type\"},{\"default\":false,\"kind\":null,\"name\":\"_destroyed\"}]},{\"extends\":null,\"module\":null,\"name\":\"TemplateActions1\",\"overrides\":[],\"properties\":[{\"default\":0,\"kind\":null,\"name\":\"open_modal\"},{\"default\":0,\"kind\":null,\"name\":\"close_modal\"}]},{\"extends\":null,\"module\":null,\"name\":\"MaterialTemplateActions1\",\"overrides\":[],\"properties\":[{\"default\":0,\"kind\":null,\"name\":\"open_modal\"},{\"default\":0,\"kind\":null,\"name\":\"close_modal\"}]}],\"roots\":{\"references\":[{\"attributes\":{\"margin\":[5,5,5,5],\"name\":\"HSpacer01417\",\"sizing_mode\":\"stretch_width\"},\"id\":\"1622\",\"type\":\"Spacer\"},{\"attributes\":{},\"id\":\"1584\",\"type\":\"SaveTool\"},{\"attributes\":{},\"id\":\"1577\",\"type\":\"BasicTicker\"},{\"attributes\":{\"coordinates\":null,\"group\":null,\"text_color\":\"black\",\"text_font_size\":\"12pt\"},\"id\":\"1568\",\"type\":\"Title\"},{\"attributes\":{\"fill_alpha\":{\"value\":0.1},\"fill_color\":{\"value\":\"#30a2da\"},\"hatch_alpha\":{\"value\":0.1},\"hatch_color\":{\"value\":\"#30a2da\"},\"line_alpha\":{\"value\":0.1},\"line_color\":{\"value\":\"#30a2da\"},\"size\":{\"value\":5.477225575051661},\"x\":{\"field\":\"Annual Income\"},\"y\":{\"field\":\"Spending Score (1-100)\"}},\"id\":\"1601\",\"type\":\"Scatter\"},{\"attributes\":{},\"id\":\"1581\",\"type\":\"BasicTicker\"},{\"attributes\":{\"bottom_units\":\"screen\",\"coordinates\":null,\"fill_alpha\":0.5,\"fill_color\":\"lightgrey\",\"group\":null,\"left_units\":\"screen\",\"level\":\"overlay\",\"line_alpha\":1.0,\"line_color\":\"black\",\"line_dash\":[4,4],\"line_width\":2,\"right_units\":\"screen\",\"syncable\":false,\"top_units\":\"screen\"},\"id\":\"1589\",\"type\":\"BoxAnnotation\"},{\"attributes\":{},\"id\":\"1588\",\"type\":\"ResetTool\"},{\"attributes\":{\"coordinates\":null,\"data_source\":{\"id\":\"1597\"},\"glyph\":{\"id\":\"1600\"},\"group\":null,\"hover_glyph\":null,\"muted_glyph\":{\"id\":\"1602\"},\"nonselection_glyph\":{\"id\":\"1601\"},\"selection_glyph\":{\"id\":\"1605\"},\"view\":{\"id\":\"1604\"}},\"id\":\"1603\",\"type\":\"GlyphRenderer\"},{\"attributes\":{\"angle\":{\"value\":0.0},\"fill_alpha\":{\"value\":1.0},\"fill_color\":{\"value\":\"#30a2da\"},\"hatch_alpha\":{\"value\":1.0},\"hatch_color\":{\"value\":\"#30a2da\"},\"hatch_scale\":{\"value\":12.0},\"hatch_weight\":{\"value\":1.0},\"line_alpha\":{\"value\":1.0},\"line_cap\":{\"value\":\"butt\"},\"line_color\":{\"value\":\"#30a2da\"},\"line_dash\":{\"value\":[]},\"line_dash_offset\":{\"value\":0},\"line_join\":{\"value\":\"bevel\"},\"line_width\":{\"value\":1},\"marker\":{\"value\":\"circle\"},\"size\":{\"value\":5.477225575051661},\"x\":{\"field\":\"Annual Income\"},\"y\":{\"field\":\"Spending Score (1-100)\"}},\"id\":\"1605\",\"type\":\"Scatter\"},{\"attributes\":{\"source\":{\"id\":\"1597\"}},\"id\":\"1604\",\"type\":\"CDSView\"},{\"attributes\":{\"fill_alpha\":{\"value\":0.2},\"fill_color\":{\"value\":\"#30a2da\"},\"hatch_alpha\":{\"value\":0.2},\"hatch_color\":{\"value\":\"#30a2da\"},\"line_alpha\":{\"value\":0.2},\"line_color\":{\"value\":\"#30a2da\"},\"size\":{\"value\":5.477225575051661},\"x\":{\"field\":\"Annual Income\"},\"y\":{\"field\":\"Spending Score (1-100)\"}},\"id\":\"1602\",\"type\":\"Scatter\"},{\"attributes\":{\"tools\":[{\"id\":\"1566\"},{\"id\":\"1584\"},{\"id\":\"1585\"},{\"id\":\"1586\"},{\"id\":\"1587\"},{\"id\":\"1588\"}]},\"id\":\"1590\",\"type\":\"Toolbar\"},{\"attributes\":{\"end\":1422.2857142857142,\"reset_end\":1422.2857142857142,\"reset_start\":97.71428571428572,\"start\":97.71428571428572,\"tags\":[[[\"Annual Income\",\"Annual Income\",null]]]},\"id\":\"1564\",\"type\":\"Range1d\"},{\"attributes\":{},\"id\":\"1610\",\"type\":\"BasicTickFormatter\"},{\"attributes\":{\"axis_label\":\"Annual Income\",\"coordinates\":null,\"formatter\":{\"id\":\"1607\"},\"group\":null,\"major_label_policy\":{\"id\":\"1608\"},\"ticker\":{\"id\":\"1577\"}},\"id\":\"1576\",\"type\":\"LinearAxis\"},{\"attributes\":{\"margin\":[5,5,5,5],\"name\":\"HSpacer01416\",\"sizing_mode\":\"stretch_width\"},\"id\":\"1563\",\"type\":\"Spacer\"},{\"attributes\":{\"axis_label\":\"Spending Score (1-100)\",\"coordinates\":null,\"formatter\":{\"id\":\"1610\"},\"group\":null,\"major_label_policy\":{\"id\":\"1611\"},\"ticker\":{\"id\":\"1581\"}},\"id\":\"1580\",\"type\":\"LinearAxis\"},{\"attributes\":{\"callback\":null,\"renderers\":[{\"id\":\"1603\"}],\"tags\":[\"hv_created\"],\"tooltips\":[[\"Annual Income\",\"@{Annual_Income}\"],[\"Spending Score (1-100)\",\"@{Spending_Score_left_parenthesis_1_hyphen_minus_100_right_parenthesis}\"]]},\"id\":\"1566\",\"type\":\"HoverTool\"},{\"attributes\":{},\"id\":\"1586\",\"type\":\"WheelZoomTool\"},{\"attributes\":{\"end\":108.8,\"reset_end\":108.8,\"reset_start\":-8.8,\"start\":-8.8,\"tags\":[[[\"Spending Score (1-100)\",\"Spending Score (1-100)\",null]]]},\"id\":\"1565\",\"type\":\"Range1d\"},{\"attributes\":{},\"id\":\"1608\",\"type\":\"AllLabels\"},{\"attributes\":{\"children\":[{\"id\":\"1563\"},{\"id\":\"1567\"},{\"id\":\"1622\"}],\"margin\":[0,0,0,0],\"name\":\"Row01412\",\"tags\":[\"embedded\"]},\"id\":\"1562\",\"type\":\"Row\"},{\"attributes\":{\"below\":[{\"id\":\"1576\"}],\"center\":[{\"id\":\"1579\"},{\"id\":\"1583\"}],\"height\":300,\"left\":[{\"id\":\"1580\"}],\"margin\":[5,5,5,5],\"min_border_bottom\":10,\"min_border_left\":10,\"min_border_right\":10,\"min_border_top\":10,\"renderers\":[{\"id\":\"1603\"}],\"sizing_mode\":\"fixed\",\"title\":{\"id\":\"1568\"},\"toolbar\":{\"id\":\"1590\"},\"width\":700,\"x_range\":{\"id\":\"1564\"},\"x_scale\":{\"id\":\"1572\"},\"y_range\":{\"id\":\"1565\"},\"y_scale\":{\"id\":\"1574\"}},\"id\":\"1567\",\"subtype\":\"Figure\",\"type\":\"Plot\"},{\"attributes\":{},\"id\":\"1611\",\"type\":\"AllLabels\"},{\"attributes\":{\"fill_color\":{\"value\":\"#30a2da\"},\"hatch_color\":{\"value\":\"#30a2da\"},\"line_color\":{\"value\":\"#30a2da\"},\"size\":{\"value\":5.477225575051661},\"x\":{\"field\":\"Annual Income\"},\"y\":{\"field\":\"Spending Score (1-100)\"}},\"id\":\"1600\",\"type\":\"Scatter\"},{\"attributes\":{},\"id\":\"1607\",\"type\":\"BasicTickFormatter\"},{\"attributes\":{\"axis\":{\"id\":\"1580\"},\"coordinates\":null,\"dimension\":1,\"grid_line_color\":null,\"group\":null,\"ticker\":null},\"id\":\"1583\",\"type\":\"Grid\"},{\"attributes\":{},\"id\":\"1585\",\"type\":\"PanTool\"},{\"attributes\":{},\"id\":\"1619\",\"type\":\"UnionRenderers\"},{\"attributes\":{\"axis\":{\"id\":\"1576\"},\"coordinates\":null,\"grid_line_color\":null,\"group\":null,\"ticker\":null},\"id\":\"1579\",\"type\":\"Grid\"},{\"attributes\":{\"overlay\":{\"id\":\"1589\"}},\"id\":\"1587\",\"type\":\"BoxZoomTool\"},{\"attributes\":{},\"id\":\"1598\",\"type\":\"Selection\"},{\"attributes\":{},\"id\":\"1572\",\"type\":\"LinearScale\"},{\"attributes\":{},\"id\":\"1574\",\"type\":\"LinearScale\"},{\"attributes\":{\"data\":{\"Annual Income\":{\"__ndarray__\":\"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\",\"dtype\":\"float64\",\"order\":\"little\",\"shape\":[200]},\"Annual_Income\":{\"__ndarray__\":\"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\",\"dtype\":\"float64\",\"order\":\"little\",\"shape\":[200]},\"Spending Score (1-100)\":{\"__ndarray__\":\"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\",\"dtype\":\"float64\",\"order\":\"little\",\"shape\":[200]},\"Spending_Score_left_parenthesis_1_hyphen_minus_100_right_parenthesis\":{\"__ndarray__\":\"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\",\"dtype\":\"float64\",\"order\":\"little\",\"shape\":[200]}},\"selected\":{\"id\":\"1598\"},\"selection_policy\":{\"id\":\"1619\"}},\"id\":\"1597\",\"type\":\"ColumnDataSource\"}],\"root_ids\":[\"1562\"]},\"title\":\"Bokeh Application\",\"version\":\"2.4.3\"}};\n",
       "    var render_items = [{\"docid\":\"b0aa9d19-5370-4606-95fe-06e2b0df69b2\",\"root_ids\":[\"1562\"],\"roots\":{\"1562\":\"c498b3c6-ad8e-46b0-ab28-0aedcb150a06\"}}];\n",
       "    root.Bokeh.embed.embed_items_notebook(docs_json, render_items);\n",
       "  }\n",
       "  if (root.Bokeh !== undefined && root.Bokeh.Panel !== undefined) {\n",
       "    embed_document(root);\n",
       "  } else {\n",
       "    var attempts = 0;\n",
       "    var timer = setInterval(function(root) {\n",
       "      if (root.Bokeh !== undefined && root.Bokeh.Panel !== undefined) {\n",
       "        clearInterval(timer);\n",
       "        embed_document(root);\n",
       "      } else if (document.readyState == \"complete\") {\n",
       "        attempts++;\n",
       "        if (attempts > 200) {\n",
       "          clearInterval(timer);\n",
       "          console.log(\"Bokeh: ERROR: Unable to run BokehJS code because BokehJS library is missing\");\n",
       "        }\n",
       "      }\n",
       "    }, 25, root)\n",
       "  }\n",
       "})(window);</script>"
      ],
      "text/plain": [
       ":Scatter   [Annual Income]   (Spending Score (1-100))"
      ]
     },
     "execution_count": 76,
     "metadata": {
      "application/vnd.holoviews_exec.v0+json": {
       "id": "1562"
      }
     },
     "output_type": "execute_result"
    }
   ],
   "source": [
    "# Use the new column names\n",
    "cleaned_df_shopping.hvplot.scatter(x=\"Annual Income\", y=\"Spending Score (1-100)\")"
   ]
  },
  {
   "cell_type": "code",
   "execution_count": 77,
   "metadata": {},
   "outputs": [],
   "source": [
    "# Function to cluster and plot dataset\n",
    "def test_cluster_amount(df, clusters):\n",
    "    model = KMeans(n_clusters=clusters, random_state=5)\n",
    "    model\n",
    "\n",
    "    # Fitting model\n",
    "    model.fit(df)\n",
    "\n",
    "    # Add a new class column to df_iris\n",
    "    df[\"class\"] = model.labels_"
   ]
  },
  {
   "cell_type": "code",
   "execution_count": 78,
   "metadata": {},
   "outputs": [
    {
     "data": {},
     "metadata": {},
     "output_type": "display_data"
    },
    {
     "data": {
      "application/vnd.holoviews_exec.v0+json": "",
      "text/html": [
       "<div id='1674'>\n",
       "  <div class=\"bk-root\" id=\"ee3d2183-1d38-4507-863c-f094ba9ef1f8\" data-root-id=\"1674\"></div>\n",
       "</div>\n",
       "<script type=\"application/javascript\">(function(root) {\n",
       "  function embed_document(root) {\n",
       "    var docs_json = {\"c7e4be79-2460-4ceb-a10f-5822b1e74816\":{\"defs\":[{\"extends\":null,\"module\":null,\"name\":\"ReactiveHTML1\",\"overrides\":[],\"properties\":[]},{\"extends\":null,\"module\":null,\"name\":\"FlexBox1\",\"overrides\":[],\"properties\":[{\"default\":\"flex-start\",\"kind\":null,\"name\":\"align_content\"},{\"default\":\"flex-start\",\"kind\":null,\"name\":\"align_items\"},{\"default\":\"row\",\"kind\":null,\"name\":\"flex_direction\"},{\"default\":\"wrap\",\"kind\":null,\"name\":\"flex_wrap\"},{\"default\":\"flex-start\",\"kind\":null,\"name\":\"justify_content\"}]},{\"extends\":null,\"module\":null,\"name\":\"GridStack1\",\"overrides\":[],\"properties\":[{\"default\":\"warn\",\"kind\":null,\"name\":\"mode\"},{\"default\":null,\"kind\":null,\"name\":\"ncols\"},{\"default\":null,\"kind\":null,\"name\":\"nrows\"},{\"default\":true,\"kind\":null,\"name\":\"allow_resize\"},{\"default\":true,\"kind\":null,\"name\":\"allow_drag\"},{\"default\":[],\"kind\":null,\"name\":\"state\"}]},{\"extends\":null,\"module\":null,\"name\":\"click1\",\"overrides\":[],\"properties\":[{\"default\":\"\",\"kind\":null,\"name\":\"terminal_output\"},{\"default\":\"\",\"kind\":null,\"name\":\"debug_name\"},{\"default\":0,\"kind\":null,\"name\":\"clears\"}]},{\"extends\":null,\"module\":null,\"name\":\"NotificationAreaBase1\",\"overrides\":[],\"properties\":[{\"default\":\"bottom-right\",\"kind\":null,\"name\":\"position\"},{\"default\":0,\"kind\":null,\"name\":\"_clear\"}]},{\"extends\":null,\"module\":null,\"name\":\"NotificationArea1\",\"overrides\":[],\"properties\":[{\"default\":[],\"kind\":null,\"name\":\"notifications\"},{\"default\":\"bottom-right\",\"kind\":null,\"name\":\"position\"},{\"default\":0,\"kind\":null,\"name\":\"_clear\"},{\"default\":[{\"background\":\"#ffc107\",\"icon\":{\"className\":\"fas fa-exclamation-triangle\",\"color\":\"white\",\"tagName\":\"i\"},\"type\":\"warning\"},{\"background\":\"#007bff\",\"icon\":{\"className\":\"fas fa-info-circle\",\"color\":\"white\",\"tagName\":\"i\"},\"type\":\"info\"}],\"kind\":null,\"name\":\"types\"}]},{\"extends\":null,\"module\":null,\"name\":\"Notification\",\"overrides\":[],\"properties\":[{\"default\":null,\"kind\":null,\"name\":\"background\"},{\"default\":3000,\"kind\":null,\"name\":\"duration\"},{\"default\":null,\"kind\":null,\"name\":\"icon\"},{\"default\":\"\",\"kind\":null,\"name\":\"message\"},{\"default\":null,\"kind\":null,\"name\":\"notification_type\"},{\"default\":false,\"kind\":null,\"name\":\"_destroyed\"}]},{\"extends\":null,\"module\":null,\"name\":\"TemplateActions1\",\"overrides\":[],\"properties\":[{\"default\":0,\"kind\":null,\"name\":\"open_modal\"},{\"default\":0,\"kind\":null,\"name\":\"close_modal\"}]},{\"extends\":null,\"module\":null,\"name\":\"MaterialTemplateActions1\",\"overrides\":[],\"properties\":[{\"default\":0,\"kind\":null,\"name\":\"open_modal\"},{\"default\":0,\"kind\":null,\"name\":\"close_modal\"}]}],\"roots\":{\"references\":[{\"attributes\":{\"label\":{\"value\":\"0\"},\"renderers\":[{\"id\":\"1722\"}]},\"id\":\"1735\",\"type\":\"LegendItem\"},{\"attributes\":{},\"id\":\"1711\",\"type\":\"BasicTickFormatter\"},{\"attributes\":{\"margin\":[5,5,5,5],\"name\":\"HSpacer01554\",\"sizing_mode\":\"stretch_width\"},\"id\":\"1675\",\"type\":\"Spacer\"},{\"attributes\":{\"overlay\":{\"id\":\"1702\"}},\"id\":\"1700\",\"type\":\"BoxZoomTool\"},{\"attributes\":{\"children\":[{\"id\":\"1675\"},{\"id\":\"1680\"},{\"id\":\"1771\"}],\"margin\":[0,0,0,0],\"name\":\"Row01550\",\"tags\":[\"embedded\"]},\"id\":\"1674\",\"type\":\"Row\"},{\"attributes\":{\"tools\":[{\"id\":\"1678\"},{\"id\":\"1697\"},{\"id\":\"1698\"},{\"id\":\"1699\"},{\"id\":\"1700\"},{\"id\":\"1701\"}]},\"id\":\"1703\",\"type\":\"Toolbar\"},{\"attributes\":{\"data\":{\"Annual Income\":{\"__ndarray__\":\"AAAAAABwgkAAAAAAAHCCQAAAAAAAwIJAAAAAAADAgkAAAAAAAMCCQAAAAAAAwIJAAAAAAADAgkAAAAAAAMCCQAAAAAAAEINAAAAAAAAQg0AAAAAAAGCDQAAAAAAAYINAAAAAAABgg0AAAAAAAGCDQAAAAAAAYINAAAAAAABgg0AAAAAAALCDQAAAAAAAsINAAAAAAACwg0AAAAAAALCDQAAAAAAAsINAAAAAAACwg0AAAAAAAACEQAAAAAAAAIRAAAAAAABQhEAAAAAAAFCEQAAAAAAAUIRAAAAAAABQhEAAAAAAAPCEQAAAAAAA8IRAAAAAAADwhEAAAAAAAPCEQAAAAAAAkIVAAAAAAACQhUAAAAAAAOCFQAAAAAAA4IVAAAAAAAAwhkAAAAAAADCGQAAAAAAAMIZAAAAAAAAwhkAAAAAAADCGQAAAAAAAMIZAAAAAAACAhkAAAAAAAICGQAAAAAAA0IZAAAAAAADQhkAAAAAAANCGQAAAAAAA0IZAAAAAAAAgh0AAAAAAACCHQAAAAAAAcIdAAAAAAABwh0AAAAAAAMCHQAAAAAAAwIdAAAAAAAAQiEAAAAAAABCIQAAAAAAAEIhAAAAAAAAQiEAAAAAAAGCIQAAAAAAAYIhAAAAAAABgiEAAAAAAAGCIQAAAAAAAYIhAAAAAAABgiEAAAAAAAGCIQAAAAAAAYIhAAAAAAABgiEAAAAAAAGCIQAAAAAAAYIhAAAAAAABgiEAAAAAAALCIQAAAAAAAsIhAAAAAAABQiUAAAAAAAFCJQAAAAAAAkIpAAAAAAACQikAAAAAAAOCKQAAAAAAA4IpAAAAAAAAwi0AAAAAAADCLQAAAAAAAMItAAAAAAAAwi0AAAAAAADCLQAAAAAAAMItAAAAAAACAi0AAAAAAAICLQAAAAAAAgItAAAAAAACAi0AAAAAAABCNQAAAAAAAEI1AAAAAAABQjkAAAAAAAFCOQAAAAAAAoI5AAAAAAACgjkAAAAAAAPCOQAAAAAAA8I5AAAAAAACQj0AAAAAAAJCPQAAAAAAAGJBAAAAAAAAYkEAAAAAAABiQQAAAAAAAGJBAAAAAAACokUAAAAAAAKiRQAAAAAAAwJJAAAAAAADAkkAAAAAAALCTQAAAAAAAsJNAAAAAAABolUAAAAAAAGiVQA==\",\"dtype\":\"float64\",\"order\":\"little\",\"shape\":[110]},\"Annual_Income\":{\"__ndarray__\":\"AAAAAABwgkAAAAAAAHCCQAAAAAAAwIJAAAAAAADAgkAAAAAAAMCCQAAAAAAAwIJAAAAAAADAgkAAAAAAAMCCQAAAAAAAEINAAAAAAAAQg0AAAAAAAGCDQAAAAAAAYINAAAAAAABgg0AAAAAAAGCDQAAAAAAAYINAAAAAAABgg0AAAAAAALCDQAAAAAAAsINAAAAAAACwg0AAAAAAALCDQAAAAAAAsINAAAAAAACwg0AAAAAAAACEQAAAAAAAAIRAAAAAAABQhEAAAAAAAFCEQAAAAAAAUIRAAAAAAABQhEAAAAAAAPCEQAAAAAAA8IRAAAAAAADwhEAAAAAAAPCEQAAAAAAAkIVAAAAAAACQhUAAAAAAAOCFQAAAAAAA4IVAAAAAAAAwhkAAAAAAADCGQAAAAAAAMIZAAAAAAAAwhkAAAAAAADCGQAAAAAAAMIZAAAAAAACAhkAAAAAAAICGQAAAAAAA0IZAAAAAAADQhkAAAAAAANCGQAAAAAAA0IZAAAAAAAAgh0AAAAAAACCHQAAAAAAAcIdAAAAAAABwh0AAAAAAAMCHQAAAAAAAwIdAAAAAAAAQiEAAAAAAABCIQAAAAAAAEIhAAAAAAAAQiEAAAAAAAGCIQAAAAAAAYIhAAAAAAABgiEAAAAAAAGCIQAAAAAAAYIhAAAAAAABgiEAAAAAAAGCIQAAAAAAAYIhAAAAAAABgiEAAAAAAAGCIQAAAAAAAYIhAAAAAAABgiEAAAAAAALCIQAAAAAAAsIhAAAAAAABQiUAAAAAAAFCJQAAAAAAAkIpAAAAAAACQikAAAAAAAOCKQAAAAAAA4IpAAAAAAAAwi0AAAAAAADCLQAAAAAAAMItAAAAAAAAwi0AAAAAAADCLQAAAAAAAMItAAAAAAACAi0AAAAAAAICLQAAAAAAAgItAAAAAAACAi0AAAAAAABCNQAAAAAAAEI1AAAAAAABQjkAAAAAAAFCOQAAAAAAAoI5AAAAAAACgjkAAAAAAAPCOQAAAAAAA8I5AAAAAAACQj0AAAAAAAJCPQAAAAAAAGJBAAAAAAAAYkEAAAAAAABiQQAAAAAAAGJBAAAAAAACokUAAAAAAAKiRQAAAAAAAwJJAAAAAAADAkkAAAAAAALCTQAAAAAAAsJNAAAAAAABolUAAAAAAAGiVQA==\",\"dtype\":\"float64\",\"order\":\"little\",\"shape\":[110]},\"Spending Score (1-100)\":{\"__ndarray__\":\"AAAAAACAS0AAAAAAAIBEQAAAAAAAgEhAAAAAAAAAREAAAAAAAABFQAAAAAAAAEpAAAAAAACAR0AAAAAAAABJQAAAAAAAAEVAAAAAAACASEAAAAAAAIBEQAAAAAAAAEhAAAAAAACATUAAAAAAAIBLQAAAAAAAAExAAAAAAAAARUAAAAAAAABJQAAAAAAAAEdAAAAAAACARUAAAAAAAABIQAAAAAAAAEpAAAAAAAAAS0AAAAAAAABFQAAAAAAAAEdAAAAAAAAASEAAAAAAAABJQAAAAAAAgEVAAAAAAACATUAAAAAAAIBFQAAAAAAAgExAAAAAAAAATEAAAAAAAABEQAAAAAAAAE1AAAAAAADAVkAAAAAAAAA9QAAAAAAAQFNAAAAAAACAQUAAAAAAAMBXQAAAAAAAACZAAAAAAADAUkAAAAAAAAAiQAAAAAAAwFJAAAAAAAAAQUAAAAAAAMBRQAAAAAAAABRAAAAAAAAAVkAAAAAAAAAcQAAAAAAAQFJAAAAAAAAAJEAAAAAAAABSQAAAAAAAABRAAAAAAABAV0AAAAAAAABEQAAAAAAAwFVAAAAAAAAAKEAAAAAAAEBYQAAAAAAAAEJAAAAAAACAUkAAAAAAAAA2QAAAAAAAgFZAAAAAAAAAMUAAAAAAAABWQAAAAAAAADRAAAAAAAAAU0AAAAAAAAAwQAAAAAAAQFZAAAAAAAAA8D8AAAAAAIBTQAAAAAAAAPA/AAAAAABAUkAAAAAAAIBBQAAAAAAAwFRAAAAAAAAAFEAAAAAAAEBXQAAAAAAAADpAAAAAAADAUkAAAAAAAAA0QAAAAAAAwFdAAAAAAAAAO0AAAAAAAIBPQAAAAAAAACpAAAAAAADAUkAAAAAAAAAkQAAAAAAAAFdAAAAAAAAAKkAAAAAAAIBVQAAAAAAAAC5AAAAAAABAUUAAAAAAAAAsQAAAAAAAgFZAAAAAAAAAQEAAAAAAAIBVQAAAAAAAAC5AAAAAAAAAVkAAAAAAAIBDQAAAAAAAQFhAAAAAAAAAOEAAAAAAAABRQAAAAAAAADFAAAAAAABAVUAAAAAAAAA3QAAAAAAAQFFAAAAAAAAAIEAAAAAAAMBWQAAAAAAAADBAAAAAAADAU0AAAAAAAAA8QAAAAAAAgFJAAAAAAAAAMkAAAAAAAMBUQA==\",\"dtype\":\"float64\",\"order\":\"little\",\"shape\":[110]},\"Spending_Score_left_parenthesis_1_hyphen_minus_100_right_parenthesis\":{\"__ndarray__\":\"AAAAAACAS0AAAAAAAIBEQAAAAAAAgEhAAAAAAAAAREAAAAAAAABFQAAAAAAAAEpAAAAAAACAR0AAAAAAAABJQAAAAAAAAEVAAAAAAACASEAAAAAAAIBEQAAAAAAAAEhAAAAAAACATUAAAAAAAIBLQAAAAAAAAExAAAAAAAAARUAAAAAAAABJQAAAAAAAAEdAAAAAAACARUAAAAAAAABIQAAAAAAAAEpAAAAAAAAAS0AAAAAAAABFQAAAAAAAAEdAAAAAAAAASEAAAAAAAABJQAAAAAAAgEVAAAAAAACATUAAAAAAAIBFQAAAAAAAgExAAAAAAAAATEAAAAAAAABEQAAAAAAAAE1AAAAAAADAVkAAAAAAAAA9QAAAAAAAQFNAAAAAAACAQUAAAAAAAMBXQAAAAAAAACZAAAAAAADAUkAAAAAAAAAiQAAAAAAAwFJAAAAAAAAAQUAAAAAAAMBRQAAAAAAAABRAAAAAAAAAVkAAAAAAAAAcQAAAAAAAQFJAAAAAAAAAJEAAAAAAAABSQAAAAAAAABRAAAAAAABAV0AAAAAAAABEQAAAAAAAwFVAAAAAAAAAKEAAAAAAAEBYQAAAAAAAAEJAAAAAAACAUkAAAAAAAAA2QAAAAAAAgFZAAAAAAAAAMUAAAAAAAABWQAAAAAAAADRAAAAAAAAAU0AAAAAAAAAwQAAAAAAAQFZAAAAAAAAA8D8AAAAAAIBTQAAAAAAAAPA/AAAAAABAUkAAAAAAAIBBQAAAAAAAwFRAAAAAAAAAFEAAAAAAAEBXQAAAAAAAADpAAAAAAADAUkAAAAAAAAA0QAAAAAAAwFdAAAAAAAAAO0AAAAAAAIBPQAAAAAAAACpAAAAAAADAUkAAAAAAAAAkQAAAAAAAAFdAAAAAAAAAKkAAAAAAAIBVQAAAAAAAAC5AAAAAAABAUUAAAAAAAAAsQAAAAAAAgFZAAAAAAAAAQEAAAAAAAIBVQAAAAAAAAC5AAAAAAAAAVkAAAAAAAIBDQAAAAAAAQFhAAAAAAAAAOEAAAAAAAABRQAAAAAAAADFAAAAAAABAVUAAAAAAAAA3QAAAAAAAQFFAAAAAAAAAIEAAAAAAAMBWQAAAAAAAADBAAAAAAADAU0AAAAAAAAA8QAAAAAAAgFJAAAAAAAAAMkAAAAAAAMBUQA==\",\"dtype\":\"float64\",\"order\":\"little\",\"shape\":[110]},\"class\":[0,0,0,0,0,0,0,0,0,0,0,0,0,0,0,0,0,0,0,0,0,0,0,0,0,0,0,0,0,0,0,0,0,0,0,0,0,0,0,0,0,0,0,0,0,0,0,0,0,0,0,0,0,0,0,0,0,0,0,0,0,0,0,0,0,0,0,0,0,0,0,0,0,0,0,0,0,0,0,0,0,0,0,0,0,0,0,0,0,0,0,0,0,0,0,0,0,0,0,0,0,0,0,0,0,0,0,0,0,0]},\"selected\":{\"id\":\"1717\"},\"selection_policy\":{\"id\":\"1731\"}},\"id\":\"1716\",\"type\":\"ColumnDataSource\"},{\"attributes\":{\"label\":{\"value\":\"1\"},\"renderers\":[{\"id\":\"1743\"}]},\"id\":\"1757\",\"type\":\"LegendItem\"},{\"attributes\":{},\"id\":\"1685\",\"type\":\"LinearScale\"},{\"attributes\":{\"data\":{\"Annual Income\":{\"__ndarray__\":\"AAAAAADAYkAAAAAAAMBiQAAAAAAAAGRAAAAAAAAAZEAAAAAAAEBlQAAAAAAAQGVAAAAAAACAZkAAAAAAAIBmQAAAAAAAwGdAAAAAAADAZ0AAAAAAAMBnQAAAAAAAwGdAAAAAAAAAaUAAAAAAAABpQAAAAAAAAGlAAAAAAAAAaUAAAAAAAEBqQAAAAAAAQGpAAAAAAADAbEAAAAAAAMBsQAAAAAAAAG5AAAAAAAAAbkAAAAAAAEBvQAAAAAAAQG9AAAAAAACAcUAAAAAAAIBxQAAAAAAAgHFAAAAAAACAcUAAAAAAACByQAAAAAAAIHJAAAAAAADAckAAAAAAAMByQAAAAAAAoHRAAAAAAACgdEAAAAAAAKB0QAAAAAAAoHRAAAAAAABAdUAAAAAAAEB1QAAAAAAAIHdAAAAAAAAgd0AAAAAAAMB3QAAAAAAAwHdAAAAAAABgeEAAAAAAAGB4QAAAAAAAYHhAAAAAAABgeEAAAAAAAAB5QAAAAAAAAHlAAAAAAAAAeUAAAAAAAAB5QAAAAAAAQHpAAAAAAABAekAAAAAAAOB6QAAAAAAA4HpAAAAAAADgekAAAAAAAOB6QAAAAAAAgHtAAAAAAACAe0AAAAAAAMB8QAAAAAAAwHxAAAAAAADAfEAAAAAAAMB8QAAAAAAAYH1AAAAAAABgfUAAAAAAAAB+QAAAAAAAAH5AAAAAAAAAfkAAAAAAAAB+QAAAAAAAAH5AAAAAAAAAfkAAAAAAAKB+QAAAAAAAoH5AAAAAAABAf0AAAAAAAEB/QAAAAAAA4IBAAAAAAADggEAAAAAAAOCAQAAAAAAA4IBAAAAAAADggEAAAAAAAOCAQAAAAAAA4IBAAAAAAADggEAAAAAAAOCAQAAAAAAA4IBAAAAAAADggEAAAAAAAOCAQAAAAAAA0IFAAAAAAADQgUAAAAAAACCCQAAAAAAAIIJA\",\"dtype\":\"float64\",\"order\":\"little\",\"shape\":[90]},\"Annual_Income\":{\"__ndarray__\":\"AAAAAADAYkAAAAAAAMBiQAAAAAAAAGRAAAAAAAAAZEAAAAAAAEBlQAAAAAAAQGVAAAAAAACAZkAAAAAAAIBmQAAAAAAAwGdAAAAAAADAZ0AAAAAAAMBnQAAAAAAAwGdAAAAAAAAAaUAAAAAAAABpQAAAAAAAAGlAAAAAAAAAaUAAAAAAAEBqQAAAAAAAQGpAAAAAAADAbEAAAAAAAMBsQAAAAAAAAG5AAAAAAAAAbkAAAAAAAEBvQAAAAAAAQG9AAAAAAACAcUAAAAAAAIBxQAAAAAAAgHFAAAAAAACAcUAAAAAAACByQAAAAAAAIHJAAAAAAADAckAAAAAAAMByQAAAAAAAoHRAAAAAAACgdEAAAAAAAKB0QAAAAAAAoHRAAAAAAABAdUAAAAAAAEB1QAAAAAAAIHdAAAAAAAAgd0AAAAAAAMB3QAAAAAAAwHdAAAAAAABgeEAAAAAAAGB4QAAAAAAAYHhAAAAAAABgeEAAAAAAAAB5QAAAAAAAAHlAAAAAAAAAeUAAAAAAAAB5QAAAAAAAQHpAAAAAAABAekAAAAAAAOB6QAAAAAAA4HpAAAAAAADgekAAAAAAAOB6QAAAAAAAgHtAAAAAAACAe0AAAAAAAMB8QAAAAAAAwHxAAAAAAADAfEAAAAAAAMB8QAAAAAAAYH1AAAAAAABgfUAAAAAAAAB+QAAAAAAAAH5AAAAAAAAAfkAAAAAAAAB+QAAAAAAAAH5AAAAAAAAAfkAAAAAAAKB+QAAAAAAAoH5AAAAAAABAf0AAAAAAAEB/QAAAAAAA4IBAAAAAAADggEAAAAAAAOCAQAAAAAAA4IBAAAAAAADggEAAAAAAAOCAQAAAAAAA4IBAAAAAAADggEAAAAAAAOCAQAAAAAAA4IBAAAAAAADggEAAAAAAAOCAQAAAAAAA0IFAAAAAAADQgUAAAAAAACCCQAAAAAAAIIJA\",\"dtype\":\"float64\",\"order\":\"little\",\"shape\":[90]},\"Spending Score (1-100)\":{\"__ndarray__\":\"AAAAAACAQ0AAAAAAAEBUQAAAAAAAABhAAAAAAABAU0AAAAAAAABEQAAAAAAAAFNAAAAAAAAAGEAAAAAAAIBXQAAAAAAAAAhAAAAAAAAAUkAAAAAAAAAsQAAAAAAAwFhAAAAAAAAALkAAAAAAAEBTQAAAAAAAACpAAAAAAADAU0AAAAAAAIBBQAAAAAAAgFBAAAAAAAAAPUAAAAAAAIBYQAAAAAAAgEFAAAAAAABAUkAAAAAAAAAUQAAAAAAAQFJAAAAAAAAALEAAAAAAAIBUQAAAAAAAAEBAAAAAAACATkAAAAAAAAA/QAAAAAAAwFVAAAAAAAAAEEAAAAAAAEBSQAAAAAAAABBAAAAAAAAAV0AAAAAAAAAsQAAAAAAAQFRAAAAAAAAAMUAAAAAAAEBSQAAAAAAAADpAAAAAAADAUkAAAAAAAIBBQAAAAAAAAFdAAAAAAAAAQkAAAAAAAIBOQAAAAAAAADxAAAAAAABAUEAAAAAAAIBLQAAAAAAAgEdAAAAAAAAARUAAAAAAAABFQAAAAAAAAEpAAAAAAAAATkAAAAAAAABLQAAAAAAAAE5AAAAAAACARkAAAAAAAIBEQAAAAAAAAElAAAAAAAAAR0AAAAAAAIBJQAAAAAAAAEdAAAAAAAAATEAAAAAAAIBLQAAAAAAAAEpAAAAAAACATUAAAAAAAIBJQAAAAAAAgE1AAAAAAAAASUAAAAAAAABIQAAAAAAAgE1AAAAAAACAR0AAAAAAAIBLQAAAAAAAAEVAAAAAAACASEAAAAAAAABMQAAAAAAAgEdAAAAAAAAAS0AAAAAAAIBKQAAAAAAAAEhAAAAAAAAASkAAAAAAAABFQAAAAAAAgElAAAAAAACAS0AAAAAAAIBEQAAAAAAAAEZAAAAAAACATEAAAAAAAABHQAAAAAAAAE1AAAAAAACAS0AAAAAAAABOQAAAAAAAAEdA\",\"dtype\":\"float64\",\"order\":\"little\",\"shape\":[90]},\"Spending_Score_left_parenthesis_1_hyphen_minus_100_right_parenthesis\":{\"__ndarray__\":\"AAAAAACAQ0AAAAAAAEBUQAAAAAAAABhAAAAAAABAU0AAAAAAAABEQAAAAAAAAFNAAAAAAAAAGEAAAAAAAIBXQAAAAAAAAAhAAAAAAAAAUkAAAAAAAAAsQAAAAAAAwFhAAAAAAAAALkAAAAAAAEBTQAAAAAAAACpAAAAAAADAU0AAAAAAAIBBQAAAAAAAgFBAAAAAAAAAPUAAAAAAAIBYQAAAAAAAgEFAAAAAAABAUkAAAAAAAAAUQAAAAAAAQFJAAAAAAAAALEAAAAAAAIBUQAAAAAAAAEBAAAAAAACATkAAAAAAAAA/QAAAAAAAwFVAAAAAAAAAEEAAAAAAAEBSQAAAAAAAABBAAAAAAAAAV0AAAAAAAAAsQAAAAAAAQFRAAAAAAAAAMUAAAAAAAEBSQAAAAAAAADpAAAAAAADAUkAAAAAAAIBBQAAAAAAAAFdAAAAAAAAAQkAAAAAAAIBOQAAAAAAAADxAAAAAAABAUEAAAAAAAIBLQAAAAAAAgEdAAAAAAAAARUAAAAAAAABFQAAAAAAAAEpAAAAAAAAATkAAAAAAAABLQAAAAAAAAE5AAAAAAACARkAAAAAAAIBEQAAAAAAAAElAAAAAAAAAR0AAAAAAAIBJQAAAAAAAAEdAAAAAAAAATEAAAAAAAIBLQAAAAAAAAEpAAAAAAACATUAAAAAAAIBJQAAAAAAAgE1AAAAAAAAASUAAAAAAAABIQAAAAAAAgE1AAAAAAACAR0AAAAAAAIBLQAAAAAAAAEVAAAAAAACASEAAAAAAAABMQAAAAAAAgEdAAAAAAAAAS0AAAAAAAIBKQAAAAAAAAEhAAAAAAAAASkAAAAAAAABFQAAAAAAAgElAAAAAAACAS0AAAAAAAIBEQAAAAAAAAEZAAAAAAACATEAAAAAAAABHQAAAAAAAAE1AAAAAAACAS0AAAAAAAABOQAAAAAAAAEdA\",\"dtype\":\"float64\",\"order\":\"little\",\"shape\":[90]},\"class\":[1,1,1,1,1,1,1,1,1,1,1,1,1,1,1,1,1,1,1,1,1,1,1,1,1,1,1,1,1,1,1,1,1,1,1,1,1,1,1,1,1,1,1,1,1,1,1,1,1,1,1,1,1,1,1,1,1,1,1,1,1,1,1,1,1,1,1,1,1,1,1,1,1,1,1,1,1,1,1,1,1,1,1,1,1,1,1,1,1,1]},\"selected\":{\"id\":\"1738\"},\"selection_policy\":{\"id\":\"1754\"}},\"id\":\"1737\",\"type\":\"ColumnDataSource\"},{\"attributes\":{\"fill_alpha\":{\"value\":0.2},\"fill_color\":{\"value\":\"#fc4f30\"},\"hatch_alpha\":{\"value\":0.2},\"hatch_color\":{\"value\":\"#fc4f30\"},\"line_alpha\":{\"value\":0.2},\"line_color\":{\"value\":\"#fc4f30\"},\"size\":{\"value\":5.477225575051661},\"x\":{\"field\":\"Annual Income\"},\"y\":{\"field\":\"Spending Score (1-100)\"}},\"id\":\"1742\",\"type\":\"Scatter\"},{\"attributes\":{},\"id\":\"1715\",\"type\":\"AllLabels\"},{\"attributes\":{\"coordinates\":null,\"group\":null,\"text_color\":\"black\",\"text_font_size\":\"12pt\"},\"id\":\"1681\",\"type\":\"Title\"},{\"attributes\":{},\"id\":\"1701\",\"type\":\"ResetTool\"},{\"attributes\":{\"source\":{\"id\":\"1737\"}},\"id\":\"1744\",\"type\":\"CDSView\"},{\"attributes\":{},\"id\":\"1714\",\"type\":\"BasicTickFormatter\"},{\"attributes\":{\"bottom_units\":\"screen\",\"coordinates\":null,\"fill_alpha\":0.5,\"fill_color\":\"lightgrey\",\"group\":null,\"left_units\":\"screen\",\"level\":\"overlay\",\"line_alpha\":1.0,\"line_color\":\"black\",\"line_dash\":[4,4],\"line_width\":2,\"right_units\":\"screen\",\"syncable\":false,\"top_units\":\"screen\"},\"id\":\"1702\",\"type\":\"BoxAnnotation\"},{\"attributes\":{\"coordinates\":null,\"data_source\":{\"id\":\"1716\"},\"glyph\":{\"id\":\"1719\"},\"group\":null,\"hover_glyph\":null,\"muted_glyph\":{\"id\":\"1721\"},\"nonselection_glyph\":{\"id\":\"1720\"},\"selection_glyph\":{\"id\":\"1736\"},\"view\":{\"id\":\"1723\"}},\"id\":\"1722\",\"type\":\"GlyphRenderer\"},{\"attributes\":{\"axis_label\":\"Annual Income\",\"coordinates\":null,\"formatter\":{\"id\":\"1711\"},\"group\":null,\"major_label_policy\":{\"id\":\"1712\"},\"ticker\":{\"id\":\"1690\"}},\"id\":\"1689\",\"type\":\"LinearAxis\"},{\"attributes\":{},\"id\":\"1754\",\"type\":\"UnionRenderers\"},{\"attributes\":{},\"id\":\"1687\",\"type\":\"LinearScale\"},{\"attributes\":{\"coordinates\":null,\"data_source\":{\"id\":\"1737\"},\"glyph\":{\"id\":\"1740\"},\"group\":null,\"hover_glyph\":null,\"muted_glyph\":{\"id\":\"1742\"},\"nonselection_glyph\":{\"id\":\"1741\"},\"selection_glyph\":{\"id\":\"1758\"},\"view\":{\"id\":\"1744\"}},\"id\":\"1743\",\"type\":\"GlyphRenderer\"},{\"attributes\":{\"fill_alpha\":{\"value\":0.1},\"fill_color\":{\"value\":\"#30a2da\"},\"hatch_alpha\":{\"value\":0.1},\"hatch_color\":{\"value\":\"#30a2da\"},\"line_alpha\":{\"value\":0.1},\"line_color\":{\"value\":\"#30a2da\"},\"size\":{\"value\":5.477225575051661},\"x\":{\"field\":\"Annual Income\"},\"y\":{\"field\":\"Spending Score (1-100)\"}},\"id\":\"1720\",\"type\":\"Scatter\"},{\"attributes\":{\"axis\":{\"id\":\"1693\"},\"coordinates\":null,\"dimension\":1,\"grid_line_color\":null,\"group\":null,\"ticker\":null},\"id\":\"1696\",\"type\":\"Grid\"},{\"attributes\":{\"fill_color\":{\"value\":\"#fc4f30\"},\"hatch_color\":{\"value\":\"#fc4f30\"},\"line_color\":{\"value\":\"#fc4f30\"},\"size\":{\"value\":5.477225575051661},\"x\":{\"field\":\"Annual Income\"},\"y\":{\"field\":\"Spending Score (1-100)\"}},\"id\":\"1740\",\"type\":\"Scatter\"},{\"attributes\":{\"fill_alpha\":{\"value\":0.1},\"fill_color\":{\"value\":\"#fc4f30\"},\"hatch_alpha\":{\"value\":0.1},\"hatch_color\":{\"value\":\"#fc4f30\"},\"line_alpha\":{\"value\":0.1},\"line_color\":{\"value\":\"#fc4f30\"},\"size\":{\"value\":5.477225575051661},\"x\":{\"field\":\"Annual Income\"},\"y\":{\"field\":\"Spending Score (1-100)\"}},\"id\":\"1741\",\"type\":\"Scatter\"},{\"attributes\":{\"end\":108.8,\"reset_end\":108.8,\"reset_start\":-8.8,\"start\":-8.8,\"tags\":[[[\"Spending Score (1-100)\",\"Spending Score (1-100)\",null]]]},\"id\":\"1677\",\"type\":\"Range1d\"},{\"attributes\":{},\"id\":\"1690\",\"type\":\"BasicTicker\"},{\"attributes\":{},\"id\":\"1738\",\"type\":\"Selection\"},{\"attributes\":{},\"id\":\"1699\",\"type\":\"WheelZoomTool\"},{\"attributes\":{\"end\":1422.2857142857142,\"reset_end\":1422.2857142857142,\"reset_start\":97.71428571428572,\"start\":97.71428571428572,\"tags\":[[[\"Annual Income\",\"Annual Income\",null]]]},\"id\":\"1676\",\"type\":\"Range1d\"},{\"attributes\":{\"axis\":{\"id\":\"1689\"},\"coordinates\":null,\"grid_line_color\":null,\"group\":null,\"ticker\":null},\"id\":\"1692\",\"type\":\"Grid\"},{\"attributes\":{\"callback\":null,\"renderers\":[{\"id\":\"1722\"},{\"id\":\"1743\"}],\"tags\":[\"hv_created\"],\"tooltips\":[[\"class\",\"@{class}\"],[\"Annual Income\",\"@{Annual_Income}\"],[\"Spending Score (1-100)\",\"@{Spending_Score_left_parenthesis_1_hyphen_minus_100_right_parenthesis}\"]]},\"id\":\"1678\",\"type\":\"HoverTool\"},{\"attributes\":{\"angle\":{\"value\":0.0},\"fill_alpha\":{\"value\":1.0},\"fill_color\":{\"value\":\"#fc4f30\"},\"hatch_alpha\":{\"value\":1.0},\"hatch_color\":{\"value\":\"#fc4f30\"},\"hatch_scale\":{\"value\":12.0},\"hatch_weight\":{\"value\":1.0},\"line_alpha\":{\"value\":1.0},\"line_cap\":{\"value\":\"butt\"},\"line_color\":{\"value\":\"#fc4f30\"},\"line_dash\":{\"value\":[]},\"line_dash_offset\":{\"value\":0},\"line_join\":{\"value\":\"bevel\"},\"line_width\":{\"value\":1},\"marker\":{\"value\":\"circle\"},\"size\":{\"value\":5.477225575051661},\"x\":{\"field\":\"Annual Income\"},\"y\":{\"field\":\"Spending Score (1-100)\"}},\"id\":\"1758\",\"type\":\"Scatter\"},{\"attributes\":{},\"id\":\"1694\",\"type\":\"BasicTicker\"},{\"attributes\":{\"axis_label\":\"Spending Score (1-100)\",\"coordinates\":null,\"formatter\":{\"id\":\"1714\"},\"group\":null,\"major_label_policy\":{\"id\":\"1715\"},\"ticker\":{\"id\":\"1694\"}},\"id\":\"1693\",\"type\":\"LinearAxis\"},{\"attributes\":{},\"id\":\"1712\",\"type\":\"AllLabels\"},{\"attributes\":{},\"id\":\"1731\",\"type\":\"UnionRenderers\"},{\"attributes\":{\"margin\":[5,5,5,5],\"name\":\"HSpacer01555\",\"sizing_mode\":\"stretch_width\"},\"id\":\"1771\",\"type\":\"Spacer\"},{\"attributes\":{\"fill_alpha\":{\"value\":0.2},\"fill_color\":{\"value\":\"#30a2da\"},\"hatch_alpha\":{\"value\":0.2},\"hatch_color\":{\"value\":\"#30a2da\"},\"line_alpha\":{\"value\":0.2},\"line_color\":{\"value\":\"#30a2da\"},\"size\":{\"value\":5.477225575051661},\"x\":{\"field\":\"Annual Income\"},\"y\":{\"field\":\"Spending Score (1-100)\"}},\"id\":\"1721\",\"type\":\"Scatter\"},{\"attributes\":{},\"id\":\"1697\",\"type\":\"SaveTool\"},{\"attributes\":{\"below\":[{\"id\":\"1689\"}],\"center\":[{\"id\":\"1692\"},{\"id\":\"1696\"}],\"height\":300,\"left\":[{\"id\":\"1693\"}],\"margin\":[5,5,5,5],\"min_border_bottom\":10,\"min_border_left\":10,\"min_border_right\":10,\"min_border_top\":10,\"renderers\":[{\"id\":\"1722\"},{\"id\":\"1743\"}],\"right\":[{\"id\":\"1734\"}],\"sizing_mode\":\"fixed\",\"title\":{\"id\":\"1681\"},\"toolbar\":{\"id\":\"1703\"},\"width\":700,\"x_range\":{\"id\":\"1676\"},\"x_scale\":{\"id\":\"1685\"},\"y_range\":{\"id\":\"1677\"},\"y_scale\":{\"id\":\"1687\"}},\"id\":\"1680\",\"subtype\":\"Figure\",\"type\":\"Plot\"},{\"attributes\":{\"source\":{\"id\":\"1716\"}},\"id\":\"1723\",\"type\":\"CDSView\"},{\"attributes\":{\"fill_color\":{\"value\":\"#30a2da\"},\"hatch_color\":{\"value\":\"#30a2da\"},\"line_color\":{\"value\":\"#30a2da\"},\"size\":{\"value\":5.477225575051661},\"x\":{\"field\":\"Annual Income\"},\"y\":{\"field\":\"Spending Score (1-100)\"}},\"id\":\"1719\",\"type\":\"Scatter\"},{\"attributes\":{},\"id\":\"1698\",\"type\":\"PanTool\"},{\"attributes\":{},\"id\":\"1717\",\"type\":\"Selection\"},{\"attributes\":{\"click_policy\":\"mute\",\"coordinates\":null,\"group\":null,\"items\":[{\"id\":\"1735\"},{\"id\":\"1757\"}],\"location\":[0,0],\"title\":\"class\"},\"id\":\"1734\",\"type\":\"Legend\"},{\"attributes\":{\"angle\":{\"value\":0.0},\"fill_alpha\":{\"value\":1.0},\"fill_color\":{\"value\":\"#30a2da\"},\"hatch_alpha\":{\"value\":1.0},\"hatch_color\":{\"value\":\"#30a2da\"},\"hatch_scale\":{\"value\":12.0},\"hatch_weight\":{\"value\":1.0},\"line_alpha\":{\"value\":1.0},\"line_cap\":{\"value\":\"butt\"},\"line_color\":{\"value\":\"#30a2da\"},\"line_dash\":{\"value\":[]},\"line_dash_offset\":{\"value\":0},\"line_join\":{\"value\":\"bevel\"},\"line_width\":{\"value\":1},\"marker\":{\"value\":\"circle\"},\"size\":{\"value\":5.477225575051661},\"x\":{\"field\":\"Annual Income\"},\"y\":{\"field\":\"Spending Score (1-100)\"}},\"id\":\"1736\",\"type\":\"Scatter\"}],\"root_ids\":[\"1674\"]},\"title\":\"Bokeh Application\",\"version\":\"2.4.3\"}};\n",
       "    var render_items = [{\"docid\":\"c7e4be79-2460-4ceb-a10f-5822b1e74816\",\"root_ids\":[\"1674\"],\"roots\":{\"1674\":\"ee3d2183-1d38-4507-863c-f094ba9ef1f8\"}}];\n",
       "    root.Bokeh.embed.embed_items_notebook(docs_json, render_items);\n",
       "  }\n",
       "  if (root.Bokeh !== undefined && root.Bokeh.Panel !== undefined) {\n",
       "    embed_document(root);\n",
       "  } else {\n",
       "    var attempts = 0;\n",
       "    var timer = setInterval(function(root) {\n",
       "      if (root.Bokeh !== undefined && root.Bokeh.Panel !== undefined) {\n",
       "        clearInterval(timer);\n",
       "        embed_document(root);\n",
       "      } else if (document.readyState == \"complete\") {\n",
       "        attempts++;\n",
       "        if (attempts > 200) {\n",
       "          clearInterval(timer);\n",
       "          console.log(\"Bokeh: ERROR: Unable to run BokehJS code because BokehJS library is missing\");\n",
       "        }\n",
       "      }\n",
       "    }, 25, root)\n",
       "  }\n",
       "})(window);</script>"
      ],
      "text/plain": [
       ":NdOverlay   [class]\n",
       "   :Scatter   [Annual Income]   (Spending Score (1-100))"
      ]
     },
     "execution_count": 78,
     "metadata": {
      "application/vnd.holoviews_exec.v0+json": {
       "id": "1674"
      }
     },
     "output_type": "execute_result"
    }
   ],
   "source": [
    "test_cluster_amount(cleaned_df_shopping, 2)\n",
    "cleaned_df_shopping.hvplot.scatter(x=\"Annual Income\", y=\"Spending Score (1-100)\", by=\"class\")"
   ]
  },
  {
   "cell_type": "code",
   "execution_count": null,
   "metadata": {},
   "outputs": [],
   "source": []
  },
  {
   "cell_type": "code",
   "execution_count": 80,
   "metadata": {},
   "outputs": [
    {
     "data": {
      "application/vnd.plotly.v1+json": {
       "config": {
        "plotlyServerURL": "https://plot.ly"
       },
       "data": [
        {
         "hovertemplate": "class=%{marker.color}<br>Annual Income=%{x}<br>Spending Score (1-100)=%{y}<br>Age=%{z}<extra></extra>",
         "legendgroup": "1",
         "marker": {
          "color": [
           1,
           1,
           1,
           1,
           1,
           1,
           1,
           1,
           1,
           1,
           1,
           1,
           1,
           1,
           1,
           1,
           1,
           1,
           1,
           1,
           1,
           1,
           1,
           1,
           1,
           1,
           1,
           1,
           1,
           1,
           1,
           1,
           1,
           1,
           1,
           1,
           1,
           1,
           1,
           1,
           1,
           1,
           1,
           1,
           1,
           1,
           1,
           1,
           1,
           1,
           1,
           1,
           1,
           1,
           1,
           1,
           1,
           1,
           1,
           1,
           1,
           1,
           1,
           1,
           1,
           1,
           1,
           1,
           1,
           1,
           1,
           1,
           1,
           1,
           1,
           1,
           1,
           1,
           1,
           1,
           1,
           1,
           1,
           1,
           1,
           1,
           1,
           1,
           1,
           1
          ],
          "coloraxis": "coloraxis",
          "symbol": "circle"
         },
         "mode": "markers",
         "name": "1",
         "scene": "scene",
         "showlegend": true,
         "type": "scatter3d",
         "x": [
          150,
          150,
          160,
          160,
          170,
          170,
          180,
          180,
          190,
          190,
          190,
          190,
          200,
          200,
          200,
          200,
          210,
          210,
          230,
          230,
          240,
          240,
          250,
          250,
          280,
          280,
          280,
          280,
          290,
          290,
          300,
          300,
          330,
          330,
          330,
          330,
          340,
          340,
          370,
          370,
          380,
          380,
          390,
          390,
          390,
          390,
          400,
          400,
          400,
          400,
          420,
          420,
          430,
          430,
          430,
          430,
          440,
          440,
          460,
          460,
          460,
          460,
          470,
          470,
          480,
          480,
          480,
          480,
          480,
          480,
          490,
          490,
          500,
          500,
          540,
          540,
          540,
          540,
          540,
          540,
          540,
          540,
          540,
          540,
          540,
          540,
          570,
          570,
          580,
          580
         ],
         "y": [
          39,
          81,
          6,
          77,
          40,
          76,
          6,
          94,
          3,
          72,
          14,
          99,
          15,
          77,
          13,
          79,
          35,
          66,
          29,
          98,
          35,
          73,
          5,
          73,
          14,
          82,
          32,
          61,
          31,
          87,
          4,
          73,
          4,
          92,
          14,
          81,
          17,
          73,
          26,
          75,
          35,
          92,
          36,
          61,
          28,
          65,
          55,
          47,
          42,
          42,
          52,
          60,
          54,
          60,
          45,
          41,
          50,
          46,
          51,
          46,
          56,
          55,
          52,
          59,
          51,
          59,
          50,
          48,
          59,
          47,
          55,
          42,
          49,
          56,
          47,
          54,
          53,
          48,
          52,
          42,
          51,
          55,
          41,
          44,
          57,
          46,
          58,
          55,
          60,
          46
         ],
         "z": [
          19,
          21,
          20,
          23,
          31,
          22,
          35,
          23,
          64,
          30,
          67,
          35,
          58,
          24,
          37,
          22,
          35,
          20,
          52,
          35,
          35,
          25,
          46,
          31,
          54,
          29,
          45,
          35,
          40,
          23,
          60,
          21,
          53,
          18,
          49,
          21,
          42,
          30,
          36,
          20,
          65,
          24,
          48,
          31,
          49,
          24,
          50,
          27,
          29,
          31,
          49,
          33,
          31,
          59,
          50,
          47,
          51,
          69,
          27,
          53,
          70,
          19,
          67,
          54,
          63,
          18,
          43,
          68,
          19,
          32,
          70,
          47,
          60,
          60,
          59,
          26,
          45,
          40,
          23,
          49,
          57,
          38,
          67,
          46,
          21,
          48,
          55,
          22,
          34,
          50
         ]
        },
        {
         "hovertemplate": "class=%{marker.color}<br>Annual Income=%{x}<br>Spending Score (1-100)=%{y}<br>Age=%{z}<extra></extra>",
         "legendgroup": "0",
         "marker": {
          "color": [
           0,
           0,
           0,
           0,
           0,
           0,
           0,
           0,
           0,
           0,
           0,
           0,
           0,
           0,
           0,
           0,
           0,
           0,
           0,
           0,
           0,
           0,
           0,
           0,
           0,
           0,
           0,
           0,
           0,
           0,
           0,
           0,
           0,
           0,
           0,
           0,
           0,
           0,
           0,
           0,
           0,
           0,
           0,
           0,
           0,
           0,
           0,
           0,
           0,
           0,
           0,
           0,
           0,
           0,
           0,
           0,
           0,
           0,
           0,
           0,
           0,
           0,
           0,
           0,
           0,
           0,
           0,
           0,
           0,
           0,
           0,
           0,
           0,
           0,
           0,
           0,
           0,
           0,
           0,
           0,
           0,
           0,
           0,
           0,
           0,
           0,
           0,
           0,
           0,
           0,
           0,
           0,
           0,
           0,
           0,
           0,
           0,
           0,
           0,
           0,
           0,
           0,
           0,
           0,
           0,
           0,
           0,
           0,
           0,
           0
          ],
          "coloraxis": "coloraxis",
          "symbol": "diamond"
         },
         "mode": "markers",
         "name": "0",
         "scene": "scene",
         "showlegend": true,
         "type": "scatter3d",
         "x": [
          590,
          590,
          600,
          600,
          600,
          600,
          600,
          600,
          610,
          610,
          620,
          620,
          620,
          620,
          620,
          620,
          630,
          630,
          630,
          630,
          630,
          630,
          640,
          640,
          650,
          650,
          650,
          650,
          670,
          670,
          670,
          670,
          690,
          690,
          700,
          700,
          710,
          710,
          710,
          710,
          710,
          710,
          720,
          720,
          730,
          730,
          730,
          730,
          740,
          740,
          750,
          750,
          760,
          760,
          770,
          770,
          770,
          770,
          780,
          780,
          780,
          780,
          780,
          780,
          780,
          780,
          780,
          780,
          780,
          780,
          790,
          790,
          810,
          810,
          850,
          850,
          860,
          860,
          870,
          870,
          870,
          870,
          870,
          870,
          880,
          880,
          880,
          880,
          930,
          930,
          970,
          970,
          980,
          980,
          990,
          990,
          1010,
          1010,
          1030,
          1030,
          1030,
          1030,
          1130,
          1130,
          1200,
          1200,
          1260,
          1260,
          1370,
          1370
         ],
         "y": [
          55,
          41,
          49,
          40,
          42,
          52,
          47,
          50,
          42,
          49,
          41,
          48,
          59,
          55,
          56,
          42,
          50,
          46,
          43,
          48,
          52,
          54,
          42,
          46,
          48,
          50,
          43,
          59,
          43,
          57,
          56,
          40,
          58,
          91,
          29,
          77,
          35,
          95,
          11,
          75,
          9,
          75,
          34,
          71,
          5,
          88,
          7,
          73,
          10,
          72,
          5,
          93,
          40,
          87,
          12,
          97,
          36,
          74,
          22,
          90,
          17,
          88,
          20,
          76,
          16,
          89,
          1,
          78,
          1,
          73,
          35,
          83,
          5,
          93,
          26,
          75,
          20,
          95,
          27,
          63,
          13,
          75,
          10,
          92,
          13,
          86,
          15,
          69,
          14,
          90,
          32,
          86,
          15,
          88,
          39,
          97,
          24,
          68,
          17,
          85,
          23,
          69,
          8,
          91,
          16,
          79,
          28,
          74,
          18,
          83
         ],
         "z": [
          68,
          18,
          48,
          40,
          32,
          24,
          47,
          27,
          48,
          20,
          23,
          49,
          67,
          26,
          49,
          21,
          66,
          54,
          68,
          66,
          65,
          19,
          38,
          19,
          18,
          19,
          63,
          49,
          51,
          50,
          27,
          38,
          40,
          39,
          23,
          31,
          43,
          40,
          59,
          38,
          47,
          39,
          25,
          31,
          20,
          29,
          44,
          32,
          19,
          35,
          57,
          32,
          28,
          32,
          25,
          28,
          48,
          32,
          34,
          34,
          43,
          39,
          44,
          38,
          47,
          27,
          37,
          30,
          34,
          30,
          56,
          29,
          19,
          31,
          50,
          36,
          42,
          33,
          36,
          32,
          40,
          28,
          36,
          36,
          52,
          30,
          58,
          27,
          59,
          35,
          37,
          32,
          46,
          29,
          41,
          30,
          54,
          28,
          41,
          36,
          34,
          32,
          33,
          38,
          47,
          35,
          45,
          32,
          32,
          30
         ]
        }
       ],
       "layout": {
        "coloraxis": {
         "colorbar": {
          "title": {
           "text": "class"
          }
         },
         "colorscale": [
          [
           0,
           "#0d0887"
          ],
          [
           0.1111111111111111,
           "#46039f"
          ],
          [
           0.2222222222222222,
           "#7201a8"
          ],
          [
           0.3333333333333333,
           "#9c179e"
          ],
          [
           0.4444444444444444,
           "#bd3786"
          ],
          [
           0.5555555555555556,
           "#d8576b"
          ],
          [
           0.6666666666666666,
           "#ed7953"
          ],
          [
           0.7777777777777778,
           "#fb9f3a"
          ],
          [
           0.8888888888888888,
           "#fdca26"
          ],
          [
           1,
           "#f0f921"
          ]
         ]
        },
        "legend": {
         "title": {
          "text": "class"
         },
         "tracegroupgap": 0,
         "x": 0,
         "y": 1
        },
        "margin": {
         "t": 60
        },
        "scene": {
         "domain": {
          "x": [
           0,
           1
          ],
          "y": [
           0,
           1
          ]
         },
         "xaxis": {
          "title": {
           "text": "Annual Income"
          }
         },
         "yaxis": {
          "title": {
           "text": "Spending Score (1-100)"
          }
         },
         "zaxis": {
          "title": {
           "text": "Age"
          }
         }
        },
        "template": {
         "data": {
          "bar": [
           {
            "error_x": {
             "color": "#2a3f5f"
            },
            "error_y": {
             "color": "#2a3f5f"
            },
            "marker": {
             "line": {
              "color": "#E5ECF6",
              "width": 0.5
             },
             "pattern": {
              "fillmode": "overlay",
              "size": 10,
              "solidity": 0.2
             }
            },
            "type": "bar"
           }
          ],
          "barpolar": [
           {
            "marker": {
             "line": {
              "color": "#E5ECF6",
              "width": 0.5
             },
             "pattern": {
              "fillmode": "overlay",
              "size": 10,
              "solidity": 0.2
             }
            },
            "type": "barpolar"
           }
          ],
          "carpet": [
           {
            "aaxis": {
             "endlinecolor": "#2a3f5f",
             "gridcolor": "white",
             "linecolor": "white",
             "minorgridcolor": "white",
             "startlinecolor": "#2a3f5f"
            },
            "baxis": {
             "endlinecolor": "#2a3f5f",
             "gridcolor": "white",
             "linecolor": "white",
             "minorgridcolor": "white",
             "startlinecolor": "#2a3f5f"
            },
            "type": "carpet"
           }
          ],
          "choropleth": [
           {
            "colorbar": {
             "outlinewidth": 0,
             "ticks": ""
            },
            "type": "choropleth"
           }
          ],
          "contour": [
           {
            "colorbar": {
             "outlinewidth": 0,
             "ticks": ""
            },
            "colorscale": [
             [
              0,
              "#0d0887"
             ],
             [
              0.1111111111111111,
              "#46039f"
             ],
             [
              0.2222222222222222,
              "#7201a8"
             ],
             [
              0.3333333333333333,
              "#9c179e"
             ],
             [
              0.4444444444444444,
              "#bd3786"
             ],
             [
              0.5555555555555556,
              "#d8576b"
             ],
             [
              0.6666666666666666,
              "#ed7953"
             ],
             [
              0.7777777777777778,
              "#fb9f3a"
             ],
             [
              0.8888888888888888,
              "#fdca26"
             ],
             [
              1,
              "#f0f921"
             ]
            ],
            "type": "contour"
           }
          ],
          "contourcarpet": [
           {
            "colorbar": {
             "outlinewidth": 0,
             "ticks": ""
            },
            "type": "contourcarpet"
           }
          ],
          "heatmap": [
           {
            "colorbar": {
             "outlinewidth": 0,
             "ticks": ""
            },
            "colorscale": [
             [
              0,
              "#0d0887"
             ],
             [
              0.1111111111111111,
              "#46039f"
             ],
             [
              0.2222222222222222,
              "#7201a8"
             ],
             [
              0.3333333333333333,
              "#9c179e"
             ],
             [
              0.4444444444444444,
              "#bd3786"
             ],
             [
              0.5555555555555556,
              "#d8576b"
             ],
             [
              0.6666666666666666,
              "#ed7953"
             ],
             [
              0.7777777777777778,
              "#fb9f3a"
             ],
             [
              0.8888888888888888,
              "#fdca26"
             ],
             [
              1,
              "#f0f921"
             ]
            ],
            "type": "heatmap"
           }
          ],
          "heatmapgl": [
           {
            "colorbar": {
             "outlinewidth": 0,
             "ticks": ""
            },
            "colorscale": [
             [
              0,
              "#0d0887"
             ],
             [
              0.1111111111111111,
              "#46039f"
             ],
             [
              0.2222222222222222,
              "#7201a8"
             ],
             [
              0.3333333333333333,
              "#9c179e"
             ],
             [
              0.4444444444444444,
              "#bd3786"
             ],
             [
              0.5555555555555556,
              "#d8576b"
             ],
             [
              0.6666666666666666,
              "#ed7953"
             ],
             [
              0.7777777777777778,
              "#fb9f3a"
             ],
             [
              0.8888888888888888,
              "#fdca26"
             ],
             [
              1,
              "#f0f921"
             ]
            ],
            "type": "heatmapgl"
           }
          ],
          "histogram": [
           {
            "marker": {
             "pattern": {
              "fillmode": "overlay",
              "size": 10,
              "solidity": 0.2
             }
            },
            "type": "histogram"
           }
          ],
          "histogram2d": [
           {
            "colorbar": {
             "outlinewidth": 0,
             "ticks": ""
            },
            "colorscale": [
             [
              0,
              "#0d0887"
             ],
             [
              0.1111111111111111,
              "#46039f"
             ],
             [
              0.2222222222222222,
              "#7201a8"
             ],
             [
              0.3333333333333333,
              "#9c179e"
             ],
             [
              0.4444444444444444,
              "#bd3786"
             ],
             [
              0.5555555555555556,
              "#d8576b"
             ],
             [
              0.6666666666666666,
              "#ed7953"
             ],
             [
              0.7777777777777778,
              "#fb9f3a"
             ],
             [
              0.8888888888888888,
              "#fdca26"
             ],
             [
              1,
              "#f0f921"
             ]
            ],
            "type": "histogram2d"
           }
          ],
          "histogram2dcontour": [
           {
            "colorbar": {
             "outlinewidth": 0,
             "ticks": ""
            },
            "colorscale": [
             [
              0,
              "#0d0887"
             ],
             [
              0.1111111111111111,
              "#46039f"
             ],
             [
              0.2222222222222222,
              "#7201a8"
             ],
             [
              0.3333333333333333,
              "#9c179e"
             ],
             [
              0.4444444444444444,
              "#bd3786"
             ],
             [
              0.5555555555555556,
              "#d8576b"
             ],
             [
              0.6666666666666666,
              "#ed7953"
             ],
             [
              0.7777777777777778,
              "#fb9f3a"
             ],
             [
              0.8888888888888888,
              "#fdca26"
             ],
             [
              1,
              "#f0f921"
             ]
            ],
            "type": "histogram2dcontour"
           }
          ],
          "mesh3d": [
           {
            "colorbar": {
             "outlinewidth": 0,
             "ticks": ""
            },
            "type": "mesh3d"
           }
          ],
          "parcoords": [
           {
            "line": {
             "colorbar": {
              "outlinewidth": 0,
              "ticks": ""
             }
            },
            "type": "parcoords"
           }
          ],
          "pie": [
           {
            "automargin": true,
            "type": "pie"
           }
          ],
          "scatter": [
           {
            "fillpattern": {
             "fillmode": "overlay",
             "size": 10,
             "solidity": 0.2
            },
            "type": "scatter"
           }
          ],
          "scatter3d": [
           {
            "line": {
             "colorbar": {
              "outlinewidth": 0,
              "ticks": ""
             }
            },
            "marker": {
             "colorbar": {
              "outlinewidth": 0,
              "ticks": ""
             }
            },
            "type": "scatter3d"
           }
          ],
          "scattercarpet": [
           {
            "marker": {
             "colorbar": {
              "outlinewidth": 0,
              "ticks": ""
             }
            },
            "type": "scattercarpet"
           }
          ],
          "scattergeo": [
           {
            "marker": {
             "colorbar": {
              "outlinewidth": 0,
              "ticks": ""
             }
            },
            "type": "scattergeo"
           }
          ],
          "scattergl": [
           {
            "marker": {
             "colorbar": {
              "outlinewidth": 0,
              "ticks": ""
             }
            },
            "type": "scattergl"
           }
          ],
          "scattermapbox": [
           {
            "marker": {
             "colorbar": {
              "outlinewidth": 0,
              "ticks": ""
             }
            },
            "type": "scattermapbox"
           }
          ],
          "scatterpolar": [
           {
            "marker": {
             "colorbar": {
              "outlinewidth": 0,
              "ticks": ""
             }
            },
            "type": "scatterpolar"
           }
          ],
          "scatterpolargl": [
           {
            "marker": {
             "colorbar": {
              "outlinewidth": 0,
              "ticks": ""
             }
            },
            "type": "scatterpolargl"
           }
          ],
          "scatterternary": [
           {
            "marker": {
             "colorbar": {
              "outlinewidth": 0,
              "ticks": ""
             }
            },
            "type": "scatterternary"
           }
          ],
          "surface": [
           {
            "colorbar": {
             "outlinewidth": 0,
             "ticks": ""
            },
            "colorscale": [
             [
              0,
              "#0d0887"
             ],
             [
              0.1111111111111111,
              "#46039f"
             ],
             [
              0.2222222222222222,
              "#7201a8"
             ],
             [
              0.3333333333333333,
              "#9c179e"
             ],
             [
              0.4444444444444444,
              "#bd3786"
             ],
             [
              0.5555555555555556,
              "#d8576b"
             ],
             [
              0.6666666666666666,
              "#ed7953"
             ],
             [
              0.7777777777777778,
              "#fb9f3a"
             ],
             [
              0.8888888888888888,
              "#fdca26"
             ],
             [
              1,
              "#f0f921"
             ]
            ],
            "type": "surface"
           }
          ],
          "table": [
           {
            "cells": {
             "fill": {
              "color": "#EBF0F8"
             },
             "line": {
              "color": "white"
             }
            },
            "header": {
             "fill": {
              "color": "#C8D4E3"
             },
             "line": {
              "color": "white"
             }
            },
            "type": "table"
           }
          ]
         },
         "layout": {
          "annotationdefaults": {
           "arrowcolor": "#2a3f5f",
           "arrowhead": 0,
           "arrowwidth": 1
          },
          "autotypenumbers": "strict",
          "coloraxis": {
           "colorbar": {
            "outlinewidth": 0,
            "ticks": ""
           }
          },
          "colorscale": {
           "diverging": [
            [
             0,
             "#8e0152"
            ],
            [
             0.1,
             "#c51b7d"
            ],
            [
             0.2,
             "#de77ae"
            ],
            [
             0.3,
             "#f1b6da"
            ],
            [
             0.4,
             "#fde0ef"
            ],
            [
             0.5,
             "#f7f7f7"
            ],
            [
             0.6,
             "#e6f5d0"
            ],
            [
             0.7,
             "#b8e186"
            ],
            [
             0.8,
             "#7fbc41"
            ],
            [
             0.9,
             "#4d9221"
            ],
            [
             1,
             "#276419"
            ]
           ],
           "sequential": [
            [
             0,
             "#0d0887"
            ],
            [
             0.1111111111111111,
             "#46039f"
            ],
            [
             0.2222222222222222,
             "#7201a8"
            ],
            [
             0.3333333333333333,
             "#9c179e"
            ],
            [
             0.4444444444444444,
             "#bd3786"
            ],
            [
             0.5555555555555556,
             "#d8576b"
            ],
            [
             0.6666666666666666,
             "#ed7953"
            ],
            [
             0.7777777777777778,
             "#fb9f3a"
            ],
            [
             0.8888888888888888,
             "#fdca26"
            ],
            [
             1,
             "#f0f921"
            ]
           ],
           "sequentialminus": [
            [
             0,
             "#0d0887"
            ],
            [
             0.1111111111111111,
             "#46039f"
            ],
            [
             0.2222222222222222,
             "#7201a8"
            ],
            [
             0.3333333333333333,
             "#9c179e"
            ],
            [
             0.4444444444444444,
             "#bd3786"
            ],
            [
             0.5555555555555556,
             "#d8576b"
            ],
            [
             0.6666666666666666,
             "#ed7953"
            ],
            [
             0.7777777777777778,
             "#fb9f3a"
            ],
            [
             0.8888888888888888,
             "#fdca26"
            ],
            [
             1,
             "#f0f921"
            ]
           ]
          },
          "colorway": [
           "#636efa",
           "#EF553B",
           "#00cc96",
           "#ab63fa",
           "#FFA15A",
           "#19d3f3",
           "#FF6692",
           "#B6E880",
           "#FF97FF",
           "#FECB52"
          ],
          "font": {
           "color": "#2a3f5f"
          },
          "geo": {
           "bgcolor": "white",
           "lakecolor": "white",
           "landcolor": "#E5ECF6",
           "showlakes": true,
           "showland": true,
           "subunitcolor": "white"
          },
          "hoverlabel": {
           "align": "left"
          },
          "hovermode": "closest",
          "mapbox": {
           "style": "light"
          },
          "paper_bgcolor": "white",
          "plot_bgcolor": "#E5ECF6",
          "polar": {
           "angularaxis": {
            "gridcolor": "white",
            "linecolor": "white",
            "ticks": ""
           },
           "bgcolor": "#E5ECF6",
           "radialaxis": {
            "gridcolor": "white",
            "linecolor": "white",
            "ticks": ""
           }
          },
          "scene": {
           "xaxis": {
            "backgroundcolor": "#E5ECF6",
            "gridcolor": "white",
            "gridwidth": 2,
            "linecolor": "white",
            "showbackground": true,
            "ticks": "",
            "zerolinecolor": "white"
           },
           "yaxis": {
            "backgroundcolor": "#E5ECF6",
            "gridcolor": "white",
            "gridwidth": 2,
            "linecolor": "white",
            "showbackground": true,
            "ticks": "",
            "zerolinecolor": "white"
           },
           "zaxis": {
            "backgroundcolor": "#E5ECF6",
            "gridcolor": "white",
            "gridwidth": 2,
            "linecolor": "white",
            "showbackground": true,
            "ticks": "",
            "zerolinecolor": "white"
           }
          },
          "shapedefaults": {
           "line": {
            "color": "#2a3f5f"
           }
          },
          "ternary": {
           "aaxis": {
            "gridcolor": "white",
            "linecolor": "white",
            "ticks": ""
           },
           "baxis": {
            "gridcolor": "white",
            "linecolor": "white",
            "ticks": ""
           },
           "bgcolor": "#E5ECF6",
           "caxis": {
            "gridcolor": "white",
            "linecolor": "white",
            "ticks": ""
           }
          },
          "title": {
           "x": 0.05
          },
          "xaxis": {
           "automargin": true,
           "gridcolor": "white",
           "linecolor": "white",
           "ticks": "",
           "title": {
            "standoff": 15
           },
           "zerolinecolor": "white",
           "zerolinewidth": 2
          },
          "yaxis": {
           "automargin": true,
           "gridcolor": "white",
           "linecolor": "white",
           "ticks": "",
           "title": {
            "standoff": 15
           },
           "zerolinecolor": "white",
           "zerolinewidth": 2
          }
         }
        },
        "width": 800
       }
      }
     },
     "metadata": {},
     "output_type": "display_data"
    }
   ],
   "source": [
    "fig = px.scatter_3d(\n",
    "    cleaned_df_shopping,\n",
    "    x=\"Annual Income\",\n",
    "    y=\"Spending Score (1-100)\",\n",
    "    z=\"Age\",\n",
    "    color=\"class\",\n",
    "    symbol=\"class\",\n",
    "    width=800,\n",
    ")\n",
    "fig.update_layout(legend=dict(x=0, y=1))\n",
    "fig.show()"
   ]
  },
  {
   "cell_type": "code",
   "execution_count": 82,
   "metadata": {},
   "outputs": [
    {
     "data": {},
     "metadata": {},
     "output_type": "display_data"
    },
    {
     "data": {
      "application/vnd.holoviews_exec.v0+json": "",
      "text/html": [
       "<div id='1833'>\n",
       "  <div class=\"bk-root\" id=\"80e70a28-5c3d-435d-845d-9d1f2684e5b6\" data-root-id=\"1833\"></div>\n",
       "</div>\n",
       "<script type=\"application/javascript\">(function(root) {\n",
       "  function embed_document(root) {\n",
       "    var docs_json = {\"62268a29-7c65-4a10-b087-6dce8a1b9322\":{\"defs\":[{\"extends\":null,\"module\":null,\"name\":\"ReactiveHTML1\",\"overrides\":[],\"properties\":[]},{\"extends\":null,\"module\":null,\"name\":\"FlexBox1\",\"overrides\":[],\"properties\":[{\"default\":\"flex-start\",\"kind\":null,\"name\":\"align_content\"},{\"default\":\"flex-start\",\"kind\":null,\"name\":\"align_items\"},{\"default\":\"row\",\"kind\":null,\"name\":\"flex_direction\"},{\"default\":\"wrap\",\"kind\":null,\"name\":\"flex_wrap\"},{\"default\":\"flex-start\",\"kind\":null,\"name\":\"justify_content\"}]},{\"extends\":null,\"module\":null,\"name\":\"GridStack1\",\"overrides\":[],\"properties\":[{\"default\":\"warn\",\"kind\":null,\"name\":\"mode\"},{\"default\":null,\"kind\":null,\"name\":\"ncols\"},{\"default\":null,\"kind\":null,\"name\":\"nrows\"},{\"default\":true,\"kind\":null,\"name\":\"allow_resize\"},{\"default\":true,\"kind\":null,\"name\":\"allow_drag\"},{\"default\":[],\"kind\":null,\"name\":\"state\"}]},{\"extends\":null,\"module\":null,\"name\":\"click1\",\"overrides\":[],\"properties\":[{\"default\":\"\",\"kind\":null,\"name\":\"terminal_output\"},{\"default\":\"\",\"kind\":null,\"name\":\"debug_name\"},{\"default\":0,\"kind\":null,\"name\":\"clears\"}]},{\"extends\":null,\"module\":null,\"name\":\"NotificationAreaBase1\",\"overrides\":[],\"properties\":[{\"default\":\"bottom-right\",\"kind\":null,\"name\":\"position\"},{\"default\":0,\"kind\":null,\"name\":\"_clear\"}]},{\"extends\":null,\"module\":null,\"name\":\"NotificationArea1\",\"overrides\":[],\"properties\":[{\"default\":[],\"kind\":null,\"name\":\"notifications\"},{\"default\":\"bottom-right\",\"kind\":null,\"name\":\"position\"},{\"default\":0,\"kind\":null,\"name\":\"_clear\"},{\"default\":[{\"background\":\"#ffc107\",\"icon\":{\"className\":\"fas fa-exclamation-triangle\",\"color\":\"white\",\"tagName\":\"i\"},\"type\":\"warning\"},{\"background\":\"#007bff\",\"icon\":{\"className\":\"fas fa-info-circle\",\"color\":\"white\",\"tagName\":\"i\"},\"type\":\"info\"}],\"kind\":null,\"name\":\"types\"}]},{\"extends\":null,\"module\":null,\"name\":\"Notification\",\"overrides\":[],\"properties\":[{\"default\":null,\"kind\":null,\"name\":\"background\"},{\"default\":3000,\"kind\":null,\"name\":\"duration\"},{\"default\":null,\"kind\":null,\"name\":\"icon\"},{\"default\":\"\",\"kind\":null,\"name\":\"message\"},{\"default\":null,\"kind\":null,\"name\":\"notification_type\"},{\"default\":false,\"kind\":null,\"name\":\"_destroyed\"}]},{\"extends\":null,\"module\":null,\"name\":\"TemplateActions1\",\"overrides\":[],\"properties\":[{\"default\":0,\"kind\":null,\"name\":\"open_modal\"},{\"default\":0,\"kind\":null,\"name\":\"close_modal\"}]},{\"extends\":null,\"module\":null,\"name\":\"MaterialTemplateActions1\",\"overrides\":[],\"properties\":[{\"default\":0,\"kind\":null,\"name\":\"open_modal\"},{\"default\":0,\"kind\":null,\"name\":\"close_modal\"}]}],\"roots\":{\"references\":[{\"attributes\":{},\"id\":\"1968\",\"type\":\"UnionRenderers\"},{\"attributes\":{\"tools\":[{\"id\":\"1837\"},{\"id\":\"1861\"},{\"id\":\"1862\"},{\"id\":\"1863\"},{\"id\":\"1864\"},{\"id\":\"1865\"}]},\"id\":\"1867\",\"type\":\"Toolbar\"},{\"attributes\":{\"fill_alpha\":{\"value\":0.2},\"fill_color\":{\"value\":\"#30a2da\"},\"hatch_alpha\":{\"value\":0.2},\"hatch_color\":{\"value\":\"#30a2da\"},\"line_alpha\":{\"value\":0.2},\"line_color\":{\"value\":\"#30a2da\"},\"size\":{\"value\":5.477225575051661},\"x\":{\"field\":\"Annual Income\"},\"y\":{\"field\":\"Spending Score (1-100)\"}},\"id\":\"1885\",\"type\":\"Scatter\"},{\"attributes\":{\"data\":{\"Annual Income\":{\"__ndarray__\":\"AAAAAADAfEAAAAAAAMB8QAAAAAAAwHxAAAAAAADAfEAAAAAAAGB9QAAAAAAAYH1AAAAAAAAAfkAAAAAAAAB+QAAAAAAAAH5AAAAAAAAAfkAAAAAAAAB+QAAAAAAAAH5AAAAAAACgfkAAAAAAAKB+QAAAAAAAQH9AAAAAAABAf0AAAAAAAOCAQAAAAAAA4IBAAAAAAADggEAAAAAAAOCAQAAAAAAA4IBAAAAAAADggEAAAAAAAOCAQAAAAAAA4IBAAAAAAADggEAAAAAAAOCAQAAAAAAA4IBAAAAAAADggEA=\",\"dtype\":\"float64\",\"order\":\"little\",\"shape\":[28]},\"Annual_Income\":{\"__ndarray__\":\"AAAAAADAfEAAAAAAAMB8QAAAAAAAwHxAAAAAAADAfEAAAAAAAGB9QAAAAAAAYH1AAAAAAAAAfkAAAAAAAAB+QAAAAAAAAH5AAAAAAAAAfkAAAAAAAAB+QAAAAAAAAH5AAAAAAACgfkAAAAAAAKB+QAAAAAAAQH9AAAAAAABAf0AAAAAAAOCAQAAAAAAA4IBAAAAAAADggEAAAAAAAOCAQAAAAAAA4IBAAAAAAADggEAAAAAAAOCAQAAAAAAA4IBAAAAAAADggEAAAAAAAOCAQAAAAAAA4IBAAAAAAADggEA=\",\"dtype\":\"float64\",\"order\":\"little\",\"shape\":[28]},\"Spending Score (1-100)\":{\"__ndarray__\":\"AAAAAACASUAAAAAAAABHQAAAAAAAAExAAAAAAACAS0AAAAAAAABKQAAAAAAAgE1AAAAAAACASUAAAAAAAIBNQAAAAAAAAElAAAAAAAAASEAAAAAAAIBNQAAAAAAAgEdAAAAAAACAS0AAAAAAAABFQAAAAAAAgEhAAAAAAAAATEAAAAAAAIBHQAAAAAAAAEtAAAAAAACASkAAAAAAAABIQAAAAAAAAEpAAAAAAAAARUAAAAAAAIBJQAAAAAAAgEtAAAAAAACAREAAAAAAAABGQAAAAAAAgExAAAAAAAAAR0A=\",\"dtype\":\"float64\",\"order\":\"little\",\"shape\":[28]},\"Spending_Score_left_parenthesis_1_hyphen_minus_100_right_parenthesis\":{\"__ndarray__\":\"AAAAAACASUAAAAAAAABHQAAAAAAAAExAAAAAAACAS0AAAAAAAABKQAAAAAAAgE1AAAAAAACASUAAAAAAAIBNQAAAAAAAAElAAAAAAAAASEAAAAAAAIBNQAAAAAAAgEdAAAAAAACAS0AAAAAAAABFQAAAAAAAgEhAAAAAAAAATEAAAAAAAIBHQAAAAAAAAEtAAAAAAACASkAAAAAAAABIQAAAAAAAAEpAAAAAAAAARUAAAAAAAIBJQAAAAAAAgEtAAAAAAACAREAAAAAAAABGQAAAAAAAgExAAAAAAAAAR0A=\",\"dtype\":\"float64\",\"order\":\"little\",\"shape\":[28]},\"class\":[6,6,6,6,6,6,6,6,6,6,6,6,6,6,6,6,6,6,6,6,6,6,6,6,6,6,6,6]},\"selected\":{\"id\":\"2032\"},\"selection_policy\":{\"id\":\"2058\"}},\"id\":\"2031\",\"type\":\"ColumnDataSource\"},{\"attributes\":{},\"id\":\"2026\",\"type\":\"UnionRenderers\"},{\"attributes\":{\"click_policy\":\"mute\",\"coordinates\":null,\"group\":null,\"items\":[{\"id\":\"1899\"},{\"id\":\"1921\"},{\"id\":\"1945\"},{\"id\":\"1971\"},{\"id\":\"1999\"},{\"id\":\"2029\"},{\"id\":\"2061\"}],\"location\":[0,0],\"title\":\"class\"},\"id\":\"1898\",\"type\":\"Legend\"},{\"attributes\":{\"fill_alpha\":{\"value\":0.2},\"fill_color\":{\"value\":\"#9467bd\"},\"hatch_alpha\":{\"value\":0.2},\"hatch_color\":{\"value\":\"#9467bd\"},\"line_alpha\":{\"value\":0.2},\"line_color\":{\"value\":\"#9467bd\"},\"size\":{\"value\":5.477225575051661},\"x\":{\"field\":\"Annual Income\"},\"y\":{\"field\":\"Spending Score (1-100)\"}},\"id\":\"2036\",\"type\":\"Scatter\"},{\"attributes\":{},\"id\":\"1861\",\"type\":\"SaveTool\"},{\"attributes\":{\"label\":{\"value\":\"5\"},\"renderers\":[{\"id\":\"2007\"}]},\"id\":\"2029\",\"type\":\"LegendItem\"},{\"attributes\":{\"bottom_units\":\"screen\",\"coordinates\":null,\"fill_alpha\":0.5,\"fill_color\":\"lightgrey\",\"group\":null,\"left_units\":\"screen\",\"level\":\"overlay\",\"line_alpha\":1.0,\"line_color\":\"black\",\"line_dash\":[4,4],\"line_width\":2,\"right_units\":\"screen\",\"syncable\":false,\"top_units\":\"screen\"},\"id\":\"1866\",\"type\":\"BoxAnnotation\"},{\"attributes\":{\"fill_color\":{\"value\":\"#17becf\"},\"hatch_color\":{\"value\":\"#17becf\"},\"line_color\":{\"value\":\"#17becf\"},\"size\":{\"value\":5.477225575051661},\"x\":{\"field\":\"Annual Income\"},\"y\":{\"field\":\"Spending Score (1-100)\"}},\"id\":\"2004\",\"type\":\"Scatter\"},{\"attributes\":{\"angle\":{\"value\":0.0},\"fill_alpha\":{\"value\":1.0},\"fill_color\":{\"value\":\"#17becf\"},\"hatch_alpha\":{\"value\":1.0},\"hatch_color\":{\"value\":\"#17becf\"},\"hatch_scale\":{\"value\":12.0},\"hatch_weight\":{\"value\":1.0},\"line_alpha\":{\"value\":1.0},\"line_cap\":{\"value\":\"butt\"},\"line_color\":{\"value\":\"#17becf\"},\"line_dash\":{\"value\":[]},\"line_dash_offset\":{\"value\":0},\"line_join\":{\"value\":\"bevel\"},\"line_width\":{\"value\":1},\"marker\":{\"value\":\"circle\"},\"size\":{\"value\":5.477225575051661},\"x\":{\"field\":\"Annual Income\"},\"y\":{\"field\":\"Spending Score (1-100)\"}},\"id\":\"2030\",\"type\":\"Scatter\"},{\"attributes\":{},\"id\":\"1895\",\"type\":\"UnionRenderers\"},{\"attributes\":{\"label\":{\"value\":\"6\"},\"renderers\":[{\"id\":\"2037\"}]},\"id\":\"2061\",\"type\":\"LegendItem\"},{\"attributes\":{\"margin\":[5,5,5,5],\"name\":\"HSpacer01833\",\"sizing_mode\":\"stretch_width\"},\"id\":\"1834\",\"type\":\"Spacer\"},{\"attributes\":{\"label\":{\"value\":\"3\"},\"renderers\":[{\"id\":\"1953\"}]},\"id\":\"1971\",\"type\":\"LegendItem\"},{\"attributes\":{\"label\":{\"value\":\"0\"},\"renderers\":[{\"id\":\"1886\"}]},\"id\":\"1899\",\"type\":\"LegendItem\"},{\"attributes\":{\"fill_color\":{\"value\":\"#6d904f\"},\"hatch_color\":{\"value\":\"#6d904f\"},\"line_color\":{\"value\":\"#6d904f\"},\"size\":{\"value\":5.477225575051661},\"x\":{\"field\":\"Annual Income\"},\"y\":{\"field\":\"Spending Score (1-100)\"}},\"id\":\"1950\",\"type\":\"Scatter\"},{\"attributes\":{\"angle\":{\"value\":0.0},\"fill_alpha\":{\"value\":1.0},\"fill_color\":{\"value\":\"#30a2da\"},\"hatch_alpha\":{\"value\":1.0},\"hatch_color\":{\"value\":\"#30a2da\"},\"hatch_scale\":{\"value\":12.0},\"hatch_weight\":{\"value\":1.0},\"line_alpha\":{\"value\":1.0},\"line_cap\":{\"value\":\"butt\"},\"line_color\":{\"value\":\"#30a2da\"},\"line_dash\":{\"value\":[]},\"line_dash_offset\":{\"value\":0},\"line_join\":{\"value\":\"bevel\"},\"line_width\":{\"value\":1},\"marker\":{\"value\":\"circle\"},\"size\":{\"value\":5.477225575051661},\"x\":{\"field\":\"Annual Income\"},\"y\":{\"field\":\"Spending Score (1-100)\"}},\"id\":\"1900\",\"type\":\"Scatter\"},{\"attributes\":{\"fill_alpha\":{\"value\":0.1},\"fill_color\":{\"value\":\"#6d904f\"},\"hatch_alpha\":{\"value\":0.1},\"hatch_color\":{\"value\":\"#6d904f\"},\"line_alpha\":{\"value\":0.1},\"line_color\":{\"value\":\"#6d904f\"},\"size\":{\"value\":5.477225575051661},\"x\":{\"field\":\"Annual Income\"},\"y\":{\"field\":\"Spending Score (1-100)\"}},\"id\":\"1951\",\"type\":\"Scatter\"},{\"attributes\":{\"fill_color\":{\"value\":\"#9467bd\"},\"hatch_color\":{\"value\":\"#9467bd\"},\"line_color\":{\"value\":\"#9467bd\"},\"size\":{\"value\":5.477225575051661},\"x\":{\"field\":\"Annual Income\"},\"y\":{\"field\":\"Spending Score (1-100)\"}},\"id\":\"2034\",\"type\":\"Scatter\"},{\"attributes\":{\"fill_alpha\":{\"value\":0.2},\"fill_color\":{\"value\":\"#6d904f\"},\"hatch_alpha\":{\"value\":0.2},\"hatch_color\":{\"value\":\"#6d904f\"},\"line_alpha\":{\"value\":0.2},\"line_color\":{\"value\":\"#6d904f\"},\"size\":{\"value\":5.477225575051661},\"x\":{\"field\":\"Annual Income\"},\"y\":{\"field\":\"Spending Score (1-100)\"}},\"id\":\"1952\",\"type\":\"Scatter\"},{\"attributes\":{\"coordinates\":null,\"data_source\":{\"id\":\"2031\"},\"glyph\":{\"id\":\"2034\"},\"group\":null,\"hover_glyph\":null,\"muted_glyph\":{\"id\":\"2036\"},\"nonselection_glyph\":{\"id\":\"2035\"},\"selection_glyph\":{\"id\":\"2062\"},\"view\":{\"id\":\"2038\"}},\"id\":\"2037\",\"type\":\"GlyphRenderer\"},{\"attributes\":{\"coordinates\":null,\"data_source\":{\"id\":\"1947\"},\"glyph\":{\"id\":\"1950\"},\"group\":null,\"hover_glyph\":null,\"muted_glyph\":{\"id\":\"1952\"},\"nonselection_glyph\":{\"id\":\"1951\"},\"selection_glyph\":{\"id\":\"1972\"},\"view\":{\"id\":\"1954\"}},\"id\":\"1953\",\"type\":\"GlyphRenderer\"},{\"attributes\":{\"source\":{\"id\":\"1947\"}},\"id\":\"1954\",\"type\":\"CDSView\"},{\"attributes\":{},\"id\":\"2032\",\"type\":\"Selection\"},{\"attributes\":{\"label\":{\"value\":\"1\"},\"renderers\":[{\"id\":\"1907\"}]},\"id\":\"1921\",\"type\":\"LegendItem\"},{\"attributes\":{\"below\":[{\"id\":\"1853\"}],\"center\":[{\"id\":\"1856\"},{\"id\":\"1860\"}],\"height\":300,\"left\":[{\"id\":\"1857\"}],\"margin\":[5,5,5,5],\"min_border_bottom\":10,\"min_border_left\":10,\"min_border_right\":10,\"min_border_top\":10,\"renderers\":[{\"id\":\"1886\"},{\"id\":\"1907\"},{\"id\":\"1929\"},{\"id\":\"1953\"},{\"id\":\"1979\"},{\"id\":\"2007\"},{\"id\":\"2037\"}],\"right\":[{\"id\":\"1898\"}],\"sizing_mode\":\"fixed\",\"title\":{\"id\":\"1845\"},\"toolbar\":{\"id\":\"1867\"},\"width\":700,\"x_range\":{\"id\":\"1835\"},\"x_scale\":{\"id\":\"1849\"},\"y_range\":{\"id\":\"1836\"},\"y_scale\":{\"id\":\"1851\"}},\"id\":\"1844\",\"subtype\":\"Figure\",\"type\":\"Plot\"},{\"attributes\":{\"fill_alpha\":{\"value\":0.1},\"fill_color\":{\"value\":\"#fc4f30\"},\"hatch_alpha\":{\"value\":0.1},\"hatch_color\":{\"value\":\"#fc4f30\"},\"line_alpha\":{\"value\":0.1},\"line_color\":{\"value\":\"#fc4f30\"},\"size\":{\"value\":5.477225575051661},\"x\":{\"field\":\"Annual Income\"},\"y\":{\"field\":\"Spending Score (1-100)\"}},\"id\":\"1905\",\"type\":\"Scatter\"},{\"attributes\":{},\"id\":\"2058\",\"type\":\"UnionRenderers\"},{\"attributes\":{},\"id\":\"1902\",\"type\":\"Selection\"},{\"attributes\":{\"angle\":{\"value\":0.0},\"fill_alpha\":{\"value\":1.0},\"fill_color\":{\"value\":\"#6d904f\"},\"hatch_alpha\":{\"value\":1.0},\"hatch_color\":{\"value\":\"#6d904f\"},\"hatch_scale\":{\"value\":12.0},\"hatch_weight\":{\"value\":1.0},\"line_alpha\":{\"value\":1.0},\"line_cap\":{\"value\":\"butt\"},\"line_color\":{\"value\":\"#6d904f\"},\"line_dash\":{\"value\":[]},\"line_dash_offset\":{\"value\":0},\"line_join\":{\"value\":\"bevel\"},\"line_width\":{\"value\":1},\"marker\":{\"value\":\"circle\"},\"size\":{\"value\":5.477225575051661},\"x\":{\"field\":\"Annual Income\"},\"y\":{\"field\":\"Spending Score (1-100)\"}},\"id\":\"1972\",\"type\":\"Scatter\"},{\"attributes\":{\"fill_color\":{\"value\":\"#30a2da\"},\"hatch_color\":{\"value\":\"#30a2da\"},\"line_color\":{\"value\":\"#30a2da\"},\"size\":{\"value\":5.477225575051661},\"x\":{\"field\":\"Annual Income\"},\"y\":{\"field\":\"Spending Score (1-100)\"}},\"id\":\"1883\",\"type\":\"Scatter\"},{\"attributes\":{\"data\":{\"Annual Income\":{\"__ndarray__\":\"AAAAAACokUAAAAAAAKiRQAAAAAAAwJJAAAAAAADAkkAAAAAAALCTQAAAAAAAsJNAAAAAAABolUAAAAAAAGiVQA==\",\"dtype\":\"float64\",\"order\":\"little\",\"shape\":[8]},\"Annual_Income\":{\"__ndarray__\":\"AAAAAACokUAAAAAAAKiRQAAAAAAAwJJAAAAAAADAkkAAAAAAALCTQAAAAAAAsJNAAAAAAABolUAAAAAAAGiVQA==\",\"dtype\":\"float64\",\"order\":\"little\",\"shape\":[8]},\"Spending Score (1-100)\":{\"__ndarray__\":\"AAAAAAAAIEAAAAAAAMBWQAAAAAAAADBAAAAAAADAU0AAAAAAAAA8QAAAAAAAgFJAAAAAAAAAMkAAAAAAAMBUQA==\",\"dtype\":\"float64\",\"order\":\"little\",\"shape\":[8]},\"Spending_Score_left_parenthesis_1_hyphen_minus_100_right_parenthesis\":{\"__ndarray__\":\"AAAAAAAAIEAAAAAAAMBWQAAAAAAAADBAAAAAAADAU0AAAAAAAAA8QAAAAAAAgFJAAAAAAAAAMkAAAAAAAMBUQA==\",\"dtype\":\"float64\",\"order\":\"little\",\"shape\":[8]},\"class\":[3,3,3,3,3,3,3,3]},\"selected\":{\"id\":\"1948\"},\"selection_policy\":{\"id\":\"1968\"}},\"id\":\"1947\",\"type\":\"ColumnDataSource\"},{\"attributes\":{\"children\":[{\"id\":\"1834\"},{\"id\":\"1844\"},{\"id\":\"2085\"}],\"margin\":[0,0,0,0],\"name\":\"Row01829\",\"tags\":[\"embedded\"]},\"id\":\"1833\",\"type\":\"Row\"},{\"attributes\":{\"source\":{\"id\":\"2031\"}},\"id\":\"2038\",\"type\":\"CDSView\"},{\"attributes\":{},\"id\":\"1863\",\"type\":\"WheelZoomTool\"},{\"attributes\":{\"fill_alpha\":{\"value\":0.1},\"fill_color\":{\"value\":\"#8b8b8b\"},\"hatch_alpha\":{\"value\":0.1},\"hatch_color\":{\"value\":\"#8b8b8b\"},\"line_alpha\":{\"value\":0.1},\"line_color\":{\"value\":\"#8b8b8b\"},\"size\":{\"value\":5.477225575051661},\"x\":{\"field\":\"Annual Income\"},\"y\":{\"field\":\"Spending Score (1-100)\"}},\"id\":\"1977\",\"type\":\"Scatter\"},{\"attributes\":{\"fill_alpha\":{\"value\":0.1},\"fill_color\":{\"value\":\"#9467bd\"},\"hatch_alpha\":{\"value\":0.1},\"hatch_color\":{\"value\":\"#9467bd\"},\"line_alpha\":{\"value\":0.1},\"line_color\":{\"value\":\"#9467bd\"},\"size\":{\"value\":5.477225575051661},\"x\":{\"field\":\"Annual Income\"},\"y\":{\"field\":\"Spending Score (1-100)\"}},\"id\":\"2035\",\"type\":\"Scatter\"},{\"attributes\":{\"fill_alpha\":{\"value\":0.2},\"fill_color\":{\"value\":\"#fc4f30\"},\"hatch_alpha\":{\"value\":0.2},\"hatch_color\":{\"value\":\"#fc4f30\"},\"line_alpha\":{\"value\":0.2},\"line_color\":{\"value\":\"#fc4f30\"},\"size\":{\"value\":5.477225575051661},\"x\":{\"field\":\"Annual Income\"},\"y\":{\"field\":\"Spending Score (1-100)\"}},\"id\":\"1906\",\"type\":\"Scatter\"},{\"attributes\":{\"coordinates\":null,\"data_source\":{\"id\":\"1880\"},\"glyph\":{\"id\":\"1883\"},\"group\":null,\"hover_glyph\":null,\"muted_glyph\":{\"id\":\"1885\"},\"nonselection_glyph\":{\"id\":\"1884\"},\"selection_glyph\":{\"id\":\"1900\"},\"view\":{\"id\":\"1887\"}},\"id\":\"1886\",\"type\":\"GlyphRenderer\"},{\"attributes\":{\"callback\":null,\"renderers\":[{\"id\":\"1886\"},{\"id\":\"1907\"},{\"id\":\"1929\"},{\"id\":\"1953\"},{\"id\":\"1979\"},{\"id\":\"2007\"},{\"id\":\"2037\"}],\"tags\":[\"hv_created\"],\"tooltips\":[[\"class\",\"@{class}\"],[\"Annual Income\",\"@{Annual_Income}\"],[\"Spending Score (1-100)\",\"@{Spending_Score_left_parenthesis_1_hyphen_minus_100_right_parenthesis}\"]]},\"id\":\"1837\",\"type\":\"HoverTool\"},{\"attributes\":{},\"id\":\"1875\",\"type\":\"BasicTickFormatter\"},{\"attributes\":{},\"id\":\"1948\",\"type\":\"Selection\"},{\"attributes\":{\"angle\":{\"value\":0.0},\"fill_alpha\":{\"value\":1.0},\"fill_color\":{\"value\":\"#9467bd\"},\"hatch_alpha\":{\"value\":1.0},\"hatch_color\":{\"value\":\"#9467bd\"},\"hatch_scale\":{\"value\":12.0},\"hatch_weight\":{\"value\":1.0},\"line_alpha\":{\"value\":1.0},\"line_cap\":{\"value\":\"butt\"},\"line_color\":{\"value\":\"#9467bd\"},\"line_dash\":{\"value\":[]},\"line_dash_offset\":{\"value\":0},\"line_join\":{\"value\":\"bevel\"},\"line_width\":{\"value\":1},\"marker\":{\"value\":\"circle\"},\"size\":{\"value\":5.477225575051661},\"x\":{\"field\":\"Annual Income\"},\"y\":{\"field\":\"Spending Score (1-100)\"}},\"id\":\"2062\",\"type\":\"Scatter\"},{\"attributes\":{},\"id\":\"1849\",\"type\":\"LinearScale\"},{\"attributes\":{\"source\":{\"id\":\"1901\"}},\"id\":\"1908\",\"type\":\"CDSView\"},{\"attributes\":{\"source\":{\"id\":\"2001\"}},\"id\":\"2008\",\"type\":\"CDSView\"},{\"attributes\":{\"fill_alpha\":{\"value\":0.1},\"fill_color\":{\"value\":\"#30a2da\"},\"hatch_alpha\":{\"value\":0.1},\"hatch_color\":{\"value\":\"#30a2da\"},\"line_alpha\":{\"value\":0.1},\"line_color\":{\"value\":\"#30a2da\"},\"size\":{\"value\":5.477225575051661},\"x\":{\"field\":\"Annual Income\"},\"y\":{\"field\":\"Spending Score (1-100)\"}},\"id\":\"1884\",\"type\":\"Scatter\"},{\"attributes\":{},\"id\":\"1918\",\"type\":\"UnionRenderers\"},{\"attributes\":{\"data\":{\"Annual Income\":{\"__ndarray__\":\"AAAAAACQikAAAAAAAJCKQAAAAAAA4IpAAAAAAADgikAAAAAAADCLQAAAAAAAMItAAAAAAAAwi0AAAAAAADCLQAAAAAAAMItAAAAAAAAwi0AAAAAAAICLQAAAAAAAgItAAAAAAACAi0AAAAAAAICLQAAAAAAAEI1AAAAAAAAQjUAAAAAAAFCOQAAAAAAAUI5AAAAAAACgjkAAAAAAAKCOQAAAAAAA8I5AAAAAAADwjkAAAAAAAJCPQAAAAAAAkI9AAAAAAAAYkEAAAAAAABiQQAAAAAAAGJBAAAAAAAAYkEA=\",\"dtype\":\"float64\",\"order\":\"little\",\"shape\":[28]},\"Annual_Income\":{\"__ndarray__\":\"AAAAAACQikAAAAAAAJCKQAAAAAAA4IpAAAAAAADgikAAAAAAADCLQAAAAAAAMItAAAAAAAAwi0AAAAAAADCLQAAAAAAAMItAAAAAAAAwi0AAAAAAAICLQAAAAAAAgItAAAAAAACAi0AAAAAAAICLQAAAAAAAEI1AAAAAAAAQjUAAAAAAAFCOQAAAAAAAUI5AAAAAAACgjkAAAAAAAKCOQAAAAAAA8I5AAAAAAADwjkAAAAAAAJCPQAAAAAAAkI9AAAAAAAAYkEAAAAAAABiQQAAAAAAAGJBAAAAAAAAYkEA=\",\"dtype\":\"float64\",\"order\":\"little\",\"shape\":[28]},\"Spending Score (1-100)\":{\"__ndarray__\":\"AAAAAAAAOkAAAAAAAMBSQAAAAAAAADRAAAAAAADAV0AAAAAAAAA7QAAAAAAAgE9AAAAAAAAAKkAAAAAAAMBSQAAAAAAAACRAAAAAAAAAV0AAAAAAAAAqQAAAAAAAgFVAAAAAAAAALkAAAAAAAEBRQAAAAAAAACxAAAAAAACAVkAAAAAAAABAQAAAAAAAgFVAAAAAAAAALkAAAAAAAABWQAAAAAAAgENAAAAAAABAWEAAAAAAAAA4QAAAAAAAAFFAAAAAAAAAMUAAAAAAAEBVQAAAAAAAADdAAAAAAABAUUA=\",\"dtype\":\"float64\",\"order\":\"little\",\"shape\":[28]},\"Spending_Score_left_parenthesis_1_hyphen_minus_100_right_parenthesis\":{\"__ndarray__\":\"AAAAAAAAOkAAAAAAAMBSQAAAAAAAADRAAAAAAADAV0AAAAAAAAA7QAAAAAAAgE9AAAAAAAAAKkAAAAAAAMBSQAAAAAAAACRAAAAAAAAAV0AAAAAAAAAqQAAAAAAAgFVAAAAAAAAALkAAAAAAAEBRQAAAAAAAACxAAAAAAACAVkAAAAAAAABAQAAAAAAAgFVAAAAAAAAALkAAAAAAAABWQAAAAAAAgENAAAAAAABAWEAAAAAAAAA4QAAAAAAAAFFAAAAAAAAAMUAAAAAAAEBVQAAAAAAAADdAAAAAAABAUUA=\",\"dtype\":\"float64\",\"order\":\"little\",\"shape\":[28]},\"class\":[0,0,0,0,0,0,0,0,0,0,0,0,0,0,0,0,0,0,0,0,0,0,0,0,0,0,0,0]},\"selected\":{\"id\":\"1881\"},\"selection_policy\":{\"id\":\"1895\"}},\"id\":\"1880\",\"type\":\"ColumnDataSource\"},{\"attributes\":{\"coordinates\":null,\"data_source\":{\"id\":\"1901\"},\"glyph\":{\"id\":\"1904\"},\"group\":null,\"hover_glyph\":null,\"muted_glyph\":{\"id\":\"1906\"},\"nonselection_glyph\":{\"id\":\"1905\"},\"selection_glyph\":{\"id\":\"1922\"},\"view\":{\"id\":\"1908\"}},\"id\":\"1907\",\"type\":\"GlyphRenderer\"},{\"attributes\":{\"fill_alpha\":{\"value\":0.2},\"fill_color\":{\"value\":\"#8b8b8b\"},\"hatch_alpha\":{\"value\":0.2},\"hatch_color\":{\"value\":\"#8b8b8b\"},\"line_alpha\":{\"value\":0.2},\"line_color\":{\"value\":\"#8b8b8b\"},\"size\":{\"value\":5.477225575051661},\"x\":{\"field\":\"Annual Income\"},\"y\":{\"field\":\"Spending Score (1-100)\"}},\"id\":\"1978\",\"type\":\"Scatter\"},{\"attributes\":{},\"id\":\"1876\",\"type\":\"AllLabels\"},{\"attributes\":{\"fill_color\":{\"value\":\"#fc4f30\"},\"hatch_color\":{\"value\":\"#fc4f30\"},\"line_color\":{\"value\":\"#fc4f30\"},\"size\":{\"value\":5.477225575051661},\"x\":{\"field\":\"Annual Income\"},\"y\":{\"field\":\"Spending Score (1-100)\"}},\"id\":\"1904\",\"type\":\"Scatter\"},{\"attributes\":{\"coordinates\":null,\"group\":null,\"text_color\":\"black\",\"text_font_size\":\"12pt\"},\"id\":\"1845\",\"type\":\"Title\"},{\"attributes\":{},\"id\":\"1924\",\"type\":\"Selection\"},{\"attributes\":{},\"id\":\"1974\",\"type\":\"Selection\"},{\"attributes\":{\"source\":{\"id\":\"1973\"}},\"id\":\"1980\",\"type\":\"CDSView\"},{\"attributes\":{\"angle\":{\"value\":0.0},\"fill_alpha\":{\"value\":1.0},\"fill_color\":{\"value\":\"#fc4f30\"},\"hatch_alpha\":{\"value\":1.0},\"hatch_color\":{\"value\":\"#fc4f30\"},\"hatch_scale\":{\"value\":12.0},\"hatch_weight\":{\"value\":1.0},\"line_alpha\":{\"value\":1.0},\"line_cap\":{\"value\":\"butt\"},\"line_color\":{\"value\":\"#fc4f30\"},\"line_dash\":{\"value\":[]},\"line_dash_offset\":{\"value\":0},\"line_join\":{\"value\":\"bevel\"},\"line_width\":{\"value\":1},\"marker\":{\"value\":\"circle\"},\"size\":{\"value\":5.477225575051661},\"x\":{\"field\":\"Annual Income\"},\"y\":{\"field\":\"Spending Score (1-100)\"}},\"id\":\"1922\",\"type\":\"Scatter\"},{\"attributes\":{\"axis_label\":\"Annual Income\",\"coordinates\":null,\"formatter\":{\"id\":\"1875\"},\"group\":null,\"major_label_policy\":{\"id\":\"1876\"},\"ticker\":{\"id\":\"1854\"}},\"id\":\"1853\",\"type\":\"LinearAxis\"},{\"attributes\":{\"coordinates\":null,\"data_source\":{\"id\":\"1973\"},\"glyph\":{\"id\":\"1976\"},\"group\":null,\"hover_glyph\":null,\"muted_glyph\":{\"id\":\"1978\"},\"nonselection_glyph\":{\"id\":\"1977\"},\"selection_glyph\":{\"id\":\"2000\"},\"view\":{\"id\":\"1980\"}},\"id\":\"1979\",\"type\":\"GlyphRenderer\"},{\"attributes\":{},\"id\":\"1851\",\"type\":\"LinearScale\"},{\"attributes\":{\"label\":{\"value\":\"2\"},\"renderers\":[{\"id\":\"1929\"}]},\"id\":\"1945\",\"type\":\"LegendItem\"},{\"attributes\":{\"data\":{\"Annual Income\":{\"__ndarray__\":\"AAAAAACgdEAAAAAAAKB0QAAAAAAAoHRAAAAAAACgdEAAAAAAAEB1QAAAAAAAQHVAAAAAAAAgd0AAAAAAACB3QAAAAAAAwHdAAAAAAADAd0AAAAAAAGB4QAAAAAAAYHhAAAAAAABgeEAAAAAAAGB4QAAAAAAAAHlAAAAAAAAAeUAAAAAAAAB5QAAAAAAAAHlAAAAAAABAekAAAAAAAEB6QAAAAAAA4HpAAAAAAADgekAAAAAAAOB6QAAAAAAA4HpAAAAAAACAe0AAAAAAAIB7QA==\",\"dtype\":\"float64\",\"order\":\"little\",\"shape\":[26]},\"Annual_Income\":{\"__ndarray__\":\"AAAAAACgdEAAAAAAAKB0QAAAAAAAoHRAAAAAAACgdEAAAAAAAEB1QAAAAAAAQHVAAAAAAAAgd0AAAAAAACB3QAAAAAAAwHdAAAAAAADAd0AAAAAAAGB4QAAAAAAAYHhAAAAAAABgeEAAAAAAAGB4QAAAAAAAAHlAAAAAAAAAeUAAAAAAAAB5QAAAAAAAAHlAAAAAAABAekAAAAAAAEB6QAAAAAAA4HpAAAAAAADgekAAAAAAAOB6QAAAAAAA4HpAAAAAAACAe0AAAAAAAIB7QA==\",\"dtype\":\"float64\",\"order\":\"little\",\"shape\":[26]},\"Spending Score (1-100)\":{\"__ndarray__\":\"AAAAAAAAEEAAAAAAAABXQAAAAAAAACxAAAAAAABAVEAAAAAAAAAxQAAAAAAAQFJAAAAAAAAAOkAAAAAAAMBSQAAAAAAAgEFAAAAAAAAAV0AAAAAAAABCQAAAAAAAgE5AAAAAAAAAPEAAAAAAAEBQQAAAAAAAgEtAAAAAAACAR0AAAAAAAABFQAAAAAAAAEVAAAAAAAAASkAAAAAAAABOQAAAAAAAAEtAAAAAAAAATkAAAAAAAIBGQAAAAAAAgERAAAAAAAAASUAAAAAAAABHQA==\",\"dtype\":\"float64\",\"order\":\"little\",\"shape\":[26]},\"Spending_Score_left_parenthesis_1_hyphen_minus_100_right_parenthesis\":{\"__ndarray__\":\"AAAAAAAAEEAAAAAAAABXQAAAAAAAACxAAAAAAABAVEAAAAAAAAAxQAAAAAAAQFJAAAAAAAAAOkAAAAAAAMBSQAAAAAAAgEFAAAAAAAAAV0AAAAAAAABCQAAAAAAAgE5AAAAAAAAAPEAAAAAAAEBQQAAAAAAAgEtAAAAAAACAR0AAAAAAAABFQAAAAAAAAEVAAAAAAAAASkAAAAAAAABOQAAAAAAAAEtAAAAAAAAATkAAAAAAAIBGQAAAAAAAgERAAAAAAAAASUAAAAAAAABHQA==\",\"dtype\":\"float64\",\"order\":\"little\",\"shape\":[26]},\"class\":[1,1,1,1,1,1,1,1,1,1,1,1,1,1,1,1,1,1,1,1,1,1,1,1,1,1]},\"selected\":{\"id\":\"1902\"},\"selection_policy\":{\"id\":\"1918\"}},\"id\":\"1901\",\"type\":\"ColumnDataSource\"},{\"attributes\":{\"fill_alpha\":{\"value\":0.1},\"fill_color\":{\"value\":\"#e5ae38\"},\"hatch_alpha\":{\"value\":0.1},\"hatch_color\":{\"value\":\"#e5ae38\"},\"line_alpha\":{\"value\":0.1},\"line_color\":{\"value\":\"#e5ae38\"},\"size\":{\"value\":5.477225575051661},\"x\":{\"field\":\"Annual Income\"},\"y\":{\"field\":\"Spending Score (1-100)\"}},\"id\":\"1927\",\"type\":\"Scatter\"},{\"attributes\":{\"fill_color\":{\"value\":\"#8b8b8b\"},\"hatch_color\":{\"value\":\"#8b8b8b\"},\"line_color\":{\"value\":\"#8b8b8b\"},\"size\":{\"value\":5.477225575051661},\"x\":{\"field\":\"Annual Income\"},\"y\":{\"field\":\"Spending Score (1-100)\"}},\"id\":\"1976\",\"type\":\"Scatter\"},{\"attributes\":{\"axis\":{\"id\":\"1857\"},\"coordinates\":null,\"dimension\":1,\"grid_line_color\":null,\"group\":null,\"ticker\":null},\"id\":\"1860\",\"type\":\"Grid\"},{\"attributes\":{\"data\":{\"Annual Income\":{\"__ndarray__\":\"AAAAAADQgUAAAAAAANCBQAAAAAAAIIJAAAAAAAAggkAAAAAAAHCCQAAAAAAAcIJAAAAAAADAgkAAAAAAAMCCQAAAAAAAwIJAAAAAAADAgkAAAAAAAMCCQAAAAAAAwIJAAAAAAAAQg0AAAAAAABCDQAAAAAAAYINAAAAAAABgg0AAAAAAAGCDQAAAAAAAYINAAAAAAABgg0AAAAAAAGCDQAAAAAAAsINAAAAAAACwg0AAAAAAALCDQAAAAAAAsINAAAAAAACwg0AAAAAAALCDQAAAAAAAAIRAAAAAAAAAhEAAAAAAAFCEQAAAAAAAUIRAAAAAAABQhEAAAAAAAFCEQAAAAAAA8IRAAAAAAADwhEAAAAAAAPCEQAAAAAAA8IRA\",\"dtype\":\"float64\",\"order\":\"little\",\"shape\":[36]},\"Annual_Income\":{\"__ndarray__\":\"AAAAAADQgUAAAAAAANCBQAAAAAAAIIJAAAAAAAAggkAAAAAAAHCCQAAAAAAAcIJAAAAAAADAgkAAAAAAAMCCQAAAAAAAwIJAAAAAAADAgkAAAAAAAMCCQAAAAAAAwIJAAAAAAAAQg0AAAAAAABCDQAAAAAAAYINAAAAAAABgg0AAAAAAAGCDQAAAAAAAYINAAAAAAABgg0AAAAAAAGCDQAAAAAAAsINAAAAAAACwg0AAAAAAALCDQAAAAAAAsINAAAAAAACwg0AAAAAAALCDQAAAAAAAAIRAAAAAAAAAhEAAAAAAAFCEQAAAAAAAUIRAAAAAAABQhEAAAAAAAFCEQAAAAAAA8IRAAAAAAADwhEAAAAAAAPCEQAAAAAAA8IRA\",\"dtype\":\"float64\",\"order\":\"little\",\"shape\":[36]},\"Spending Score (1-100)\":{\"__ndarray__\":\"AAAAAAAATUAAAAAAAIBLQAAAAAAAAE5AAAAAAAAAR0AAAAAAAIBLQAAAAAAAgERAAAAAAACASEAAAAAAAABEQAAAAAAAAEVAAAAAAAAASkAAAAAAAIBHQAAAAAAAAElAAAAAAAAARUAAAAAAAIBIQAAAAAAAgERAAAAAAAAASEAAAAAAAIBNQAAAAAAAgEtAAAAAAAAATEAAAAAAAABFQAAAAAAAAElAAAAAAAAAR0AAAAAAAIBFQAAAAAAAAEhAAAAAAAAASkAAAAAAAABLQAAAAAAAAEVAAAAAAAAAR0AAAAAAAABIQAAAAAAAAElAAAAAAACARUAAAAAAAIBNQAAAAAAAgEVAAAAAAACATEAAAAAAAABMQAAAAAAAAERA\",\"dtype\":\"float64\",\"order\":\"little\",\"shape\":[36]},\"Spending_Score_left_parenthesis_1_hyphen_minus_100_right_parenthesis\":{\"__ndarray__\":\"AAAAAAAATUAAAAAAAIBLQAAAAAAAAE5AAAAAAAAAR0AAAAAAAIBLQAAAAAAAgERAAAAAAACASEAAAAAAAABEQAAAAAAAAEVAAAAAAAAASkAAAAAAAIBHQAAAAAAAAElAAAAAAAAARUAAAAAAAIBIQAAAAAAAgERAAAAAAAAASEAAAAAAAIBNQAAAAAAAgEtAAAAAAAAATEAAAAAAAABFQAAAAAAAAElAAAAAAAAAR0AAAAAAAIBFQAAAAAAAAEhAAAAAAAAASkAAAAAAAABLQAAAAAAAAEVAAAAAAAAAR0AAAAAAAABIQAAAAAAAAElAAAAAAACARUAAAAAAAIBNQAAAAAAAgEVAAAAAAACATEAAAAAAAABMQAAAAAAAAERA\",\"dtype\":\"float64\",\"order\":\"little\",\"shape\":[36]},\"class\":[2,2,2,2,2,2,2,2,2,2,2,2,2,2,2,2,2,2,2,2,2,2,2,2,2,2,2,2,2,2,2,2,2,2,2,2]},\"selected\":{\"id\":\"1924\"},\"selection_policy\":{\"id\":\"1942\"}},\"id\":\"1923\",\"type\":\"ColumnDataSource\"},{\"attributes\":{},\"id\":\"1854\",\"type\":\"BasicTicker\"},{\"attributes\":{},\"id\":\"1942\",\"type\":\"UnionRenderers\"},{\"attributes\":{\"axis\":{\"id\":\"1853\"},\"coordinates\":null,\"grid_line_color\":null,\"group\":null,\"ticker\":null},\"id\":\"1856\",\"type\":\"Grid\"},{\"attributes\":{},\"id\":\"1996\",\"type\":\"UnionRenderers\"},{\"attributes\":{\"data\":{\"Annual Income\":{\"__ndarray__\":\"AAAAAADAYkAAAAAAAMBiQAAAAAAAAGRAAAAAAAAAZEAAAAAAAEBlQAAAAAAAQGVAAAAAAACAZkAAAAAAAIBmQAAAAAAAwGdAAAAAAADAZ0AAAAAAAMBnQAAAAAAAwGdAAAAAAAAAaUAAAAAAAABpQAAAAAAAAGlAAAAAAAAAaUAAAAAAAEBqQAAAAAAAQGpAAAAAAADAbEAAAAAAAMBsQAAAAAAAAG5AAAAAAAAAbkAAAAAAAEBvQAAAAAAAQG9AAAAAAACAcUAAAAAAAIBxQAAAAAAAgHFAAAAAAACAcUAAAAAAACByQAAAAAAAIHJAAAAAAADAckAAAAAAAMByQA==\",\"dtype\":\"float64\",\"order\":\"little\",\"shape\":[32]},\"Annual_Income\":{\"__ndarray__\":\"AAAAAADAYkAAAAAAAMBiQAAAAAAAAGRAAAAAAAAAZEAAAAAAAEBlQAAAAAAAQGVAAAAAAACAZkAAAAAAAIBmQAAAAAAAwGdAAAAAAADAZ0AAAAAAAMBnQAAAAAAAwGdAAAAAAAAAaUAAAAAAAABpQAAAAAAAAGlAAAAAAAAAaUAAAAAAAEBqQAAAAAAAQGpAAAAAAADAbEAAAAAAAMBsQAAAAAAAAG5AAAAAAAAAbkAAAAAAAEBvQAAAAAAAQG9AAAAAAACAcUAAAAAAAIBxQAAAAAAAgHFAAAAAAACAcUAAAAAAACByQAAAAAAAIHJAAAAAAADAckAAAAAAAMByQA==\",\"dtype\":\"float64\",\"order\":\"little\",\"shape\":[32]},\"Spending Score (1-100)\":{\"__ndarray__\":\"AAAAAACAQ0AAAAAAAEBUQAAAAAAAABhAAAAAAABAU0AAAAAAAABEQAAAAAAAAFNAAAAAAAAAGEAAAAAAAIBXQAAAAAAAAAhAAAAAAAAAUkAAAAAAAAAsQAAAAAAAwFhAAAAAAAAALkAAAAAAAEBTQAAAAAAAACpAAAAAAADAU0AAAAAAAIBBQAAAAAAAgFBAAAAAAAAAPUAAAAAAAIBYQAAAAAAAgEFAAAAAAABAUkAAAAAAAAAUQAAAAAAAQFJAAAAAAAAALEAAAAAAAIBUQAAAAAAAAEBAAAAAAACATkAAAAAAAAA/QAAAAAAAwFVAAAAAAAAAEEAAAAAAAEBSQA==\",\"dtype\":\"float64\",\"order\":\"little\",\"shape\":[32]},\"Spending_Score_left_parenthesis_1_hyphen_minus_100_right_parenthesis\":{\"__ndarray__\":\"AAAAAACAQ0AAAAAAAEBUQAAAAAAAABhAAAAAAABAU0AAAAAAAABEQAAAAAAAAFNAAAAAAAAAGEAAAAAAAIBXQAAAAAAAAAhAAAAAAAAAUkAAAAAAAAAsQAAAAAAAwFhAAAAAAAAALkAAAAAAAEBTQAAAAAAAACpAAAAAAADAU0AAAAAAAIBBQAAAAAAAgFBAAAAAAAAAPUAAAAAAAIBYQAAAAAAAgEFAAAAAAABAUkAAAAAAAAAUQAAAAAAAQFJAAAAAAAAALEAAAAAAAIBUQAAAAAAAAEBAAAAAAACATkAAAAAAAAA/QAAAAAAAwFVAAAAAAAAAEEAAAAAAAEBSQA==\",\"dtype\":\"float64\",\"order\":\"little\",\"shape\":[32]},\"class\":[4,4,4,4,4,4,4,4,4,4,4,4,4,4,4,4,4,4,4,4,4,4,4,4,4,4,4,4,4,4,4,4]},\"selected\":{\"id\":\"1974\"},\"selection_policy\":{\"id\":\"1996\"}},\"id\":\"1973\",\"type\":\"ColumnDataSource\"},{\"attributes\":{\"label\":{\"value\":\"4\"},\"renderers\":[{\"id\":\"1979\"}]},\"id\":\"1999\",\"type\":\"LegendItem\"},{\"attributes\":{},\"id\":\"1858\",\"type\":\"BasicTicker\"},{\"attributes\":{\"axis_label\":\"Spending Score (1-100)\",\"coordinates\":null,\"formatter\":{\"id\":\"1878\"},\"group\":null,\"major_label_policy\":{\"id\":\"1879\"},\"ticker\":{\"id\":\"1858\"}},\"id\":\"1857\",\"type\":\"LinearAxis\"},{\"attributes\":{\"fill_alpha\":{\"value\":0.2},\"fill_color\":{\"value\":\"#17becf\"},\"hatch_alpha\":{\"value\":0.2},\"hatch_color\":{\"value\":\"#17becf\"},\"line_alpha\":{\"value\":0.2},\"line_color\":{\"value\":\"#17becf\"},\"size\":{\"value\":5.477225575051661},\"x\":{\"field\":\"Annual Income\"},\"y\":{\"field\":\"Spending Score (1-100)\"}},\"id\":\"2006\",\"type\":\"Scatter\"},{\"attributes\":{\"fill_alpha\":{\"value\":0.2},\"fill_color\":{\"value\":\"#e5ae38\"},\"hatch_alpha\":{\"value\":0.2},\"hatch_color\":{\"value\":\"#e5ae38\"},\"line_alpha\":{\"value\":0.2},\"line_color\":{\"value\":\"#e5ae38\"},\"size\":{\"value\":5.477225575051661},\"x\":{\"field\":\"Annual Income\"},\"y\":{\"field\":\"Spending Score (1-100)\"}},\"id\":\"1928\",\"type\":\"Scatter\"},{\"attributes\":{\"coordinates\":null,\"data_source\":{\"id\":\"2001\"},\"glyph\":{\"id\":\"2004\"},\"group\":null,\"hover_glyph\":null,\"muted_glyph\":{\"id\":\"2006\"},\"nonselection_glyph\":{\"id\":\"2005\"},\"selection_glyph\":{\"id\":\"2030\"},\"view\":{\"id\":\"2008\"}},\"id\":\"2007\",\"type\":\"GlyphRenderer\"},{\"attributes\":{\"angle\":{\"value\":0.0},\"fill_alpha\":{\"value\":1.0},\"fill_color\":{\"value\":\"#8b8b8b\"},\"hatch_alpha\":{\"value\":1.0},\"hatch_color\":{\"value\":\"#8b8b8b\"},\"hatch_scale\":{\"value\":12.0},\"hatch_weight\":{\"value\":1.0},\"line_alpha\":{\"value\":1.0},\"line_cap\":{\"value\":\"butt\"},\"line_color\":{\"value\":\"#8b8b8b\"},\"line_dash\":{\"value\":[]},\"line_dash_offset\":{\"value\":0},\"line_join\":{\"value\":\"bevel\"},\"line_width\":{\"value\":1},\"marker\":{\"value\":\"circle\"},\"size\":{\"value\":5.477225575051661},\"x\":{\"field\":\"Annual Income\"},\"y\":{\"field\":\"Spending Score (1-100)\"}},\"id\":\"2000\",\"type\":\"Scatter\"},{\"attributes\":{},\"id\":\"1879\",\"type\":\"AllLabels\"},{\"attributes\":{\"data\":{\"Annual Income\":{\"__ndarray__\":\"AAAAAACQhUAAAAAAAJCFQAAAAAAA4IVAAAAAAADghUAAAAAAADCGQAAAAAAAMIZAAAAAAAAwhkAAAAAAADCGQAAAAAAAMIZAAAAAAAAwhkAAAAAAAICGQAAAAAAAgIZAAAAAAADQhkAAAAAAANCGQAAAAAAA0IZAAAAAAADQhkAAAAAAACCHQAAAAAAAIIdAAAAAAABwh0AAAAAAAHCHQAAAAAAAwIdAAAAAAADAh0AAAAAAABCIQAAAAAAAEIhAAAAAAAAQiEAAAAAAABCIQAAAAAAAYIhAAAAAAABgiEAAAAAAAGCIQAAAAAAAYIhAAAAAAABgiEAAAAAAAGCIQAAAAAAAYIhAAAAAAABgiEAAAAAAAGCIQAAAAAAAYIhAAAAAAABgiEAAAAAAAGCIQAAAAAAAsIhAAAAAAACwiEAAAAAAAFCJQAAAAAAAUIlA\",\"dtype\":\"float64\",\"order\":\"little\",\"shape\":[42]},\"Annual_Income\":{\"__ndarray__\":\"AAAAAACQhUAAAAAAAJCFQAAAAAAA4IVAAAAAAADghUAAAAAAADCGQAAAAAAAMIZAAAAAAAAwhkAAAAAAADCGQAAAAAAAMIZAAAAAAAAwhkAAAAAAAICGQAAAAAAAgIZAAAAAAADQhkAAAAAAANCGQAAAAAAA0IZAAAAAAADQhkAAAAAAACCHQAAAAAAAIIdAAAAAAABwh0AAAAAAAHCHQAAAAAAAwIdAAAAAAADAh0AAAAAAABCIQAAAAAAAEIhAAAAAAAAQiEAAAAAAABCIQAAAAAAAYIhAAAAAAABgiEAAAAAAAGCIQAAAAAAAYIhAAAAAAABgiEAAAAAAAGCIQAAAAAAAYIhAAAAAAABgiEAAAAAAAGCIQAAAAAAAYIhAAAAAAABgiEAAAAAAAGCIQAAAAAAAsIhAAAAAAACwiEAAAAAAAFCJQAAAAAAAUIlA\",\"dtype\":\"float64\",\"order\":\"little\",\"shape\":[42]},\"Spending Score (1-100)\":{\"__ndarray__\":\"AAAAAAAATUAAAAAAAMBWQAAAAAAAAD1AAAAAAABAU0AAAAAAAIBBQAAAAAAAwFdAAAAAAAAAJkAAAAAAAMBSQAAAAAAAACJAAAAAAADAUkAAAAAAAABBQAAAAAAAwFFAAAAAAAAAFEAAAAAAAABWQAAAAAAAABxAAAAAAABAUkAAAAAAAAAkQAAAAAAAAFJAAAAAAAAAFEAAAAAAAEBXQAAAAAAAAERAAAAAAADAVUAAAAAAAAAoQAAAAAAAQFhAAAAAAAAAQkAAAAAAAIBSQAAAAAAAADZAAAAAAACAVkAAAAAAAAAxQAAAAAAAAFZAAAAAAAAANEAAAAAAAABTQAAAAAAAADBAAAAAAABAVkAAAAAAAADwPwAAAAAAgFNAAAAAAAAA8D8AAAAAAEBSQAAAAAAAgEFAAAAAAADAVEAAAAAAAAAUQAAAAAAAQFdA\",\"dtype\":\"float64\",\"order\":\"little\",\"shape\":[42]},\"Spending_Score_left_parenthesis_1_hyphen_minus_100_right_parenthesis\":{\"__ndarray__\":\"AAAAAAAATUAAAAAAAMBWQAAAAAAAAD1AAAAAAABAU0AAAAAAAIBBQAAAAAAAwFdAAAAAAAAAJkAAAAAAAMBSQAAAAAAAACJAAAAAAADAUkAAAAAAAABBQAAAAAAAwFFAAAAAAAAAFEAAAAAAAABWQAAAAAAAABxAAAAAAABAUkAAAAAAAAAkQAAAAAAAAFJAAAAAAAAAFEAAAAAAAEBXQAAAAAAAAERAAAAAAADAVUAAAAAAAAAoQAAAAAAAQFhAAAAAAAAAQkAAAAAAAIBSQAAAAAAAADZAAAAAAACAVkAAAAAAAAAxQAAAAAAAAFZAAAAAAAAANEAAAAAAAABTQAAAAAAAADBAAAAAAABAVkAAAAAAAADwPwAAAAAAgFNAAAAAAAAA8D8AAAAAAEBSQAAAAAAAgEFAAAAAAADAVEAAAAAAAAAUQAAAAAAAQFdA\",\"dtype\":\"float64\",\"order\":\"little\",\"shape\":[42]},\"class\":[5,5,5,5,5,5,5,5,5,5,5,5,5,5,5,5,5,5,5,5,5,5,5,5,5,5,5,5,5,5,5,5,5,5,5,5,5,5,5,5,5,5]},\"selected\":{\"id\":\"2002\"},\"selection_policy\":{\"id\":\"2026\"}},\"id\":\"2001\",\"type\":\"ColumnDataSource\"},{\"attributes\":{\"source\":{\"id\":\"1880\"}},\"id\":\"1887\",\"type\":\"CDSView\"},{\"attributes\":{\"source\":{\"id\":\"1923\"}},\"id\":\"1930\",\"type\":\"CDSView\"},{\"attributes\":{},\"id\":\"2002\",\"type\":\"Selection\"},{\"attributes\":{\"margin\":[5,5,5,5],\"name\":\"HSpacer01834\",\"sizing_mode\":\"stretch_width\"},\"id\":\"2085\",\"type\":\"Spacer\"},{\"attributes\":{\"coordinates\":null,\"data_source\":{\"id\":\"1923\"},\"glyph\":{\"id\":\"1926\"},\"group\":null,\"hover_glyph\":null,\"muted_glyph\":{\"id\":\"1928\"},\"nonselection_glyph\":{\"id\":\"1927\"},\"selection_glyph\":{\"id\":\"1946\"},\"view\":{\"id\":\"1930\"}},\"id\":\"1929\",\"type\":\"GlyphRenderer\"},{\"attributes\":{\"end\":1422.2857142857142,\"reset_end\":1422.2857142857142,\"reset_start\":97.71428571428572,\"start\":97.71428571428572,\"tags\":[[[\"Annual Income\",\"Annual Income\",null]]]},\"id\":\"1835\",\"type\":\"Range1d\"},{\"attributes\":{\"fill_color\":{\"value\":\"#e5ae38\"},\"hatch_color\":{\"value\":\"#e5ae38\"},\"line_color\":{\"value\":\"#e5ae38\"},\"size\":{\"value\":5.477225575051661},\"x\":{\"field\":\"Annual Income\"},\"y\":{\"field\":\"Spending Score (1-100)\"}},\"id\":\"1926\",\"type\":\"Scatter\"},{\"attributes\":{},\"id\":\"1862\",\"type\":\"PanTool\"},{\"attributes\":{},\"id\":\"1878\",\"type\":\"BasicTickFormatter\"},{\"attributes\":{\"end\":108.8,\"reset_end\":108.8,\"reset_start\":-8.8,\"start\":-8.8,\"tags\":[[[\"Spending Score (1-100)\",\"Spending Score (1-100)\",null]]]},\"id\":\"1836\",\"type\":\"Range1d\"},{\"attributes\":{},\"id\":\"1881\",\"type\":\"Selection\"},{\"attributes\":{},\"id\":\"1865\",\"type\":\"ResetTool\"},{\"attributes\":{\"overlay\":{\"id\":\"1866\"}},\"id\":\"1864\",\"type\":\"BoxZoomTool\"},{\"attributes\":{\"fill_alpha\":{\"value\":0.1},\"fill_color\":{\"value\":\"#17becf\"},\"hatch_alpha\":{\"value\":0.1},\"hatch_color\":{\"value\":\"#17becf\"},\"line_alpha\":{\"value\":0.1},\"line_color\":{\"value\":\"#17becf\"},\"size\":{\"value\":5.477225575051661},\"x\":{\"field\":\"Annual Income\"},\"y\":{\"field\":\"Spending Score (1-100)\"}},\"id\":\"2005\",\"type\":\"Scatter\"},{\"attributes\":{\"angle\":{\"value\":0.0},\"fill_alpha\":{\"value\":1.0},\"fill_color\":{\"value\":\"#e5ae38\"},\"hatch_alpha\":{\"value\":1.0},\"hatch_color\":{\"value\":\"#e5ae38\"},\"hatch_scale\":{\"value\":12.0},\"hatch_weight\":{\"value\":1.0},\"line_alpha\":{\"value\":1.0},\"line_cap\":{\"value\":\"butt\"},\"line_color\":{\"value\":\"#e5ae38\"},\"line_dash\":{\"value\":[]},\"line_dash_offset\":{\"value\":0},\"line_join\":{\"value\":\"bevel\"},\"line_width\":{\"value\":1},\"marker\":{\"value\":\"circle\"},\"size\":{\"value\":5.477225575051661},\"x\":{\"field\":\"Annual Income\"},\"y\":{\"field\":\"Spending Score (1-100)\"}},\"id\":\"1946\",\"type\":\"Scatter\"}],\"root_ids\":[\"1833\"]},\"title\":\"Bokeh Application\",\"version\":\"2.4.3\"}};\n",
       "    var render_items = [{\"docid\":\"62268a29-7c65-4a10-b087-6dce8a1b9322\",\"root_ids\":[\"1833\"],\"roots\":{\"1833\":\"80e70a28-5c3d-435d-845d-9d1f2684e5b6\"}}];\n",
       "    root.Bokeh.embed.embed_items_notebook(docs_json, render_items);\n",
       "  }\n",
       "  if (root.Bokeh !== undefined && root.Bokeh.Panel !== undefined) {\n",
       "    embed_document(root);\n",
       "  } else {\n",
       "    var attempts = 0;\n",
       "    var timer = setInterval(function(root) {\n",
       "      if (root.Bokeh !== undefined && root.Bokeh.Panel !== undefined) {\n",
       "        clearInterval(timer);\n",
       "        embed_document(root);\n",
       "      } else if (document.readyState == \"complete\") {\n",
       "        attempts++;\n",
       "        if (attempts > 200) {\n",
       "          clearInterval(timer);\n",
       "          console.log(\"Bokeh: ERROR: Unable to run BokehJS code because BokehJS library is missing\");\n",
       "        }\n",
       "      }\n",
       "    }, 25, root)\n",
       "  }\n",
       "})(window);</script>"
      ],
      "text/plain": [
       ":NdOverlay   [class]\n",
       "   :Scatter   [Annual Income]   (Spending Score (1-100))"
      ]
     },
     "execution_count": 82,
     "metadata": {
      "application/vnd.holoviews_exec.v0+json": {
       "id": "1833"
      }
     },
     "output_type": "execute_result"
    }
   ],
   "source": [
    "# Other cluster counts\n",
    "test_cluster_amount(cleaned_df_shopping, 7)\n",
    "cleaned_df_shopping.hvplot.scatter(x=\"Annual Income\", y=\"Spending Score (1-100)\", by=\"class\")"
   ]
  },
  {
   "cell_type": "code",
   "execution_count": 85,
   "metadata": {},
   "outputs": [
    {
     "data": {
      "application/vnd.plotly.v1+json": {
       "config": {
        "plotlyServerURL": "https://plot.ly"
       },
       "data": [
        {
         "hovertemplate": "class=%{marker.color}<br>Annual Income=%{x}<br>Spending Score (1-100)=%{y}<br>Age=%{z}<extra></extra>",
         "legendgroup": "4",
         "marker": {
          "color": [
           4,
           4,
           4,
           4,
           4,
           4,
           4,
           4,
           4,
           4,
           4,
           4,
           4,
           4,
           4,
           4,
           4,
           4,
           4,
           4,
           4,
           4,
           4,
           4,
           4,
           4,
           4,
           4,
           4,
           4,
           4,
           4
          ],
          "coloraxis": "coloraxis",
          "symbol": "circle"
         },
         "mode": "markers",
         "name": "4",
         "scene": "scene",
         "showlegend": true,
         "type": "scatter3d",
         "x": [
          150,
          150,
          160,
          160,
          170,
          170,
          180,
          180,
          190,
          190,
          190,
          190,
          200,
          200,
          200,
          200,
          210,
          210,
          230,
          230,
          240,
          240,
          250,
          250,
          280,
          280,
          280,
          280,
          290,
          290,
          300,
          300
         ],
         "y": [
          39,
          81,
          6,
          77,
          40,
          76,
          6,
          94,
          3,
          72,
          14,
          99,
          15,
          77,
          13,
          79,
          35,
          66,
          29,
          98,
          35,
          73,
          5,
          73,
          14,
          82,
          32,
          61,
          31,
          87,
          4,
          73
         ],
         "z": [
          19,
          21,
          20,
          23,
          31,
          22,
          35,
          23,
          64,
          30,
          67,
          35,
          58,
          24,
          37,
          22,
          35,
          20,
          52,
          35,
          35,
          25,
          46,
          31,
          54,
          29,
          45,
          35,
          40,
          23,
          60,
          21
         ]
        },
        {
         "hovertemplate": "class=%{marker.color}<br>Annual Income=%{x}<br>Spending Score (1-100)=%{y}<br>Age=%{z}<extra></extra>",
         "legendgroup": "1",
         "marker": {
          "color": [
           1,
           1,
           1,
           1,
           1,
           1,
           1,
           1,
           1,
           1,
           1,
           1,
           1,
           1,
           1,
           1,
           1,
           1,
           1,
           1,
           1,
           1,
           1,
           1,
           1,
           1
          ],
          "coloraxis": "coloraxis",
          "symbol": "diamond"
         },
         "mode": "markers",
         "name": "1",
         "scene": "scene",
         "showlegend": true,
         "type": "scatter3d",
         "x": [
          330,
          330,
          330,
          330,
          340,
          340,
          370,
          370,
          380,
          380,
          390,
          390,
          390,
          390,
          400,
          400,
          400,
          400,
          420,
          420,
          430,
          430,
          430,
          430,
          440,
          440
         ],
         "y": [
          4,
          92,
          14,
          81,
          17,
          73,
          26,
          75,
          35,
          92,
          36,
          61,
          28,
          65,
          55,
          47,
          42,
          42,
          52,
          60,
          54,
          60,
          45,
          41,
          50,
          46
         ],
         "z": [
          53,
          18,
          49,
          21,
          42,
          30,
          36,
          20,
          65,
          24,
          48,
          31,
          49,
          24,
          50,
          27,
          29,
          31,
          49,
          33,
          31,
          59,
          50,
          47,
          51,
          69
         ]
        },
        {
         "hovertemplate": "class=%{marker.color}<br>Annual Income=%{x}<br>Spending Score (1-100)=%{y}<br>Age=%{z}<extra></extra>",
         "legendgroup": "6",
         "marker": {
          "color": [
           6,
           6,
           6,
           6,
           6,
           6,
           6,
           6,
           6,
           6,
           6,
           6,
           6,
           6,
           6,
           6,
           6,
           6,
           6,
           6,
           6,
           6,
           6,
           6,
           6,
           6,
           6,
           6
          ],
          "coloraxis": "coloraxis",
          "symbol": "square"
         },
         "mode": "markers",
         "name": "6",
         "scene": "scene",
         "showlegend": true,
         "type": "scatter3d",
         "x": [
          460,
          460,
          460,
          460,
          470,
          470,
          480,
          480,
          480,
          480,
          480,
          480,
          490,
          490,
          500,
          500,
          540,
          540,
          540,
          540,
          540,
          540,
          540,
          540,
          540,
          540,
          540,
          540
         ],
         "y": [
          51,
          46,
          56,
          55,
          52,
          59,
          51,
          59,
          50,
          48,
          59,
          47,
          55,
          42,
          49,
          56,
          47,
          54,
          53,
          48,
          52,
          42,
          51,
          55,
          41,
          44,
          57,
          46
         ],
         "z": [
          27,
          53,
          70,
          19,
          67,
          54,
          63,
          18,
          43,
          68,
          19,
          32,
          70,
          47,
          60,
          60,
          59,
          26,
          45,
          40,
          23,
          49,
          57,
          38,
          67,
          46,
          21,
          48
         ]
        },
        {
         "hovertemplate": "class=%{marker.color}<br>Annual Income=%{x}<br>Spending Score (1-100)=%{y}<br>Age=%{z}<extra></extra>",
         "legendgroup": "2",
         "marker": {
          "color": [
           2,
           2,
           2,
           2,
           2,
           2,
           2,
           2,
           2,
           2,
           2,
           2,
           2,
           2,
           2,
           2,
           2,
           2,
           2,
           2,
           2,
           2,
           2,
           2,
           2,
           2,
           2,
           2,
           2,
           2,
           2,
           2,
           2,
           2,
           2,
           2
          ],
          "coloraxis": "coloraxis",
          "symbol": "x"
         },
         "mode": "markers",
         "name": "2",
         "scene": "scene",
         "showlegend": true,
         "type": "scatter3d",
         "x": [
          570,
          570,
          580,
          580,
          590,
          590,
          600,
          600,
          600,
          600,
          600,
          600,
          610,
          610,
          620,
          620,
          620,
          620,
          620,
          620,
          630,
          630,
          630,
          630,
          630,
          630,
          640,
          640,
          650,
          650,
          650,
          650,
          670,
          670,
          670,
          670
         ],
         "y": [
          58,
          55,
          60,
          46,
          55,
          41,
          49,
          40,
          42,
          52,
          47,
          50,
          42,
          49,
          41,
          48,
          59,
          55,
          56,
          42,
          50,
          46,
          43,
          48,
          52,
          54,
          42,
          46,
          48,
          50,
          43,
          59,
          43,
          57,
          56,
          40
         ],
         "z": [
          55,
          22,
          34,
          50,
          68,
          18,
          48,
          40,
          32,
          24,
          47,
          27,
          48,
          20,
          23,
          49,
          67,
          26,
          49,
          21,
          66,
          54,
          68,
          66,
          65,
          19,
          38,
          19,
          18,
          19,
          63,
          49,
          51,
          50,
          27,
          38
         ]
        },
        {
         "hovertemplate": "class=%{marker.color}<br>Annual Income=%{x}<br>Spending Score (1-100)=%{y}<br>Age=%{z}<extra></extra>",
         "legendgroup": "5",
         "marker": {
          "color": [
           5,
           5,
           5,
           5,
           5,
           5,
           5,
           5,
           5,
           5,
           5,
           5,
           5,
           5,
           5,
           5,
           5,
           5,
           5,
           5,
           5,
           5,
           5,
           5,
           5,
           5,
           5,
           5,
           5,
           5,
           5,
           5,
           5,
           5,
           5,
           5,
           5,
           5,
           5,
           5,
           5,
           5
          ],
          "coloraxis": "coloraxis",
          "symbol": "cross"
         },
         "mode": "markers",
         "name": "5",
         "scene": "scene",
         "showlegend": true,
         "type": "scatter3d",
         "x": [
          690,
          690,
          700,
          700,
          710,
          710,
          710,
          710,
          710,
          710,
          720,
          720,
          730,
          730,
          730,
          730,
          740,
          740,
          750,
          750,
          760,
          760,
          770,
          770,
          770,
          770,
          780,
          780,
          780,
          780,
          780,
          780,
          780,
          780,
          780,
          780,
          780,
          780,
          790,
          790,
          810,
          810
         ],
         "y": [
          58,
          91,
          29,
          77,
          35,
          95,
          11,
          75,
          9,
          75,
          34,
          71,
          5,
          88,
          7,
          73,
          10,
          72,
          5,
          93,
          40,
          87,
          12,
          97,
          36,
          74,
          22,
          90,
          17,
          88,
          20,
          76,
          16,
          89,
          1,
          78,
          1,
          73,
          35,
          83,
          5,
          93
         ],
         "z": [
          40,
          39,
          23,
          31,
          43,
          40,
          59,
          38,
          47,
          39,
          25,
          31,
          20,
          29,
          44,
          32,
          19,
          35,
          57,
          32,
          28,
          32,
          25,
          28,
          48,
          32,
          34,
          34,
          43,
          39,
          44,
          38,
          47,
          27,
          37,
          30,
          34,
          30,
          56,
          29,
          19,
          31
         ]
        },
        {
         "hovertemplate": "class=%{marker.color}<br>Annual Income=%{x}<br>Spending Score (1-100)=%{y}<br>Age=%{z}<extra></extra>",
         "legendgroup": "0",
         "marker": {
          "color": [
           0,
           0,
           0,
           0,
           0,
           0,
           0,
           0,
           0,
           0,
           0,
           0,
           0,
           0,
           0,
           0,
           0,
           0,
           0,
           0,
           0,
           0,
           0,
           0,
           0,
           0,
           0,
           0
          ],
          "coloraxis": "coloraxis",
          "symbol": "circle"
         },
         "mode": "markers",
         "name": "0",
         "scene": "scene",
         "showlegend": true,
         "type": "scatter3d",
         "x": [
          850,
          850,
          860,
          860,
          870,
          870,
          870,
          870,
          870,
          870,
          880,
          880,
          880,
          880,
          930,
          930,
          970,
          970,
          980,
          980,
          990,
          990,
          1010,
          1010,
          1030,
          1030,
          1030,
          1030
         ],
         "y": [
          26,
          75,
          20,
          95,
          27,
          63,
          13,
          75,
          10,
          92,
          13,
          86,
          15,
          69,
          14,
          90,
          32,
          86,
          15,
          88,
          39,
          97,
          24,
          68,
          17,
          85,
          23,
          69
         ],
         "z": [
          50,
          36,
          42,
          33,
          36,
          32,
          40,
          28,
          36,
          36,
          52,
          30,
          58,
          27,
          59,
          35,
          37,
          32,
          46,
          29,
          41,
          30,
          54,
          28,
          41,
          36,
          34,
          32
         ]
        },
        {
         "hovertemplate": "class=%{marker.color}<br>Annual Income=%{x}<br>Spending Score (1-100)=%{y}<br>Age=%{z}<extra></extra>",
         "legendgroup": "3",
         "marker": {
          "color": [
           3,
           3,
           3,
           3,
           3,
           3,
           3,
           3
          ],
          "coloraxis": "coloraxis",
          "symbol": "diamond"
         },
         "mode": "markers",
         "name": "3",
         "scene": "scene",
         "showlegend": true,
         "type": "scatter3d",
         "x": [
          1130,
          1130,
          1200,
          1200,
          1260,
          1260,
          1370,
          1370
         ],
         "y": [
          8,
          91,
          16,
          79,
          28,
          74,
          18,
          83
         ],
         "z": [
          33,
          38,
          47,
          35,
          45,
          32,
          32,
          30
         ]
        }
       ],
       "layout": {
        "coloraxis": {
         "colorbar": {
          "title": {
           "text": "class"
          }
         },
         "colorscale": [
          [
           0,
           "#0d0887"
          ],
          [
           0.1111111111111111,
           "#46039f"
          ],
          [
           0.2222222222222222,
           "#7201a8"
          ],
          [
           0.3333333333333333,
           "#9c179e"
          ],
          [
           0.4444444444444444,
           "#bd3786"
          ],
          [
           0.5555555555555556,
           "#d8576b"
          ],
          [
           0.6666666666666666,
           "#ed7953"
          ],
          [
           0.7777777777777778,
           "#fb9f3a"
          ],
          [
           0.8888888888888888,
           "#fdca26"
          ],
          [
           1,
           "#f0f921"
          ]
         ]
        },
        "legend": {
         "title": {
          "text": "class"
         },
         "tracegroupgap": 0,
         "x": 0,
         "y": 1
        },
        "margin": {
         "t": 60
        },
        "scene": {
         "domain": {
          "x": [
           0,
           1
          ],
          "y": [
           0,
           1
          ]
         },
         "xaxis": {
          "title": {
           "text": "Annual Income"
          }
         },
         "yaxis": {
          "title": {
           "text": "Spending Score (1-100)"
          }
         },
         "zaxis": {
          "title": {
           "text": "Age"
          }
         }
        },
        "template": {
         "data": {
          "bar": [
           {
            "error_x": {
             "color": "#2a3f5f"
            },
            "error_y": {
             "color": "#2a3f5f"
            },
            "marker": {
             "line": {
              "color": "#E5ECF6",
              "width": 0.5
             },
             "pattern": {
              "fillmode": "overlay",
              "size": 10,
              "solidity": 0.2
             }
            },
            "type": "bar"
           }
          ],
          "barpolar": [
           {
            "marker": {
             "line": {
              "color": "#E5ECF6",
              "width": 0.5
             },
             "pattern": {
              "fillmode": "overlay",
              "size": 10,
              "solidity": 0.2
             }
            },
            "type": "barpolar"
           }
          ],
          "carpet": [
           {
            "aaxis": {
             "endlinecolor": "#2a3f5f",
             "gridcolor": "white",
             "linecolor": "white",
             "minorgridcolor": "white",
             "startlinecolor": "#2a3f5f"
            },
            "baxis": {
             "endlinecolor": "#2a3f5f",
             "gridcolor": "white",
             "linecolor": "white",
             "minorgridcolor": "white",
             "startlinecolor": "#2a3f5f"
            },
            "type": "carpet"
           }
          ],
          "choropleth": [
           {
            "colorbar": {
             "outlinewidth": 0,
             "ticks": ""
            },
            "type": "choropleth"
           }
          ],
          "contour": [
           {
            "colorbar": {
             "outlinewidth": 0,
             "ticks": ""
            },
            "colorscale": [
             [
              0,
              "#0d0887"
             ],
             [
              0.1111111111111111,
              "#46039f"
             ],
             [
              0.2222222222222222,
              "#7201a8"
             ],
             [
              0.3333333333333333,
              "#9c179e"
             ],
             [
              0.4444444444444444,
              "#bd3786"
             ],
             [
              0.5555555555555556,
              "#d8576b"
             ],
             [
              0.6666666666666666,
              "#ed7953"
             ],
             [
              0.7777777777777778,
              "#fb9f3a"
             ],
             [
              0.8888888888888888,
              "#fdca26"
             ],
             [
              1,
              "#f0f921"
             ]
            ],
            "type": "contour"
           }
          ],
          "contourcarpet": [
           {
            "colorbar": {
             "outlinewidth": 0,
             "ticks": ""
            },
            "type": "contourcarpet"
           }
          ],
          "heatmap": [
           {
            "colorbar": {
             "outlinewidth": 0,
             "ticks": ""
            },
            "colorscale": [
             [
              0,
              "#0d0887"
             ],
             [
              0.1111111111111111,
              "#46039f"
             ],
             [
              0.2222222222222222,
              "#7201a8"
             ],
             [
              0.3333333333333333,
              "#9c179e"
             ],
             [
              0.4444444444444444,
              "#bd3786"
             ],
             [
              0.5555555555555556,
              "#d8576b"
             ],
             [
              0.6666666666666666,
              "#ed7953"
             ],
             [
              0.7777777777777778,
              "#fb9f3a"
             ],
             [
              0.8888888888888888,
              "#fdca26"
             ],
             [
              1,
              "#f0f921"
             ]
            ],
            "type": "heatmap"
           }
          ],
          "heatmapgl": [
           {
            "colorbar": {
             "outlinewidth": 0,
             "ticks": ""
            },
            "colorscale": [
             [
              0,
              "#0d0887"
             ],
             [
              0.1111111111111111,
              "#46039f"
             ],
             [
              0.2222222222222222,
              "#7201a8"
             ],
             [
              0.3333333333333333,
              "#9c179e"
             ],
             [
              0.4444444444444444,
              "#bd3786"
             ],
             [
              0.5555555555555556,
              "#d8576b"
             ],
             [
              0.6666666666666666,
              "#ed7953"
             ],
             [
              0.7777777777777778,
              "#fb9f3a"
             ],
             [
              0.8888888888888888,
              "#fdca26"
             ],
             [
              1,
              "#f0f921"
             ]
            ],
            "type": "heatmapgl"
           }
          ],
          "histogram": [
           {
            "marker": {
             "pattern": {
              "fillmode": "overlay",
              "size": 10,
              "solidity": 0.2
             }
            },
            "type": "histogram"
           }
          ],
          "histogram2d": [
           {
            "colorbar": {
             "outlinewidth": 0,
             "ticks": ""
            },
            "colorscale": [
             [
              0,
              "#0d0887"
             ],
             [
              0.1111111111111111,
              "#46039f"
             ],
             [
              0.2222222222222222,
              "#7201a8"
             ],
             [
              0.3333333333333333,
              "#9c179e"
             ],
             [
              0.4444444444444444,
              "#bd3786"
             ],
             [
              0.5555555555555556,
              "#d8576b"
             ],
             [
              0.6666666666666666,
              "#ed7953"
             ],
             [
              0.7777777777777778,
              "#fb9f3a"
             ],
             [
              0.8888888888888888,
              "#fdca26"
             ],
             [
              1,
              "#f0f921"
             ]
            ],
            "type": "histogram2d"
           }
          ],
          "histogram2dcontour": [
           {
            "colorbar": {
             "outlinewidth": 0,
             "ticks": ""
            },
            "colorscale": [
             [
              0,
              "#0d0887"
             ],
             [
              0.1111111111111111,
              "#46039f"
             ],
             [
              0.2222222222222222,
              "#7201a8"
             ],
             [
              0.3333333333333333,
              "#9c179e"
             ],
             [
              0.4444444444444444,
              "#bd3786"
             ],
             [
              0.5555555555555556,
              "#d8576b"
             ],
             [
              0.6666666666666666,
              "#ed7953"
             ],
             [
              0.7777777777777778,
              "#fb9f3a"
             ],
             [
              0.8888888888888888,
              "#fdca26"
             ],
             [
              1,
              "#f0f921"
             ]
            ],
            "type": "histogram2dcontour"
           }
          ],
          "mesh3d": [
           {
            "colorbar": {
             "outlinewidth": 0,
             "ticks": ""
            },
            "type": "mesh3d"
           }
          ],
          "parcoords": [
           {
            "line": {
             "colorbar": {
              "outlinewidth": 0,
              "ticks": ""
             }
            },
            "type": "parcoords"
           }
          ],
          "pie": [
           {
            "automargin": true,
            "type": "pie"
           }
          ],
          "scatter": [
           {
            "fillpattern": {
             "fillmode": "overlay",
             "size": 10,
             "solidity": 0.2
            },
            "type": "scatter"
           }
          ],
          "scatter3d": [
           {
            "line": {
             "colorbar": {
              "outlinewidth": 0,
              "ticks": ""
             }
            },
            "marker": {
             "colorbar": {
              "outlinewidth": 0,
              "ticks": ""
             }
            },
            "type": "scatter3d"
           }
          ],
          "scattercarpet": [
           {
            "marker": {
             "colorbar": {
              "outlinewidth": 0,
              "ticks": ""
             }
            },
            "type": "scattercarpet"
           }
          ],
          "scattergeo": [
           {
            "marker": {
             "colorbar": {
              "outlinewidth": 0,
              "ticks": ""
             }
            },
            "type": "scattergeo"
           }
          ],
          "scattergl": [
           {
            "marker": {
             "colorbar": {
              "outlinewidth": 0,
              "ticks": ""
             }
            },
            "type": "scattergl"
           }
          ],
          "scattermapbox": [
           {
            "marker": {
             "colorbar": {
              "outlinewidth": 0,
              "ticks": ""
             }
            },
            "type": "scattermapbox"
           }
          ],
          "scatterpolar": [
           {
            "marker": {
             "colorbar": {
              "outlinewidth": 0,
              "ticks": ""
             }
            },
            "type": "scatterpolar"
           }
          ],
          "scatterpolargl": [
           {
            "marker": {
             "colorbar": {
              "outlinewidth": 0,
              "ticks": ""
             }
            },
            "type": "scatterpolargl"
           }
          ],
          "scatterternary": [
           {
            "marker": {
             "colorbar": {
              "outlinewidth": 0,
              "ticks": ""
             }
            },
            "type": "scatterternary"
           }
          ],
          "surface": [
           {
            "colorbar": {
             "outlinewidth": 0,
             "ticks": ""
            },
            "colorscale": [
             [
              0,
              "#0d0887"
             ],
             [
              0.1111111111111111,
              "#46039f"
             ],
             [
              0.2222222222222222,
              "#7201a8"
             ],
             [
              0.3333333333333333,
              "#9c179e"
             ],
             [
              0.4444444444444444,
              "#bd3786"
             ],
             [
              0.5555555555555556,
              "#d8576b"
             ],
             [
              0.6666666666666666,
              "#ed7953"
             ],
             [
              0.7777777777777778,
              "#fb9f3a"
             ],
             [
              0.8888888888888888,
              "#fdca26"
             ],
             [
              1,
              "#f0f921"
             ]
            ],
            "type": "surface"
           }
          ],
          "table": [
           {
            "cells": {
             "fill": {
              "color": "#EBF0F8"
             },
             "line": {
              "color": "white"
             }
            },
            "header": {
             "fill": {
              "color": "#C8D4E3"
             },
             "line": {
              "color": "white"
             }
            },
            "type": "table"
           }
          ]
         },
         "layout": {
          "annotationdefaults": {
           "arrowcolor": "#2a3f5f",
           "arrowhead": 0,
           "arrowwidth": 1
          },
          "autotypenumbers": "strict",
          "coloraxis": {
           "colorbar": {
            "outlinewidth": 0,
            "ticks": ""
           }
          },
          "colorscale": {
           "diverging": [
            [
             0,
             "#8e0152"
            ],
            [
             0.1,
             "#c51b7d"
            ],
            [
             0.2,
             "#de77ae"
            ],
            [
             0.3,
             "#f1b6da"
            ],
            [
             0.4,
             "#fde0ef"
            ],
            [
             0.5,
             "#f7f7f7"
            ],
            [
             0.6,
             "#e6f5d0"
            ],
            [
             0.7,
             "#b8e186"
            ],
            [
             0.8,
             "#7fbc41"
            ],
            [
             0.9,
             "#4d9221"
            ],
            [
             1,
             "#276419"
            ]
           ],
           "sequential": [
            [
             0,
             "#0d0887"
            ],
            [
             0.1111111111111111,
             "#46039f"
            ],
            [
             0.2222222222222222,
             "#7201a8"
            ],
            [
             0.3333333333333333,
             "#9c179e"
            ],
            [
             0.4444444444444444,
             "#bd3786"
            ],
            [
             0.5555555555555556,
             "#d8576b"
            ],
            [
             0.6666666666666666,
             "#ed7953"
            ],
            [
             0.7777777777777778,
             "#fb9f3a"
            ],
            [
             0.8888888888888888,
             "#fdca26"
            ],
            [
             1,
             "#f0f921"
            ]
           ],
           "sequentialminus": [
            [
             0,
             "#0d0887"
            ],
            [
             0.1111111111111111,
             "#46039f"
            ],
            [
             0.2222222222222222,
             "#7201a8"
            ],
            [
             0.3333333333333333,
             "#9c179e"
            ],
            [
             0.4444444444444444,
             "#bd3786"
            ],
            [
             0.5555555555555556,
             "#d8576b"
            ],
            [
             0.6666666666666666,
             "#ed7953"
            ],
            [
             0.7777777777777778,
             "#fb9f3a"
            ],
            [
             0.8888888888888888,
             "#fdca26"
            ],
            [
             1,
             "#f0f921"
            ]
           ]
          },
          "colorway": [
           "#636efa",
           "#EF553B",
           "#00cc96",
           "#ab63fa",
           "#FFA15A",
           "#19d3f3",
           "#FF6692",
           "#B6E880",
           "#FF97FF",
           "#FECB52"
          ],
          "font": {
           "color": "#2a3f5f"
          },
          "geo": {
           "bgcolor": "white",
           "lakecolor": "white",
           "landcolor": "#E5ECF6",
           "showlakes": true,
           "showland": true,
           "subunitcolor": "white"
          },
          "hoverlabel": {
           "align": "left"
          },
          "hovermode": "closest",
          "mapbox": {
           "style": "light"
          },
          "paper_bgcolor": "white",
          "plot_bgcolor": "#E5ECF6",
          "polar": {
           "angularaxis": {
            "gridcolor": "white",
            "linecolor": "white",
            "ticks": ""
           },
           "bgcolor": "#E5ECF6",
           "radialaxis": {
            "gridcolor": "white",
            "linecolor": "white",
            "ticks": ""
           }
          },
          "scene": {
           "xaxis": {
            "backgroundcolor": "#E5ECF6",
            "gridcolor": "white",
            "gridwidth": 2,
            "linecolor": "white",
            "showbackground": true,
            "ticks": "",
            "zerolinecolor": "white"
           },
           "yaxis": {
            "backgroundcolor": "#E5ECF6",
            "gridcolor": "white",
            "gridwidth": 2,
            "linecolor": "white",
            "showbackground": true,
            "ticks": "",
            "zerolinecolor": "white"
           },
           "zaxis": {
            "backgroundcolor": "#E5ECF6",
            "gridcolor": "white",
            "gridwidth": 2,
            "linecolor": "white",
            "showbackground": true,
            "ticks": "",
            "zerolinecolor": "white"
           }
          },
          "shapedefaults": {
           "line": {
            "color": "#2a3f5f"
           }
          },
          "ternary": {
           "aaxis": {
            "gridcolor": "white",
            "linecolor": "white",
            "ticks": ""
           },
           "baxis": {
            "gridcolor": "white",
            "linecolor": "white",
            "ticks": ""
           },
           "bgcolor": "#E5ECF6",
           "caxis": {
            "gridcolor": "white",
            "linecolor": "white",
            "ticks": ""
           }
          },
          "title": {
           "x": 0.05
          },
          "xaxis": {
           "automargin": true,
           "gridcolor": "white",
           "linecolor": "white",
           "ticks": "",
           "title": {
            "standoff": 15
           },
           "zerolinecolor": "white",
           "zerolinewidth": 2
          },
          "yaxis": {
           "automargin": true,
           "gridcolor": "white",
           "linecolor": "white",
           "ticks": "",
           "title": {
            "standoff": 15
           },
           "zerolinecolor": "white",
           "zerolinewidth": 2
          }
         }
        },
        "width": 800
       }
      }
     },
     "metadata": {},
     "output_type": "display_data"
    }
   ],
   "source": [
    "fig = px.scatter_3d(\n",
    "    cleaned_df_shopping,\n",
    "    x=\"Annual Income\",\n",
    "    y=\"Spending Score (1-100)\",\n",
    "    z=\"Age\",\n",
    "    color=\"class\",\n",
    "    symbol=\"class\",\n",
    "    width=800,\n",
    ")\n",
    "fig.update_layout(legend=dict(x=0, y=1))\n",
    "fig.show()"
   ]
  }
 ],
 "metadata": {
  "kernelspec": {
   "display_name": "Python 3.7.13 ('mlenv')",
   "language": "python",
   "name": "python3"
  },
  "language_info": {
   "codemirror_mode": {
    "name": "ipython",
    "version": 3
   },
   "file_extension": ".py",
   "mimetype": "text/x-python",
   "name": "python",
   "nbconvert_exporter": "python",
   "pygments_lexer": "ipython3",
   "version": "3.7.13"
  },
  "orig_nbformat": 4,
  "vscode": {
   "interpreter": {
    "hash": "86969af4118fd2beaee010b14a97d3c8fe7dc31ff55f1528eea7eaecb45368d6"
   }
  }
 },
 "nbformat": 4,
 "nbformat_minor": 2
}
